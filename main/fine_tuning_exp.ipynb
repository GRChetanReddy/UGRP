{
 "cells": [
  {
   "cell_type": "code",
   "execution_count": 1,
   "metadata": {},
   "outputs": [],
   "source": [
    "import numpy as np\n",
    "import pandas as pd\n",
    "import torch\n",
    "import torch.nn as nn\n",
    "import torch.nn.functional as F\n",
    "import torch.optim as optim\n",
    "import preprocess as pp\n",
    "import matplotlib.pyplot as plt\n",
    "\n",
    "from sklearn.metrics import roc_auc_score\n",
    "#from captum.attr import (\n",
    "#    GradientShap,\n",
    "#    DeepLift,\n",
    "#    DeepLiftShap,\n",
    "#    IntegratedGradients,\n",
    "#    LayerConductance,\n",
    "#    NeuronConductance,\n",
    "#    NoiseTunnel,\n",
    "#)"
   ]
  },
  {
   "cell_type": "code",
   "execution_count": 2,
   "metadata": {},
   "outputs": [
    {
     "name": "stdout",
     "output_type": "stream",
     "text": [
      "The code uses a CPU...\n"
     ]
    }
   ],
   "source": [
    "if torch.cuda.is_available():\n",
    "    device = torch.device('cuda')\n",
    "    print('The code uses a GPU!')\n",
    "else:\n",
    "    device = torch.device('cpu')\n",
    "    print('The code uses a CPU...')"
   ]
  },
  {
   "cell_type": "code",
   "execution_count": 18,
   "metadata": {},
   "outputs": [
    {
     "name": "stdout",
     "output_type": "stream",
     "text": [
      "data_train.txt\n",
      "data_test.txt\n"
     ]
    }
   ],
   "source": [
    "task = 'regression'\n",
    "dataset = 'AP_hex'\n",
    "radius = 1\n",
    "(dataset_train, dataset_dev, dataset_test,\n",
    "     N_fingerprints) = pp.create_datasets(task, dataset, radius, device)"
   ]
  },
  {
   "cell_type": "code",
   "execution_count": 19,
   "metadata": {},
   "outputs": [
    {
     "name": "stdout",
     "output_type": "stream",
     "text": [
      "# of training data samples: 8999\n",
      "# of development data samples: 1000\n",
      "# of test data samples: 6257\n"
     ]
    }
   ],
   "source": [
    "print('# of training data samples:', len(dataset_train))\n",
    "print('# of development data samples:', len(dataset_dev))\n",
    "print('# of test data samples:', len(dataset_test))\n",
    "\n",
    "dim=50\n",
    "layer_hidden=6\n",
    "layer_output=6\n",
    "batch_train=32\n",
    "batch_test=32\n"
   ]
  },
  {
   "cell_type": "code",
   "execution_count": 20,
   "metadata": {},
   "outputs": [],
   "source": [
    "class MolecularGraphNeuralNetwork(nn.Module):\n",
    "    def __init__(self, N_fingerprints, dim, layer_hidden, layer_output):\n",
    "        super(MolecularGraphNeuralNetwork, self).__init__()\n",
    "        self.embed_fingerprint = nn.Embedding(N_fingerprints, dim)\n",
    "        self.W_fingerprint = nn.ModuleList([nn.Linear(dim, dim)\n",
    "                                            for _ in range(layer_hidden)])\n",
    "        self.W_output = nn.ModuleList([nn.Linear(dim, dim)\n",
    "                                       for _ in range(layer_output)])\n",
    "        if task == 'classification':\n",
    "            self.W_property = nn.Linear(dim, 2)\n",
    "        if task == 'regression':\n",
    "            self.W_property = nn.Linear(dim, 1)\n",
    "\n",
    "    def pad(self, matrices, pad_value):\n",
    "        \"\"\"Pad the list of matrices\n",
    "        with a pad_value (e.g., 0) for batch processing.\n",
    "        For example, given a list of matrices [A, B, C],\n",
    "        we obtain a new matrix [A00, 0B0, 00C],\n",
    "        where 0 is the zero (i.e., pad value) matrix.\n",
    "        \"\"\"\n",
    "        shapes = [m.shape for m in matrices]\n",
    "        M, N = sum([s[0] for s in shapes]), sum([s[1] for s in shapes])\n",
    "        zeros = torch.FloatTensor(np.zeros((M, N))).to(device)\n",
    "        pad_matrices = pad_value + zeros\n",
    "        i, j = 0, 0\n",
    "        for k, matrix in enumerate(matrices):\n",
    "            m, n = shapes[k]\n",
    "            pad_matrices[i:i+m, j:j+n] = matrix\n",
    "            i += m\n",
    "            j += n\n",
    "        return pad_matrices\n",
    "\n",
    "    def update(self, matrix, vectors, layer):\n",
    "        hidden_vectors = torch.relu(self.W_fingerprint[layer](vectors))\n",
    "        return hidden_vectors + torch.matmul(matrix, hidden_vectors)\n",
    "\n",
    "    def sum(self, vectors, axis):\n",
    "        sum_vectors = [torch.sum(v, 0) for v in torch.split(vectors, axis)]\n",
    "        return torch.stack(sum_vectors)\n",
    "\n",
    "    def mean(self, vectors, axis):\n",
    "        mean_vectors = [torch.mean(v, 0) for v in torch.split(vectors, axis)]\n",
    "        return torch.stack(mean_vectors)\n",
    "\n",
    "    def gnn(self, inputs):\n",
    "\n",
    "        \"\"\"Cat or pad each input data for batch processing.\"\"\"\n",
    "        fingerprints, adjacencies, molecular_sizes = inputs\n",
    "        fingerprints = torch.cat(fingerprints)\n",
    "        adjacencies = self.pad(adjacencies, 0)\n",
    "\n",
    "        \"\"\"GNN layer (update the fingerprint vectors).\"\"\"\n",
    "        fingerprint_vectors = self.embed_fingerprint(fingerprints)\n",
    "        for l in range(layer_hidden):\n",
    "            hs = self.update(adjacencies, fingerprint_vectors, l)\n",
    "            fingerprint_vectors = F.normalize(hs, 2, 1)  # normalize.\n",
    "\n",
    "        \"\"\"Molecular vector by sum or mean of the fingerprint vectors.\"\"\"\n",
    "        molecular_vectors = self.sum(fingerprint_vectors, molecular_sizes)\n",
    "        # molecular_vectors = self.mean(fingerprint_vectors, molecular_sizes)\n",
    "\n",
    "        return molecular_vectors\n",
    "\n",
    "    def mlp(self, vectors):\n",
    "        \"\"\"Classifier or regressor based on multilayer perceptron.\"\"\"\n",
    "        for l in range(layer_output):\n",
    "            vectors = torch.relu(self.W_output[l](vectors))\n",
    "        outputs = self.W_property(vectors)\n",
    "        return outputs\n",
    "\n",
    "    def forward_classifier(self, data_batch, train):\n",
    "\n",
    "        inputs = data_batch[:-1]\n",
    "        correct_labels = torch.cat(data_batch[-1])\n",
    "\n",
    "        if train:\n",
    "            molecular_vectors = self.gnn(inputs)\n",
    "            predicted_scores = self.mlp(molecular_vectors)\n",
    "            loss = F.cross_entropy(predicted_scores, correct_labels)\n",
    "            return loss\n",
    "        else:\n",
    "            with torch.no_grad():\n",
    "                molecular_vectors = self.gnn(inputs)\n",
    "                predicted_scores = self.mlp(molecular_vectors)\n",
    "            predicted_scores = predicted_scores.to('cpu').data.numpy()\n",
    "            predicted_scores = [s[1] for s in predicted_scores]\n",
    "            correct_labels = correct_labels.to('cpu').data.numpy()\n",
    "            return predicted_scores, correct_labels\n",
    "\n",
    "    def forward_regressor(self, data_batch, train):\n",
    "\n",
    "        inputs = data_batch[:-1]\n",
    "        correct_values = torch.cat(data_batch[-1])\n",
    "\n",
    "        if train:\n",
    "            molecular_vectors = self.gnn(inputs)\n",
    "            predicted_values = self.mlp(molecular_vectors)\n",
    "            loss = F.mse_loss(predicted_values, correct_values)\n",
    "            return loss\n",
    "        else:\n",
    "            with torch.no_grad():\n",
    "                molecular_vectors = self.gnn(inputs)\n",
    "                predicted_values = self.mlp(molecular_vectors)\n",
    "            predicted_values = predicted_values.to('cpu').data.numpy()\n",
    "            correct_values = correct_values.to('cpu').data.numpy()\n",
    "            molecular_vectors = molecular_vectors.to('cpu').data.numpy()\n",
    "            predicted_values = np.concatenate(predicted_values)\n",
    "            correct_values = np.concatenate(correct_values)\n",
    "            molecular_vectors = np.concatenate(molecular_vectors)\n",
    "            return predicted_values, correct_values"
   ]
  },
  {
   "cell_type": "code",
   "execution_count": 21,
   "metadata": {},
   "outputs": [
    {
     "name": "stdout",
     "output_type": "stream",
     "text": [
      "# of model parameters: 32551\n"
     ]
    }
   ],
   "source": [
    "torch.manual_seed(1234)\n",
    "model = MolecularGraphNeuralNetwork(\n",
    "        N_fingerprints, dim, layer_hidden, layer_output).to(device)\n",
    "\n",
    "print('# of model parameters:',\n",
    "      sum([np.prod(p.size()) for p in model.parameters()]))"
   ]
  },
  {
   "cell_type": "code",
   "execution_count": 22,
   "metadata": {},
   "outputs": [
    {
     "name": "stderr",
     "output_type": "stream",
     "text": [
      "/var/folders/q9/dz7bsnq15t5crnph1_rcrhjr0000gn/T/ipykernel_13108/2033818886.py:1: FutureWarning: You are using `torch.load` with `weights_only=False` (the current default value), which uses the default pickle module implicitly. It is possible to construct malicious pickle data which will execute arbitrary code during unpickling (See https://github.com/pytorch/pytorch/blob/main/SECURITY.md#untrusted-models for more details). In a future release, the default value for `weights_only` will be flipped to `True`. This limits the functions that could be executed during unpickling. Arbitrary objects will no longer be allowed to be loaded via this mode unless they are explicitly allowlisted by the user via `torch.serialization.add_safe_globals`. We recommend you start setting `weights_only=True` for any use case where you don't have full control of the loaded file. Please open an issue on GitHub for any issues related to this experimental feature.\n",
      "  model.load_state_dict(torch.load('BestModel_ub_pent.pt'))\n"
     ]
    },
    {
     "data": {
      "text/plain": [
       "MolecularGraphNeuralNetwork(\n",
       "  (embed_fingerprint): Embedding(38, 50)\n",
       "  (W_fingerprint): ModuleList(\n",
       "    (0-5): 6 x Linear(in_features=50, out_features=50, bias=True)\n",
       "  )\n",
       "  (W_output): ModuleList(\n",
       "    (0-5): 6 x Linear(in_features=50, out_features=50, bias=True)\n",
       "  )\n",
       "  (W_property): Linear(in_features=50, out_features=1, bias=True)\n",
       ")"
      ]
     },
     "execution_count": 22,
     "metadata": {},
     "output_type": "execute_result"
    }
   ],
   "source": [
    "model.load_state_dict(torch.load('BestModel_ub_pent.pt'))\n",
    "model.eval()"
   ]
  },
  {
   "cell_type": "code",
   "execution_count": 23,
   "metadata": {},
   "outputs": [],
   "source": [
    "class Trainer(object):\n",
    "    def __init__(self, model):\n",
    "        self.model = model\n",
    "        self.optimizer = optim.Adam(self.model.parameters(), lr=lr)\n",
    "\n",
    "    def train(self, dataset, x):\n",
    "        np.random.shuffle(dataset)\n",
    "        N = x\n",
    "        loss_total = 0\n",
    "        for i in range(0, N, batch_train):\n",
    "            data_batch = list(zip(*dataset[i:i+batch_train]))\n",
    "            if task == 'classification':\n",
    "                loss = self.model.forward_classifier(data_batch, train=True)\n",
    "            if task == 'regression':\n",
    "                loss = self.model.forward_regressor(data_batch, train=True)\n",
    "            self.optimizer.zero_grad()\n",
    "            loss.backward()\n",
    "            self.optimizer.step()\n",
    "            loss_total += loss.item()\n",
    "        return loss_total\n",
    "\n",
    "\n",
    "class Tester(object):\n",
    "    def __init__(self, model):\n",
    "        self.model = model\n",
    "\n",
    "    def test_classifier(self, dataset):\n",
    "        N = len(dataset)\n",
    "        P, C = [], []\n",
    "        for i in range(0, N, batch_test):\n",
    "            data_batch = list(zip(*dataset[i:i+batch_test]))\n",
    "            predicted_scores, correct_labels = self.model.forward_classifier(\n",
    "                                               data_batch, train=False)\n",
    "            P.append(predicted_scores)\n",
    "            C.append(correct_labels)\n",
    "        AUC = roc_auc_score(np.concatenate(C), np.concatenate(P))\n",
    "        return AUC\n",
    "\n",
    "    def test_regressor(self, dataset):\n",
    "        N = len(dataset)\n",
    "        SAE = 0  # sum absolute error.\n",
    "        MSE = 0  # mean square error.\n",
    "        for i in range(0, N, batch_test):\n",
    "            data_batch = list(zip(*dataset[i:i+batch_test]))\n",
    "            predicted_values, correct_values = self.model.forward_regressor(\n",
    "                                               data_batch, train=False)\n",
    "            SAE += sum(np.abs(predicted_values-correct_values))\n",
    "            MSE += sum(np.square(predicted_values-correct_values))\n",
    "        MAE = SAE / N  # mean absolute error.\n",
    "        RMSE = np.sqrt(MSE/N)\n",
    "        return MAE,RMSE\n",
    "\n",
    "    def save_result(self, result, filename):\n",
    "        with open(filename, 'a') as f:\n",
    "            f.write(result + '\\n')\n"
   ]
  },
  {
   "cell_type": "code",
   "execution_count": 24,
   "metadata": {},
   "outputs": [
    {
     "name": "stderr",
     "output_type": "stream",
     "text": [
      "/var/folders/q9/dz7bsnq15t5crnph1_rcrhjr0000gn/T/ipykernel_13108/638239658.py:10: FutureWarning: You are using `torch.load` with `weights_only=False` (the current default value), which uses the default pickle module implicitly. It is possible to construct malicious pickle data which will execute arbitrary code during unpickling (See https://github.com/pytorch/pytorch/blob/main/SECURITY.md#untrusted-models for more details). In a future release, the default value for `weights_only` will be flipped to `True`. This limits the functions that could be executed during unpickling. Arbitrary objects will no longer be allowed to be loaded via this mode unless they are explicitly allowlisted by the user via `torch.serialization.add_safe_globals`. We recommend you start setting `weights_only=True` for any use case where you don't have full control of the loaded file. Please open an issue on GitHub for any issues related to this experimental feature.\n",
      "  model.load_state_dict(torch.load('BestModel_ub_pent.pt'))\n"
     ]
    },
    {
     "name": "stdout",
     "output_type": "stream",
     "text": [
      "Training for 0 peptides gives rmse of 0.3064887821674347\n",
      "Training for 199 peptides gives rmse of 0.17522753775119781\n",
      "Training for 398 peptides gives rmse of 0.14999374747276306\n",
      "Training for 597 peptides gives rmse of 0.13884548842906952\n",
      "Training for 796 peptides gives rmse of 0.12348517775535583\n",
      "Training for 995 peptides gives rmse of 0.12301154434680939\n",
      "Training for 1194 peptides gives rmse of 0.10929792374372482\n",
      "Training for 1393 peptides gives rmse of 0.10505441576242447\n",
      "Training for 1592 peptides gives rmse of 0.09881241619586945\n",
      "Training for 1791 peptides gives rmse of 0.09192128479480743\n",
      "Training for 1990 peptides gives rmse of 0.09624436497688293\n",
      "Training for 2189 peptides gives rmse of 0.09172355383634567\n",
      "Training for 2388 peptides gives rmse of 0.08133155852556229\n",
      "Training for 2587 peptides gives rmse of 0.08671228587627411\n",
      "Training for 2786 peptides gives rmse of 0.09427262842655182\n",
      "Training for 2985 peptides gives rmse of 0.08098514378070831\n",
      "Training for 3184 peptides gives rmse of 0.07584817707538605\n",
      "Training for 3383 peptides gives rmse of 0.07837419211864471\n",
      "Training for 3582 peptides gives rmse of 0.073590949177742\n",
      "Training for 3781 peptides gives rmse of 0.0754874050617218\n",
      "Training for 3980 peptides gives rmse of 0.07656940072774887\n",
      "Training for 4179 peptides gives rmse of 0.07210150361061096\n",
      "Training for 4378 peptides gives rmse of 0.07182879000902176\n",
      "Training for 4577 peptides gives rmse of 0.09151086211204529\n",
      "Training for 4776 peptides gives rmse of 0.07159454375505447\n",
      "Training for 4975 peptides gives rmse of 0.07062659412622452\n",
      "Training for 5174 peptides gives rmse of 0.06930878758430481\n",
      "Training for 5373 peptides gives rmse of 0.07171306759119034\n",
      "Training for 5572 peptides gives rmse of 0.07003453373908997\n",
      "Training for 5771 peptides gives rmse of 0.06970187276601791\n",
      "Training for 5970 peptides gives rmse of 0.06965404003858566\n",
      "Training for 6169 peptides gives rmse of 0.07299766689538956\n",
      "Training for 6368 peptides gives rmse of 0.07047229260206223\n",
      "Training for 6567 peptides gives rmse of 0.07081925868988037\n",
      "Training for 6766 peptides gives rmse of 0.06877877563238144\n",
      "Training for 6965 peptides gives rmse of 0.06942270696163177\n",
      "Training for 7164 peptides gives rmse of 0.06952742487192154\n",
      "Training for 7363 peptides gives rmse of 0.06867426633834839\n",
      "Training for 7562 peptides gives rmse of 0.06841873377561569\n",
      "Training for 7761 peptides gives rmse of 0.06948529183864594\n",
      "Training for 7960 peptides gives rmse of 0.06583604961633682\n",
      "Training for 8159 peptides gives rmse of 0.06734205782413483\n",
      "Training for 8358 peptides gives rmse of 0.06760425865650177\n",
      "Training for 8557 peptides gives rmse of 0.06811115890741348\n",
      "Training for 8756 peptides gives rmse of 0.06695624440908432\n",
      "Training for 8955 peptides gives rmse of 0.0704200342297554\n"
     ]
    }
   ],
   "source": [
    "decay_interval = 1\n",
    "iteration = 5\n",
    "lr_decay = 0.99\n",
    "lr = 1e-4\n",
    "\n",
    "rmse_dis = {} \n",
    "\n",
    "for x in range(0, len(dataset_train), int(len(dataset_train)/45)):\n",
    "    torch.manual_seed(1234)\n",
    "    model.load_state_dict(torch.load('BestModel_ub_pent.pt'))\n",
    "\n",
    "    trainer = Trainer(model)\n",
    "    tester = Tester(model)\n",
    "    min_rmse = 2\n",
    "    for epoch in range(iteration):\n",
    "\n",
    "            epoch += 1\n",
    "            if epoch % decay_interval == 0:\n",
    "                trainer.optimizer.param_groups[0]['lr'] *= lr_decay\n",
    "\n",
    "            loss_train = trainer.train(dataset_train[0:x], x)\n",
    "\n",
    "            if task == 'classification':\n",
    "                prediction_dev = tester.test_classifier(dataset_dev)\n",
    "                prediction_test = tester.test_classifier(dataset_test)\n",
    "            if task == 'regression':\n",
    "                prediction_dev_mae, prediction_dev_rmse = tester.test_regressor(dataset_dev)\n",
    "                prediction_test_mae, prediction_test_rmse = tester.test_regressor(dataset_test)\n",
    "\n",
    "            min_rmse = min(min_rmse, prediction_test_rmse)\n",
    "            \n",
    "    rmse_dis[x] = min_rmse\n",
    "    print(f'Training for {x} peptides gives rmse of {min_rmse}')\n"
   ]
  },
  {
   "cell_type": "code",
   "execution_count": 31,
   "metadata": {},
   "outputs": [
    {
     "data": {
      "image/png": "[encoded data removed]",
      "text/plain": [
       "<Figure size 640x480 with 1 Axes>"
      ]
     },
     "metadata": {},
     "output_type": "display_data"
    }
   ],
   "source": [
    "p = []\n",
    "r = []\n",
    "for i in rmse_dis:\n",
    "    p.append(str(i)) \n",
    "    r.append(rmse_dis[i])\n",
    "plt.bar(p, r)\n",
    "plt.show()"
   ]
  },
  {
   "cell_type": "code",
   "execution_count": 44,
   "metadata": {},
   "outputs": [],
   "source": [
    "N = len(dataset_dev)\n",
    "D = []\n",
    "V = []\n",
    "for i in range(0, N, batch_test):\n",
    "    data_batch = list(zip(*dataset_dev[i:i+batch_test]))\n",
    "    predicted_scores, correct_scores = model_hex.forward_regressor(\n",
    "                                       data_batch, train=False)\n",
    "    D.append(np.abs(predicted_scores-correct_scores))\n",
    "    #V.append(molecular_vectors)"
   ]
  },
  {
   "cell_type": "code",
   "execution_count": 45,
   "metadata": {},
   "outputs": [],
   "source": [
    "diff = []\n",
    "for i in range(len(D)):\n",
    "    for j in range(len(D[i])):\n",
    "        diff.append(D[i][j])"
   ]
  },
  {
   "cell_type": "code",
   "execution_count": 46,
   "metadata": {},
   "outputs": [
    {
     "data": {
      "image/png": "[encoded data removed]",
      "text/plain": [
       "<Figure size 640x480 with 1 Axes>"
      ]
     },
     "metadata": {},
     "output_type": "display_data"
    }
   ],
   "source": [
    "plt.hist(diff)\n",
    "plt.xlabel('Abs(Actual AP - Predicted AP)')\n",
    "plt.ylabel('No. of peptides')\n",
    "plt.show()  #model : dipep, data used to pred : tetra"
   ]
  },
  {
   "cell_type": "code",
   "execution_count": null,
   "metadata": {},
   "outputs": [],
   "source": []
  }
 ],
 "metadata": {
  "kernelspec": {
   "display_name": "Python 3",
   "language": "python",
   "name": "python3"
  },
  "language_info": {
   "codemirror_mode": {
    "name": "ipython",
    "version": 3
   },
   "file_extension": ".py",
   "mimetype": "text/x-python",
   "name": "python",
   "nbconvert_exporter": "python",
   "pygments_lexer": "ipython3",
   "version": "3.11.3"
  }
 },
 "nbformat": 4,
 "nbformat_minor": 2
}
