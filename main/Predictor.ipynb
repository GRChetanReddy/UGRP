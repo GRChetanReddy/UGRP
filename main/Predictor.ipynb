{
 "cells": [
  {
   "cell_type": "code",
   "execution_count": 1,
   "metadata": {},
   "outputs": [],
   "source": [
    "import numpy as np\n",
    "import pandas as pd\n",
    "import torch\n",
    "import torch.nn as nn\n",
    "import torch.nn.functional as F\n",
    "import torch.optim as optim\n",
    "import preprocess as pp\n",
    "import matplotlib.pyplot as plt"
   ]
  },
  {
   "cell_type": "code",
   "execution_count": 2,
   "metadata": {},
   "outputs": [
    {
     "name": "stdout",
     "output_type": "stream",
     "text": [
      "The code uses a CPU...\n"
     ]
    }
   ],
   "source": [
    "if torch.cuda.is_available():\n",
    "    device = torch.device('cuda')\n",
    "    print('The code uses a GPU!')\n",
    "else:\n",
    "    device = torch.device('cpu')\n",
    "    print('The code uses a CPU...')"
   ]
  },
  {
   "cell_type": "code",
   "execution_count": 3,
   "metadata": {},
   "outputs": [
    {
     "name": "stdout",
     "output_type": "stream",
     "text": [
      "data_train.txt\n",
      "data_test.txt\n"
     ]
    }
   ],
   "source": [
    "task = 'regression'\n",
    "dataset = 'AP_tetra_fd'\n",
    "radius = 1\n",
    "(dataset_train, dataset_dev, dataset_test,\n",
    "     N_fingerprints) = pp.create_datasets(task, dataset, radius, device)"
   ]
  },
  {
   "cell_type": "code",
   "execution_count": 5,
   "metadata": {},
   "outputs": [
    {
     "name": "stdout",
     "output_type": "stream",
     "text": [
      "# of training data samples: 143929\n",
      "# of development data samples: 15993\n",
      "# of test data samples: 159922\n"
     ]
    }
   ],
   "source": [
    "print('# of training data samples:', len(dataset_train))\n",
    "print('# of development data samples:', len(dataset_dev))\n",
    "print('# of test data samples:', len(dataset_test))\n",
    "\n",
    "dim=50\n",
    "layer_hidden=6\n",
    "layer_output=6\n",
    "batch_train=32\n",
    "batch_test=32"
   ]
  },
  {
   "cell_type": "code",
   "execution_count": 4,
   "metadata": {},
   "outputs": [],
   "source": [
    "class MolecularGraphNeuralNetwork(nn.Module):\n",
    "    def __init__(self, N_fingerprints, dim, layer_hidden, layer_output):\n",
    "        super(MolecularGraphNeuralNetwork, self).__init__()\n",
    "        self.embed_fingerprint = nn.Embedding(N_fingerprints, dim)\n",
    "        self.W_fingerprint = nn.ModuleList([nn.Linear(dim, dim)\n",
    "                                            for _ in range(layer_hidden)])\n",
    "        self.W_output = nn.ModuleList([nn.Linear(dim, dim)\n",
    "                                       for _ in range(layer_output)])\n",
    "        if task == 'classification':\n",
    "            self.W_property = nn.Linear(dim, 2)\n",
    "        if task == 'regression':\n",
    "            self.W_property = nn.Linear(dim, 1)\n",
    "\n",
    "    def pad(self, matrices, pad_value):\n",
    "        \"\"\"Pad the list of matrices\n",
    "        with a pad_value (e.g., 0) for batch processing.\n",
    "        For example, given a list of matrices [A, B, C],\n",
    "        we obtain a new matrix [A00, 0B0, 00C],\n",
    "        where 0 is the zero (i.e., pad value) matrix.\n",
    "        \"\"\"\n",
    "        shapes = [m.shape for m in matrices]\n",
    "        M, N = sum([s[0] for s in shapes]), sum([s[1] for s in shapes])\n",
    "        zeros = torch.FloatTensor(np.zeros((M, N))).to(device)\n",
    "        pad_matrices = pad_value + zeros\n",
    "        i, j = 0, 0\n",
    "        for k, matrix in enumerate(matrices):\n",
    "            m, n = shapes[k]\n",
    "            pad_matrices[i:i+m, j:j+n] = matrix\n",
    "            i += m\n",
    "            j += n\n",
    "        return pad_matrices\n",
    "\n",
    "    def update(self, matrix, vectors, layer):\n",
    "        hidden_vectors = torch.relu(self.W_fingerprint[layer](vectors))\n",
    "        return hidden_vectors + torch.matmul(matrix, hidden_vectors)\n",
    "\n",
    "    def sum(self, vectors, axis):\n",
    "        sum_vectors = [torch.sum(v, 0) for v in torch.split(vectors, axis)]\n",
    "        return torch.stack(sum_vectors)\n",
    "\n",
    "    def mean(self, vectors, axis):\n",
    "        mean_vectors = [torch.mean(v, 0) for v in torch.split(vectors, axis)]\n",
    "        return torch.stack(mean_vectors)\n",
    "\n",
    "    def gnn(self, inputs):\n",
    "\n",
    "        \"\"\"Cat or pad each input data for batch processing.\"\"\"\n",
    "        fingerprints, adjacencies, molecular_sizes = inputs\n",
    "        fingerprints = torch.cat(fingerprints)\n",
    "        adjacencies = self.pad(adjacencies, 0)\n",
    "\n",
    "        \"\"\"GNN layer (update the fingerprint vectors).\"\"\"\n",
    "        fingerprint_vectors = self.embed_fingerprint(fingerprints)\n",
    "        for l in range(layer_hidden):\n",
    "            hs = self.update(adjacencies, fingerprint_vectors, l)\n",
    "            fingerprint_vectors = F.normalize(hs, 2, 1)  # normalize.\n",
    "\n",
    "        \"\"\"Molecular vector by sum or mean of the fingerprint vectors.\"\"\"\n",
    "        molecular_vectors = self.sum(fingerprint_vectors, molecular_sizes)\n",
    "        # molecular_vectors = self.mean(fingerprint_vectors, molecular_sizes)\n",
    "\n",
    "        return molecular_vectors\n",
    "\n",
    "    def mlp(self, vectors):\n",
    "        \"\"\"Classifier or regressor based on multilayer perceptron.\"\"\"\n",
    "        for l in range(layer_output):\n",
    "            vectors = torch.relu(self.W_output[l](vectors))\n",
    "        outputs = self.W_property(vectors)\n",
    "        return outputs\n",
    "\n",
    "    def forward_classifier(self, data_batch, train):\n",
    "\n",
    "        inputs = data_batch[:-1]\n",
    "        correct_labels = torch.cat(data_batch[-1])\n",
    "\n",
    "        if train:\n",
    "            molecular_vectors = self.gnn(inputs)\n",
    "            predicted_scores = self.mlp(molecular_vectors)\n",
    "            loss = F.cross_entropy(predicted_scores, correct_labels)\n",
    "            return loss\n",
    "        else:\n",
    "            with torch.no_grad():\n",
    "                molecular_vectors = self.gnn(inputs)\n",
    "                predicted_scores = self.mlp(molecular_vectors)\n",
    "            predicted_scores = predicted_scores.to('cpu').data.numpy()\n",
    "            predicted_scores = [s[1] for s in predicted_scores]\n",
    "            correct_labels = correct_labels.to('cpu').data.numpy()\n",
    "            return predicted_scores, correct_labels\n",
    "\n",
    "    def forward_regressor(self, data_batch, train):\n",
    "\n",
    "        inputs = data_batch[:-1]\n",
    "        correct_values = torch.cat(data_batch[-1])\n",
    "\n",
    "        if train:\n",
    "            molecular_vectors = self.gnn(inputs)\n",
    "            predicted_values = self.mlp(molecular_vectors)\n",
    "            loss = F.mse_loss(predicted_values, correct_values)\n",
    "            return loss\n",
    "        else:\n",
    "            with torch.no_grad():\n",
    "                molecular_vectors = self.gnn(inputs)\n",
    "                predicted_values = self.mlp(molecular_vectors)\n",
    "            predicted_values = predicted_values.to('cpu').data.numpy()\n",
    "            correct_values = correct_values.to('cpu').data.numpy()\n",
    "            molecular_vectors = molecular_vectors.to('cpu').data.numpy()\n",
    "            predicted_values = np.concatenate(predicted_values)\n",
    "            correct_values = np.concatenate(correct_values)\n",
    "            molecular_vectors = np.concatenate(molecular_vectors)\n",
    "            return predicted_values, correct_values"
   ]
  },
  {
   "cell_type": "code",
   "execution_count": 6,
   "metadata": {},
   "outputs": [
    {
     "name": "stdout",
     "output_type": "stream",
     "text": [
      "# of model parameters: 32551\n"
     ]
    }
   ],
   "source": [
    "torch.manual_seed(1234)\n",
    "model = MolecularGraphNeuralNetwork(\n",
    "        38, dim, layer_hidden, layer_output).to(device)\n",
    "\n",
    "print('# of model parameters:',\n",
    "      sum([np.prod(p.size()) for p in model.parameters()]))"
   ]
  },
  {
   "cell_type": "code",
   "execution_count": 13,
   "metadata": {},
   "outputs": [
    {
     "name": "stderr",
     "output_type": "stream",
     "text": [
      "/var/folders/q9/dz7bsnq15t5crnph1_rcrhjr0000gn/T/ipykernel_81054/454797347.py:1: FutureWarning: You are using `torch.load` with `weights_only=False` (the current default value), which uses the default pickle module implicitly. It is possible to construct malicious pickle data which will execute arbitrary code during unpickling (See https://github.com/pytorch/pytorch/blob/main/SECURITY.md#untrusted-models for more details). In a future release, the default value for `weights_only` will be flipped to `True`. This limits the functions that could be executed during unpickling. Arbitrary objects will no longer be allowed to be loaded via this mode unless they are explicitly allowlisted by the user via `torch.serialization.add_safe_globals`. We recommend you start setting `weights_only=True` for any use case where you don't have full control of the loaded file. Please open an issue on GitHub for any issues related to this experimental feature.\n",
      "  model.load_state_dict(torch.load('BestModel_ub_tetra.pt'))\n"
     ]
    },
    {
     "data": {
      "text/plain": [
       "MolecularGraphNeuralNetwork(\n",
       "  (embed_fingerprint): Embedding(38, 50)\n",
       "  (W_fingerprint): ModuleList(\n",
       "    (0-5): 6 x Linear(in_features=50, out_features=50, bias=True)\n",
       "  )\n",
       "  (W_output): ModuleList(\n",
       "    (0-5): 6 x Linear(in_features=50, out_features=50, bias=True)\n",
       "  )\n",
       "  (W_property): Linear(in_features=50, out_features=1, bias=True)\n",
       ")"
      ]
     },
     "execution_count": 13,
     "metadata": {},
     "output_type": "execute_result"
    }
   ],
   "source": [
    "model.load_state_dict(torch.load('BestModel_ub_tetra.pt'))\n",
    "model.eval()"
   ]
  },
  {
   "cell_type": "code",
   "execution_count": 14,
   "metadata": {},
   "outputs": [],
   "source": [
    "N = len(dataset_test)\n",
    "D = []\n",
    "V = []\n",
    "for i in range(0, N, batch_test):\n",
    "    data_batch = list(zip(*dataset_test[i:i+batch_test]))\n",
    "    predicted_scores, correct_scores = model.forward_regressor(\n",
    "                                       data_batch, train=False)\n",
    "    D.append(np.abs(predicted_scores-correct_scores))"
   ]
  },
  {
   "cell_type": "code",
   "execution_count": 15,
   "metadata": {},
   "outputs": [],
   "source": [
    "diff = []\n",
    "for i in range(len(D)):\n",
    "    for j in range(len(D[i])):\n",
    "        diff.append(D[i][j])"
   ]
  },
  {
   "cell_type": "code",
   "execution_count": 16,
   "metadata": {},
   "outputs": [
    {
     "data": {
      "image/png": "[encoded data removed]",
      "text/plain": [
       "<Figure size 640x480 with 1 Axes>"
      ]
     },
     "metadata": {},
     "output_type": "display_data"
    }
   ],
   "source": [
    "plt.hist(diff)\n",
    "plt.xlabel('Abs(Actual AP - Predicted AP)')\n",
    "plt.ylabel('No. of peptides')\n",
    "plt.show() "
   ]
  },
  {
   "cell_type": "code",
   "execution_count": 17,
   "metadata": {},
   "outputs": [
    {
     "data": {
      "text/plain": [
       "159922"
      ]
     },
     "execution_count": 17,
     "metadata": {},
     "output_type": "execute_result"
    }
   ],
   "source": [
    "len(diff)"
   ]
  },
  {
   "cell_type": "code",
   "execution_count": 46,
   "metadata": {},
   "outputs": [
    {
     "data": {
      "text/plain": [
       "2.737873"
      ]
     },
     "execution_count": 46,
     "metadata": {},
     "output_type": "execute_result"
    }
   ],
   "source": [
    "max(diff)"
   ]
  },
  {
   "cell_type": "code",
   "execution_count": 19,
   "metadata": {},
   "outputs": [
    {
     "data": {
      "text/plain": [
       "159922"
      ]
     },
     "execution_count": 19,
     "metadata": {},
     "output_type": "execute_result"
    }
   ],
   "source": [
    "len(dataset_test)"
   ]
  },
  {
   "cell_type": "code",
   "execution_count": 26,
   "metadata": {},
   "outputs": [
    {
     "data": {
      "text/html": [
       "<div>\n",
       "<style scoped>\n",
       "    .dataframe tbody tr th:only-of-type {\n",
       "        vertical-align: middle;\n",
       "    }\n",
       "\n",
       "    .dataframe tbody tr th {\n",
       "        vertical-align: top;\n",
       "    }\n",
       "\n",
       "    .dataframe thead th {\n",
       "        text-align: right;\n",
       "    }\n",
       "</style>\n",
       "<table border=\"1\" class=\"dataframe\">\n",
       "  <thead>\n",
       "    <tr style=\"text-align: right;\">\n",
       "      <th></th>\n",
       "      <th>Pep</th>\n",
       "      <th>AP</th>\n",
       "    </tr>\n",
       "  </thead>\n",
       "  <tbody>\n",
       "    <tr>\n",
       "      <th>0</th>\n",
       "      <td>AAAA</td>\n",
       "      <td>0</td>\n",
       "    </tr>\n",
       "    <tr>\n",
       "      <th>1</th>\n",
       "      <td>AAAR</td>\n",
       "      <td>0</td>\n",
       "    </tr>\n",
       "    <tr>\n",
       "      <th>2</th>\n",
       "      <td>AAAN</td>\n",
       "      <td>0</td>\n",
       "    </tr>\n",
       "    <tr>\n",
       "      <th>3</th>\n",
       "      <td>AAAD</td>\n",
       "      <td>0</td>\n",
       "    </tr>\n",
       "    <tr>\n",
       "      <th>4</th>\n",
       "      <td>AAAC</td>\n",
       "      <td>0</td>\n",
       "    </tr>\n",
       "    <tr>\n",
       "      <th>...</th>\n",
       "      <td>...</td>\n",
       "      <td>...</td>\n",
       "    </tr>\n",
       "    <tr>\n",
       "      <th>159995</th>\n",
       "      <td>VVVS</td>\n",
       "      <td>0</td>\n",
       "    </tr>\n",
       "    <tr>\n",
       "      <th>159996</th>\n",
       "      <td>VVVT</td>\n",
       "      <td>0</td>\n",
       "    </tr>\n",
       "    <tr>\n",
       "      <th>159997</th>\n",
       "      <td>VVVW</td>\n",
       "      <td>0</td>\n",
       "    </tr>\n",
       "    <tr>\n",
       "      <th>159998</th>\n",
       "      <td>VVVY</td>\n",
       "      <td>0</td>\n",
       "    </tr>\n",
       "    <tr>\n",
       "      <th>159999</th>\n",
       "      <td>VVVV</td>\n",
       "      <td>0</td>\n",
       "    </tr>\n",
       "  </tbody>\n",
       "</table>\n",
       "<p>160000 rows × 2 columns</p>\n",
       "</div>"
      ],
      "text/plain": [
       "         Pep  AP\n",
       "0       AAAA   0\n",
       "1       AAAR   0\n",
       "2       AAAN   0\n",
       "3       AAAD   0\n",
       "4       AAAC   0\n",
       "...      ...  ..\n",
       "159995  VVVS   0\n",
       "159996  VVVT   0\n",
       "159997  VVVW   0\n",
       "159998  VVVY   0\n",
       "159999  VVVV   0\n",
       "\n",
       "[160000 rows x 2 columns]"
      ]
     },
     "execution_count": 26,
     "metadata": {},
     "output_type": "execute_result"
    }
   ],
   "source": [
    "pep = pd.read_csv('../dataset/regression/AP_tetra_fd/tetra_slc_fd.txt', sep=' ')\n",
    "pep"
   ]
  },
  {
   "cell_type": "code",
   "execution_count": 40,
   "metadata": {},
   "outputs": [
    {
     "name": "stderr",
     "output_type": "stream",
     "text": [
      "/var/folders/q9/dz7bsnq15t5crnph1_rcrhjr0000gn/T/ipykernel_81054/4169824128.py:2: FutureWarning: ChainedAssignmentError: behaviour will change in pandas 3.0!\n",
      "You are setting values through chained assignment. Currently this works in certain cases, but when using Copy-on-Write (which will become the default behaviour in pandas 3.0) this will never work to update the original DataFrame or Series, because the intermediate object on which we are setting values will behave as a copy.\n",
      "A typical example is when you are setting values in a column of a DataFrame, like:\n",
      "\n",
      "df[\"col\"][row_indexer] = value\n",
      "\n",
      "Use `df.loc[row_indexer, \"col\"] = values` instead, to perform the assignment in a single step and ensure this keeps updating the original `df`.\n",
      "\n",
      "See the caveats in the documentation: https://pandas.pydata.org/pandas-docs/stable/user_guide/indexing.html#returning-a-view-versus-a-copy\n",
      "\n",
      "  pep['AP'].iloc[i]=diff[i]\n",
      "/var/folders/q9/dz7bsnq15t5crnph1_rcrhjr0000gn/T/ipykernel_81054/4169824128.py:2: SettingWithCopyWarning: \n",
      "A value is trying to be set on a copy of a slice from a DataFrame\n",
      "\n",
      "See the caveats in the documentation: https://pandas.pydata.org/pandas-docs/stable/user_guide/indexing.html#returning-a-view-versus-a-copy\n",
      "  pep['AP'].iloc[i]=diff[i]\n",
      "/var/folders/q9/dz7bsnq15t5crnph1_rcrhjr0000gn/T/ipykernel_81054/4169824128.py:2: FutureWarning: Setting an item of incompatible dtype is deprecated and will raise an error in a future version of pandas. Value '1.5663659572601318' has dtype incompatible with int64, please explicitly cast to a compatible dtype first.\n",
      "  pep['AP'].iloc[i]=diff[i]\n",
      "/var/folders/q9/dz7bsnq15t5crnph1_rcrhjr0000gn/T/ipykernel_81054/4169824128.py:2: FutureWarning: ChainedAssignmentError: behaviour will change in pandas 3.0!\n",
      "You are setting values through chained assignment. Currently this works in certain cases, but when using Copy-on-Write (which will become the default behaviour in pandas 3.0) this will never work to update the original DataFrame or Series, because the intermediate object on which we are setting values will behave as a copy.\n",
      "A typical example is when you are setting values in a column of a DataFrame, like:\n",
      "\n",
      "df[\"col\"][row_indexer] = value\n",
      "\n",
      "Use `df.loc[row_indexer, \"col\"] = values` instead, to perform the assignment in a single step and ensure this keeps updating the original `df`.\n",
      "\n",
      "See the caveats in the documentation: https://pandas.pydata.org/pandas-docs/stable/user_guide/indexing.html#returning-a-view-versus-a-copy\n",
      "\n",
      "  pep['AP'].iloc[i]=diff[i]\n"
     ]
    }
   ],
   "source": [
    "for i in range(len(diff)):\n",
    "    pep['AP'].iloc[i]=diff[i]"
   ]
  },
  {
   "cell_type": "code",
   "execution_count": 52,
   "metadata": {},
   "outputs": [],
   "source": [
    "pep.to_csv('../dataset/regression/AP_tetra_fd/fd_pred.csv')"
   ]
  },
  {
   "cell_type": "code",
   "execution_count": 47,
   "metadata": {},
   "outputs": [
    {
     "name": "stdout",
     "output_type": "stream",
     "text": [
      "         Pep        AP        bins\n",
      "0       SSSS  1.177884  (1.0, 1.2]\n",
      "1       SSSG  1.126320  (1.0, 1.2]\n",
      "2       GGGG  1.181096  (1.0, 1.2]\n",
      "3       SASG  1.198624  (1.0, 1.2]\n",
      "4       SDDG  1.344497  (1.2, 1.4]\n",
      "...      ...       ...         ...\n",
      "96055   MANS  1.882964  (1.8, 2.0]\n",
      "4860    AMDA  1.755749  (1.6, 1.8]\n",
      "134153  TSQF  2.048654  (2.0, 2.2]\n",
      "138934  WQHP  2.227512  (2.2, 2.4]\n",
      "70251   GSMK  1.762201  (1.6, 1.8]\n",
      "\n",
      "[3000 rows x 3 columns]\n"
     ]
    },
    {
     "name": "stderr",
     "output_type": "stream",
     "text": [
      "/var/folders/q9/dz7bsnq15t5crnph1_rcrhjr0000gn/T/ipykernel_81054/2264015802.py:11: FutureWarning: The default of observed=False is deprecated and will be changed to True in a future version of pandas. Pass observed=False to retain current behavior or observed=True to adopt the future default and silence this warning.\n",
      "  sampled_pep = pep.groupby('bins').apply(lambda x: x.sample(n=min(len(x), peptides_per_bin), random_state=1)).reset_index(drop=True)\n",
      "/var/folders/q9/dz7bsnq15t5crnph1_rcrhjr0000gn/T/ipykernel_81054/2264015802.py:11: DeprecationWarning: DataFrameGroupBy.apply operated on the grouping columns. This behavior is deprecated, and in a future version of pandas the grouping columns will be excluded from the operation. Either pass `include_groups=False` to exclude the groupings or explicitly select the grouping columns after groupby to silence this warning.\n",
      "  sampled_pep = pep.groupby('bins').apply(lambda x: x.sample(n=min(len(x), peptides_per_bin), random_state=1)).reset_index(drop=True)\n"
     ]
    }
   ],
   "source": [
    "# Step 1: Create bins of size 0.2 for the 'AP' column\n",
    "bin_size = 0.2\n",
    "pep['bins'] = pd.cut(pep['AP'], bins=np.arange(pep['AP'].min(), pep['AP'].max() + bin_size, bin_size))\n",
    "\n",
    "# Step 2: Determine the number of bins and peptides per bin\n",
    "total_peptides = 3000\n",
    "unique_bins = pep['bins'].nunique()\n",
    "peptides_per_bin = total_peptides // unique_bins\n",
    "\n",
    "# Step 3: Sample equal number of peptides from each bin\n",
    "sampled_pep = pep.groupby('bins').apply(lambda x: x.sample(n=min(len(x), peptides_per_bin), random_state=1)).reset_index(drop=True)\n",
    "\n",
    "# Step 4: Adjust the total sample size if necessary\n",
    "remaining = total_peptides - len(sampled_pep)\n",
    "\n",
    "# If there are still remaining peptides to be sampled due to rounding\n",
    "if remaining > 0:\n",
    "    extra_samples = pep[~pep.index.isin(sampled_pep.index)].sample(n=remaining, random_state=1)\n",
    "    sampled_pep = pd.concat([sampled_pep, extra_samples])\n",
    "\n",
    "# Display the sampled dataframe\n",
    "print(sampled_pep)\n"
   ]
  },
  {
   "cell_type": "code",
   "execution_count": 51,
   "metadata": {},
   "outputs": [],
   "source": [
    "sampled_pep.to_csv('../dataset/regression/AP_tetra_fd/pred.csv')"
   ]
  },
  {
   "cell_type": "code",
   "execution_count": null,
   "metadata": {},
   "outputs": [],
   "source": []
  }
 ],
 "metadata": {
  "kernelspec": {
   "display_name": "Python 3",
   "language": "python",
   "name": "python3"
  },
  "language_info": {
   "codemirror_mode": {
    "name": "ipython",
    "version": 3
   },
   "file_extension": ".py",
   "mimetype": "text/x-python",
   "name": "python",
   "nbconvert_exporter": "python",
   "pygments_lexer": "ipython3",
   "version": "3.11.3"
  }
 },
 "nbformat": 4,
 "nbformat_minor": 2
}
