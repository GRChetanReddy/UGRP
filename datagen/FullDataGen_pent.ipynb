{
 "cells": [
  {
   "cell_type": "code",
   "execution_count": 1,
   "metadata": {},
   "outputs": [],
   "source": [
    "def one_letter_to_smiles(sequence):\n",
    "    # Define a dictionary mapping one-letter codes to SMILES strings\n",
    "    aa_to_smiles = {\n",
    "        'A': 'N[C@@H](C)C(=O)',\n",
    "        'R': 'N[C@@H](CCCNC(N)=N)C(=O)',\n",
    "        'N': 'N[C@@H](CC(N)=O)C(=O)',\n",
    "        'D': 'N[C@@H](CC(O)=O)C(=O)',\n",
    "        'C': 'N[C@@H](CS)C(=O)',\n",
    "        'Q': 'N[C@@H](CCC(N)=O)C(=O)',\n",
    "        'E': 'N[C@@H](CCC(O)=O)C(=O)',\n",
    "        'G': 'NCC(=O)',\n",
    "        'H': 'N[C@@H](CC1=CNC=N1)C(=O)',\n",
    "        'I': 'N[C@@H]([C@@H](C)CC)C(=O)',\n",
    "        'L': 'N[C@@H](CC(C)C)C(=O)',\n",
    "        'K': 'N[C@@H](CCCCN)C(=O)',\n",
    "        'M': 'N[C@@H](CCSC)C(=O)',\n",
    "        'F': 'N[C@@H](CC1=CC=CC=C1)C(=O)',\n",
    "        'P': 'N1CCC[C@H]1C(=O)',\n",
    "        'S': 'N[C@@H](CO)C(=O)',\n",
    "        'T': 'N[C@@H]([C@@H](C)O)C(=O)',\n",
    "        'W': 'N[C@@H](CC1=CNC2=C1C=CC=C2)C(=O)',\n",
    "        'Y': 'N[C@@H](CC1=CC=C(O)C=C1)C(=O)',\n",
    "        'V': 'N[C@@H](C(C)C)C(=O)'\n",
    "    }\n",
    "    \n",
    "    smiles_sequence = ''.join([aa_to_smiles[aa] for aa in sequence])\n",
    "    smiles_sequence = '[H]' + smiles_sequence[:-3] + 'O)=O'\n",
    "    \n",
    "    return smiles_sequence\n",
    "\n",
    "def three2one(s,d):\n",
    "    a = ''\n",
    "    c = ''\n",
    "    for i in range(len(s)):\n",
    "        if s[i] != '-':\n",
    "            c = c+s[i]\n",
    "        else:\n",
    "            a = a + list(d.keys())[list(d.values()).index(c)]\n",
    "            c = ''\n",
    "    return a"
   ]
  },
  {
   "cell_type": "code",
   "execution_count": 2,
   "metadata": {},
   "outputs": [],
   "source": [
    "import random as rn\n",
    "import pandas as pd\n",
    "import numpy as np\n",
    "\n",
    "for n in range(20):\n",
    "    c = 0\n",
    "    smiles = open('pentapepslc'+str(n)+'_w.txt','a')\n",
    "    a = {'A':'ALA','R':'ARG','N':'ASN','D':'ASP','C':'CYS','E':'GLU','H':'HSE','Q':'GLN','G':'GLY','I':'ILE','L':'LEU','K':'LYS','M':'MET','F':'PHE','P':'PRO','S':'SER','T':'THR','W':'TRP','Y':'TYR','V':'VAL'}\n",
    "    p = ''\n",
    "    lb = n*160000\n",
    "    ub = (n+1)*160000\n",
    "    for i in 'ARNDCEHQGILKMFPSTWYV':\n",
    "        for j in 'ARNDCEHQGILKMFPSTWYV':\n",
    "            for k in 'ARNDCEHQGILKMFPSTWYV':\n",
    "                for l in 'ARNDCEHQGILKMFPSTWYV':\n",
    "                    for m in 'ARNDCEHQGILKMFPSTWYV':\n",
    "                    #    for n in 'ARNDCEHQGILKMFPSTWYV':\n",
    "                    #        for o in 'ARNDCEHQGILKMFPSTWYV':\n",
    "                        if lb<=c and c<ub:\n",
    "                            p=i+j+k+l+m\n",
    "                            smiles.write(p+' '+str(0)+'\\n')\n",
    "                        c+=1\n",
    "    smiles.close()"
   ]
  },
  {
   "cell_type": "code",
   "execution_count": null,
   "metadata": {},
   "outputs": [],
   "source": []
  }
 ],
 "metadata": {
  "kernelspec": {
   "display_name": "Python 3",
   "language": "python",
   "name": "python3"
  },
  "language_info": {
   "codemirror_mode": {
    "name": "ipython",
    "version": 3
   },
   "file_extension": ".py",
   "mimetype": "text/x-python",
   "name": "python",
   "nbconvert_exporter": "python",
   "pygments_lexer": "ipython3",
   "version": "3.11.3"
  }
 },
 "nbformat": 4,
 "nbformat_minor": 2
}
