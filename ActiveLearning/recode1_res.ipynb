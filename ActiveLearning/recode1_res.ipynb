{
 "cells": [
  {
   "cell_type": "markdown",
   "metadata": {},
   "source": [
    "In this jupyter notebook we try to implement the Active Learning algorithm to find self assembling tripeptides. We start out by importing important libraries for our algorithm."
   ]
  },
  {
   "cell_type": "code",
   "execution_count": 1,
   "metadata": {},
   "outputs": [],
   "source": [
    "#importing stuff\n",
    "import numpy as np                                      \n",
    "import pandas as pd\n",
    "import matplotlib.pyplot as plt\n",
    "import math,os,random,sys,h5py\n",
    "from sklearn import preprocessing\n",
    "from sklearn.svm import SVR\n",
    "from sklearn.impute import SimpleImputer"
   ]
  },
  {
   "cell_type": "markdown",
   "metadata": {},
   "source": [
    "The function below takes a pandas dataframe and normalizes it. "
   ]
  },
  {
   "cell_type": "code",
   "execution_count": 2,
   "metadata": {},
   "outputs": [],
   "source": [
    "def normalize_pandas_data(data):\n",
    "    min_max_scaler = preprocessing.MinMaxScaler(feature_range=(-1, 1))\n",
    "    new_data = min_max_scaler.fit_transform(data)\n",
    "    return pd.DataFrame(new_data, index=data.index, columns=data.columns)"
   ]
  },
  {
   "cell_type": "markdown",
   "metadata": {},
   "source": [
    "Next we read the data from the files to use it. Since we have AP data for all peptides we use this data instead of running a simulation in each step.\n",
    "Note: 'sap' is a list of all self-assembling peptides as predicted by Tuttle et al.3"
   ]
  },
  {
   "cell_type": "code",
   "execution_count": 3,
   "metadata": {},
   "outputs": [],
   "source": [
    "APs = pd.read_csv(\"tripeptide_AP.txt\", sep=\": \", index_col=0, header=None, engine = 'python')              #AP scores from simulation\n",
    "f = h5py.File('tripeptides.hdf5','r')                                                                      #reading data from the file generated from judred generator\n",
    "peps = np.array(f.get('peptides'))\n",
    "feas = np.array(f.get('features'))\n",
    "data = np.array(f.get('data'))\n",
    "f.close()\n",
    "judp = pd.DataFrame(data, columns = feas, index = peps)                              #arranging it into a pandas data frame\n",
    "logparr = np.array(judp[b'LogP WW'])\n",
    "A = np.array(judp[judp[b'LogP WW']>(0)].index)\n",
    "judp.drop(A,inplace=True)\n",
    "judp = normalize_pandas_data(judp)\n",
    "smiles = pd.read_csv(\"smi.txt\", sep=\": \", engine='python')                                                  #smiles data of peptides by their names\n",
    "modp = normalize_pandas_data(pd.read_csv('Mordred_Parameters_to_be_used.csv', sep=',', engine='python'))    #mordred data in same order as the smiles data\n",
    "sap = ['PHE-PHE-PHE','TRP-PHE-PHE','PHE-TRP-PHE','PHE-PHE-TRP','ILE-PHE-TRP','PHE-TYR-ILE','PRO-TRP-PHE','TRP-PHE-LEU','ILE-PHE-PHE','VAL-PHE-TRP','PRO-PHE-PHE','PHE-PHE-MET','TRP-PHE-PHE','VAL-PHE-PHE','MET-PHE-PHE','TRP-LEU-LEU','SER-PHE-TRP','ILE-MET-TRP','LEU-CYS-PHE','SER-SER-PHE','SER-CYS-TRP','LYS-TRP-PHE','LYS-PHE-TRP','LYS-TRP-ASP','LYS-HSE-ASP','TRP-LYS-ASP','HSE-LYS-ASP','LYS-TYR-ASP','LYS-PHE-ASP','LYS-TRP-GLU','TRP-LYS-GLU','LYS-GLU-HSE','LYS-TYR-GLU','LYS-HSE-GLU','PRO-CYS-PHE','THR-SER-PHE','GLY-PHE-PHE','VAL-ALA-TRP']       #list of self assenbling peptides"
   ]
  },
  {
   "cell_type": "code",
   "execution_count": 4,
   "metadata": {},
   "outputs": [
    {
     "name": "stdout",
     "output_type": "stream",
     "text": [
      "The peptides that are being removed ['ALA-ALA-ILE' 'ALA-ALA-LEU' 'ALA-CYS-PHE' ... 'TYR-TYR-ILE' 'TYR-TYR-LEU'\n",
      " 'TYR-TYR-VAL']\n"
     ]
    },
    {
     "data": {
      "text/html": [
       "<div>\n",
       "<style scoped>\n",
       "    .dataframe tbody tr th:only-of-type {\n",
       "        vertical-align: middle;\n",
       "    }\n",
       "\n",
       "    .dataframe tbody tr th {\n",
       "        vertical-align: top;\n",
       "    }\n",
       "\n",
       "    .dataframe thead th {\n",
       "        text-align: right;\n",
       "    }\n",
       "</style>\n",
       "<table border=\"1\" class=\"dataframe\">\n",
       "  <thead>\n",
       "    <tr style=\"text-align: right;\">\n",
       "      <th></th>\n",
       "      <th>1</th>\n",
       "    </tr>\n",
       "    <tr>\n",
       "      <th>0</th>\n",
       "      <th></th>\n",
       "    </tr>\n",
       "  </thead>\n",
       "  <tbody>\n",
       "    <tr>\n",
       "      <th>ALA-ALA-ALA</th>\n",
       "      <td>1.648900</td>\n",
       "    </tr>\n",
       "    <tr>\n",
       "      <th>ASN-GLN-CYS</th>\n",
       "      <td>1.739705</td>\n",
       "    </tr>\n",
       "    <tr>\n",
       "      <th>ALA-ALA-CYS</th>\n",
       "      <td>2.176944</td>\n",
       "    </tr>\n",
       "    <tr>\n",
       "      <th>ALA-ALA-ARG</th>\n",
       "      <td>1.138715</td>\n",
       "    </tr>\n",
       "    <tr>\n",
       "      <th>PRO-MET-GLY</th>\n",
       "      <td>1.074714</td>\n",
       "    </tr>\n",
       "    <tr>\n",
       "      <th>...</th>\n",
       "      <td>...</td>\n",
       "    </tr>\n",
       "    <tr>\n",
       "      <th>VAL-PHE-LYS</th>\n",
       "      <td>1.695091</td>\n",
       "    </tr>\n",
       "    <tr>\n",
       "      <th>VAL-PRO-GLU</th>\n",
       "      <td>1.035959</td>\n",
       "    </tr>\n",
       "    <tr>\n",
       "      <th>VAL-SER-ALA</th>\n",
       "      <td>1.381075</td>\n",
       "    </tr>\n",
       "    <tr>\n",
       "      <th>VAL-SER-GLU</th>\n",
       "      <td>1.168641</td>\n",
       "    </tr>\n",
       "    <tr>\n",
       "      <th>VAL-TRP-ARG</th>\n",
       "      <td>1.806671</td>\n",
       "    </tr>\n",
       "  </tbody>\n",
       "</table>\n",
       "<p>5555 rows × 1 columns</p>\n",
       "</div>"
      ],
      "text/plain": [
       "                    1\n",
       "0                    \n",
       "ALA-ALA-ALA  1.648900\n",
       "ASN-GLN-CYS  1.739705\n",
       "ALA-ALA-CYS  2.176944\n",
       "ALA-ALA-ARG  1.138715\n",
       "PRO-MET-GLY  1.074714\n",
       "...               ...\n",
       "VAL-PHE-LYS  1.695091\n",
       "VAL-PRO-GLU  1.035959\n",
       "VAL-SER-ALA  1.381075\n",
       "VAL-SER-GLU  1.168641\n",
       "VAL-TRP-ARG  1.806671\n",
       "\n",
       "[5555 rows x 1 columns]"
      ]
     },
     "execution_count": 4,
     "metadata": {},
     "output_type": "execute_result"
    }
   ],
   "source": [
    "for i in range(len(A)):\n",
    "    A[i] = A[i].decode(encoding='utf-8')\n",
    "print(f\"The peptides that are being removed {A}\")\n",
    "APs.drop(A,inplace=True)\n",
    "APs"
   ]
  },
  {
   "cell_type": "code",
   "execution_count": 5,
   "metadata": {},
   "outputs": [
    {
     "data": {
      "text/html": [
       "<div>\n",
       "<style scoped>\n",
       "    .dataframe tbody tr th:only-of-type {\n",
       "        vertical-align: middle;\n",
       "    }\n",
       "\n",
       "    .dataframe tbody tr th {\n",
       "        vertical-align: top;\n",
       "    }\n",
       "\n",
       "    .dataframe thead th {\n",
       "        text-align: right;\n",
       "    }\n",
       "</style>\n",
       "<table border=\"1\" class=\"dataframe\">\n",
       "  <thead>\n",
       "    <tr style=\"text-align: right;\">\n",
       "      <th></th>\n",
       "      <th>b'SP2'</th>\n",
       "      <th>b'NH2'</th>\n",
       "      <th>b'MW'</th>\n",
       "      <th>b'S'</th>\n",
       "      <th>b'LogP WW'</th>\n",
       "      <th>b'Z'</th>\n",
       "      <th>b'MaxASA'</th>\n",
       "      <th>b'RotRatio'</th>\n",
       "      <th>b'Bulkiness'</th>\n",
       "      <th>b'OH'</th>\n",
       "    </tr>\n",
       "  </thead>\n",
       "  <tbody>\n",
       "    <tr>\n",
       "      <th>b'ALA-ALA-CYS'</th>\n",
       "      <td>-1.0</td>\n",
       "      <td>-1.0</td>\n",
       "      <td>-0.585117</td>\n",
       "      <td>-0.333333</td>\n",
       "      <td>0.756570</td>\n",
       "      <td>0.000000</td>\n",
       "      <td>-0.575188</td>\n",
       "      <td>-1.000000</td>\n",
       "      <td>0.075128</td>\n",
       "      <td>-1.000000</td>\n",
       "    </tr>\n",
       "    <tr>\n",
       "      <th>b'ALA-ALA-ASP'</th>\n",
       "      <td>-0.9</td>\n",
       "      <td>-1.0</td>\n",
       "      <td>-0.518254</td>\n",
       "      <td>-1.000000</td>\n",
       "      <td>0.150761</td>\n",
       "      <td>-0.333333</td>\n",
       "      <td>-0.477444</td>\n",
       "      <td>-0.916667</td>\n",
       "      <td>0.002252</td>\n",
       "      <td>-1.000000</td>\n",
       "    </tr>\n",
       "    <tr>\n",
       "      <th>b'ALA-ALA-GLU'</th>\n",
       "      <td>-0.9</td>\n",
       "      <td>-1.0</td>\n",
       "      <td>-0.439810</td>\n",
       "      <td>-1.000000</td>\n",
       "      <td>0.372061</td>\n",
       "      <td>-0.333333</td>\n",
       "      <td>-0.364662</td>\n",
       "      <td>-0.937500</td>\n",
       "      <td>0.079632</td>\n",
       "      <td>-1.000000</td>\n",
       "    </tr>\n",
       "    <tr>\n",
       "      <th>b'ALA-ALA-PHE'</th>\n",
       "      <td>-0.4</td>\n",
       "      <td>-1.0</td>\n",
       "      <td>-0.338761</td>\n",
       "      <td>-1.000000</td>\n",
       "      <td>0.977870</td>\n",
       "      <td>0.000000</td>\n",
       "      <td>-0.300752</td>\n",
       "      <td>-0.500000</td>\n",
       "      <td>0.334698</td>\n",
       "      <td>-1.000000</td>\n",
       "    </tr>\n",
       "    <tr>\n",
       "      <th>b'ALA-ALA-GLY'</th>\n",
       "      <td>-1.0</td>\n",
       "      <td>-1.0</td>\n",
       "      <td>-0.842999</td>\n",
       "      <td>-1.000000</td>\n",
       "      <td>0.502075</td>\n",
       "      <td>0.000000</td>\n",
       "      <td>-0.812030</td>\n",
       "      <td>-1.000000</td>\n",
       "      <td>-0.336745</td>\n",
       "      <td>-1.000000</td>\n",
       "    </tr>\n",
       "    <tr>\n",
       "      <th>...</th>\n",
       "      <td>...</td>\n",
       "      <td>...</td>\n",
       "      <td>...</td>\n",
       "      <td>...</td>\n",
       "      <td>...</td>\n",
       "      <td>...</td>\n",
       "      <td>...</td>\n",
       "      <td>...</td>\n",
       "      <td>...</td>\n",
       "      <td>...</td>\n",
       "    </tr>\n",
       "    <tr>\n",
       "      <th>b'TYR-TYR-SER'</th>\n",
       "      <td>0.2</td>\n",
       "      <td>-1.0</td>\n",
       "      <td>0.355490</td>\n",
       "      <td>-1.000000</td>\n",
       "      <td>0.781466</td>\n",
       "      <td>0.000000</td>\n",
       "      <td>0.387218</td>\n",
       "      <td>0.000000</td>\n",
       "      <td>0.446469</td>\n",
       "      <td>1.000000</td>\n",
       "    </tr>\n",
       "    <tr>\n",
       "      <th>b'TYR-TYR-THR'</th>\n",
       "      <td>0.2</td>\n",
       "      <td>-1.0</td>\n",
       "      <td>0.433991</td>\n",
       "      <td>-1.000000</td>\n",
       "      <td>0.842324</td>\n",
       "      <td>0.000000</td>\n",
       "      <td>0.451128</td>\n",
       "      <td>-0.250000</td>\n",
       "      <td>0.704401</td>\n",
       "      <td>1.000000</td>\n",
       "    </tr>\n",
       "    <tr>\n",
       "      <th>b'TYR-TYR-TRP'</th>\n",
       "      <td>1.0</td>\n",
       "      <td>-1.0</td>\n",
       "      <td>0.910197</td>\n",
       "      <td>-1.000000</td>\n",
       "      <td>0.939142</td>\n",
       "      <td>0.000000</td>\n",
       "      <td>0.875940</td>\n",
       "      <td>0.666667</td>\n",
       "      <td>0.945957</td>\n",
       "      <td>0.333333</td>\n",
       "    </tr>\n",
       "    <tr>\n",
       "      <th>b'TYR-TYR-TYR'</th>\n",
       "      <td>0.8</td>\n",
       "      <td>-1.0</td>\n",
       "      <td>0.781284</td>\n",
       "      <td>-1.000000</td>\n",
       "      <td>0.809129</td>\n",
       "      <td>0.000000</td>\n",
       "      <td>0.793233</td>\n",
       "      <td>0.500000</td>\n",
       "      <td>0.796929</td>\n",
       "      <td>1.000000</td>\n",
       "    </tr>\n",
       "    <tr>\n",
       "      <th>b'ALA-ALA-ALA'</th>\n",
       "      <td>-1.0</td>\n",
       "      <td>-1.0</td>\n",
       "      <td>-0.764499</td>\n",
       "      <td>-1.000000</td>\n",
       "      <td>0.726141</td>\n",
       "      <td>0.000000</td>\n",
       "      <td>-0.718045</td>\n",
       "      <td>-1.000000</td>\n",
       "      <td>-0.005118</td>\n",
       "      <td>-1.000000</td>\n",
       "    </tr>\n",
       "  </tbody>\n",
       "</table>\n",
       "<p>5555 rows × 10 columns</p>\n",
       "</div>"
      ],
      "text/plain": [
       "                b'SP2'  b'NH2'     b'MW'      b'S'  b'LogP WW'      b'Z'  \\\n",
       "b'ALA-ALA-CYS'    -1.0    -1.0 -0.585117 -0.333333    0.756570  0.000000   \n",
       "b'ALA-ALA-ASP'    -0.9    -1.0 -0.518254 -1.000000    0.150761 -0.333333   \n",
       "b'ALA-ALA-GLU'    -0.9    -1.0 -0.439810 -1.000000    0.372061 -0.333333   \n",
       "b'ALA-ALA-PHE'    -0.4    -1.0 -0.338761 -1.000000    0.977870  0.000000   \n",
       "b'ALA-ALA-GLY'    -1.0    -1.0 -0.842999 -1.000000    0.502075  0.000000   \n",
       "...                ...     ...       ...       ...         ...       ...   \n",
       "b'TYR-TYR-SER'     0.2    -1.0  0.355490 -1.000000    0.781466  0.000000   \n",
       "b'TYR-TYR-THR'     0.2    -1.0  0.433991 -1.000000    0.842324  0.000000   \n",
       "b'TYR-TYR-TRP'     1.0    -1.0  0.910197 -1.000000    0.939142  0.000000   \n",
       "b'TYR-TYR-TYR'     0.8    -1.0  0.781284 -1.000000    0.809129  0.000000   \n",
       "b'ALA-ALA-ALA'    -1.0    -1.0 -0.764499 -1.000000    0.726141  0.000000   \n",
       "\n",
       "                b'MaxASA'  b'RotRatio'  b'Bulkiness'     b'OH'  \n",
       "b'ALA-ALA-CYS'  -0.575188    -1.000000      0.075128 -1.000000  \n",
       "b'ALA-ALA-ASP'  -0.477444    -0.916667      0.002252 -1.000000  \n",
       "b'ALA-ALA-GLU'  -0.364662    -0.937500      0.079632 -1.000000  \n",
       "b'ALA-ALA-PHE'  -0.300752    -0.500000      0.334698 -1.000000  \n",
       "b'ALA-ALA-GLY'  -0.812030    -1.000000     -0.336745 -1.000000  \n",
       "...                   ...          ...           ...       ...  \n",
       "b'TYR-TYR-SER'   0.387218     0.000000      0.446469  1.000000  \n",
       "b'TYR-TYR-THR'   0.451128    -0.250000      0.704401  1.000000  \n",
       "b'TYR-TYR-TRP'   0.875940     0.666667      0.945957  0.333333  \n",
       "b'TYR-TYR-TYR'   0.793233     0.500000      0.796929  1.000000  \n",
       "b'ALA-ALA-ALA'  -0.718045    -1.000000     -0.005118 -1.000000  \n",
       "\n",
       "[5555 rows x 10 columns]"
      ]
     },
     "execution_count": 5,
     "metadata": {},
     "output_type": "execute_result"
    }
   ],
   "source": [
    "judp"
   ]
  },
  {
   "cell_type": "code",
   "execution_count": 6,
   "metadata": {},
   "outputs": [
    {
     "data": {
      "text/html": [
       "<div>\n",
       "<style scoped>\n",
       "    .dataframe tbody tr th:only-of-type {\n",
       "        vertical-align: middle;\n",
       "    }\n",
       "\n",
       "    .dataframe tbody tr th {\n",
       "        vertical-align: top;\n",
       "    }\n",
       "\n",
       "    .dataframe thead th {\n",
       "        text-align: right;\n",
       "    }\n",
       "</style>\n",
       "<table border=\"1\" class=\"dataframe\">\n",
       "  <thead>\n",
       "    <tr style=\"text-align: right;\">\n",
       "      <th></th>\n",
       "      <th>Peptides</th>\n",
       "      <th>smiles</th>\n",
       "    </tr>\n",
       "  </thead>\n",
       "  <tbody>\n",
       "    <tr>\n",
       "      <th>0</th>\n",
       "      <td>ALA-ALA-ALA</td>\n",
       "      <td>[H]N[C@@H](C)C(=O)N[C@@H](C)C(=O)N[C@@H](C)C(O)=O</td>\n",
       "    </tr>\n",
       "    <tr>\n",
       "      <th>1</th>\n",
       "      <td>ALA-ALA-CYS</td>\n",
       "      <td>[H]N[C@@H](C)C(=O)N[C@@H](C)C(=O)N[C@@H](CS)C(...</td>\n",
       "    </tr>\n",
       "    <tr>\n",
       "      <th>2</th>\n",
       "      <td>ALA-ALA-ASP</td>\n",
       "      <td>[H]N[C@@H](C)C(=O)N[C@@H](C)C(=O)N[C@@H](CC(O)...</td>\n",
       "    </tr>\n",
       "    <tr>\n",
       "      <th>3</th>\n",
       "      <td>ALA-ALA-GLU</td>\n",
       "      <td>[H]N[C@@H](C)C(=O)N[C@@H](C)C(=O)N[C@@H](CCC(O...</td>\n",
       "    </tr>\n",
       "    <tr>\n",
       "      <th>4</th>\n",
       "      <td>ALA-ALA-PHE</td>\n",
       "      <td>[H]N[C@@H](C)C(=O)N[C@@H](C)C(=O)N[C@@H](CC1=C...</td>\n",
       "    </tr>\n",
       "    <tr>\n",
       "      <th>...</th>\n",
       "      <td>...</td>\n",
       "      <td>...</td>\n",
       "    </tr>\n",
       "    <tr>\n",
       "      <th>7995</th>\n",
       "      <td>TYR-TYR-SER</td>\n",
       "      <td>[H]N[C@@H](CC1=CC=C(O)C=C1)C(=O)N[C@@H](CC1=CC...</td>\n",
       "    </tr>\n",
       "    <tr>\n",
       "      <th>7996</th>\n",
       "      <td>TYR-TYR-THR</td>\n",
       "      <td>[H]N[C@@H](CC1=CC=C(O)C=C1)C(=O)N[C@@H](CC1=CC...</td>\n",
       "    </tr>\n",
       "    <tr>\n",
       "      <th>7997</th>\n",
       "      <td>TYR-TYR-VAL</td>\n",
       "      <td>[H]N[C@@H](CC1=CC=C(O)C=C1)C(=O)N[C@@H](CC1=CC...</td>\n",
       "    </tr>\n",
       "    <tr>\n",
       "      <th>7998</th>\n",
       "      <td>TYR-TYR-TRP</td>\n",
       "      <td>[H]N[C@@H](CC1=CC=C(O)C=C1)C(=O)N[C@@H](CC1=CC...</td>\n",
       "    </tr>\n",
       "    <tr>\n",
       "      <th>7999</th>\n",
       "      <td>TYR-TYR-TYR</td>\n",
       "      <td>[H]N[C@@H](CC1=CC=C(O)C=C1)C(=O)N[C@@H](CC1=CC...</td>\n",
       "    </tr>\n",
       "  </tbody>\n",
       "</table>\n",
       "<p>8000 rows × 2 columns</p>\n",
       "</div>"
      ],
      "text/plain": [
       "         Peptides                                             smiles\n",
       "0     ALA-ALA-ALA  [H]N[C@@H](C)C(=O)N[C@@H](C)C(=O)N[C@@H](C)C(O)=O\n",
       "1     ALA-ALA-CYS  [H]N[C@@H](C)C(=O)N[C@@H](C)C(=O)N[C@@H](CS)C(...\n",
       "2     ALA-ALA-ASP  [H]N[C@@H](C)C(=O)N[C@@H](C)C(=O)N[C@@H](CC(O)...\n",
       "3     ALA-ALA-GLU  [H]N[C@@H](C)C(=O)N[C@@H](C)C(=O)N[C@@H](CCC(O...\n",
       "4     ALA-ALA-PHE  [H]N[C@@H](C)C(=O)N[C@@H](C)C(=O)N[C@@H](CC1=C...\n",
       "...           ...                                                ...\n",
       "7995  TYR-TYR-SER  [H]N[C@@H](CC1=CC=C(O)C=C1)C(=O)N[C@@H](CC1=CC...\n",
       "7996  TYR-TYR-THR  [H]N[C@@H](CC1=CC=C(O)C=C1)C(=O)N[C@@H](CC1=CC...\n",
       "7997  TYR-TYR-VAL  [H]N[C@@H](CC1=CC=C(O)C=C1)C(=O)N[C@@H](CC1=CC...\n",
       "7998  TYR-TYR-TRP  [H]N[C@@H](CC1=CC=C(O)C=C1)C(=O)N[C@@H](CC1=CC...\n",
       "7999  TYR-TYR-TYR  [H]N[C@@H](CC1=CC=C(O)C=C1)C(=O)N[C@@H](CC1=CC...\n",
       "\n",
       "[8000 rows x 2 columns]"
      ]
     },
     "execution_count": 6,
     "metadata": {},
     "output_type": "execute_result"
    }
   ],
   "source": [
    "smiles"
   ]
  },
  {
   "cell_type": "code",
   "execution_count": 7,
   "metadata": {},
   "outputs": [
    {
     "data": {
      "text/html": [
       "<div>\n",
       "<style scoped>\n",
       "    .dataframe tbody tr th:only-of-type {\n",
       "        vertical-align: middle;\n",
       "    }\n",
       "\n",
       "    .dataframe tbody tr th {\n",
       "        vertical-align: top;\n",
       "    }\n",
       "\n",
       "    .dataframe thead th {\n",
       "        text-align: right;\n",
       "    }\n",
       "</style>\n",
       "<table border=\"1\" class=\"dataframe\">\n",
       "  <thead>\n",
       "    <tr style=\"text-align: right;\">\n",
       "      <th></th>\n",
       "      <th>Unnamed: 0</th>\n",
       "      <th>AATS0s</th>\n",
       "      <th>AATS2s</th>\n",
       "      <th>AATSC0are</th>\n",
       "      <th>AATSC0s</th>\n",
       "      <th>AATSC0se</th>\n",
       "      <th>AATSC1are</th>\n",
       "      <th>AATSC1pe</th>\n",
       "      <th>AATSC1v</th>\n",
       "      <th>AATSC2s</th>\n",
       "      <th>...</th>\n",
       "      <th>NsNH2</th>\n",
       "      <th>NsssN</th>\n",
       "      <th>RotRatio</th>\n",
       "      <th>SaasC</th>\n",
       "      <th>ETA_dEpsilon_B</th>\n",
       "      <th>ETA_shape_p</th>\n",
       "      <th>ETA_shape_y</th>\n",
       "      <th>Kier3</th>\n",
       "      <th>SpMAD_A</th>\n",
       "      <th>SlogP_VSA4</th>\n",
       "    </tr>\n",
       "  </thead>\n",
       "  <tbody>\n",
       "    <tr>\n",
       "      <th>0</th>\n",
       "      <td>-1.00000</td>\n",
       "      <td>-0.232323</td>\n",
       "      <td>-0.252278</td>\n",
       "      <td>0.023694</td>\n",
       "      <td>-0.020400</td>\n",
       "      <td>-0.042373</td>\n",
       "      <td>0.242472</td>\n",
       "      <td>0.224388</td>\n",
       "      <td>-0.775307</td>\n",
       "      <td>0.081151</td>\n",
       "      <td>...</td>\n",
       "      <td>-0.5</td>\n",
       "      <td>-1.0</td>\n",
       "      <td>-0.174312</td>\n",
       "      <td>-1.000000</td>\n",
       "      <td>-1.000000</td>\n",
       "      <td>0.938632</td>\n",
       "      <td>0.615206</td>\n",
       "      <td>-0.594865</td>\n",
       "      <td>-0.999740</td>\n",
       "      <td>-1.000000</td>\n",
       "    </tr>\n",
       "    <tr>\n",
       "      <th>1</th>\n",
       "      <td>-0.99975</td>\n",
       "      <td>-0.296009</td>\n",
       "      <td>-0.297832</td>\n",
       "      <td>-0.048211</td>\n",
       "      <td>-0.062218</td>\n",
       "      <td>-0.096375</td>\n",
       "      <td>0.298121</td>\n",
       "      <td>0.236236</td>\n",
       "      <td>-0.818339</td>\n",
       "      <td>0.054558</td>\n",
       "      <td>...</td>\n",
       "      <td>-0.5</td>\n",
       "      <td>-1.0</td>\n",
       "      <td>-0.009174</td>\n",
       "      <td>-1.000000</td>\n",
       "      <td>-1.000000</td>\n",
       "      <td>0.906403</td>\n",
       "      <td>0.232977</td>\n",
       "      <td>-0.580930</td>\n",
       "      <td>-0.753054</td>\n",
       "      <td>-1.000000</td>\n",
       "    </tr>\n",
       "    <tr>\n",
       "      <th>2</th>\n",
       "      <td>-0.99950</td>\n",
       "      <td>0.246914</td>\n",
       "      <td>0.224292</td>\n",
       "      <td>0.462118</td>\n",
       "      <td>0.419799</td>\n",
       "      <td>0.416672</td>\n",
       "      <td>-0.190430</td>\n",
       "      <td>-0.202021</td>\n",
       "      <td>-0.248698</td>\n",
       "      <td>0.481399</td>\n",
       "      <td>...</td>\n",
       "      <td>-0.5</td>\n",
       "      <td>-1.0</td>\n",
       "      <td>0.045872</td>\n",
       "      <td>-1.000000</td>\n",
       "      <td>-1.000000</td>\n",
       "      <td>0.708948</td>\n",
       "      <td>0.617650</td>\n",
       "      <td>-0.387127</td>\n",
       "      <td>-1.000000</td>\n",
       "      <td>-1.000000</td>\n",
       "    </tr>\n",
       "    <tr>\n",
       "      <th>3</th>\n",
       "      <td>-0.99925</td>\n",
       "      <td>0.077482</td>\n",
       "      <td>0.044914</td>\n",
       "      <td>0.321717</td>\n",
       "      <td>0.288771</td>\n",
       "      <td>0.280594</td>\n",
       "      <td>0.010702</td>\n",
       "      <td>-0.012467</td>\n",
       "      <td>-0.337247</td>\n",
       "      <td>0.437974</td>\n",
       "      <td>...</td>\n",
       "      <td>-0.5</td>\n",
       "      <td>-1.0</td>\n",
       "      <td>0.173346</td>\n",
       "      <td>-1.000000</td>\n",
       "      <td>-1.000000</td>\n",
       "      <td>0.587540</td>\n",
       "      <td>0.410140</td>\n",
       "      <td>-0.283539</td>\n",
       "      <td>-0.814009</td>\n",
       "      <td>-1.000000</td>\n",
       "    </tr>\n",
       "    <tr>\n",
       "      <th>4</th>\n",
       "      <td>-0.99900</td>\n",
       "      <td>-0.563853</td>\n",
       "      <td>-0.451082</td>\n",
       "      <td>-0.454447</td>\n",
       "      <td>-0.415300</td>\n",
       "      <td>-0.467848</td>\n",
       "      <td>0.590004</td>\n",
       "      <td>0.540307</td>\n",
       "      <td>-0.029802</td>\n",
       "      <td>-0.190107</td>\n",
       "      <td>...</td>\n",
       "      <td>-0.5</td>\n",
       "      <td>-1.0</td>\n",
       "      <td>-0.234362</td>\n",
       "      <td>-0.368639</td>\n",
       "      <td>0.015732</td>\n",
       "      <td>-0.015586</td>\n",
       "      <td>-0.042109</td>\n",
       "      <td>-0.460807</td>\n",
       "      <td>-0.194774</td>\n",
       "      <td>-1.000000</td>\n",
       "    </tr>\n",
       "    <tr>\n",
       "      <th>...</th>\n",
       "      <td>...</td>\n",
       "      <td>...</td>\n",
       "      <td>...</td>\n",
       "      <td>...</td>\n",
       "      <td>...</td>\n",
       "      <td>...</td>\n",
       "      <td>...</td>\n",
       "      <td>...</td>\n",
       "      <td>...</td>\n",
       "      <td>...</td>\n",
       "      <td>...</td>\n",
       "      <td>...</td>\n",
       "      <td>...</td>\n",
       "      <td>...</td>\n",
       "      <td>...</td>\n",
       "      <td>...</td>\n",
       "      <td>...</td>\n",
       "      <td>...</td>\n",
       "      <td>...</td>\n",
       "      <td>...</td>\n",
       "      <td>...</td>\n",
       "    </tr>\n",
       "    <tr>\n",
       "      <th>7995</th>\n",
       "      <td>0.99900</td>\n",
       "      <td>-0.346334</td>\n",
       "      <td>-0.291621</td>\n",
       "      <td>-0.164071</td>\n",
       "      <td>-0.244333</td>\n",
       "      <td>-0.139386</td>\n",
       "      <td>0.167825</td>\n",
       "      <td>0.094548</td>\n",
       "      <td>0.900114</td>\n",
       "      <td>-0.468058</td>\n",
       "      <td>...</td>\n",
       "      <td>-0.5</td>\n",
       "      <td>-1.0</td>\n",
       "      <td>-0.256881</td>\n",
       "      <td>0.110087</td>\n",
       "      <td>0.631559</td>\n",
       "      <td>-0.411206</td>\n",
       "      <td>0.020975</td>\n",
       "      <td>-0.207683</td>\n",
       "      <td>0.288059</td>\n",
       "      <td>-1.000000</td>\n",
       "    </tr>\n",
       "    <tr>\n",
       "      <th>7996</th>\n",
       "      <td>0.99925</td>\n",
       "      <td>-0.422228</td>\n",
       "      <td>-0.347084</td>\n",
       "      <td>-0.239328</td>\n",
       "      <td>-0.309133</td>\n",
       "      <td>-0.215300</td>\n",
       "      <td>0.261171</td>\n",
       "      <td>0.187260</td>\n",
       "      <td>0.798861</td>\n",
       "      <td>-0.377276</td>\n",
       "      <td>...</td>\n",
       "      <td>-0.5</td>\n",
       "      <td>-1.0</td>\n",
       "      <td>-0.294412</td>\n",
       "      <td>0.106351</td>\n",
       "      <td>0.514444</td>\n",
       "      <td>-0.270064</td>\n",
       "      <td>0.208313</td>\n",
       "      <td>-0.176539</td>\n",
       "      <td>0.145550</td>\n",
       "      <td>-1.000000</td>\n",
       "    </tr>\n",
       "    <tr>\n",
       "      <th>7997</th>\n",
       "      <td>0.99950</td>\n",
       "      <td>-0.620089</td>\n",
       "      <td>-0.523298</td>\n",
       "      <td>-0.487674</td>\n",
       "      <td>-0.495633</td>\n",
       "      <td>-0.465288</td>\n",
       "      <td>0.519848</td>\n",
       "      <td>0.448797</td>\n",
       "      <td>0.525072</td>\n",
       "      <td>-0.279930</td>\n",
       "      <td>...</td>\n",
       "      <td>-0.5</td>\n",
       "      <td>-1.0</td>\n",
       "      <td>-0.294412</td>\n",
       "      <td>0.224857</td>\n",
       "      <td>0.368261</td>\n",
       "      <td>-0.225151</td>\n",
       "      <td>0.172017</td>\n",
       "      <td>-0.176539</td>\n",
       "      <td>0.145550</td>\n",
       "      <td>-0.333333</td>\n",
       "    </tr>\n",
       "    <tr>\n",
       "      <th>7998</th>\n",
       "      <td>0.99975</td>\n",
       "      <td>-0.708493</td>\n",
       "      <td>-0.501028</td>\n",
       "      <td>-0.642080</td>\n",
       "      <td>-0.655456</td>\n",
       "      <td>-0.613518</td>\n",
       "      <td>0.537129</td>\n",
       "      <td>0.468147</td>\n",
       "      <td>0.898086</td>\n",
       "      <td>-0.423522</td>\n",
       "      <td>...</td>\n",
       "      <td>-0.5</td>\n",
       "      <td>-1.0</td>\n",
       "      <td>-0.457405</td>\n",
       "      <td>0.770275</td>\n",
       "      <td>0.938094</td>\n",
       "      <td>-0.727992</td>\n",
       "      <td>0.044843</td>\n",
       "      <td>-0.195957</td>\n",
       "      <td>0.644368</td>\n",
       "      <td>-1.000000</td>\n",
       "    </tr>\n",
       "    <tr>\n",
       "      <th>7999</th>\n",
       "      <td>1.00000</td>\n",
       "      <td>-0.542864</td>\n",
       "      <td>-0.392993</td>\n",
       "      <td>-0.442680</td>\n",
       "      <td>-0.467078</td>\n",
       "      <td>-0.399720</td>\n",
       "      <td>0.406588</td>\n",
       "      <td>0.325715</td>\n",
       "      <td>0.932756</td>\n",
       "      <td>-0.360677</td>\n",
       "      <td>...</td>\n",
       "      <td>-0.5</td>\n",
       "      <td>-1.0</td>\n",
       "      <td>-0.377558</td>\n",
       "      <td>0.629706</td>\n",
       "      <td>0.893711</td>\n",
       "      <td>-0.585983</td>\n",
       "      <td>-0.013235</td>\n",
       "      <td>-0.026935</td>\n",
       "      <td>0.438452</td>\n",
       "      <td>-1.000000</td>\n",
       "    </tr>\n",
       "  </tbody>\n",
       "</table>\n",
       "<p>8000 rows × 46 columns</p>\n",
       "</div>"
      ],
      "text/plain": [
       "      Unnamed: 0    AATS0s    AATS2s  AATSC0are   AATSC0s  AATSC0se  \\\n",
       "0       -1.00000 -0.232323 -0.252278   0.023694 -0.020400 -0.042373   \n",
       "1       -0.99975 -0.296009 -0.297832  -0.048211 -0.062218 -0.096375   \n",
       "2       -0.99950  0.246914  0.224292   0.462118  0.419799  0.416672   \n",
       "3       -0.99925  0.077482  0.044914   0.321717  0.288771  0.280594   \n",
       "4       -0.99900 -0.563853 -0.451082  -0.454447 -0.415300 -0.467848   \n",
       "...          ...       ...       ...        ...       ...       ...   \n",
       "7995     0.99900 -0.346334 -0.291621  -0.164071 -0.244333 -0.139386   \n",
       "7996     0.99925 -0.422228 -0.347084  -0.239328 -0.309133 -0.215300   \n",
       "7997     0.99950 -0.620089 -0.523298  -0.487674 -0.495633 -0.465288   \n",
       "7998     0.99975 -0.708493 -0.501028  -0.642080 -0.655456 -0.613518   \n",
       "7999     1.00000 -0.542864 -0.392993  -0.442680 -0.467078 -0.399720   \n",
       "\n",
       "      AATSC1are  AATSC1pe   AATSC1v   AATSC2s  ...  NsNH2  NsssN  RotRatio  \\\n",
       "0      0.242472  0.224388 -0.775307  0.081151  ...   -0.5   -1.0 -0.174312   \n",
       "1      0.298121  0.236236 -0.818339  0.054558  ...   -0.5   -1.0 -0.009174   \n",
       "2     -0.190430 -0.202021 -0.248698  0.481399  ...   -0.5   -1.0  0.045872   \n",
       "3      0.010702 -0.012467 -0.337247  0.437974  ...   -0.5   -1.0  0.173346   \n",
       "4      0.590004  0.540307 -0.029802 -0.190107  ...   -0.5   -1.0 -0.234362   \n",
       "...         ...       ...       ...       ...  ...    ...    ...       ...   \n",
       "7995   0.167825  0.094548  0.900114 -0.468058  ...   -0.5   -1.0 -0.256881   \n",
       "7996   0.261171  0.187260  0.798861 -0.377276  ...   -0.5   -1.0 -0.294412   \n",
       "7997   0.519848  0.448797  0.525072 -0.279930  ...   -0.5   -1.0 -0.294412   \n",
       "7998   0.537129  0.468147  0.898086 -0.423522  ...   -0.5   -1.0 -0.457405   \n",
       "7999   0.406588  0.325715  0.932756 -0.360677  ...   -0.5   -1.0 -0.377558   \n",
       "\n",
       "         SaasC  ETA_dEpsilon_B  ETA_shape_p  ETA_shape_y     Kier3   SpMAD_A  \\\n",
       "0    -1.000000       -1.000000     0.938632     0.615206 -0.594865 -0.999740   \n",
       "1    -1.000000       -1.000000     0.906403     0.232977 -0.580930 -0.753054   \n",
       "2    -1.000000       -1.000000     0.708948     0.617650 -0.387127 -1.000000   \n",
       "3    -1.000000       -1.000000     0.587540     0.410140 -0.283539 -0.814009   \n",
       "4    -0.368639        0.015732    -0.015586    -0.042109 -0.460807 -0.194774   \n",
       "...        ...             ...          ...          ...       ...       ...   \n",
       "7995  0.110087        0.631559    -0.411206     0.020975 -0.207683  0.288059   \n",
       "7996  0.106351        0.514444    -0.270064     0.208313 -0.176539  0.145550   \n",
       "7997  0.224857        0.368261    -0.225151     0.172017 -0.176539  0.145550   \n",
       "7998  0.770275        0.938094    -0.727992     0.044843 -0.195957  0.644368   \n",
       "7999  0.629706        0.893711    -0.585983    -0.013235 -0.026935  0.438452   \n",
       "\n",
       "      SlogP_VSA4  \n",
       "0      -1.000000  \n",
       "1      -1.000000  \n",
       "2      -1.000000  \n",
       "3      -1.000000  \n",
       "4      -1.000000  \n",
       "...          ...  \n",
       "7995   -1.000000  \n",
       "7996   -1.000000  \n",
       "7997   -0.333333  \n",
       "7998   -1.000000  \n",
       "7999   -1.000000  \n",
       "\n",
       "[8000 rows x 46 columns]"
      ]
     },
     "execution_count": 7,
     "metadata": {},
     "output_type": "execute_result"
    }
   ],
   "source": [
    "modp"
   ]
  },
  {
   "cell_type": "code",
   "execution_count": 8,
   "metadata": {},
   "outputs": [
    {
     "name": "stdout",
     "output_type": "stream",
     "text": [
      "[array([-1.        , -1.        , -0.7644987 , -1.        ,  0.7261411 ,\n",
      "        0.        , -0.7180451 , -1.        , -0.00511765, -1.        ],\n",
      "      dtype=float32)]\n",
      "[[-1.         -0.23232279 -0.25227758  0.02369409 -0.02040045 -0.04237275\n",
      "   0.24247212  0.22438755 -0.77530704  0.08115086 -0.01563126 -0.20447343\n",
      "  -0.40439627  0.47622958  0.44025033  0.58623777 -0.32309104 -0.18142378\n",
      "  -0.16637574 -0.22145864  0.37904286  0.65680896 -0.25917636  0.30954229\n",
      "  -0.82108838  0.0210415  -0.21213343 -0.09262765 -0.42917629 -0.84054685\n",
      "   0.58948184 -0.12050473 -0.07207482 -0.63671511  0.48837209  0.48837209\n",
      "  -0.5        -1.         -0.17431193 -1.         -1.          0.93863167\n",
      "   0.61520551 -0.59486494 -0.99973974 -1.        ]]\n",
      "[1.64890034]\n"
     ]
    }
   ],
   "source": [
    "x_train_jd = [np.array(judp.loc[b'ALA-ALA-ALA'])]                  # initializing the training data with data of polyalanine \n",
    "x_train_md = np.array(modp.iloc[smiles.index[smiles['Peptides']=='ALA-ALA-ALA']])\n",
    "Y_train = np.array(APs.loc['ALA-ALA-ALA'])\n",
    "print(x_train_jd)\n",
    "print(x_train_md)\n",
    "print(Y_train)"
   ]
  },
  {
   "cell_type": "markdown",
   "metadata": {},
   "source": [
    "The next function is a random peptide selector, it generates 10 random numbers between 1 to 8000 and uses these numbers as indices to select peptides from the data and adds it to the training set."
   ]
  },
  {
   "cell_type": "code",
   "execution_count": 9,
   "metadata": {},
   "outputs": [],
   "source": [
    "def randPepSelector(APs, judp, modp, smiles, x_train_jd, x_train_md, Y_train):                           # a is APs, b is judp/modp\n",
    "    for pep in range(10):                                                                                # generates random indecies, looks up those indecies data and adds to the training data\n",
    "        i = random.randrange(1,len(judp))\n",
    "        p = APs.iloc[i]\n",
    "        print(p.name)\n",
    "        Y_train = np.append(Y_train, np.array(p), axis=0)\n",
    "        x_train_jd = np.append(x_train_jd, [np.array(judp.loc[p.name.encode('utf-8')])],axis=0)\n",
    "        x_train_md = np.append(x_train_md, np.array(modp.iloc[smiles.index[smiles['Peptides']==p.name]]), axis=0)\n",
    "    return Y_train,x_train_jd, x_train_md  "
   ]
  },
  {
   "cell_type": "markdown",
   "metadata": {},
   "source": [
    "Next we call the random peptide selector and print the data to have a look at it."
   ]
  },
  {
   "cell_type": "code",
   "execution_count": 10,
   "metadata": {},
   "outputs": [
    {
     "name": "stdout",
     "output_type": "stream",
     "text": [
      "ARG-HSE-ILE\n",
      "TRP-SER-GLN\n",
      "THR-THR-CYS\n",
      "VAL-THR-GLU\n",
      "ALA-THR-SER\n",
      "PHE-MET-ASP\n",
      "SER-TYR-LYS\n",
      "GLU-GLU-VAL\n",
      "GLN-ALA-ARG\n",
      "MET-ASP-MET\n",
      "[[-1.         -1.         -0.7644987  -1.          0.7261411   0.\n",
      "  -0.7180451  -1.         -0.00511765 -1.        ]\n",
      " [-0.6        -0.3333333   0.31671572 -1.          0.9640387   0.33333334\n",
      "   0.43984962 -0.875       0.60368466 -1.        ]\n",
      " [-0.09999996 -0.6666666   0.2883482  -1.          0.92254496  0.\n",
      "   0.3270676  -0.4375      0.44892538 -0.3333333 ]\n",
      " [-1.         -1.         -0.24918163 -0.3333333   0.87828493  0.\n",
      "  -0.2518797  -1.          0.42476976  0.33333337]\n",
      " [-0.9        -1.         -0.11489713 -1.          0.670816   -0.33333334\n",
      "  -0.0338347  -0.96428573  0.66673493 -0.3333333 ]\n",
      " [-1.         -1.         -0.50706387 -1.          0.7869986   0.\n",
      "  -0.45864666 -1.          0.08659172  0.33333337]\n",
      " [-0.3        -1.          0.24381042 -0.3333333   0.61549103 -0.33333334\n",
      "   0.29699254 -0.65        0.5365405  -1.        ]\n",
      " [-0.39999998 -0.6666666   0.15965891 -1.          0.34439832  0.33333334\n",
      "   0.2857144  -0.75        0.35148418  0.33333337]\n",
      " [-0.8        -1.          0.0418241  -1.          0.2558782  -0.6666667\n",
      "   0.15789485 -0.9285714   0.57666326 -1.        ]\n",
      " [-0.8         0.          0.0308578  -1.          0.57952976  0.33333334\n",
      "   0.18796992 -0.9166667   0.229478   -1.        ]\n",
      " [-0.9        -1.          0.1543994   0.33333337  0.5767635  -0.33333334\n",
      "   0.23684216 -0.96428573  0.39119756 -1.        ]]\n",
      "[[-1.00000000e+00 -2.32322793e-01 -2.52277584e-01  2.36940870e-02\n",
      "  -2.04004465e-02 -4.23727499e-02  2.42472117e-01  2.24387550e-01\n",
      "  -7.75307038e-01  8.11508581e-02 -1.56312595e-02 -2.04473427e-01\n",
      "  -4.04396266e-01  4.76229577e-01  4.40250325e-01  5.86237774e-01\n",
      "  -3.23091039e-01 -1.81423781e-01 -1.66375744e-01 -2.21458639e-01\n",
      "   3.79042856e-01  6.56808960e-01 -2.59176360e-01  3.09542286e-01\n",
      "  -8.21088379e-01  2.10415030e-02 -2.12133433e-01 -9.26276524e-02\n",
      "  -4.29176287e-01 -8.40546845e-01  5.89481844e-01 -1.20504725e-01\n",
      "  -7.20748178e-02 -6.36715108e-01  4.88372095e-01  4.88372095e-01\n",
      "  -5.00000000e-01 -1.00000000e+00 -1.74311929e-01 -1.00000000e+00\n",
      "  -1.00000000e+00  9.38631671e-01  6.15205506e-01 -5.94864941e-01\n",
      "  -9.99739740e-01 -1.00000000e+00]\n",
      " [ 4.31928991e-01 -7.77498081e-01 -6.09461425e-01 -5.42182318e-01\n",
      "  -6.56095544e-01 -6.51999862e-01  4.20989490e-01  4.05918525e-01\n",
      "  -2.05312381e-01 -1.53763143e-01  1.12616471e-01  4.33746028e-01\n",
      "   5.60975610e-01  1.92806111e-02  2.65870969e-02  1.82459899e-01\n",
      "  -1.22108904e-02 -3.70645039e-02 -3.49787129e-01  2.62720319e-01\n",
      "   3.90413421e-01  1.61705180e-01  2.29788172e-01 -2.42104995e-01\n",
      "  -2.40312304e-01  1.47778026e-01  1.28784841e-01 -2.70263152e-01\n",
      "  -2.43676008e-01  4.56573365e-02  1.58912997e-01  1.98252438e-01\n",
      "  -2.32570622e-01  4.85488343e-01  3.17829458e-01  3.17829458e-01\n",
      "   0.00000000e+00 -1.00000000e+00  2.22018346e-01 -5.76553558e-01\n",
      "  -7.48669509e-01 -7.33690460e-02 -1.80206314e-01 -1.32139539e-02\n",
      "  -2.91470248e-02  2.76035765e-01]\n",
      " [ 8.78484811e-01 -3.62355424e-01 -3.23435294e-01 -2.04859869e-01\n",
      "  -2.37696328e-01 -2.35563867e-01  1.79671864e-01  1.37108215e-01\n",
      "   7.95251090e-01 -3.29599465e-01 -1.90139734e-02 -3.37380363e-01\n",
      "   6.24450467e-01 -1.98817460e-01 -2.36132542e-01 -1.64404572e-02\n",
      "  -4.51300665e-01 -3.62310449e-01 -1.43467845e-01 -2.63851603e-02\n",
      "  -2.89860100e-01 -2.41321444e-01 -6.69403050e-02  5.72014402e-02\n",
      "   7.42672815e-01  3.34990622e-01  4.95275767e-02 -6.73490395e-01\n",
      "  -2.76781174e-01  5.70460066e-01 -9.99978103e-01  4.72811910e-01\n",
      "   1.53437308e-02  7.28838235e-01 -4.27172582e-01 -4.27172582e-01\n",
      "   0.00000000e+00 -1.00000000e+00 -8.90796087e-02 -3.51576051e-01\n",
      "   1.72268913e-01 -3.46842202e-01  1.40046742e-01 -3.69487528e-01\n",
      "   2.38037682e-01 -1.00000000e+00]\n",
      " [ 6.80460058e-01 -1.66764126e-01 -2.63690176e-01  1.94712250e-01\n",
      "   6.57205049e-02  1.59354865e-01 -4.78821443e-02 -1.17790184e-01\n",
      "  -2.71385892e-01 -3.16025859e-01 -1.69225302e-01 -5.25734659e-01\n",
      "   4.23939688e-01 -4.17322598e-02 -1.16690779e-01 -6.69588905e-02\n",
      "   4.99389222e-01 -7.26139436e-01 -4.90196727e-01  2.00194819e-01\n",
      "  -2.77822371e-01  6.70369107e-01  3.70750081e-01  5.10205923e-01\n",
      "  -3.14388232e-01 -2.12889629e-01  1.60535629e-01 -2.46853607e-02\n",
      "  -1.38469147e-01 -4.67311553e-01  4.44577626e-01  3.25488626e-01\n",
      "   3.98590880e-01  8.98988912e-02  6.74418605e-01  6.74418605e-01\n",
      "  -5.00000000e-01 -1.00000000e+00  8.99082561e-02 -1.00000000e+00\n",
      "  -1.00000000e+00  8.58847790e-01  5.56329853e-01 -4.89084363e-01\n",
      "  -6.54691728e-01 -1.00000000e+00]\n",
      " [ 7.80972622e-01 -1.39428210e-01 -2.27358900e-01  1.68325073e-01\n",
      "   1.04909021e-01  1.42329121e-01  1.54371812e-01  1.10728581e-01\n",
      "  -2.55573802e-01  1.53231517e-01  1.39556770e-01 -6.62833445e-01\n",
      "   5.88316772e-01 -2.09399390e-02 -6.53110515e-02  6.50637945e-02\n",
      "  -1.62023601e-01 -6.05992186e-01 -6.57864668e-01 -1.17031581e-01\n",
      "  -8.62491511e-02  7.15211990e-01 -5.46391789e-02 -1.78512090e-01\n",
      "  -2.82407333e-01  3.18286612e-02 -2.62071431e-01 -2.55222350e-01\n",
      "   1.99516383e-01 -3.47885447e-01  2.16600874e-01 -8.42825840e-02\n",
      "  -1.82761722e-01 -1.50662964e-01  6.34551495e-01  6.34551495e-01\n",
      "  -5.00000000e-01 -1.00000000e+00  2.27762266e-01 -1.00000000e+00\n",
      "  -1.00000000e+00  6.44062916e-01  6.20914746e-01 -2.17198540e-01\n",
      "  -7.17918182e-01 -3.33333333e-01]\n",
      " [-9.16239530e-01  2.39561388e-02 -1.23155135e-01  3.94992544e-01\n",
      "   2.20385689e-01  3.41413777e-01 -3.07873074e-01 -3.28766728e-01\n",
      "  -1.41634494e-01 -4.20033390e-01  1.70511312e-01 -4.18366881e-01\n",
      "   3.25745257e-01 -1.55484574e-01 -1.84301927e-01 -8.53051397e-02\n",
      "   1.90044296e-01 -5.25897807e-01 -1.28633545e-01  2.97984368e-01\n",
      "  -2.52533754e-01  6.31496809e-01  4.13738688e-01  5.14965797e-01\n",
      "  -1.41425398e-01 -1.39852341e-01  3.35258303e-02 -4.25873377e-01\n",
      "  -3.20540918e-01 -6.20472415e-01  4.54357199e-01  2.30183486e-01\n",
      "   4.09381512e-02 -1.26972021e-01  5.90697675e-01  5.90697675e-01\n",
      "  -5.00000000e-01 -1.00000000e+00  4.58715593e-02 -1.00000000e+00\n",
      "  -1.00000000e+00  7.08947994e-01  6.17650112e-01 -5.37951415e-01\n",
      "  -7.26770629e-01 -1.00000000e+00]\n",
      " [-5.49443680e-01 -4.08553392e-01 -3.63355289e-01 -2.66661159e-01\n",
      "  -2.00025183e-01 -2.51337404e-01  5.00797760e-01  4.37653993e-01\n",
      "   3.10671720e-01  1.45517440e-01  3.37081020e-01 -7.95440674e-01\n",
      "   3.79169594e-01  3.05054375e-01  2.35850062e-01  4.02526515e-01\n",
      "  -3.55213940e-01  3.09292889e-01  6.01481129e-01 -4.41377764e-01\n",
      "  -3.26013501e-01  1.95128792e-01 -4.40232109e-01 -1.34963750e-01\n",
      "   2.04506901e-01 -5.40797396e-01 -3.91239331e-01 -2.11809873e-01\n",
      "  -5.96366683e-01 -2.08983799e-03 -8.32610123e-01  2.08441477e-01\n",
      "   1.28758897e-01  3.44891788e-01 -1.93798451e-01 -1.93798451e-01\n",
      "  -5.00000000e-01 -1.00000000e+00  2.03145479e-01 -3.13272044e-01\n",
      "  -9.56023486e-02 -2.69915052e-01 -3.96823414e-01 -6.05455755e-02\n",
      "  -1.00812716e-01 -1.00000000e+00]\n",
      " [ 5.97199650e-01 -5.02061867e-01 -5.14018496e-01 -2.50841883e-01\n",
      "  -3.28698572e-01 -2.75294366e-01  2.19294406e-01  1.59331809e-01\n",
      "   5.27546848e-01 -4.41672266e-01  5.27550527e-01 -5.46886495e-01\n",
      "   5.09906655e-01 -1.43308973e-01 -2.05184131e-01  2.28133515e-02\n",
      "   6.92632671e-02 -3.42778892e-01 -2.58601447e-01  2.16887547e-01\n",
      "  -4.71162049e-01  1.48434935e-01  2.28088299e-01  4.94112876e-02\n",
      "   4.69816018e-01 -1.45312723e-02  2.96817489e-01 -5.03149919e-01\n",
      "  -5.96366683e-01  1.14008336e-01 -8.36295707e-01  2.32494218e-01\n",
      "  -2.45410433e-01  4.12416238e-01 -2.32558137e-02 -2.32558137e-02\n",
      "   0.00000000e+00 -1.00000000e+00  2.03145479e-01 -4.64143835e-01\n",
      "  -1.79179241e-01 -2.71362867e-01 -3.07535844e-01 -1.25410792e-01\n",
      "   6.66743741e-02 -1.00000000e+00]\n",
      " [-6.80710089e-01  4.56145250e-02 -1.79726414e-02  2.98472532e-01\n",
      "   2.88844122e-01  2.81431857e-01  1.26017408e-01  8.42775026e-02\n",
      "  -1.82874877e-01  5.74063966e-01  3.25657090e-01 -7.33763193e-01\n",
      "   4.95332731e-01 -1.09736823e-01 -1.50089397e-01 -3.03583233e-02\n",
      "  -6.46389378e-01 -3.73852629e-01 -7.86766428e-01 -2.76164688e-01\n",
      "  -9.50586876e-04  7.48042406e-01 -2.09680531e-01 -5.93628955e-01\n",
      "  -2.06211173e-01 -1.82947298e-01 -2.37546170e-01 -4.21661104e-01\n",
      "  -8.85871151e-02 -3.29590991e-01  2.19574513e-01 -2.08665463e-01\n",
      "  -9.00342423e-02 -2.25269527e-01  4.88372095e-01  4.88372095e-01\n",
      "  -5.00000000e-01 -1.00000000e+00  4.06972476e-01 -1.00000000e+00\n",
      "  -1.00000000e+00  4.19239838e-01  3.55962684e-01  5.38640990e-02\n",
      "  -6.39498806e-01 -3.33333333e-01]\n",
      " [ 3.03662958e-01 -3.51232614e-01 -2.75251374e-01 -1.55089405e-01\n",
      "  -1.82466935e-01 -2.72397738e-01  5.86711564e-03 -8.95804453e-03\n",
      "   8.06154178e-02  1.69101047e-01  2.61955753e-01  3.76833764e-01\n",
      "   2.86239085e-01 -3.20785200e-01 -3.23859402e-01 -1.13854357e-01\n",
      "  -2.89133085e-01 -1.99216996e-01 -3.26207313e-01  2.89897314e-01\n",
      "   7.03046734e-01  6.82359507e-01  2.00442728e-01 -6.12050207e-01\n",
      "   8.51618049e-02 -4.75040706e-01  4.78961975e-02 -4.29069467e-01\n",
      "  -5.41534473e-01 -4.08506723e-01  3.97736097e-01 -1.65909864e-02\n",
      "   1.57381145e-02  2.97522055e-02  4.15282393e-01  4.15282393e-01\n",
      "   5.00000000e-01 -1.00000000e+00  4.06972476e-01 -1.00000000e+00\n",
      "  -1.00000000e+00  2.70047763e-01 -4.21089607e-02  2.42139813e-01\n",
      "  -5.62597294e-01 -3.90630902e-01]\n",
      " [ 1.26265783e-02 -3.80749488e-01 -4.71523792e-01 -1.31809985e-01\n",
      "  -7.36154808e-02 -1.32151137e-01  4.45435810e-01  3.84032796e-01\n",
      "   6.81407148e-02  3.88240262e-01  4.84492554e-01 -6.96118098e-01\n",
      "   2.31690589e-01  3.09185759e-01  2.41770812e-01  3.38164830e-01\n",
      "  -2.02546034e-01  1.90819318e-01  6.67056990e-02 -3.57415975e-01\n",
      "  -1.32050910e-01  3.78541826e-01 -3.14221554e-01 -7.46745782e-02\n",
      "  -2.89992544e-02 -8.91593742e-01 -3.30159284e-01  3.33333330e-01\n",
      "  -5.96366683e-01 -3.57362046e-01  4.81074920e-01 -1.62507715e-01\n",
      "   4.10169434e-01 -2.15235328e-01  6.34551495e-01  6.34551495e-01\n",
      "  -5.00000000e-01 -1.00000000e+00  6.51376147e-01 -1.00000000e+00\n",
      "  -1.00000000e+00  5.62089628e-02 -4.98009892e-01  3.90219866e-02\n",
      "  -3.93426392e-01 -1.00000000e+00]]\n",
      "[1.64890034 1.68861876 1.88495352 2.11295116 1.17034187 1.97959533\n",
      " 1.71624527 1.8379403  1.40799109 1.00167627 1.88383444]\n"
     ]
    }
   ],
   "source": [
    "Y_train,x_train_jd,x_train_md = randPepSelector(APs,judp,modp,smiles,x_train_jd,x_train_md,Y_train)                 # first we take a set of random peptides(10)\n",
    "print(x_train_jd)\n",
    "print(x_train_md)\n",
    "print(Y_train)"
   ]
  },
  {
   "cell_type": "code",
   "execution_count": 11,
   "metadata": {},
   "outputs": [],
   "source": [
    "def loc(s,Y_pred):                      #takes the APs of top peptides and returns their location in judred parameters so we can look up their names by their location\n",
    "    y = []\n",
    "    for i in range(len(s)):\n",
    "        for j in range(len(Y_pred)):\n",
    "            if s[i] == Y_pred[j]:\n",
    "                if j not in y:\n",
    "                    y.append(j)\n",
    "    return y"
   ]
  },
  {
   "cell_type": "markdown",
   "metadata": {},
   "source": [
    "The next function, takes in training data(judred parameters and AP scores) and trains a SVM. The hyperparameters for this model are given in the supporting information of the paper. Then it predicts the AP score for all peptides using the judred data. We then return the names of the top 1207 peptides which are predicted. The number 1207 comes from the formula given in the paper.   "
   ]
  },
  {
   "cell_type": "code",
   "execution_count": 12,
   "metadata": {},
   "outputs": [],
   "source": [
    "# Block-1\n",
    "\n",
    "def topN(n,judp,x_train_jd,Y_train,y_nam):                                                            #takes the judred parameters and the training data \n",
    "    imputer = SimpleImputer(strategy='constant')                                                    #imputer removes NaN values from the data set\n",
    "    x_train_jd = imputer.fit_transform(x_train_jd)\n",
    "    svr = SVR(kernel='rbf',gamma='scale',C=100,epsilon=0.1,max_iter=-1,tol=0.0001,verbose=0)    #trains a svm(rbf)\n",
    "    svr.fit(x_train_jd,Y_train)\n",
    "    judp.drop(y_nam,axis=0,inplace=True)\n",
    "    x_test = []\n",
    "    for i in range(len(judp)):\n",
    "        #if True in np.isnan(np.array(judp.iloc[i])):\n",
    "            #print(i)    \n",
    "        x_test.append(np.array(judp.iloc[i]))\n",
    "    imputer = SimpleImputer(strategy='mean')                                                    #imputer removes NaN values from the data set\n",
    "    x_imputed = imputer.fit_transform(x_test)\n",
    "    Y_pred = svr.predict(x_imputed)                                                             #predicts AP scores for all peptides\n",
    "    s = sorted(Y_pred)\n",
    "    s = s[len(judp)-n:]\n",
    "    y_loc = loc(s,Y_pred)\n",
    "    y_nam = ['']*len(y_loc)\n",
    "    for i in range(len(y_loc)):\n",
    "        y_nam[i] = judp.iloc[y_loc[i]].name\n",
    "    return y_nam   "
   ]
  },
  {
   "cell_type": "markdown",
   "metadata": {},
   "source": [
    "This function takes the names of the predicted peptides, looks the data up using the name and adds it the training data."
   ]
  },
  {
   "cell_type": "code",
   "execution_count": 13,
   "metadata": {},
   "outputs": [],
   "source": [
    "# Block-2\n",
    "\n",
    "def addToTrain(y_nam,APs,judp,modp,x_train_jd,x_train_md,Y_train):                                              #takes the predicted peptide in previous iteration and adds them to training data\n",
    "    for i in y_nam:\n",
    "        if np.array(APs.loc[i.decode(encoding='utf-8')]) not in Y_train:\n",
    "            x_train_jd = np.append(x_train_jd, [np.array(judp.loc[i])], axis=0)\n",
    "            x_train_md = np.append(x_train_md, np.array(modp.iloc[smiles.index[smiles['Peptides']==i.decode(encoding='utf-8')]]), axis=0)\n",
    "            Y_train = np.append(Y_train, np.array(APs.loc[i.decode(encoding='utf-8')]), axis=0)\n",
    "    return x_train_jd,x_train_md,Y_train"
   ]
  },
  {
   "cell_type": "markdown",
   "metadata": {},
   "source": [
    "This function trains a svm on the mordred data of the peptides in training dataset and gives the names of the predicted peptides."
   ]
  },
  {
   "cell_type": "code",
   "execution_count": 14,
   "metadata": {},
   "outputs": [],
   "source": [
    "# Block-3\n",
    "\n",
    "def topn(n,smiles, modp, y_nam_jd, x_train_md, Y_train):\n",
    "    svr = SVR(kernel='rbf',gamma='scale',C=30,epsilon=0.1,max_iter=-1,tol=0.0001,verbose=0)    #trains a svm(rbf)\n",
    "    svr.fit(x_train_md,Y_train)\n",
    "    x = np.empty_like([np.array(modp.iloc[1])])\n",
    "    for i in y_nam_jd:\n",
    "        x = np.append(x, np.array(modp.iloc[smiles.index[smiles['Peptides']==i.decode(encoding='utf-8')]]), axis=0)\n",
    "    x = np.delete(x,0,0)\n",
    "    Y_pred = svr.predict(x)                                                                     #predicts AP scores for all peptides\n",
    "    pred = pd.DataFrame(data=Y_pred, index=y_nam_jd, columns=['prediction'])\n",
    "    y_nam = np.array(pred['prediction'].nlargest(n=n).index)\n",
    "    return y_nam, pred\n"
   ]
  },
  {
   "cell_type": "markdown",
   "metadata": {},
   "source": [
    "This function identifies if a peptide present in 'sap' the list of self assembling peptides."
   ]
  },
  {
   "cell_type": "code",
   "execution_count": 15,
   "metadata": {},
   "outputs": [],
   "source": [
    "def pepidentifier(y_nam,sap,a,q):\n",
    "    for j in y_nam:\n",
    "        b = j.decode(encoding='utf-8')\n",
    "        for i in sap:            \n",
    "            if b == i:\n",
    "                print(b+' which is a self assembling peptide is predicted in the ' + str(q)+'th iteration')\n",
    "                a.append(b)\n",
    "    return a"
   ]
  },
  {
   "cell_type": "markdown",
   "metadata": {},
   "source": [
    "Next we run the active learning algorithm, using the functions defined above. In step 1, block 1 is called. In step 2, block 3 is called. In step 3, block 2 is called."
   ]
  },
  {
   "cell_type": "code",
   "execution_count": 16,
   "metadata": {},
   "outputs": [
    {
     "name": "stdout",
     "output_type": "stream",
     "text": [
      "[b'THR-CYS-SER' b'SER-CYS-THR' b'SER-CYS-CYS' b'THR-SER-CYS'\n",
      " b'SER-THR-CYS' b'SER-CYS-SER' b'THR-CYS-CYS' b'SER-SER-CYS'\n",
      " b'CYS-SER-THR' b'CYS-CYS-SER']\n"
     ]
    },
    {
     "name": "stderr",
     "output_type": "stream",
     "text": [
      "/var/folders/q9/dz7bsnq15t5crnph1_rcrhjr0000gn/T/ipykernel_1530/246796016.py:34: DeprecationWarning: Conversion of an array with ndim > 0 to a scalar is deprecated, and will error in future. Ensure you extract a single element from your array before performing this operation. (Deprecated NumPy 1.25.)\n",
      "  x = math.sqrt(sum(p)/10)\n"
     ]
    },
    {
     "name": "stdout",
     "output_type": "stream",
     "text": [
      "[b'CYS-SER-CYS' b'CYS-CYS-THR' b'CYS-THR-CYS' b'CYS-THR-SER'\n",
      " b'CYS-SER-SER' b'GLY-CYS-THR' b'PRO-CYS-SER' b'GLY-CYS-SER'\n",
      " b'GLY-SER-CYS' b'PRO-SER-CYS']\n"
     ]
    },
    {
     "name": "stderr",
     "output_type": "stream",
     "text": [
      "/var/folders/q9/dz7bsnq15t5crnph1_rcrhjr0000gn/T/ipykernel_1530/246796016.py:34: DeprecationWarning: Conversion of an array with ndim > 0 to a scalar is deprecated, and will error in future. Ensure you extract a single element from your array before performing this operation. (Deprecated NumPy 1.25.)\n",
      "  x = math.sqrt(sum(p)/10)\n"
     ]
    },
    {
     "name": "stdout",
     "output_type": "stream",
     "text": [
      "[b'CYS-MET-SER' b'CYS-THR-THR' b'CYS-PRO-SER' b'CYS-PRO-THR'\n",
      " b'CYS-ALA-SER' b'CYS-GLY-THR' b'CYS-SER-MET' b'CYS-SER-PRO'\n",
      " b'CYS-THR-PRO' b'CYS-ALA-THR']\n"
     ]
    },
    {
     "name": "stderr",
     "output_type": "stream",
     "text": [
      "/var/folders/q9/dz7bsnq15t5crnph1_rcrhjr0000gn/T/ipykernel_1530/246796016.py:34: DeprecationWarning: Conversion of an array with ndim > 0 to a scalar is deprecated, and will error in future. Ensure you extract a single element from your array before performing this operation. (Deprecated NumPy 1.25.)\n",
      "  x = math.sqrt(sum(p)/10)\n"
     ]
    },
    {
     "name": "stdout",
     "output_type": "stream",
     "text": [
      "[b'CYS-CYS-CYS' b'CYS-CYS-PRO' b'CYS-PRO-CYS' b'SER-SER-SER'\n",
      " b'GLY-SER-SER' b'SER-SER-THR' b'SER-THR-SER' b'THR-SER-SER'\n",
      " b'SER-PRO-SER' b'THR-CYS-THR']\n"
     ]
    },
    {
     "name": "stderr",
     "output_type": "stream",
     "text": [
      "/var/folders/q9/dz7bsnq15t5crnph1_rcrhjr0000gn/T/ipykernel_1530/246796016.py:34: DeprecationWarning: Conversion of an array with ndim > 0 to a scalar is deprecated, and will error in future. Ensure you extract a single element from your array before performing this operation. (Deprecated NumPy 1.25.)\n",
      "  x = math.sqrt(sum(p)/10)\n"
     ]
    },
    {
     "name": "stdout",
     "output_type": "stream",
     "text": [
      "[b'GLY-CYS-CYS' b'CYS-MET-CYS' b'CYS-ALA-PRO' b'GLY-CYS-PRO'\n",
      " b'CYS-LYS-CYS' b'GLY-PRO-CYS' b'ALA-PRO-THR' b'CYS-CYS-LYS'\n",
      " b'CYS-GLY-PRO' b'SER-SER-PRO']\n"
     ]
    },
    {
     "name": "stderr",
     "output_type": "stream",
     "text": [
      "/var/folders/q9/dz7bsnq15t5crnph1_rcrhjr0000gn/T/ipykernel_1530/246796016.py:34: DeprecationWarning: Conversion of an array with ndim > 0 to a scalar is deprecated, and will error in future. Ensure you extract a single element from your array before performing this operation. (Deprecated NumPy 1.25.)\n",
      "  x = math.sqrt(sum(p)/10)\n"
     ]
    },
    {
     "name": "stdout",
     "output_type": "stream",
     "text": [
      "[b'ALA-PRO-CYS' b'ALA-PRO-SER' b'CYS-PRO-ALA' b'ALA-CYS-PRO'\n",
      " b'CYS-TYR-PRO' b'CYS-TRP-THR' b'CYS-PRO-TYR' b'ALA-THR-THR'\n",
      " b'GLY-PRO-PRO' b'CYS-TRP-SER']\n"
     ]
    },
    {
     "name": "stderr",
     "output_type": "stream",
     "text": [
      "/var/folders/q9/dz7bsnq15t5crnph1_rcrhjr0000gn/T/ipykernel_1530/246796016.py:34: DeprecationWarning: Conversion of an array with ndim > 0 to a scalar is deprecated, and will error in future. Ensure you extract a single element from your array before performing this operation. (Deprecated NumPy 1.25.)\n",
      "  x = math.sqrt(sum(p)/10)\n"
     ]
    },
    {
     "name": "stdout",
     "output_type": "stream",
     "text": [
      "[b'CYS-PRO-GLY' b'GLU-PRO-PRO' b'ALA-ALA-PRO' b'ALA-CYS-VAL'\n",
      " b'SER-TRP-SER' b'THR-THR-SER' b'THR-THR-THR' b'CYS-SER-TRP'\n",
      " b'SER-THR-THR' b'TRP-SER-SER']\n"
     ]
    },
    {
     "name": "stderr",
     "output_type": "stream",
     "text": [
      "/var/folders/q9/dz7bsnq15t5crnph1_rcrhjr0000gn/T/ipykernel_1530/246796016.py:34: DeprecationWarning: Conversion of an array with ndim > 0 to a scalar is deprecated, and will error in future. Ensure you extract a single element from your array before performing this operation. (Deprecated NumPy 1.25.)\n",
      "  x = math.sqrt(sum(p)/10)\n"
     ]
    },
    {
     "name": "stdout",
     "output_type": "stream",
     "text": [
      "[b'CYS-THR-TRP' b'THR-SER-THR' b'THR-TRP-SER' b'SER-TRP-THR'\n",
      " b'PHE-SER-SER' b'ALA-TRP-THR' b'GLY-TRP-SER' b'HSE-TRP-SER'\n",
      " b'GLY-TRP-THR' b'ALA-TRP-SER']\n"
     ]
    },
    {
     "name": "stderr",
     "output_type": "stream",
     "text": [
      "/var/folders/q9/dz7bsnq15t5crnph1_rcrhjr0000gn/T/ipykernel_1530/246796016.py:34: DeprecationWarning: Conversion of an array with ndim > 0 to a scalar is deprecated, and will error in future. Ensure you extract a single element from your array before performing this operation. (Deprecated NumPy 1.25.)\n",
      "  x = math.sqrt(sum(p)/10)\n"
     ]
    },
    {
     "name": "stdout",
     "output_type": "stream",
     "text": [
      "[b'GLY-TRP-PRO' b'GLY-PRO-TRP' b'HSE-SER-TRP' b'GLY-SER-TRP'\n",
      " b'ALA-SER-TRP' b'ALA-THR-TRP' b'SER-SER-TRP' b'GLY-THR-TRP'\n",
      " b'THR-SER-TRP' b'TRP-SER-THR']\n"
     ]
    },
    {
     "name": "stderr",
     "output_type": "stream",
     "text": [
      "/var/folders/q9/dz7bsnq15t5crnph1_rcrhjr0000gn/T/ipykernel_1530/246796016.py:34: DeprecationWarning: Conversion of an array with ndim > 0 to a scalar is deprecated, and will error in future. Ensure you extract a single element from your array before performing this operation. (Deprecated NumPy 1.25.)\n",
      "  x = math.sqrt(sum(p)/10)\n"
     ]
    },
    {
     "name": "stdout",
     "output_type": "stream",
     "text": [
      "[b'SER-THR-TRP' b'CYS-TRP-CYS' b'CYS-CYS-TRP' b'CYS-ALA-TRP'\n",
      " b'TRP-THR-SER' b'ALA-HSE-TRP' b'GLY-TRP-TRP' b'ALA-TRP-CYS'\n",
      " b'ALA-CYS-TRP' b'CYS-TRP-ALA']\n"
     ]
    },
    {
     "name": "stderr",
     "output_type": "stream",
     "text": [
      "/var/folders/q9/dz7bsnq15t5crnph1_rcrhjr0000gn/T/ipykernel_1530/246796016.py:34: DeprecationWarning: Conversion of an array with ndim > 0 to a scalar is deprecated, and will error in future. Ensure you extract a single element from your array before performing this operation. (Deprecated NumPy 1.25.)\n",
      "  x = math.sqrt(sum(p)/10)\n"
     ]
    },
    {
     "name": "stdout",
     "output_type": "stream",
     "text": [
      "[b'CYS-GLY-TRP' b'CYS-TRP-GLY' b'GLY-CYS-TRP' b'GLY-TRP-CYS'\n",
      " b'ALA-TRP-HSE' b'CYS-LYS-TRP' b'CYS-TRP-LYS' b'LYS-TRP-TRP'\n",
      " b'CYS-TYR-TRP' b'CYS-TRP-TYR']\n"
     ]
    },
    {
     "name": "stderr",
     "output_type": "stream",
     "text": [
      "/var/folders/q9/dz7bsnq15t5crnph1_rcrhjr0000gn/T/ipykernel_1530/246796016.py:34: DeprecationWarning: Conversion of an array with ndim > 0 to a scalar is deprecated, and will error in future. Ensure you extract a single element from your array before performing this operation. (Deprecated NumPy 1.25.)\n",
      "  x = math.sqrt(sum(p)/10)\n"
     ]
    },
    {
     "name": "stdout",
     "output_type": "stream",
     "text": [
      "[b'ASP-TRP-THR' b'CYS-TYR-THR' b'ASP-TRP-TRP' b'SER-CYS-TRP'\n",
      " b'TRP-CYS-SER' b'SER-TRP-CYS' b'PHE-GLY-PRO' b'ASP-THR-TRP'\n",
      " b'ASP-TRP-SER' b'GLY-HSE-PRO']\n",
      "SER-CYS-TRP which is a self assembling peptide is predicted in the 11th iteration\n"
     ]
    },
    {
     "name": "stderr",
     "output_type": "stream",
     "text": [
      "/var/folders/q9/dz7bsnq15t5crnph1_rcrhjr0000gn/T/ipykernel_1530/246796016.py:34: DeprecationWarning: Conversion of an array with ndim > 0 to a scalar is deprecated, and will error in future. Ensure you extract a single element from your array before performing this operation. (Deprecated NumPy 1.25.)\n",
      "  x = math.sqrt(sum(p)/10)\n"
     ]
    },
    {
     "name": "stdout",
     "output_type": "stream",
     "text": [
      "[b'GLY-PHE-PRO' b'GLY-PRO-PHE' b'TRP-GLY-PRO' b'PHE-PRO-GLY'\n",
      " b'CYS-TYR-CYS' b'CYS-CYS-TYR' b'GLY-PHE-CYS' b'GLY-ALA-TRP'\n",
      " b'GLY-PHE-THR' b'PRO-GLY-TRP']\n"
     ]
    },
    {
     "name": "stderr",
     "output_type": "stream",
     "text": [
      "/var/folders/q9/dz7bsnq15t5crnph1_rcrhjr0000gn/T/ipykernel_1530/246796016.py:34: DeprecationWarning: Conversion of an array with ndim > 0 to a scalar is deprecated, and will error in future. Ensure you extract a single element from your array before performing this operation. (Deprecated NumPy 1.25.)\n",
      "  x = math.sqrt(sum(p)/10)\n"
     ]
    },
    {
     "name": "stdout",
     "output_type": "stream",
     "text": [
      "[b'GLY-GLY-TRP' b'TRP-GLY-TRP' b'PHE-GLY-TRP' b'GLY-TRP-ALA'\n",
      " b'GLY-TRP-PHE' b'GLY-PHE-TRP' b'GLY-TRP-GLY' b'TRP-TRP-GLY'\n",
      " b'PHE-ALA-SER' b'GLY-CYS-PHE']\n"
     ]
    },
    {
     "name": "stderr",
     "output_type": "stream",
     "text": [
      "/var/folders/q9/dz7bsnq15t5crnph1_rcrhjr0000gn/T/ipykernel_1530/246796016.py:34: DeprecationWarning: Conversion of an array with ndim > 0 to a scalar is deprecated, and will error in future. Ensure you extract a single element from your array before performing this operation. (Deprecated NumPy 1.25.)\n",
      "  x = math.sqrt(sum(p)/10)\n"
     ]
    },
    {
     "name": "stdout",
     "output_type": "stream",
     "text": [
      "[b'PHE-TRP-GLY' b'CYS-TYR-SER' b'GLU-TRP-TRP' b'ALA-TYR-TRP'\n",
      " b'ALA-GLY-TRP' b'ALA-ALA-TRP' b'CYS-THR-TYR' b'ALA-TRP-TYR'\n",
      " b'ALA-CYS-CYS' b'CYS-SER-TYR']\n"
     ]
    },
    {
     "name": "stderr",
     "output_type": "stream",
     "text": [
      "/var/folders/q9/dz7bsnq15t5crnph1_rcrhjr0000gn/T/ipykernel_1530/246796016.py:34: DeprecationWarning: Conversion of an array with ndim > 0 to a scalar is deprecated, and will error in future. Ensure you extract a single element from your array before performing this operation. (Deprecated NumPy 1.25.)\n",
      "  x = math.sqrt(sum(p)/10)\n"
     ]
    },
    {
     "name": "stdout",
     "output_type": "stream",
     "text": [
      "[b'SER-TYR-SER' b'SER-TYR-THR' b'THR-TYR-SER' b'THR-TYR-THR'\n",
      " b'SER-SER-TYR' b'SER-THR-TYR' b'SER-TYR-CYS' b'SER-PHE-SER'\n",
      " b'THR-SER-TYR' b'CYS-ALA-CYS']\n"
     ]
    },
    {
     "name": "stderr",
     "output_type": "stream",
     "text": [
      "/var/folders/q9/dz7bsnq15t5crnph1_rcrhjr0000gn/T/ipykernel_1530/246796016.py:34: DeprecationWarning: Conversion of an array with ndim > 0 to a scalar is deprecated, and will error in future. Ensure you extract a single element from your array before performing this operation. (Deprecated NumPy 1.25.)\n",
      "  x = math.sqrt(sum(p)/10)\n"
     ]
    },
    {
     "name": "stdout",
     "output_type": "stream",
     "text": [
      "[b'ALA-TYR-THR' b'GLY-TYR-THR' b'GLY-TYR-SER' b'THR-THR-TYR'\n",
      " b'SER-CYS-TYR' b'GLY-PRO-TYR' b'GLY-TYR-CYS' b'TYR-SER-SER'\n",
      " b'ALA-TRP-ALA' b'GLY-CYS-TYR']\n"
     ]
    },
    {
     "name": "stderr",
     "output_type": "stream",
     "text": [
      "/var/folders/q9/dz7bsnq15t5crnph1_rcrhjr0000gn/T/ipykernel_1530/246796016.py:34: DeprecationWarning: Conversion of an array with ndim > 0 to a scalar is deprecated, and will error in future. Ensure you extract a single element from your array before performing this operation. (Deprecated NumPy 1.25.)\n",
      "  x = math.sqrt(sum(p)/10)\n"
     ]
    },
    {
     "name": "stdout",
     "output_type": "stream",
     "text": [
      "[b'TYR-THR-SER' b'TYR-SER-THR' b'TYR-ASP-SER' b'SER-ASP-TYR'\n",
      " b'TYR-CYS-SER' b'TYR-THR-THR' b'SER-SER-PHE' b'THR-TYR-CYS'\n",
      " b'SER-TYR-ASP' b'THR-HSE-SER']\n",
      "SER-SER-PHE which is a self assembling peptide is predicted in the 17th iteration\n"
     ]
    },
    {
     "name": "stderr",
     "output_type": "stream",
     "text": [
      "/var/folders/q9/dz7bsnq15t5crnph1_rcrhjr0000gn/T/ipykernel_1530/246796016.py:34: DeprecationWarning: Conversion of an array with ndim > 0 to a scalar is deprecated, and will error in future. Ensure you extract a single element from your array before performing this operation. (Deprecated NumPy 1.25.)\n",
      "  x = math.sqrt(sum(p)/10)\n"
     ]
    },
    {
     "name": "stdout",
     "output_type": "stream",
     "text": [
      "[b'SER-HSE-SER' b'GLY-PRO-THR' b'SER-HSE-THR' b'SER-SER-HSE'\n",
      " b'ALA-PRO-TYR' b'TYR-SER-CYS' b'ALA-TRP-GLY' b'THR-CYS-TYR'\n",
      " b'GLY-SER-TYR' b'ALA-CYS-THR']\n"
     ]
    },
    {
     "name": "stderr",
     "output_type": "stream",
     "text": [
      "/var/folders/q9/dz7bsnq15t5crnph1_rcrhjr0000gn/T/ipykernel_1530/246796016.py:34: DeprecationWarning: Conversion of an array with ndim > 0 to a scalar is deprecated, and will error in future. Ensure you extract a single element from your array before performing this operation. (Deprecated NumPy 1.25.)\n",
      "  x = math.sqrt(sum(p)/10)\n"
     ]
    },
    {
     "name": "stdout",
     "output_type": "stream",
     "text": [
      "[b'ALA-TYR-PRO' b'THR-HSE-THR' b'GLY-TYR-PRO' b'HSE-THR-THR'\n",
      " b'GLY-PRO-SER' b'CYS-ALA-VAL' b'CYS-CYS-ALA' b'TYR-CYS-THR'\n",
      " b'GLY-THR-TYR' b'CYS-GLY-CYS']\n"
     ]
    },
    {
     "name": "stderr",
     "output_type": "stream",
     "text": [
      "/var/folders/q9/dz7bsnq15t5crnph1_rcrhjr0000gn/T/ipykernel_1530/246796016.py:34: DeprecationWarning: Conversion of an array with ndim > 0 to a scalar is deprecated, and will error in future. Ensure you extract a single element from your array before performing this operation. (Deprecated NumPy 1.25.)\n",
      "  x = math.sqrt(sum(p)/10)\n"
     ]
    },
    {
     "name": "stdout",
     "output_type": "stream",
     "text": [
      "[b'CYS-GLY-ILE' b'CYS-GLY-VAL' b'SER-HSE-CYS' b'TYR-THR-CYS'\n",
      " b'ALA-VAL-CYS' b'CYS-VAL-ALA' b'TYR-CYS-CYS' b'SER-CYS-HSE'\n",
      " b'CYS-SER-VAL' b'TRP-SER-CYS']\n"
     ]
    },
    {
     "name": "stderr",
     "output_type": "stream",
     "text": [
      "/var/folders/q9/dz7bsnq15t5crnph1_rcrhjr0000gn/T/ipykernel_1530/246796016.py:34: DeprecationWarning: Conversion of an array with ndim > 0 to a scalar is deprecated, and will error in future. Ensure you extract a single element from your array before performing this operation. (Deprecated NumPy 1.25.)\n",
      "  x = math.sqrt(sum(p)/10)\n"
     ]
    },
    {
     "name": "stdout",
     "output_type": "stream",
     "text": [
      "[b'TYR-MET-SER' b'TYR-MET-CYS' b'TYR-SER-MET' b'TYR-CYS-MET'\n",
      " b'CYS-MET-TYR' b'SER-TYR-MET' b'CYS-TYR-MET' b'SER-MET-TYR'\n",
      " b'TRP-CYS-CYS' b'TRP-PRO-GLY']\n"
     ]
    },
    {
     "name": "stderr",
     "output_type": "stream",
     "text": [
      "/var/folders/q9/dz7bsnq15t5crnph1_rcrhjr0000gn/T/ipykernel_1530/246796016.py:34: DeprecationWarning: Conversion of an array with ndim > 0 to a scalar is deprecated, and will error in future. Ensure you extract a single element from your array before performing this operation. (Deprecated NumPy 1.25.)\n",
      "  x = math.sqrt(sum(p)/10)\n"
     ]
    },
    {
     "name": "stdout",
     "output_type": "stream",
     "text": [
      "[b'THR-TRP-CYS' b'TRP-GLY-PHE' b'THR-CYS-TRP' b'HSE-SER-THR'\n",
      " b'GLY-TRP-VAL' b'TRP-CYS-THR' b'GLY-CYS-ILE' b'SER-PRO-TYR'\n",
      " b'PRO-TYR-THR' b'TYR-TYR-MET']\n"
     ]
    },
    {
     "name": "stderr",
     "output_type": "stream",
     "text": [
      "/var/folders/q9/dz7bsnq15t5crnph1_rcrhjr0000gn/T/ipykernel_1530/246796016.py:34: DeprecationWarning: Conversion of an array with ndim > 0 to a scalar is deprecated, and will error in future. Ensure you extract a single element from your array before performing this operation. (Deprecated NumPy 1.25.)\n",
      "  x = math.sqrt(sum(p)/10)\n"
     ]
    },
    {
     "name": "stdout",
     "output_type": "stream",
     "text": [
      "[b'TYR-PRO-SER' b'SER-TYR-PRO' b'TYR-TYR-PRO' b'TYR-PRO-TYR'\n",
      " b'TYR-SER-PRO' b'GLY-ILE-CYS' b'TYR-PRO-THR' b'THR-PRO-TYR'\n",
      " b'TRP-PHE-GLY' b'THR-TYR-PRO']\n"
     ]
    },
    {
     "name": "stderr",
     "output_type": "stream",
     "text": [
      "/var/folders/q9/dz7bsnq15t5crnph1_rcrhjr0000gn/T/ipykernel_1530/246796016.py:34: DeprecationWarning: Conversion of an array with ndim > 0 to a scalar is deprecated, and will error in future. Ensure you extract a single element from your array before performing this operation. (Deprecated NumPy 1.25.)\n",
      "  x = math.sqrt(sum(p)/10)\n"
     ]
    },
    {
     "name": "stdout",
     "output_type": "stream",
     "text": [
      "[b'TYR-THR-PRO' b'TYR-GLY-PRO' b'TYR-CYS-PRO' b'CYS-HSE-SER'\n",
      " b'TYR-TYR-CYS' b'TYR-ALA-PRO' b'TYR-PRO-CYS' b'HSE-CYS-SER'\n",
      " b'CYS-HSE-THR' b'TYR-TYR-THR']\n"
     ]
    },
    {
     "name": "stderr",
     "output_type": "stream",
     "text": [
      "/var/folders/q9/dz7bsnq15t5crnph1_rcrhjr0000gn/T/ipykernel_1530/246796016.py:34: DeprecationWarning: Conversion of an array with ndim > 0 to a scalar is deprecated, and will error in future. Ensure you extract a single element from your array before performing this operation. (Deprecated NumPy 1.25.)\n",
      "  x = math.sqrt(sum(p)/10)\n"
     ]
    },
    {
     "name": "stdout",
     "output_type": "stream",
     "text": [
      "[b'TYR-CYS-TYR' b'TYR-MET-TYR' b'TYR-TYR-TYR' b'TYR-TYR-SER'\n",
      " b'SER-TYR-TYR' b'TYR-TYR-GLY' b'TYR-SER-TYR' b'THR-TYR-TYR'\n",
      " b'TYR-GLY-PHE' b'TYR-TRP-CYS']\n"
     ]
    },
    {
     "name": "stderr",
     "output_type": "stream",
     "text": [
      "/var/folders/q9/dz7bsnq15t5crnph1_rcrhjr0000gn/T/ipykernel_1530/246796016.py:34: DeprecationWarning: Conversion of an array with ndim > 0 to a scalar is deprecated, and will error in future. Ensure you extract a single element from your array before performing this operation. (Deprecated NumPy 1.25.)\n",
      "  x = math.sqrt(sum(p)/10)\n"
     ]
    },
    {
     "name": "stdout",
     "output_type": "stream",
     "text": [
      "[b'TRP-TYR-CYS' b'TYR-CYS-TRP' b'TYR-PHE-GLY' b'TYR-PRO-ALA'\n",
      " b'TYR-HSE-CYS' b'TYR-PRO-GLY' b'TYR-HSE-THR' b'TYR-PHE-ARG'\n",
      " b'TYR-TRP-THR' b'TYR-PHE-LYS']\n"
     ]
    },
    {
     "name": "stderr",
     "output_type": "stream",
     "text": [
      "/var/folders/q9/dz7bsnq15t5crnph1_rcrhjr0000gn/T/ipykernel_1530/246796016.py:34: DeprecationWarning: Conversion of an array with ndim > 0 to a scalar is deprecated, and will error in future. Ensure you extract a single element from your array before performing this operation. (Deprecated NumPy 1.25.)\n",
      "  x = math.sqrt(sum(p)/10)\n"
     ]
    },
    {
     "name": "stdout",
     "output_type": "stream",
     "text": [
      "[b'TYR-THR-TYR' b'TRP-TYR-THR' b'TYR-TYR-TRP' b'PRO-TYR-TYR'\n",
      " b'TYR-TRP-TYR' b'THR-TYR-TRP' b'THR-TRP-TYR' b'TRP-TYR-TYR'\n",
      " b'TRP-CYS-TYR' b'TYR-TRP-SER']\n"
     ]
    },
    {
     "name": "stderr",
     "output_type": "stream",
     "text": [
      "/var/folders/q9/dz7bsnq15t5crnph1_rcrhjr0000gn/T/ipykernel_1530/246796016.py:34: DeprecationWarning: Conversion of an array with ndim > 0 to a scalar is deprecated, and will error in future. Ensure you extract a single element from your array before performing this operation. (Deprecated NumPy 1.25.)\n",
      "  x = math.sqrt(sum(p)/10)\n"
     ]
    },
    {
     "name": "stdout",
     "output_type": "stream",
     "text": [
      "[b'PRO-TYR-CYS' b'TRP-LYS-PRO' b'THR-HSE-TYR' b'PRO-TYR-SER'\n",
      " b'HSE-THR-SER' b'PRO-THR-TYR' b'TRP-PRO-LYS' b'PRO-CYS-TYR'\n",
      " b'TYR-THR-TRP' b'TYR-HSE-SER']\n"
     ]
    },
    {
     "name": "stderr",
     "output_type": "stream",
     "text": [
      "/var/folders/q9/dz7bsnq15t5crnph1_rcrhjr0000gn/T/ipykernel_1530/246796016.py:34: DeprecationWarning: Conversion of an array with ndim > 0 to a scalar is deprecated, and will error in future. Ensure you extract a single element from your array before performing this operation. (Deprecated NumPy 1.25.)\n",
      "  x = math.sqrt(sum(p)/10)\n"
     ]
    },
    {
     "name": "stdout",
     "output_type": "stream",
     "text": [
      "[b'PRO-GLY-PHE' b'PRO-SER-TYR' b'PRO-PHE-GLY' b'PRO-ALA-TYR'\n",
      " b'PRO-TRP-GLY' b'PRO-TYR-ALA' b'TYR-TYR-ALA' b'TRP-THR-CYS'\n",
      " b'PRO-GLY-TYR' b'GLY-TRP-ILE']\n"
     ]
    },
    {
     "name": "stderr",
     "output_type": "stream",
     "text": [
      "/var/folders/q9/dz7bsnq15t5crnph1_rcrhjr0000gn/T/ipykernel_1530/246796016.py:34: DeprecationWarning: Conversion of an array with ndim > 0 to a scalar is deprecated, and will error in future. Ensure you extract a single element from your array before performing this operation. (Deprecated NumPy 1.25.)\n",
      "  x = math.sqrt(sum(p)/10)\n"
     ]
    },
    {
     "name": "stdout",
     "output_type": "stream",
     "text": [
      "[b'TRP-ALA-CYS' b'TRP-ALA-THR' b'TRP-GLY-VAL' b'TRP-THR-TYR'\n",
      " b'TYR-ALA-MET' b'TYR-TRP-ALA' b'TRP-CYS-ALA' b'PRO-TYR-GLY'\n",
      " b'TYR-ALA-TRP' b'TRP-THR-ALA']\n"
     ]
    },
    {
     "name": "stderr",
     "output_type": "stream",
     "text": [
      "/var/folders/q9/dz7bsnq15t5crnph1_rcrhjr0000gn/T/ipykernel_1530/246796016.py:34: DeprecationWarning: Conversion of an array with ndim > 0 to a scalar is deprecated, and will error in future. Ensure you extract a single element from your array before performing this operation. (Deprecated NumPy 1.25.)\n",
      "  x = math.sqrt(sum(p)/10)\n"
     ]
    },
    {
     "name": "stdout",
     "output_type": "stream",
     "text": [
      "[b'TRP-TYR-ALA' b'TRP-ALA-TYR' b'TYR-ALA-VAL' b'TYR-ALA-TYR'\n",
      " b'TYR-SER-VAL' b'TYR-TRP-GLY' b'TRP-GLY-ILE' b'VAL-GLY-TRP'\n",
      " b'TRP-TRP-LYS' b'TYR-GLY-TRP']\n"
     ]
    },
    {
     "name": "stderr",
     "output_type": "stream",
     "text": [
      "/var/folders/q9/dz7bsnq15t5crnph1_rcrhjr0000gn/T/ipykernel_1530/246796016.py:34: DeprecationWarning: Conversion of an array with ndim > 0 to a scalar is deprecated, and will error in future. Ensure you extract a single element from your array before performing this operation. (Deprecated NumPy 1.25.)\n",
      "  x = math.sqrt(sum(p)/10)\n"
     ]
    },
    {
     "name": "stdout",
     "output_type": "stream",
     "text": [
      "[b'TYR-VAL-SER' b'TYR-GLY-VAL' b'TYR-VAL-ALA' b'TRP-VAL-GLY'\n",
      " b'TYR-GLY-TYR' b'THR-TRP-ALA' b'THR-ALA-TRP' b'TYR-ALA-THR'\n",
      " b'SER-TYR-VAL' b'TYR-THR-HSE']\n"
     ]
    },
    {
     "name": "stderr",
     "output_type": "stream",
     "text": [
      "/var/folders/q9/dz7bsnq15t5crnph1_rcrhjr0000gn/T/ipykernel_1530/246796016.py:34: DeprecationWarning: Conversion of an array with ndim > 0 to a scalar is deprecated, and will error in future. Ensure you extract a single element from your array before performing this operation. (Deprecated NumPy 1.25.)\n",
      "  x = math.sqrt(sum(p)/10)\n"
     ]
    },
    {
     "name": "stdout",
     "output_type": "stream",
     "text": [
      "[b'TYR-GLY-THR' b'TRP-GLY-THR' b'TRP-GLY-TYR' b'TYR-ALA-CYS'\n",
      " b'TYR-GLY-ILE' b'VAL-TRP-GLY' b'VAL-TYR-SER' b'GLY-CYS-VAL'\n",
      " b'CYS-ALA-MET' b'THR-SER-HSE']\n"
     ]
    },
    {
     "name": "stderr",
     "output_type": "stream",
     "text": [
      "/var/folders/q9/dz7bsnq15t5crnph1_rcrhjr0000gn/T/ipykernel_1530/246796016.py:34: DeprecationWarning: Conversion of an array with ndim > 0 to a scalar is deprecated, and will error in future. Ensure you extract a single element from your array before performing this operation. (Deprecated NumPy 1.25.)\n",
      "  x = math.sqrt(sum(p)/10)\n"
     ]
    },
    {
     "name": "stdout",
     "output_type": "stream",
     "text": [
      "[b'TYR-CYS-ALA' b'TYR-GLY-CYS' b'VAL-ALA-TYR' b'VAL-SER-TYR'\n",
      " b'VAL-TYR-ALA' b'VAL-GLY-TYR' b'TYR-ALA-SER' b'TYR-THR-ALA'\n",
      " b'TYR-MET-ALA' b'TYR-GLY-SER']\n"
     ]
    },
    {
     "name": "stderr",
     "output_type": "stream",
     "text": [
      "/var/folders/q9/dz7bsnq15t5crnph1_rcrhjr0000gn/T/ipykernel_1530/246796016.py:34: DeprecationWarning: Conversion of an array with ndim > 0 to a scalar is deprecated, and will error in future. Ensure you extract a single element from your array before performing this operation. (Deprecated NumPy 1.25.)\n",
      "  x = math.sqrt(sum(p)/10)\n"
     ]
    },
    {
     "name": "stdout",
     "output_type": "stream",
     "text": [
      "[b'TYR-SER-ALA' b'SER-VAL-TYR' b'THR-ALA-TYR' b'TRP-ALA-SER'\n",
      " b'TYR-ALA-ALA' b'THR-GLY-TRP' b'THR-TYR-ALA' b'ALA-TYR-VAL'\n",
      " b'VAL-GLY-PHE' b'ILE-GLY-TRP']\n"
     ]
    },
    {
     "name": "stderr",
     "output_type": "stream",
     "text": [
      "/var/folders/q9/dz7bsnq15t5crnph1_rcrhjr0000gn/T/ipykernel_1530/246796016.py:34: DeprecationWarning: Conversion of an array with ndim > 0 to a scalar is deprecated, and will error in future. Ensure you extract a single element from your array before performing this operation. (Deprecated NumPy 1.25.)\n",
      "  x = math.sqrt(sum(p)/10)\n"
     ]
    },
    {
     "name": "stdout",
     "output_type": "stream",
     "text": [
      "[b'ILE-GLY-TYR' b'SER-THR-HSE' b'GLY-TRP-TYR' b'TYR-GLY-MET'\n",
      " b'GLY-TYR-TRP' b'PHE-GLY-VAL' b'GLY-VAL-TRP' b'TRP-TYR-GLY'\n",
      " b'THR-TYR-HSE' b'TRP-TYR-SER']\n"
     ]
    },
    {
     "name": "stderr",
     "output_type": "stream",
     "text": [
      "/var/folders/q9/dz7bsnq15t5crnph1_rcrhjr0000gn/T/ipykernel_1530/246796016.py:34: DeprecationWarning: Conversion of an array with ndim > 0 to a scalar is deprecated, and will error in future. Ensure you extract a single element from your array before performing this operation. (Deprecated NumPy 1.25.)\n",
      "  x = math.sqrt(sum(p)/10)\n"
     ]
    },
    {
     "name": "stdout",
     "output_type": "stream",
     "text": [
      "[b'GLY-PHE-VAL' b'ALA-VAL-TYR' b'GLY-TYR-VAL' b'GLY-TYR-ILE'\n",
      " b'TYR-ILE-GLY' b'PHE-VAL-GLY' b'MET-SER-THR' b'THR-THR-CYS'\n",
      " b'ALA-CYS-MET' b'GLY-VAL-PHE']\n"
     ]
    },
    {
     "name": "stderr",
     "output_type": "stream",
     "text": [
      "/var/folders/q9/dz7bsnq15t5crnph1_rcrhjr0000gn/T/ipykernel_1530/246796016.py:34: DeprecationWarning: Conversion of an array with ndim > 0 to a scalar is deprecated, and will error in future. Ensure you extract a single element from your array before performing this operation. (Deprecated NumPy 1.25.)\n",
      "  x = math.sqrt(sum(p)/10)\n"
     ]
    },
    {
     "name": "stdout",
     "output_type": "stream",
     "text": [
      "[b'GLY-ILE-TYR' b'GLY-VAL-TYR' b'ILE-TYR-GLY' b'PHE-LYS-VAL'\n",
      " b'GLY-PHE-MET' b'VAL-PHE-GLY' b'MET-TYR-CYS' b'TRP-SER-ALA'\n",
      " b'PHE-VAL-LYS' b'TYR-SER-TRP']\n"
     ]
    },
    {
     "name": "stderr",
     "output_type": "stream",
     "text": [
      "/var/folders/q9/dz7bsnq15t5crnph1_rcrhjr0000gn/T/ipykernel_1530/246796016.py:34: DeprecationWarning: Conversion of an array with ndim > 0 to a scalar is deprecated, and will error in future. Ensure you extract a single element from your array before performing this operation. (Deprecated NumPy 1.25.)\n",
      "  x = math.sqrt(sum(p)/10)\n"
     ]
    },
    {
     "name": "stdout",
     "output_type": "stream",
     "text": [
      "[b'CYS-PHE-GLY' b'TYR-VAL-GLY' b'THR-HSE-CYS' b'PHE-GLY-CYS'\n",
      " b'CYS-GLY-PHE' b'ALA-ALA-VAL' b'TRP-ALA-ALA' b'ALA-ALA-PHE'\n",
      " b'MET-SER-SER' b'GLY-PHE-TYR']\n"
     ]
    },
    {
     "name": "stderr",
     "output_type": "stream",
     "text": [
      "/var/folders/q9/dz7bsnq15t5crnph1_rcrhjr0000gn/T/ipykernel_1530/246796016.py:34: DeprecationWarning: Conversion of an array with ndim > 0 to a scalar is deprecated, and will error in future. Ensure you extract a single element from your array before performing this operation. (Deprecated NumPy 1.25.)\n",
      "  x = math.sqrt(sum(p)/10)\n"
     ]
    },
    {
     "name": "stdout",
     "output_type": "stream",
     "text": [
      "[b'ALA-PHE-ALA' b'GLY-TYR-PHE' b'PHE-ALA-ALA' b'ALA-PHE-GLY'\n",
      " b'ALA-GLY-PHE' b'GLY-ALA-PHE' b'PHE-CYS-GLY' b'PHE-TYR-GLY'\n",
      " b'PHE-GLY-TYR' b'GLY-PHE-ALA']\n"
     ]
    },
    {
     "name": "stderr",
     "output_type": "stream",
     "text": [
      "/var/folders/q9/dz7bsnq15t5crnph1_rcrhjr0000gn/T/ipykernel_1530/246796016.py:34: DeprecationWarning: Conversion of an array with ndim > 0 to a scalar is deprecated, and will error in future. Ensure you extract a single element from your array before performing this operation. (Deprecated NumPy 1.25.)\n",
      "  x = math.sqrt(sum(p)/10)\n"
     ]
    },
    {
     "name": "stdout",
     "output_type": "stream",
     "text": [
      "[b'GLY-TYR-TYR' b'ASP-PHE-PHE' b'GLY-GLY-PHE' b'PHE-GLY-MET'\n",
      " b'GLY-MET-PHE' b'SER-MET-SER' b'GLY-PHE-SER' b'CYS-ALA-TYR'\n",
      " b'GLY-SER-PHE' b'CYS-TYR-TYR']\n"
     ]
    },
    {
     "name": "stderr",
     "output_type": "stream",
     "text": [
      "/var/folders/q9/dz7bsnq15t5crnph1_rcrhjr0000gn/T/ipykernel_1530/246796016.py:34: DeprecationWarning: Conversion of an array with ndim > 0 to a scalar is deprecated, and will error in future. Ensure you extract a single element from your array before performing this operation. (Deprecated NumPy 1.25.)\n",
      "  x = math.sqrt(sum(p)/10)\n"
     ]
    },
    {
     "name": "stdout",
     "output_type": "stream",
     "text": [
      "[b'ALA-CYS-TYR' b'PHE-MET-GLY' b'PHE-GLY-ALA' b'GLY-TRP-MET'\n",
      " b'ALA-ALA-TYR' b'GLY-MET-TRP' b'ALA-TYR-CYS' b'CYS-TYR-ALA'\n",
      " b'ALA-TYR-TYR' b'ALA-PHE-SER']\n"
     ]
    },
    {
     "name": "stderr",
     "output_type": "stream",
     "text": [
      "/var/folders/q9/dz7bsnq15t5crnph1_rcrhjr0000gn/T/ipykernel_1530/246796016.py:34: DeprecationWarning: Conversion of an array with ndim > 0 to a scalar is deprecated, and will error in future. Ensure you extract a single element from your array before performing this operation. (Deprecated NumPy 1.25.)\n",
      "  x = math.sqrt(sum(p)/10)\n"
     ]
    },
    {
     "name": "stdout",
     "output_type": "stream",
     "text": [
      "[b'ALA-SER-TYR' b'ALA-TYR-SER' b'ALA-SER-PHE' b'ALA-TYR-MET'\n",
      " b'ALA-MET-TYR' b'ALA-THR-TYR' b'ASP-TYR-TYR' b'ALA-GLY-TYR'\n",
      " b'VAL-TYR-GLY' b'PHE-ALA-GLY']\n"
     ]
    },
    {
     "name": "stderr",
     "output_type": "stream",
     "text": [
      "/var/folders/q9/dz7bsnq15t5crnph1_rcrhjr0000gn/T/ipykernel_1530/246796016.py:34: DeprecationWarning: Conversion of an array with ndim > 0 to a scalar is deprecated, and will error in future. Ensure you extract a single element from your array before performing this operation. (Deprecated NumPy 1.25.)\n",
      "  x = math.sqrt(sum(p)/10)\n"
     ]
    },
    {
     "name": "stdout",
     "output_type": "stream",
     "text": [
      "[b'ALA-TYR-ALA' b'CYS-GLY-TYR' b'GLY-ALA-TYR' b'ASP-GLY-TRP'\n",
      " b'MET-GLY-PHE' b'TRP-GLY-MET' b'ASP-ALA-TRP' b'MET-THR-SER'\n",
      " b'ASP-PHE-TYR' b'LEU-GLY-TRP']\n"
     ]
    },
    {
     "name": "stderr",
     "output_type": "stream",
     "text": [
      "/var/folders/q9/dz7bsnq15t5crnph1_rcrhjr0000gn/T/ipykernel_1530/246796016.py:34: DeprecationWarning: Conversion of an array with ndim > 0 to a scalar is deprecated, and will error in future. Ensure you extract a single element from your array before performing this operation. (Deprecated NumPy 1.25.)\n",
      "  x = math.sqrt(sum(p)/10)\n"
     ]
    },
    {
     "name": "stdout",
     "output_type": "stream",
     "text": [
      "[b'MET-PHE-GLY' b'MET-GLY-TRP' b'TRP-GLY-LEU' b'SER-MET-THR'\n",
      " b'GLY-LEU-TYR' b'GLY-LEU-TRP' b'GLY-GLY-TYR' b'PRO-SER-THR'\n",
      " b'LEU-GLY-TYR' b'GLY-TRP-LEU']\n"
     ]
    },
    {
     "name": "stderr",
     "output_type": "stream",
     "text": [
      "/var/folders/q9/dz7bsnq15t5crnph1_rcrhjr0000gn/T/ipykernel_1530/246796016.py:34: DeprecationWarning: Conversion of an array with ndim > 0 to a scalar is deprecated, and will error in future. Ensure you extract a single element from your array before performing this operation. (Deprecated NumPy 1.25.)\n",
      "  x = math.sqrt(sum(p)/10)\n"
     ]
    },
    {
     "name": "stdout",
     "output_type": "stream",
     "text": [
      "[b'GLY-TYR-LEU' b'LEU-TRP-GLY' b'TRP-LEU-GLY' b'MET-CYS-TYR'\n",
      " b'TYR-GLY-LEU' b'GLY-SER-PRO' b'MET-TYR-TYR' b'SER-TYR-TRP'\n",
      " b'SER-TRP-TYR' b'TRP-MET-GLY']\n"
     ]
    },
    {
     "name": "stderr",
     "output_type": "stream",
     "text": [
      "/var/folders/q9/dz7bsnq15t5crnph1_rcrhjr0000gn/T/ipykernel_1530/246796016.py:34: DeprecationWarning: Conversion of an array with ndim > 0 to a scalar is deprecated, and will error in future. Ensure you extract a single element from your array before performing this operation. (Deprecated NumPy 1.25.)\n",
      "  x = math.sqrt(sum(p)/10)\n"
     ]
    },
    {
     "name": "stdout",
     "output_type": "stream",
     "text": [
      "[b'TYR-LEU-GLY' b'LEU-TYR-GLY' b'MET-TRP-GLY' b'TRP-GLY-CYS'\n",
      " b'THR-GLY-TYR' b'SER-ALA-TYR' b'TRP-ILE-GLY' b'TRP-SER-TYR'\n",
      " b'ALA-MET-CYS' b'GLY-HSE-TRP']\n"
     ]
    },
    {
     "name": "stderr",
     "output_type": "stream",
     "text": [
      "/var/folders/q9/dz7bsnq15t5crnph1_rcrhjr0000gn/T/ipykernel_1530/246796016.py:34: DeprecationWarning: Conversion of an array with ndim > 0 to a scalar is deprecated, and will error in future. Ensure you extract a single element from your array before performing this operation. (Deprecated NumPy 1.25.)\n",
      "  x = math.sqrt(sum(p)/10)\n"
     ]
    },
    {
     "name": "stdout",
     "output_type": "stream",
     "text": [
      "[b'SER-GLY-TRP' b'TRP-CYS-GLY' b'TRP-GLY-SER' b'SER-ALA-TRP'\n",
      " b'TRP-GLY-ALA' b'SER-TYR-ALA' b'TYR-HSE-TYR' b'GLY-TYR-ALA'\n",
      " b'THR-TRP-GLY' b'TYR-TYR-HSE']\n"
     ]
    },
    {
     "name": "stderr",
     "output_type": "stream",
     "text": [
      "/var/folders/q9/dz7bsnq15t5crnph1_rcrhjr0000gn/T/ipykernel_1530/246796016.py:34: DeprecationWarning: Conversion of an array with ndim > 0 to a scalar is deprecated, and will error in future. Ensure you extract a single element from your array before performing this operation. (Deprecated NumPy 1.25.)\n",
      "  x = math.sqrt(sum(p)/10)\n"
     ]
    },
    {
     "name": "stdout",
     "output_type": "stream",
     "text": [
      "[b'SER-TRP-ALA' b'MET-TYR-SER' b'ASP-TYR-PHE' b'LYS-SER-SER'\n",
      " b'HSE-TYR-TYR' b'SER-PRO-THR' b'TRP-THR-GLY' b'GLY-PRO-HSE'\n",
      " b'TYR-GLY-ALA' b'THR-PRO-SER']\n"
     ]
    },
    {
     "name": "stderr",
     "output_type": "stream",
     "text": [
      "/var/folders/q9/dz7bsnq15t5crnph1_rcrhjr0000gn/T/ipykernel_1530/246796016.py:34: DeprecationWarning: Conversion of an array with ndim > 0 to a scalar is deprecated, and will error in future. Ensure you extract a single element from your array before performing this operation. (Deprecated NumPy 1.25.)\n",
      "  x = math.sqrt(sum(p)/10)\n"
     ]
    },
    {
     "name": "stdout",
     "output_type": "stream",
     "text": [
      "[b'HSE-GLY-TRP' b'GLY-THR-THR' b'GLY-SER-THR' b'ALA-SER-PRO'\n",
      " b'GLY-THR-PHE' b'MET-ALA-TYR' b'MET-SER-TYR' b'CYS-VAL-SER'\n",
      " b'GLY-TRP-HSE' b'SER-GLY-TYR']\n"
     ]
    },
    {
     "name": "stderr",
     "output_type": "stream",
     "text": [
      "/var/folders/q9/dz7bsnq15t5crnph1_rcrhjr0000gn/T/ipykernel_1530/246796016.py:34: DeprecationWarning: Conversion of an array with ndim > 0 to a scalar is deprecated, and will error in future. Ensure you extract a single element from your array before performing this operation. (Deprecated NumPy 1.25.)\n",
      "  x = math.sqrt(sum(p)/10)\n"
     ]
    },
    {
     "name": "stdout",
     "output_type": "stream",
     "text": [
      "[b'HSE-TYR-THR' b'ALA-HSE-TYR' b'HSE-CYS-THR' b'THR-CYS-HSE'\n",
      " b'ALA-THR-PRO' b'PHE-SER-ALA' b'HSE-THR-TYR' b'TRP-PHE-LYS'\n",
      " b'TYR-LYS-PHE' b'SER-ALA-PHE']\n"
     ]
    },
    {
     "name": "stderr",
     "output_type": "stream",
     "text": [
      "/var/folders/q9/dz7bsnq15t5crnph1_rcrhjr0000gn/T/ipykernel_1530/246796016.py:34: DeprecationWarning: Conversion of an array with ndim > 0 to a scalar is deprecated, and will error in future. Ensure you extract a single element from your array before performing this operation. (Deprecated NumPy 1.25.)\n",
      "  x = math.sqrt(sum(p)/10)\n"
     ]
    },
    {
     "name": "stdout",
     "output_type": "stream",
     "text": [
      "[b'THR-GLY-PHE' b'ALA-TYR-HSE' b'SER-PHE-ALA' b'CYS-HSE-TYR'\n",
      " b'SER-GLY-PHE' b'HSE-SER-TYR' b'HSE-TYR-SER' b'HSE-SER-CYS'\n",
      " b'CYS-HSE-CYS' b'CYS-TYR-HSE']\n"
     ]
    },
    {
     "name": "stderr",
     "output_type": "stream",
     "text": [
      "/var/folders/q9/dz7bsnq15t5crnph1_rcrhjr0000gn/T/ipykernel_1530/246796016.py:34: DeprecationWarning: Conversion of an array with ndim > 0 to a scalar is deprecated, and will error in future. Ensure you extract a single element from your array before performing this operation. (Deprecated NumPy 1.25.)\n",
      "  x = math.sqrt(sum(p)/10)\n"
     ]
    },
    {
     "name": "stdout",
     "output_type": "stream",
     "text": [
      "[b'CYS-CYS-HSE' b'HSE-CYS-CYS' b'CYS-SER-HSE' b'HSE-GLY-PRO'\n",
      " b'HSE-ALA-TYR' b'THR-ALA-THR' b'GLY-THR-PRO' b'PHE-GLY-SER'\n",
      " b'MET-CYS-SER' b'PRO-THR-SER']\n"
     ]
    },
    {
     "name": "stderr",
     "output_type": "stream",
     "text": [
      "/var/folders/q9/dz7bsnq15t5crnph1_rcrhjr0000gn/T/ipykernel_1530/246796016.py:34: DeprecationWarning: Conversion of an array with ndim > 0 to a scalar is deprecated, and will error in future. Ensure you extract a single element from your array before performing this operation. (Deprecated NumPy 1.25.)\n",
      "  x = math.sqrt(sum(p)/10)\n"
     ]
    },
    {
     "name": "stdout",
     "output_type": "stream",
     "text": [
      "[b'SER-THR-PRO' b'ILE-TRP-GLY' b'THR-PHE-GLY' b'PHE-TRP-LYS'\n",
      " b'HSE-THR-CYS' b'MET-TYR-ALA' b'GLY-ILE-TRP' b'HSE-SER-SER'\n",
      " b'THR-THR-HSE' b'PHE-LYS-TRP']\n"
     ]
    },
    {
     "name": "stderr",
     "output_type": "stream",
     "text": [
      "/var/folders/q9/dz7bsnq15t5crnph1_rcrhjr0000gn/T/ipykernel_1530/246796016.py:34: DeprecationWarning: Conversion of an array with ndim > 0 to a scalar is deprecated, and will error in future. Ensure you extract a single element from your array before performing this operation. (Deprecated NumPy 1.25.)\n",
      "  x = math.sqrt(sum(p)/10)\n"
     ]
    },
    {
     "name": "stdout",
     "output_type": "stream",
     "text": [
      "[b'PHE-PHE-LYS' b'PHE-LYS-PHE' b'LYS-PHE-TRP' b'LYS-TRP-PHE'\n",
      " b'LYS-PHE-PHE' b'GLY-PHE-GLY' b'HSE-GLY-TYR' b'GLY-MET-TYR'\n",
      " b'GLY-TYR-MET' b'CYS-THR-HSE']\n",
      "LYS-PHE-TRP which is a self assembling peptide is predicted in the 55th iteration\n",
      "LYS-TRP-PHE which is a self assembling peptide is predicted in the 55th iteration\n"
     ]
    },
    {
     "name": "stderr",
     "output_type": "stream",
     "text": [
      "/var/folders/q9/dz7bsnq15t5crnph1_rcrhjr0000gn/T/ipykernel_1530/246796016.py:34: DeprecationWarning: Conversion of an array with ndim > 0 to a scalar is deprecated, and will error in future. Ensure you extract a single element from your array before performing this operation. (Deprecated NumPy 1.25.)\n",
      "  x = math.sqrt(sum(p)/10)\n"
     ]
    },
    {
     "name": "stdout",
     "output_type": "stream",
     "text": [
      "[b'MET-GLY-TYR' b'ASP-PHE-MET' b'ASP-SER-TRP' b'PHE-GLU-TYR'\n",
      " b'GLU-TYR-TYR' b'PHE-GLU-PHE' b'PHE-ARG-TRP' b'TRP-ARG-LEU'\n",
      " b'LEU-ARG-TRP' b'PHE-TRP-ARG']\n"
     ]
    },
    {
     "name": "stderr",
     "output_type": "stream",
     "text": [
      "/var/folders/q9/dz7bsnq15t5crnph1_rcrhjr0000gn/T/ipykernel_1530/246796016.py:34: DeprecationWarning: Conversion of an array with ndim > 0 to a scalar is deprecated, and will error in future. Ensure you extract a single element from your array before performing this operation. (Deprecated NumPy 1.25.)\n",
      "  x = math.sqrt(sum(p)/10)\n"
     ]
    },
    {
     "name": "stdout",
     "output_type": "stream",
     "text": [
      "[b'MET-TYR-GLY' b'PHE-TYR-ASP' b'PHE-TYR-ASN' b'CYS-TYR-GLY'\n",
      " b'ALA-TYR-GLY' b'TYR-SER-ASP' b'MET-ASP-ASP' b'TYR-ASN-SER'\n",
      " b'TYR-SER-ASN' b'TYR-CYS-GLY']\n"
     ]
    },
    {
     "name": "stderr",
     "output_type": "stream",
     "text": [
      "/var/folders/q9/dz7bsnq15t5crnph1_rcrhjr0000gn/T/ipykernel_1530/246796016.py:34: DeprecationWarning: Conversion of an array with ndim > 0 to a scalar is deprecated, and will error in future. Ensure you extract a single element from your array before performing this operation. (Deprecated NumPy 1.25.)\n",
      "  x = math.sqrt(sum(p)/10)\n"
     ]
    },
    {
     "name": "stdout",
     "output_type": "stream",
     "text": [
      "[b'PHE-ASN-TYR' b'TRP-ALA-GLY' b'ASN-TYR-TYR' b'HSE-CYS-TYR'\n",
      " b'HSE-HSE-TYR' b'PHE-SER-GLY' b'HSE-TYR-ALA' b'TRP-PHE-ARG'\n",
      " b'MET-MET-ASP' b'TYR-ARG-SER']\n"
     ]
    },
    {
     "name": "stderr",
     "output_type": "stream",
     "text": [
      "/var/folders/q9/dz7bsnq15t5crnph1_rcrhjr0000gn/T/ipykernel_1530/246796016.py:34: DeprecationWarning: Conversion of an array with ndim > 0 to a scalar is deprecated, and will error in future. Ensure you extract a single element from your array before performing this operation. (Deprecated NumPy 1.25.)\n",
      "  x = math.sqrt(sum(p)/10)\n"
     ]
    },
    {
     "name": "stdout",
     "output_type": "stream",
     "text": [
      "[b'TYR-TYR-ASN' b'TYR-ASN-TYR' b'TYR-TYR-ASP' b'TRP-LEU-ARG'\n",
      " b'TYR-THR-ASN' b'TYR-THR-ASP' b'ASN-TYR-SER' b'TYR-ASP-TYR'\n",
      " b'SER-THR-MET' b'PHE-GLY-HSE']\n"
     ]
    },
    {
     "name": "stderr",
     "output_type": "stream",
     "text": [
      "/var/folders/q9/dz7bsnq15t5crnph1_rcrhjr0000gn/T/ipykernel_1530/246796016.py:34: DeprecationWarning: Conversion of an array with ndim > 0 to a scalar is deprecated, and will error in future. Ensure you extract a single element from your array before performing this operation. (Deprecated NumPy 1.25.)\n",
      "  x = math.sqrt(sum(p)/10)\n"
     ]
    },
    {
     "name": "stdout",
     "output_type": "stream",
     "text": [
      "[b'SER-TYR-ASN' b'TYR-ASN-THR' b'SER-SER-MET' b'ASN-SER-TYR'\n",
      " b'ASN-TRP-SER' b'PRO-CYS-THR' b'ASP-TRP-TYR' b'PHE-GLY-THR'\n",
      " b'GLY-VAL-CYS' b'ASN-SER-TRP']\n"
     ]
    },
    {
     "name": "stderr",
     "output_type": "stream",
     "text": [
      "/var/folders/q9/dz7bsnq15t5crnph1_rcrhjr0000gn/T/ipykernel_1530/246796016.py:34: DeprecationWarning: Conversion of an array with ndim > 0 to a scalar is deprecated, and will error in future. Ensure you extract a single element from your array before performing this operation. (Deprecated NumPy 1.25.)\n",
      "  x = math.sqrt(sum(p)/10)\n"
     ]
    },
    {
     "name": "stdout",
     "output_type": "stream",
     "text": [
      "[b'SER-ASN-TYR' b'THR-TYR-ASN' b'GLY-MET-VAL' b'GLN-TYR-SER'\n",
      " b'ARG-TYR-SER' b'SER-ASN-SER' b'PRO-LYS-PHE' b'THR-TYR-ASP'\n",
      " b'TRP-LYS-PHE' b'THR-SER-PRO']\n"
     ]
    },
    {
     "name": "stderr",
     "output_type": "stream",
     "text": [
      "/var/folders/q9/dz7bsnq15t5crnph1_rcrhjr0000gn/T/ipykernel_1530/246796016.py:34: DeprecationWarning: Conversion of an array with ndim > 0 to a scalar is deprecated, and will error in future. Ensure you extract a single element from your array before performing this operation. (Deprecated NumPy 1.25.)\n",
      "  x = math.sqrt(sum(p)/10)\n"
     ]
    },
    {
     "name": "stdout",
     "output_type": "stream",
     "text": [
      "[b'GLY-VAL-MET' b'GLY-LEU-MET' b'GLY-MET-MET' b'MET-GLY-VAL'\n",
      " b'LEU-GLY-MET' b'ALA-LYS-TRP' b'GLY-MET-LEU' b'THR-CYS-PRO'\n",
      " b'GLY-MET-PRO' b'THR-ASN-TYR']\n"
     ]
    },
    {
     "name": "stderr",
     "output_type": "stream",
     "text": [
      "/var/folders/q9/dz7bsnq15t5crnph1_rcrhjr0000gn/T/ipykernel_1530/246796016.py:34: DeprecationWarning: Conversion of an array with ndim > 0 to a scalar is deprecated, and will error in future. Ensure you extract a single element from your array before performing this operation. (Deprecated NumPy 1.25.)\n",
      "  x = math.sqrt(sum(p)/10)\n"
     ]
    },
    {
     "name": "stdout",
     "output_type": "stream",
     "text": [
      "[b'VAL-GLY-MET' b'MET-ALA-THR' b'MET-GLY-LEU' b'MET-VAL-GLY'\n",
      " b'GLY-PRO-MET' b'LEU-MET-GLY' b'VAL-MET-GLY' b'ILE-GLY-CYS'\n",
      " b'ALA-MET-THR' b'MET-ALA-CYS']\n"
     ]
    },
    {
     "name": "stderr",
     "output_type": "stream",
     "text": [
      "/var/folders/q9/dz7bsnq15t5crnph1_rcrhjr0000gn/T/ipykernel_1530/246796016.py:34: DeprecationWarning: Conversion of an array with ndim > 0 to a scalar is deprecated, and will error in future. Ensure you extract a single element from your array before performing this operation. (Deprecated NumPy 1.25.)\n",
      "  x = math.sqrt(sum(p)/10)\n"
     ]
    },
    {
     "name": "stdout",
     "output_type": "stream",
     "text": [
      "[b'MET-GLY-PRO' b'ALA-ALA-MET' b'PRO-GLY-PRO' b'MET-GLY-MET'\n",
      " b'SER-CYS-PRO' b'ILE-GLY-PRO' b'PRO-GLY-ILE' b'GLY-ALA-CYS'\n",
      " b'ILE-GLY-THR' b'CYS-GLY-MET']\n"
     ]
    },
    {
     "name": "stderr",
     "output_type": "stream",
     "text": [
      "/var/folders/q9/dz7bsnq15t5crnph1_rcrhjr0000gn/T/ipykernel_1530/246796016.py:34: DeprecationWarning: Conversion of an array with ndim > 0 to a scalar is deprecated, and will error in future. Ensure you extract a single element from your array before performing this operation. (Deprecated NumPy 1.25.)\n",
      "  x = math.sqrt(sum(p)/10)\n"
     ]
    },
    {
     "name": "stdout",
     "output_type": "stream",
     "text": [
      "[b'PRO-GLY-VAL' b'GLY-PRO-ILE' b'GLY-PRO-VAL' b'PRO-GLY-LEU'\n",
      " b'SER-CYS-VAL' b'LEU-GLY-PRO' b'GLY-ALA-ILE' b'PRO-PHE-LYS'\n",
      " b'ASP-TYR-TRP' b'PRO-ALA-THR']\n"
     ]
    },
    {
     "name": "stderr",
     "output_type": "stream",
     "text": [
      "/var/folders/q9/dz7bsnq15t5crnph1_rcrhjr0000gn/T/ipykernel_1530/246796016.py:34: DeprecationWarning: Conversion of an array with ndim > 0 to a scalar is deprecated, and will error in future. Ensure you extract a single element from your array before performing this operation. (Deprecated NumPy 1.25.)\n",
      "  x = math.sqrt(sum(p)/10)\n"
     ]
    },
    {
     "name": "stdout",
     "output_type": "stream",
     "text": [
      "[b'GLY-ILE-PRO' b'GLY-ILE-THR' b'GLY-THR-ILE' b'GLY-LEU-PRO'\n",
      " b'GLY-VAL-PRO' b'GLY-PRO-LEU' b'ALA-GLY-ILE' b'LYS-PRO-PRO'\n",
      " b'GLY-SER-ILE' b'THR-GLY-ILE']\n"
     ]
    },
    {
     "name": "stderr",
     "output_type": "stream",
     "text": [
      "/var/folders/q9/dz7bsnq15t5crnph1_rcrhjr0000gn/T/ipykernel_1530/246796016.py:34: DeprecationWarning: Conversion of an array with ndim > 0 to a scalar is deprecated, and will error in future. Ensure you extract a single element from your array before performing this operation. (Deprecated NumPy 1.25.)\n",
      "  x = math.sqrt(sum(p)/10)\n"
     ]
    },
    {
     "name": "stdout",
     "output_type": "stream",
     "text": [
      "[b'ILE-PRO-GLY' b'GLY-ALA-LEU' b'CYS-GLY-LEU' b'GLY-ILE-SER'\n",
      " b'GLY-GLY-ILE' b'CYS-HSE-HSE' b'GLY-ILE-ALA' b'LEU-GLY-CYS'\n",
      " b'GLY-LEU-THR' b'ILE-GLY-SER']\n"
     ]
    },
    {
     "name": "stderr",
     "output_type": "stream",
     "text": [
      "/var/folders/q9/dz7bsnq15t5crnph1_rcrhjr0000gn/T/ipykernel_1530/246796016.py:34: DeprecationWarning: Conversion of an array with ndim > 0 to a scalar is deprecated, and will error in future. Ensure you extract a single element from your array before performing this operation. (Deprecated NumPy 1.25.)\n",
      "  x = math.sqrt(sum(p)/10)\n"
     ]
    },
    {
     "name": "stdout",
     "output_type": "stream",
     "text": [
      "[b'LEU-GLY-THR' b'GLY-CYS-LEU' b'VAL-CYS-SER' b'MET-SER-CYS'\n",
      " b'THR-TYR-GLY' b'ARG-SER-TYR' b'GLN-SER-TYR' b'ALA-ALA-CYS'\n",
      " b'TYR-THR-GLY' b'GLY-THR-CYS']\n"
     ]
    },
    {
     "name": "stderr",
     "output_type": "stream",
     "text": [
      "/var/folders/q9/dz7bsnq15t5crnph1_rcrhjr0000gn/T/ipykernel_1530/246796016.py:34: DeprecationWarning: Conversion of an array with ndim > 0 to a scalar is deprecated, and will error in future. Ensure you extract a single element from your array before performing this operation. (Deprecated NumPy 1.25.)\n",
      "  x = math.sqrt(sum(p)/10)\n"
     ]
    },
    {
     "name": "stdout",
     "output_type": "stream",
     "text": [
      "[b'GLY-LEU-CYS' b'GLY-THR-LEU' b'GLY-LEU-SER' b'ALA-CYS-ALA'\n",
      " b'CYS-ALA-ALA' b'MET-CYS-CYS' b'SER-CYS-MET' b'GLY-SER-LEU'\n",
      " b'SER-MET-CYS' b'TYR-GLN-SER']\n"
     ]
    },
    {
     "name": "stderr",
     "output_type": "stream",
     "text": [
      "/var/folders/q9/dz7bsnq15t5crnph1_rcrhjr0000gn/T/ipykernel_1530/246796016.py:34: DeprecationWarning: Conversion of an array with ndim > 0 to a scalar is deprecated, and will error in future. Ensure you extract a single element from your array before performing this operation. (Deprecated NumPy 1.25.)\n",
      "  x = math.sqrt(sum(p)/10)\n"
     ]
    },
    {
     "name": "stdout",
     "output_type": "stream",
     "text": [
      "[b'PRO-THR-CYS' b'MET-CYS-ALA' b'SER-PRO-CYS' b'SER-VAL-CYS'\n",
      " b'MET-ALA-SER' b'TYR-SER-GLN' b'HSE-TYR-CYS' b'SER-TYR-GLN'\n",
      " b'MET-GLY-THR' b'GLY-VAL-THR']\n"
     ]
    },
    {
     "name": "stderr",
     "output_type": "stream",
     "text": [
      "/var/folders/q9/dz7bsnq15t5crnph1_rcrhjr0000gn/T/ipykernel_1530/246796016.py:34: DeprecationWarning: Conversion of an array with ndim > 0 to a scalar is deprecated, and will error in future. Ensure you extract a single element from your array before performing this operation. (Deprecated NumPy 1.25.)\n",
      "  x = math.sqrt(sum(p)/10)\n"
     ]
    },
    {
     "name": "stdout",
     "output_type": "stream",
     "text": [
      "[b'THR-PRO-CYS' b'SER-VAL-SER' b'SER-SER-VAL' b'GLY-THR-VAL'\n",
      " b'PRO-CYS-CYS' b'MET-GLY-CYS' b'SER-ARG-SER' b'SER-ARG-THR'\n",
      " b'HSE-GLY-PHE' b'PRO-ALA-CYS']\n"
     ]
    },
    {
     "name": "stderr",
     "output_type": "stream",
     "text": [
      "/var/folders/q9/dz7bsnq15t5crnph1_rcrhjr0000gn/T/ipykernel_1530/246796016.py:34: DeprecationWarning: Conversion of an array with ndim > 0 to a scalar is deprecated, and will error in future. Ensure you extract a single element from your array before performing this operation. (Deprecated NumPy 1.25.)\n",
      "  x = math.sqrt(sum(p)/10)\n"
     ]
    },
    {
     "name": "stdout",
     "output_type": "stream",
     "text": [
      "[b'LEU-PRO-GLY' b'HSE-TYR-HSE' b'ALA-TRP-LYS' b'THR-ALA-PRO'\n",
      " b'GLN-TYR-ASP' b'ALA-TRP-ASP' b'ALA-TYR-ASN' b'LYS-SER-THR'\n",
      " b'CYS-MET-ALA' b'SER-PHE-GLY']\n"
     ]
    },
    {
     "name": "stderr",
     "output_type": "stream",
     "text": [
      "/var/folders/q9/dz7bsnq15t5crnph1_rcrhjr0000gn/T/ipykernel_1530/246796016.py:34: DeprecationWarning: Conversion of an array with ndim > 0 to a scalar is deprecated, and will error in future. Ensure you extract a single element from your array before performing this operation. (Deprecated NumPy 1.25.)\n",
      "  x = math.sqrt(sum(p)/10)\n"
     ]
    },
    {
     "name": "stdout",
     "output_type": "stream",
     "text": [
      "[b'THR-PRO-ALA' b'VAL-GLY-PRO' b'SER-ALA-PRO' b'PRO-LYS-TRP'\n",
      " b'TYR-CYS-HSE' b'PHE-THR-GLY' b'GLY-LYS-TRP' b'PHE-PHE-ASP'\n",
      " b'HSE-HSE-CYS' b'THR-GLY-LEU']\n"
     ]
    },
    {
     "name": "stderr",
     "output_type": "stream",
     "text": [
      "/var/folders/q9/dz7bsnq15t5crnph1_rcrhjr0000gn/T/ipykernel_1530/246796016.py:34: DeprecationWarning: Conversion of an array with ndim > 0 to a scalar is deprecated, and will error in future. Ensure you extract a single element from your array before performing this operation. (Deprecated NumPy 1.25.)\n",
      "  x = math.sqrt(sum(p)/10)\n"
     ]
    },
    {
     "name": "stdout",
     "output_type": "stream",
     "text": [
      "[b'THR-GLY-PRO' b'SER-GLY-LEU' b'LEU-GLY-SER' b'LEU-CYS-GLY'\n",
      " b'SER-GLY-PRO' b'HSE-CYS-HSE' b'SER-ASN-THR' b'HSE-HSE-SER'\n",
      " b'THR-GLY-MET' b'TYR-ALA-HSE']\n"
     ]
    },
    {
     "name": "stderr",
     "output_type": "stream",
     "text": [
      "/var/folders/q9/dz7bsnq15t5crnph1_rcrhjr0000gn/T/ipykernel_1530/246796016.py:34: DeprecationWarning: Conversion of an array with ndim > 0 to a scalar is deprecated, and will error in future. Ensure you extract a single element from your array before performing this operation. (Deprecated NumPy 1.25.)\n",
      "  x = math.sqrt(sum(p)/10)\n"
     ]
    },
    {
     "name": "stdout",
     "output_type": "stream",
     "text": [
      "[b'SER-GLU-SER' b'GLY-CYS-MET' b'TYR-HSE-ALA' b'SER-SER-GLU'\n",
      " b'PRO-TRP-LYS' b'SER-ALA-VAL' b'SER-SER-ASN' b'ALA-SER-VAL'\n",
      " b'TYR-MET-GLY' b'HSE-ALA-TRP']\n"
     ]
    },
    {
     "name": "stderr",
     "output_type": "stream",
     "text": [
      "/var/folders/q9/dz7bsnq15t5crnph1_rcrhjr0000gn/T/ipykernel_1530/246796016.py:34: DeprecationWarning: Conversion of an array with ndim > 0 to a scalar is deprecated, and will error in future. Ensure you extract a single element from your array before performing this operation. (Deprecated NumPy 1.25.)\n",
      "  x = math.sqrt(sum(p)/10)\n"
     ]
    },
    {
     "name": "stdout",
     "output_type": "stream",
     "text": [
      "[b'GLY-MET-CYS' b'ALA-VAL-SER' b'ALA-ALA-THR' b'LEU-THR-GLY'\n",
      " b'ALA-SER-THR' b'THR-LEU-GLY' b'GLY-MET-THR' b'TYR-ASN-PHE'\n",
      " b'GLY-HSE-PHE' b'ILE-CYS-GLY']\n"
     ]
    },
    {
     "name": "stderr",
     "output_type": "stream",
     "text": [
      "/var/folders/q9/dz7bsnq15t5crnph1_rcrhjr0000gn/T/ipykernel_1530/246796016.py:34: DeprecationWarning: Conversion of an array with ndim > 0 to a scalar is deprecated, and will error in future. Ensure you extract a single element from your array before performing this operation. (Deprecated NumPy 1.25.)\n",
      "  x = math.sqrt(sum(p)/10)\n"
     ]
    },
    {
     "name": "stdout",
     "output_type": "stream",
     "text": [
      "[b'GLY-PHE-HSE' b'PHE-HSE-GLY' b'HSE-PHE-GLY' b'GLY-MET-SER'\n",
      " b'GLY-SER-MET' b'GLY-HSE-TYR' b'GLY-HSE-CYS' b'GLY-TYR-HSE'\n",
      " b'SER-ASN-LEU' b'MET-TYR-ASN']\n"
     ]
    },
    {
     "name": "stderr",
     "output_type": "stream",
     "text": [
      "/var/folders/q9/dz7bsnq15t5crnph1_rcrhjr0000gn/T/ipykernel_1530/246796016.py:34: DeprecationWarning: Conversion of an array with ndim > 0 to a scalar is deprecated, and will error in future. Ensure you extract a single element from your array before performing this operation. (Deprecated NumPy 1.25.)\n",
      "  x = math.sqrt(sum(p)/10)\n"
     ]
    },
    {
     "name": "stdout",
     "output_type": "stream",
     "text": [
      "[b'GLY-CYS-HSE' b'GLY-HSE-SER' b'GLY-HSE-MET' b'GLY-SER-HSE'\n",
      " b'TYR-ASN-ASN' b'ASN-TYR-ASN' b'GLY-THR-MET' b'ALA-ARG-TRP'\n",
      " b'ALA-THR-CYS' b'GLY-HSE-THR']\n"
     ]
    },
    {
     "name": "stderr",
     "output_type": "stream",
     "text": [
      "/var/folders/q9/dz7bsnq15t5crnph1_rcrhjr0000gn/T/ipykernel_1530/246796016.py:34: DeprecationWarning: Conversion of an array with ndim > 0 to a scalar is deprecated, and will error in future. Ensure you extract a single element from your array before performing this operation. (Deprecated NumPy 1.25.)\n",
      "  x = math.sqrt(sum(p)/10)\n"
     ]
    },
    {
     "name": "stdout",
     "output_type": "stream",
     "text": [
      "[b'ALA-THR-SER' b'CYS-THR-ALA' b'ALA-THR-ALA' b'MET-TYR-ASP'\n",
      " b'GLN-TYR-TYR' b'GLY-TYR-ASN' b'ALA-CYS-SER' b'TRP-ASN-SER'\n",
      " b'TRP-ASN-THR' b'ASP-CYS-MET']\n"
     ]
    },
    {
     "name": "stderr",
     "output_type": "stream",
     "text": [
      "/var/folders/q9/dz7bsnq15t5crnph1_rcrhjr0000gn/T/ipykernel_1530/246796016.py:34: DeprecationWarning: Conversion of an array with ndim > 0 to a scalar is deprecated, and will error in future. Ensure you extract a single element from your array before performing this operation. (Deprecated NumPy 1.25.)\n",
      "  x = math.sqrt(sum(p)/10)\n"
     ]
    },
    {
     "name": "stdout",
     "output_type": "stream",
     "text": [
      "[b'ALA-SER-CYS' b'THR-ASN-TRP' b'CYS-CYS-GLY' b'THR-TRP-ASN'\n",
      " b'TYR-ASN-TRP' b'TRP-ASN-TYR' b'TRP-THR-ASN' b'SER-ASN-TRP'\n",
      " b'GLN-TYR-THR' b'TRP-ARG-VAL']\n"
     ]
    },
    {
     "name": "stderr",
     "output_type": "stream",
     "text": [
      "/var/folders/q9/dz7bsnq15t5crnph1_rcrhjr0000gn/T/ipykernel_1530/246796016.py:34: DeprecationWarning: Conversion of an array with ndim > 0 to a scalar is deprecated, and will error in future. Ensure you extract a single element from your array before performing this operation. (Deprecated NumPy 1.25.)\n",
      "  x = math.sqrt(sum(p)/10)\n"
     ]
    },
    {
     "name": "stdout",
     "output_type": "stream",
     "text": [
      "[b'TRP-THR-ASP' b'THR-TRP-ASP' b'TRP-SER-ASN' b'TRP-TYR-ASN'\n",
      " b'ALA-SER-SER' b'SER-TRP-ASN' b'GLN-THR-TYR' b'TYR-TRP-ASN'\n",
      " b'CYS-SER-GLY' b'TRP-ASP-THR']\n"
     ]
    },
    {
     "name": "stderr",
     "output_type": "stream",
     "text": [
      "/var/folders/q9/dz7bsnq15t5crnph1_rcrhjr0000gn/T/ipykernel_1530/246796016.py:34: DeprecationWarning: Conversion of an array with ndim > 0 to a scalar is deprecated, and will error in future. Ensure you extract a single element from your array before performing this operation. (Deprecated NumPy 1.25.)\n",
      "  x = math.sqrt(sum(p)/10)\n"
     ]
    },
    {
     "name": "stdout",
     "output_type": "stream",
     "text": [
      "[b'GLN-TRP-SER' b'SER-TRP-GLY' b'TRP-SER-GLY' b'GLN-SER-TRP'\n",
      " b'CYS-SER-ALA' b'GLY-SER-VAL' b'TRP-ASP-SER' b'SER-TYR-HSE'\n",
      " b'ASN-TYR-TRP' b'TYR-PHE-ASN']\n"
     ]
    },
    {
     "name": "stderr",
     "output_type": "stream",
     "text": [
      "/var/folders/q9/dz7bsnq15t5crnph1_rcrhjr0000gn/T/ipykernel_1530/246796016.py:34: DeprecationWarning: Conversion of an array with ndim > 0 to a scalar is deprecated, and will error in future. Ensure you extract a single element from your array before performing this operation. (Deprecated NumPy 1.25.)\n",
      "  x = math.sqrt(sum(p)/10)\n"
     ]
    },
    {
     "name": "stdout",
     "output_type": "stream",
     "text": [
      "[b'SER-TRP-ASP' b'TYR-PHE-ASP' b'SER-HSE-TYR' b'TRP-GLN-SER'\n",
      " b'PHE-ASP-TYR' b'ALA-HSE-SER' b'SER-TYR-GLY' b'TYR-SER-GLY'\n",
      " b'TYR-SER-HSE' b'TRP-SER-ASP']\n"
     ]
    },
    {
     "name": "stderr",
     "output_type": "stream",
     "text": [
      "/var/folders/q9/dz7bsnq15t5crnph1_rcrhjr0000gn/T/ipykernel_1530/246796016.py:34: DeprecationWarning: Conversion of an array with ndim > 0 to a scalar is deprecated, and will error in future. Ensure you extract a single element from your array before performing this operation. (Deprecated NumPy 1.25.)\n",
      "  x = math.sqrt(sum(p)/10)\n"
     ]
    },
    {
     "name": "stdout",
     "output_type": "stream",
     "text": [
      "[b'TRP-SER-GLN' b'SER-ASP-TRP' b'TRP-LYS-TRP' b'PHE-TRP-ASP'\n",
      " b'ARG-LEU-TRP' b'GLY-THR-SER' b'TYR-ASP-PHE' b'GLY-TRP-LYS'\n",
      " b'TRP-ARG-PHE' b'ASN-TYR-PHE']\n"
     ]
    },
    {
     "name": "stderr",
     "output_type": "stream",
     "text": [
      "/var/folders/q9/dz7bsnq15t5crnph1_rcrhjr0000gn/T/ipykernel_1530/246796016.py:34: DeprecationWarning: Conversion of an array with ndim > 0 to a scalar is deprecated, and will error in future. Ensure you extract a single element from your array before performing this operation. (Deprecated NumPy 1.25.)\n",
      "  x = math.sqrt(sum(p)/10)\n"
     ]
    },
    {
     "name": "stdout",
     "output_type": "stream",
     "text": [
      "[b'LEU-TYR-ASP' b'TYR-LEU-ASP' b'TYR-ASP-LEU' b'TRP-ARG-THR'\n",
      " b'TRP-ARG-SER' b'LYS-TRP-SER' b'ASN-PHE-TYR' b'HSE-TRP-ALA'\n",
      " b'THR-ASN-SER' b'ALA-ASP-TRP']\n"
     ]
    },
    {
     "name": "stderr",
     "output_type": "stream",
     "text": [
      "/var/folders/q9/dz7bsnq15t5crnph1_rcrhjr0000gn/T/ipykernel_1530/246796016.py:34: DeprecationWarning: Conversion of an array with ndim > 0 to a scalar is deprecated, and will error in future. Ensure you extract a single element from your array before performing this operation. (Deprecated NumPy 1.25.)\n",
      "  x = math.sqrt(sum(p)/10)\n"
     ]
    },
    {
     "name": "stdout",
     "output_type": "stream",
     "text": [
      "[b'ARG-TRP-SER' b'VAL-ARG-TRP' b'TRP-VAL-ARG' b'ASP-PHE-TRP'\n",
      " b'PRO-PRO-GLY' b'TYR-TYR-GLN' b'VAL-SER-CYS' b'ASP-TYR-ASN'\n",
      " b'ASP-TRP-PHE' b'ARG-SER-TRP']\n"
     ]
    },
    {
     "name": "stderr",
     "output_type": "stream",
     "text": [
      "/var/folders/q9/dz7bsnq15t5crnph1_rcrhjr0000gn/T/ipykernel_1530/246796016.py:34: DeprecationWarning: Conversion of an array with ndim > 0 to a scalar is deprecated, and will error in future. Ensure you extract a single element from your array before performing this operation. (Deprecated NumPy 1.25.)\n",
      "  x = math.sqrt(sum(p)/10)\n"
     ]
    },
    {
     "name": "stdout",
     "output_type": "stream",
     "text": [
      "[b'ALA-SER-MET' b'ASN-TYR-THR' b'LYS-SER-TRP' b'SER-LEU-GLY'\n",
      " b'ALA-THR-MET' b'ALA-CYS-GLY' b'LYS-LEU-TRP' b'GLY-VAL-SER'\n",
      " b'LEU-SER-GLY' b'LYS-TYR-SER']\n"
     ]
    },
    {
     "name": "stderr",
     "output_type": "stream",
     "text": [
      "/var/folders/q9/dz7bsnq15t5crnph1_rcrhjr0000gn/T/ipykernel_1530/246796016.py:34: DeprecationWarning: Conversion of an array with ndim > 0 to a scalar is deprecated, and will error in future. Ensure you extract a single element from your array before performing this operation. (Deprecated NumPy 1.25.)\n",
      "  x = math.sqrt(sum(p)/10)\n"
     ]
    },
    {
     "name": "stdout",
     "output_type": "stream",
     "text": [
      "[b'VAL-SER-SER' b'ALA-GLY-CYS' b'CYS-THR-GLY' b'GLU-TRP-SER'\n",
      " b'SER-TRP-GLN' b'PHE-LYS-TYR' b'PHE-GLY-GLY' b'LYS-PHE-TYR'\n",
      " b'SER-PRO-ALA' b'SER-GLN-TYR']\n"
     ]
    },
    {
     "name": "stderr",
     "output_type": "stream",
     "text": [
      "/var/folders/q9/dz7bsnq15t5crnph1_rcrhjr0000gn/T/ipykernel_1530/246796016.py:34: DeprecationWarning: Conversion of an array with ndim > 0 to a scalar is deprecated, and will error in future. Ensure you extract a single element from your array before performing this operation. (Deprecated NumPy 1.25.)\n",
      "  x = math.sqrt(sum(p)/10)\n"
     ]
    },
    {
     "name": "stdout",
     "output_type": "stream",
     "text": [
      "[b'CYS-GLY-GLY' b'CYS-ALA-GLY' b'CYS-GLY-ALA' b'GLY-CYS-GLY'\n",
      " b'GLY-GLY-CYS' b'CYS-GLY-SER' b'HSE-GLY-CYS' b'CYS-GLY-HSE'\n",
      " b'LYS-TYR-PHE' b'ALA-HSE-CYS']\n"
     ]
    },
    {
     "name": "stderr",
     "output_type": "stream",
     "text": [
      "/var/folders/q9/dz7bsnq15t5crnph1_rcrhjr0000gn/T/ipykernel_1530/246796016.py:34: DeprecationWarning: Conversion of an array with ndim > 0 to a scalar is deprecated, and will error in future. Ensure you extract a single element from your array before performing this operation. (Deprecated NumPy 1.25.)\n",
      "  x = math.sqrt(sum(p)/10)\n"
     ]
    },
    {
     "name": "stdout",
     "output_type": "stream",
     "text": [
      "[b'SER-GLN-TRP' b'CYS-HSE-GLY' b'ALA-CYS-HSE' b'ALA-GLY-LEU'\n",
      " b'ALA-ALA-SER' b'TRP-GLN-THR' b'TRP-ASN-CYS' b'HSE-ALA-SER'\n",
      " b'ALA-TRP-ASN' b'SER-ARG-TRP']\n"
     ]
    },
    {
     "name": "stderr",
     "output_type": "stream",
     "text": [
      "/var/folders/q9/dz7bsnq15t5crnph1_rcrhjr0000gn/T/ipykernel_1530/246796016.py:34: DeprecationWarning: Conversion of an array with ndim > 0 to a scalar is deprecated, and will error in future. Ensure you extract a single element from your array before performing this operation. (Deprecated NumPy 1.25.)\n",
      "  x = math.sqrt(sum(p)/10)\n"
     ]
    },
    {
     "name": "stdout",
     "output_type": "stream",
     "text": [
      "[b'ALA-GLY-SER' b'ALA-SER-ALA' b'CYS-ALA-HSE' b'TRP-THR-GLN'\n",
      " b'CYS-HSE-ALA' b'THR-TRP-GLN' b'ALA-SER-GLY' b'ALA-SER-HSE'\n",
      " b'GLN-TRP-THR' b'THR-GLN-TRP']\n"
     ]
    },
    {
     "name": "stderr",
     "output_type": "stream",
     "text": [
      "/var/folders/q9/dz7bsnq15t5crnph1_rcrhjr0000gn/T/ipykernel_1530/246796016.py:34: DeprecationWarning: Conversion of an array with ndim > 0 to a scalar is deprecated, and will error in future. Ensure you extract a single element from your array before performing this operation. (Deprecated NumPy 1.25.)\n",
      "  x = math.sqrt(sum(p)/10)\n"
     ]
    },
    {
     "name": "stdout",
     "output_type": "stream",
     "text": [
      "[b'HSE-ALA-CYS' b'TRP-CYS-ASN' b'ALA-HSE-THR' b'GLN-THR-TRP'\n",
      " b'TRP-LYS-THR' b'TYR-TRP-GLN' b'TRP-TYR-GLN' b'HSE-CYS-ALA'\n",
      " b'GLY-HSE-VAL' b'TRP-LYS-SER']\n"
     ]
    },
    {
     "name": "stderr",
     "output_type": "stream",
     "text": [
      "/var/folders/q9/dz7bsnq15t5crnph1_rcrhjr0000gn/T/ipykernel_1530/246796016.py:34: DeprecationWarning: Conversion of an array with ndim > 0 to a scalar is deprecated, and will error in future. Ensure you extract a single element from your array before performing this operation. (Deprecated NumPy 1.25.)\n",
      "  x = math.sqrt(sum(p)/10)\n"
     ]
    },
    {
     "name": "stdout",
     "output_type": "stream",
     "text": [
      "[b'HSE-GLY-VAL' b'HSE-ALA-THR' b'TRP-MET-ASP' b'HSE-GLY-THR'\n",
      " b'MET-TRP-ASP' b'HSE-CYS-GLY' b'HSE-GLY-ILE' b'TYR-GLN-TRP'\n",
      " b'TYR-GLN-TYR' b'THR-ARG-TRP']\n"
     ]
    },
    {
     "name": "stderr",
     "output_type": "stream",
     "text": [
      "/var/folders/q9/dz7bsnq15t5crnph1_rcrhjr0000gn/T/ipykernel_1530/246796016.py:34: DeprecationWarning: Conversion of an array with ndim > 0 to a scalar is deprecated, and will error in future. Ensure you extract a single element from your array before performing this operation. (Deprecated NumPy 1.25.)\n",
      "  x = math.sqrt(sum(p)/10)\n"
     ]
    },
    {
     "name": "stdout",
     "output_type": "stream",
     "text": [
      "[b'GLY-HSE-ILE' b'HSE-GLY-LEU' b'TRP-GLN-TYR' b'GLY-VAL-HSE'\n",
      " b'TRP-CYS-ASP' b'ARG-TRP-THR' b'HSE-SER-ALA' b'GLY-HSE-LEU'\n",
      " b'HSE-PRO-GLY' b'TYR-CYS-ASN']\n"
     ]
    },
    {
     "name": "stderr",
     "output_type": "stream",
     "text": [
      "/var/folders/q9/dz7bsnq15t5crnph1_rcrhjr0000gn/T/ipykernel_1530/246796016.py:34: DeprecationWarning: Conversion of an array with ndim > 0 to a scalar is deprecated, and will error in future. Ensure you extract a single element from your array before performing this operation. (Deprecated NumPy 1.25.)\n",
      "  x = math.sqrt(sum(p)/10)\n"
     ]
    },
    {
     "name": "stdout",
     "output_type": "stream",
     "text": [
      "[b'GLY-LEU-HSE' b'LEU-GLY-HSE' b'TYR-ASN-CYS' b'GLY-ILE-HSE'\n",
      " b'TYR-MET-ASN' b'ALA-ALA-HSE' b'MET-ASN-TYR' b'ALA-THR-HSE'\n",
      " b'ILE-GLY-HSE' b'HSE-LEU-GLY']\n"
     ]
    },
    {
     "name": "stderr",
     "output_type": "stream",
     "text": [
      "/var/folders/q9/dz7bsnq15t5crnph1_rcrhjr0000gn/T/ipykernel_1530/246796016.py:34: DeprecationWarning: Conversion of an array with ndim > 0 to a scalar is deprecated, and will error in future. Ensure you extract a single element from your array before performing this operation. (Deprecated NumPy 1.25.)\n",
      "  x = math.sqrt(sum(p)/10)\n"
     ]
    },
    {
     "name": "stdout",
     "output_type": "stream",
     "text": [
      "[b'HSE-TYR-ASN' b'GLY-THR-HSE' b'HSE-THR-ALA' b'LEU-HSE-GLY'\n",
      " b'TRP-PHE-GLU' b'TYR-TRP-ARG' b'LYS-GLY-TRP' b'HSE-TYR-ASP'\n",
      " b'CYS-TRP-ASP' b'GLN-TYR-TRP']\n"
     ]
    },
    {
     "name": "stderr",
     "output_type": "stream",
     "text": [
      "/var/folders/q9/dz7bsnq15t5crnph1_rcrhjr0000gn/T/ipykernel_1530/246796016.py:34: DeprecationWarning: Conversion of an array with ndim > 0 to a scalar is deprecated, and will error in future. Ensure you extract a single element from your array before performing this operation. (Deprecated NumPy 1.25.)\n",
      "  x = math.sqrt(sum(p)/10)\n"
     ]
    },
    {
     "name": "stdout",
     "output_type": "stream",
     "text": [
      "[b'SER-LYS-TRP' b'TYR-GLN-THR' b'TRP-TYR-ARG' b'TYR-ARG-TRP'\n",
      " b'TYR-CYS-ASP' b'PRO-LYS-TYR' b'SER-ALA-HSE' b'HSE-GLY-SER'\n",
      " b'TRP-ARG-PRO' b'HSE-SER-HSE']\n"
     ]
    },
    {
     "name": "stderr",
     "output_type": "stream",
     "text": [
      "/var/folders/q9/dz7bsnq15t5crnph1_rcrhjr0000gn/T/ipykernel_1530/246796016.py:34: DeprecationWarning: Conversion of an array with ndim > 0 to a scalar is deprecated, and will error in future. Ensure you extract a single element from your array before performing this operation. (Deprecated NumPy 1.25.)\n",
      "  x = math.sqrt(sum(p)/10)\n"
     ]
    },
    {
     "name": "stdout",
     "output_type": "stream",
     "text": [
      "[b'SER-HSE-ALA' b'THR-GLY-HSE' b'THR-ALA-HSE' b'THR-HSE-ALA'\n",
      " b'TRP-TRP-GLU' b'TRP-PRO-ARG' b'THR-TYR-GLN' b'SER-HSE-HSE'\n",
      " b'SER-GLY-HSE' b'TYR-ARG-PRO']\n"
     ]
    },
    {
     "name": "stderr",
     "output_type": "stream",
     "text": [
      "/var/folders/q9/dz7bsnq15t5crnph1_rcrhjr0000gn/T/ipykernel_1530/246796016.py:34: DeprecationWarning: Conversion of an array with ndim > 0 to a scalar is deprecated, and will error in future. Ensure you extract a single element from your array before performing this operation. (Deprecated NumPy 1.25.)\n",
      "  x = math.sqrt(sum(p)/10)\n"
     ]
    },
    {
     "name": "stdout",
     "output_type": "stream",
     "text": [
      "[b'THR-HSE-GLY' b'SER-HSE-GLY' b'SER-ALA-SER' b'TYR-TYR-LYS'\n",
      " b'SER-TRP-LYS' b'THR-HSE-ASN' b'THR-LYS-TRP' b'THR-TRP-LYS'\n",
      " b'TYR-THR-GLN' b'GLN-TRP-TYR']\n",
      "['SER-CYS-TRP', 'SER-SER-PHE', 'LYS-PHE-TRP', 'LYS-TRP-PHE']\n",
      "4\n"
     ]
    },
    {
     "name": "stderr",
     "output_type": "stream",
     "text": [
      "/var/folders/q9/dz7bsnq15t5crnph1_rcrhjr0000gn/T/ipykernel_1530/246796016.py:34: DeprecationWarning: Conversion of an array with ndim > 0 to a scalar is deprecated, and will error in future. Ensure you extract a single element from your array before performing this operation. (Deprecated NumPy 1.25.)\n",
      "  x = math.sqrt(sum(p)/10)\n"
     ]
    },
    {
     "name": "stdout",
     "output_type": "stream",
     "text": [
      "(array([b'THR-HSE-ASN', b'THR-ASN-HSE', b'ASN-HSE-THR', b'HSE-THR-ASN',\n",
      "       b'ASN-THR-HSE', b'HSE-ASN-THR', b'THR-HSE-GLY', b'SER-HSE-GLY',\n",
      "       b'ASN-HSE-CYS', b'ASN-CYS-HSE', b'SER-ALA-SER', b'THR-SER-ASN',\n",
      "       b'TYR-HSE-ASN', b'TYR-ASN-HSE', b'HSE-ASN-TYR', b'TYR-TYR-LYS',\n",
      "       b'SER-TRP-LYS', b'ASN-SER-SER', b'CYS-TYR-ASN', b'THR-LYS-TRP',\n",
      "       b'TYR-THR-GLN', b'ASN-THR-TYR', b'ASN-THR-SER', b'ASN-SER-THR',\n",
      "       b'TYR-GLY-HSE', b'TRP-ALA-ASN', b'SER-PHE-ASN', b'THR-TRP-LYS',\n",
      "       b'HSE-VAL-GLY', b'SER-TRP-ARG', b'SER-CYS-GLY', b'ARG-TRP-LEU',\n",
      "       b'HSE-THR-GLY', b'HSE-CYS-ASN', b'CYS-TRP-ASN', b'HSE-TYR-GLY',\n",
      "       b'ILE-THR-GLY', b'SER-THR-ASN', b'TYR-LYS-TYR', b'TRP-GLY-ASN'],\n",
      "      dtype=object),                 prediction\n",
      "b'LYS-TYR-ILE'    1.489686\n",
      "b'TYR-LYS-ILE'    1.534020\n",
      "b'ILE-LYS-TYR'    1.485479\n",
      "b'ILE-TYR-LYS'    1.464726\n",
      "b'LYS-ILE-TYR'    1.489941\n",
      "...                    ...\n",
      "b'ASP-ASP-GLU'    1.402235\n",
      "b'GLU-GLU-GLU'    1.347668\n",
      "b'ASP-GLU-GLU'    1.344630\n",
      "b'GLU-ASP-GLU'    1.349696\n",
      "b'GLU-GLU-ASP'    1.364924\n",
      "\n",
      "[1207 rows x 1 columns])\n"
     ]
    }
   ],
   "source": [
    "def runAL(num_iter,APs,judp,smiles,modp,x_train_jd,x_train_md,Y_train,sap):\n",
    "    a = []                                                                                            #array to keep track if any self-assembling peptide is found\n",
    "    y_nam = []\n",
    "    b = []                                                                                           #array to keep track if any self-assembling peptide is found\n",
    "    r = []\n",
    "    ind = []\n",
    "    aap = []\n",
    "    pap = []\n",
    "    aap1 = []\n",
    "    pap1 = []\n",
    "    aap2 = []\n",
    "    pap2 = []\n",
    "    c = 0\n",
    "    for i in range(num_iter):                                                                         #a for loop is for the number of iterations as given in input\n",
    "        y_nam_jd = topN(math.ceil((np.log(3)**2) * 1000),judp,x_train_jd,Y_train,y_nam)                     #Step 1: we get the names of top 1207 peptides which are predicted by judred model by calling the function 'topN'\n",
    "        y_nam, pred= topn(10,smiles, modp, y_nam_jd, x_train_md, Y_train)                                   #Step 2: from the peptides predicted by judred model we predict the top 10 AP scoring peptides as predicted by the mordred model\n",
    "        print(y_nam)\n",
    "        p = []\n",
    "        for j in y_nam:\n",
    "            jr = j.decode(encoding='utf-8')\n",
    "            p.append((np.array(APs.loc[jr])-np.array(pred.loc[j]))**2)\n",
    "            if c%10 == 0:\n",
    "                aap = np.append(aap,np.array(APs.loc[jr]),axis=0)\n",
    "                pap = np.append(pap,np.array(pred.loc[j]),axis=0)\n",
    "            if c%10 == 4:\n",
    "                aap1 = np.append(aap,np.array(APs.loc[jr]),axis=0)\n",
    "                pap1 = np.append(pap,np.array(pred.loc[j]),axis=0)\n",
    "            if c%10 == 8:\n",
    "                aap2 = np.append(aap,np.array(APs.loc[jr]),axis=0)\n",
    "                pap2 = np.append(pap,np.array(pred.loc[j]),axis=0)\n",
    "            if jr not in b:\n",
    "                b.append(jr)\n",
    "        c += 1\n",
    "        x = math.sqrt(sum(p)/10)\n",
    "        r.append(x)\n",
    "        ind.append(i)\n",
    "        a = pepidentifier(y_nam,sap,a,i)                                                                #we call the peptide identifier function which checks if any self-assembling peptide is predicted.\n",
    "        x_train_jd,x_train_md,Y_train = addToTrain(y_nam,APs,judp,modp,x_train_jd,x_train_md,Y_train) #Step 3: we add the top 10 peptides to the training set.\n",
    "    print(a)\n",
    "    print(len(a))\n",
    "    return topn(40,smiles, modp, y_nam_jd, x_train_md, Y_train),a,b,r,ind,aap,pap,aap1,pap1,aap2,pap2                                        #after the last iteration we print the top 40 peptides predicted by the mordred model.\n",
    "\n",
    "y_nam,a,b,r,ind,aap,pap,aap1,pap1,aap2,pap2 = runAL(100,APs,judp,smiles,modp,x_train_jd,x_train_md,Y_train,sap)                              #we run the active learning process for 100 iteration.\n",
    "print(y_nam)"
   ]
  },
  {
   "cell_type": "code",
   "execution_count": 17,
   "metadata": {},
   "outputs": [
    {
     "name": "stdout",
     "output_type": "stream",
     "text": [
      "[0, 1, 2, 3, 4, 5, 6, 7, 8, 9, 10, 11, 12, 13, 14, 15, 16, 17, 18, 19, 20, 21, 22, 23, 24, 25, 26, 27, 28, 29, 30, 31, 32, 33, 34, 35, 36, 37, 38, 39, 40, 41, 42, 43, 44, 45, 46, 47, 48, 49, 50, 51, 52, 53, 54, 55, 56, 57, 58, 59, 60, 61, 62, 63, 64, 65, 66, 67, 68, 69, 70, 71, 72, 73, 74, 75, 76, 77, 78, 79, 80, 81, 82, 83, 84, 85, 86, 87, 88, 89, 90, 91, 92, 93, 94, 95, 96, 97, 98, 99, 100, 101, 102, 103, 104, 105, 106, 107, 108, 109, 110, 111, 112, 114, 115, 116, 117, 118, 119, 120, 121, 122, 123, 124, 125, 126, 127, 128, 129, 130, 131, 132, 133, 134, 135, 136, 137, 138, 139, 140, 141, 142, 143, 144, 145, 146, 147, 148, 149, 150, 151, 152, 153, 154, 155, 156, 157, 158, 159, 160, 161, 162, 163, 164, 165, 166, 167, 168, 169, 170, 171, 172, 173, 174, 175, 177, 178, 179, 180, 181, 182, 183, 184, 185, 186, 187, 188, 189, 190, 191, 192, 193, 194, 195, 196, 197, 198, 199, 200, 201, 202, 203, 204, 205, 206, 207, 208, 209, 210, 211, 212, 213, 214, 215, 216, 217, 218, 219, 220, 221, 222, 223, 224, 225, 226, 227, 228, 229, 230, 231, 232, 233, 234, 235, 236, 237, 238, 239, 240, 241, 242, 243, 244, 245, 246, 247, 248, 249, 250, 251, 252, 253, 254, 255, 256, 257, 258, 259, 260, 261, 262, 263, 264, 265, 266, 267, 268, 269, 270, 271, 272, 273, 274, 275, 276, 277, 278, 279, 280, 281, 282, 283, 284, 285, 286, 287, 288, 289, 290, 291, 292, 293, 294, 295, 296, 297, 298, 299, 300, 301, 302, 303, 304, 305, 306, 307, 308, 309, 310, 311, 312, 313, 314, 315, 316, 317, 318, 319, 320, 321, 322, 323, 324, 325, 326, 327, 328, 329, 330, 331, 332, 333, 334, 335, 336, 337, 338, 339, 340, 341, 342, 343, 344, 345, 346, 347, 348, 349, 350, 351, 352, 353, 354, 355, 356, 357, 358, 359, 360, 361, 362, 363, 364, 365, 366, 367, 368, 369, 370, 371, 372, 373, 374, 375, 376, 377, 378, 379, 380, 381, 382, 383, 384, 385, 386, 387, 388, 389, 390, 391, 392, 393, 394, 395, 396, 397, 398, 399, 400, 401, 402, 403, 404, 405, 406, 407, 408, 409, 410, 411, 412, 413, 414, 415, 416, 417, 418, 419, 420, 421, 422, 423, 424, 425, 426, 427, 428, 429, 430, 431, 432, 433, 434, 435, 436, 437, 438, 439, 440, 441, 442, 443, 444, 445, 446, 447, 448, 449, 450, 451, 452, 453, 454, 455, 456, 457, 458, 459, 460, 461, 462, 463, 464, 465, 466, 467, 468, 469, 470, 471, 472, 473, 474, 475, 476, 477, 478, 479, 480, 481, 482, 483, 484, 485, 486, 487, 488, 489, 490, 491, 492, 493, 494, 495, 496, 497, 498, 499, 500, 501, 502, 503, 504, 505, 506, 507, 508, 509, 510, 511, 512, 513, 514, 515, 516, 517, 518, 519, 520, 521, 522, 523, 524, 525, 526, 527, 528, 529, 530, 531, 532, 533, 534, 535, 536, 537, 538, 539, 540, 541, 542, 543, 544, 545, 546, 547, 548, 549, 550, 551, 554, 555, 556, 557, 558, 559, 560, 561, 562, 563, 564, 565, 566, 567, 568, 569, 570, 571, 572, 573, 574, 575, 576, 577, 578, 579, 580, 581, 582, 583, 584, 585, 586, 587, 588, 589, 590, 591, 592, 593, 594, 595, 596, 597, 598, 599, 600, 601, 602, 603, 604, 605, 606, 607, 608, 609, 610, 611, 612, 613, 614, 615, 616, 617, 618, 619, 620, 621, 622, 623, 624, 625, 626, 627, 628, 629, 630, 631, 632, 633, 634, 635, 636, 637, 638, 639, 640, 641, 642, 643, 644, 645, 646, 647, 648, 649, 650, 651, 652, 653, 654, 655, 656, 657, 658, 659, 660, 661, 662, 663, 664, 665, 666, 667, 668, 669, 670, 671, 672, 673, 674, 675, 676, 677, 678, 679, 680, 681, 682, 683, 684, 685, 686, 687, 688, 689, 690, 691, 692, 693, 694, 695, 696, 697, 698, 699, 700, 701, 702, 703, 704, 705, 706, 707, 708, 709, 710, 711, 712, 713, 714, 715, 716, 717, 718, 719, 720, 721, 722, 723, 724, 725, 726, 727, 728, 729, 730, 731, 732, 733, 734, 735, 736, 737, 738, 739, 740, 741, 742, 743, 744, 745, 746, 747, 748, 749, 750, 751, 752, 753, 754, 755, 756, 757, 758, 759, 760, 761, 762, 763, 764, 765, 766, 767, 768, 769, 770, 771, 772, 773, 774, 775, 776, 777, 778, 779, 780, 781, 782, 783, 784, 785, 786, 787, 788, 789, 790, 791, 792, 793, 794, 795, 796, 797, 798, 799, 800, 801, 802, 803, 804, 805, 806, 807, 808, 809, 810, 811, 812, 813, 814, 815, 816, 817, 818, 819, 820, 821, 822, 823, 824, 825, 826, 827, 828, 829, 830, 831, 832, 833, 834, 835, 836, 837, 838, 839, 840, 841, 842, 843, 844, 845, 846, 847, 848, 849, 850, 851, 852, 853, 854, 855, 856, 857, 858, 859, 860, 861, 862, 863, 864, 865, 866, 867, 868, 869, 870, 871, 872, 873, 874, 875, 876, 877, 878, 879, 880, 881, 882, 883, 884, 885, 886, 887, 888, 889, 890, 891, 892, 893, 894, 895, 896, 897, 898, 899, 900, 901, 902, 903, 904, 905, 906, 907, 908, 909, 910, 911, 912, 913, 914, 915, 916, 917, 918, 919, 920, 921, 922, 923, 924, 925, 926, 927, 928, 929, 930, 931, 932, 933, 934, 935, 936, 937, 938, 939, 940, 941, 942, 943, 944, 945, 946, 947, 948, 949, 950, 951, 952, 953, 954, 955, 956, 957, 958, 959, 960, 961, 962, 963, 964, 965, 966, 967, 968, 969, 970, 971, 972, 973, 974, 975, 976, 977, 978, 979, 980, 981, 982, 983, 984, 985, 986, 987, 988, 989, 990, 991, 992, 993, 994, 995, 996, 997, 998]\n",
      "[113, 176, 552, 553]\n"
     ]
    },
    {
     "data": {
      "image/png": "[encoded data removed]",
      "text/plain": [
       "<Figure size 640x480 with 1 Axes>"
      ]
     },
     "metadata": {},
     "output_type": "display_data"
    }
   ],
   "source": [
    "def plotmm(a,b,APs):\n",
    "    ind = []\n",
    "    randpep = []\n",
    "    for i in range(800):\n",
    "        c = random.randint(1,5555)\n",
    "        ind.append(c)\n",
    "    for i in range(len(ind)):\n",
    "        randpep.append(APs.iloc[ind[i]-1])\n",
    "    randpep = np.array(randpep)\n",
    "    randmax = max(randpep)\n",
    "    randmn = sum(randpep)/len(randpep)\n",
    "    b_ind = []\n",
    "    b_AP = []\n",
    "    a_ind = []\n",
    "    a_AP = []\n",
    "    for i in range(len(b)-1):\n",
    "        if b[i] not in a:\n",
    "            b_ind.append(i)\n",
    "            b_AP.append(APs.loc[b[i]])\n",
    "        else:\n",
    "            a_ind.append(i)\n",
    "            a_AP.append(APs.loc[b[i]])\n",
    "    print(b_ind)\n",
    "    print(a_ind)\n",
    "    x = np.array(b_ind)\n",
    "    y = np.array(b_AP)\n",
    "    plt.scatter(x,y,color='red')\n",
    "    m = np.array(a_ind)\n",
    "    n = np.array(a_AP)\n",
    "    plt.scatter(m,n,color='black')\n",
    "    plt.axhline(y=randmax,color='blue',label='randmax')\n",
    "    plt.axhline(y=randmn,color='green',label='randmean')\n",
    "    plt.show()\n",
    "    return None\n",
    "plotmm(a,b,APs)"
   ]
  },
  {
   "cell_type": "code",
   "execution_count": 18,
   "metadata": {},
   "outputs": [
    {
     "name": "stdout",
     "output_type": "stream",
     "text": [
      "Number of peptides explored = 1000\n"
     ]
    }
   ],
   "source": [
    "print('Number of peptides explored = '+ str(len(b)))"
   ]
  },
  {
   "cell_type": "code",
   "execution_count": 19,
   "metadata": {},
   "outputs": [
    {
     "name": "stderr",
     "output_type": "stream",
     "text": [
      "/var/folders/q9/dz7bsnq15t5crnph1_rcrhjr0000gn/T/ipykernel_1530/2147411487.py:5: DeprecationWarning: Calling np.sum(generator) is deprecated, and in the future will give a different result. Use np.sum(np.fromiter(generator)) or the python sum builtin instead.\n",
      "  poly.append(np.sum(coef[3-j]*(i**j) for j in range(len(coef))))\n"
     ]
    },
    {
     "data": {
      "text/plain": [
       "<function matplotlib.pyplot.show(close=None, block=None)>"
      ]
     },
     "execution_count": 19,
     "metadata": {},
     "output_type": "execute_result"
    },
    {
     "data": {
      "image/png": "[encoded data removed]",
      "text/plain": [
       "<Figure size 640x480 with 1 Axes>"
      ]
     },
     "metadata": {},
     "output_type": "display_data"
    }
   ],
   "source": [
    "def bestfitpoly(r,ind):\n",
    "    coef = np.polyfit(ind,r,3)\n",
    "    poly = []\n",
    "    for i in ind:\n",
    "        poly.append(np.sum(coef[3-j]*(i**j) for j in range(len(coef))))\n",
    "    return poly\n",
    "plt.scatter(ind,r,color='black',s=10)\n",
    "plt.plot(ind,bestfitpoly(r,ind),c = 'green')\n",
    "plt.xlabel('#peptides')\n",
    "plt.ylabel('RMSE')\n",
    "plt.show"
   ]
  },
  {
   "cell_type": "code",
   "execution_count": 20,
   "metadata": {},
   "outputs": [
    {
     "data": {
      "image/png": "[encoded data removed]",
      "text/plain": [
       "<Figure size 640x480 with 1 Axes>"
      ]
     },
     "metadata": {},
     "output_type": "display_data"
    }
   ],
   "source": [
    "plt.scatter(pap,aap,marker='x')\n",
    "c = 0\n",
    "for xy in zip(pap, aap):\n",
    "    c+=1\n",
    "    if c%25 == 0:\n",
    "        plt.annotate('(%.2f, %.2f)' % xy, xy=xy)\n",
    "plt.plot([1.75,2.75],[1.75,2.75],linestyle='dotted')\n",
    "plt.xlabel('Predicted AP')\n",
    "plt.ylabel('Actual AP')\n",
    "plt.show()"
   ]
  },
  {
   "cell_type": "markdown",
   "metadata": {},
   "source": [
    "But we find that at max only one peptide is found in the process for 80 iterations, whereas 20 peptides where found within 15 iterations in the paper.  "
   ]
  },
  {
   "cell_type": "code",
   "execution_count": 21,
   "metadata": {},
   "outputs": [
    {
     "data": {
      "image/png": "[encoded data removed]",
      "text/plain": [
       "<Figure size 640x480 with 1 Axes>"
      ]
     },
     "metadata": {},
     "output_type": "display_data"
    }
   ],
   "source": [
    "plt.scatter(pap1,aap1,marker='x')\n",
    "c = 0\n",
    "for xy in zip(pap1, aap1):\n",
    "    c+=1\n",
    "    if c%25 == 0:\n",
    "        plt.annotate('(%.2f, %.2f)' % xy, xy=xy)\n",
    "plt.plot([1.75,2.75],[1.75,2.75],linestyle='dotted')\n",
    "plt.xlabel('Predicted AP')\n",
    "plt.ylabel('Actual AP')\n",
    "plt.show()"
   ]
  },
  {
   "cell_type": "code",
   "execution_count": 22,
   "metadata": {},
   "outputs": [
    {
     "data": {
      "image/png": "[encoded data removed]",
      "text/plain": [
       "<Figure size 640x480 with 1 Axes>"
      ]
     },
     "metadata": {},
     "output_type": "display_data"
    }
   ],
   "source": [
    "plt.scatter(pap2,aap2,marker='x')\n",
    "c = 0\n",
    "for xy in zip(pap2, aap2):\n",
    "   c+=1\n",
    "   if c%25 == 0:\n",
    "      plt.annotate('(%.2f, %.2f)' % xy, xy=xy)\n",
    "plt.plot([1.75,2.75],[1.75,2.75],linestyle='dotted')\n",
    "plt.xlabel('Predicted AP')\n",
    "plt.ylabel('Actual AP')\n",
    "plt.show()"
   ]
  },
  {
   "cell_type": "code",
   "execution_count": 29,
   "metadata": {},
   "outputs": [
    {
     "data": {
      "image/png": "[encoded data removed]",
      "text/plain": [
       "<Figure size 640x480 with 1 Axes>"
      ]
     },
     "metadata": {},
     "output_type": "display_data"
    }
   ],
   "source": [
    "plt.hist(logparr, bins= 20)\n",
    "plt.show()"
   ]
  },
  {
   "cell_type": "code",
   "execution_count": 30,
   "metadata": {},
   "outputs": [
    {
     "data": {
      "text/plain": [
       "-7.23"
      ]
     },
     "execution_count": 30,
     "metadata": {},
     "output_type": "execute_result"
    }
   ],
   "source": [
    "np.min(logparr)"
   ]
  },
  {
   "cell_type": "code",
   "execution_count": null,
   "metadata": {},
   "outputs": [],
   "source": []
  }
 ],
 "metadata": {
  "kernelspec": {
   "display_name": "Python 3",
   "language": "python",
   "name": "python3"
  },
  "language_info": {
   "codemirror_mode": {
    "name": "ipython",
    "version": 3
   },
   "file_extension": ".py",
   "mimetype": "text/x-python",
   "name": "python",
   "nbconvert_exporter": "python",
   "pygments_lexer": "ipython3",
   "version": "3.11.7"
  }
 },
 "nbformat": 4,
 "nbformat_minor": 2
}
