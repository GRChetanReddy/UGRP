{
 "cells": [
  {
   "cell_type": "markdown",
   "metadata": {},
   "source": [
    "In this jupyter notebook we try to implement the Active Learning algorithm to find self assembling tripeptides. We start out by importing important libraries for our algorithm."
   ]
  },
  {
   "cell_type": "code",
   "execution_count": 1,
   "metadata": {},
   "outputs": [],
   "source": [
    "#importing stuff\n",
    "import numpy as np                                      \n",
    "import pandas as pd\n",
    "import matplotlib.pyplot as plt\n",
    "import math,os,random,sys,h5py\n",
    "from sklearn import preprocessing\n",
    "from sklearn.svm import SVR\n",
    "from sklearn.impute import SimpleImputer"
   ]
  },
  {
   "cell_type": "markdown",
   "metadata": {},
   "source": [
    "The function below takes a pandas dataframe and normalizes it. "
   ]
  },
  {
   "cell_type": "code",
   "execution_count": 2,
   "metadata": {},
   "outputs": [],
   "source": [
    "def normalize_pandas_data(data):\n",
    "    min_max_scaler = preprocessing.MinMaxScaler(feature_range=(-1, 1))\n",
    "    new_data = min_max_scaler.fit_transform(data)\n",
    "    return pd.DataFrame(new_data, index=data.index, columns=data.columns)"
   ]
  },
  {
   "cell_type": "markdown",
   "metadata": {},
   "source": [
    "Next we read the data from the files to use it. Since we have AP data for all peptides we use this data instead of running a simulation in each step.\n",
    "Note: 'sap' is a list of all self-assembling peptides as predicted by Tuttle et al.3"
   ]
  },
  {
   "cell_type": "code",
   "execution_count": 3,
   "metadata": {},
   "outputs": [],
   "source": [
    "APs = pd.read_csv(\"tripeptide_AP.txt\", sep=\": \", index_col=0, header=None, engine = 'python')              #AP scores from simulation\n",
    "f = h5py.File('tripeptides.hdf5','r')                                                                      #reading data from the file generated from judred generator\n",
    "peps = np.array(f.get('peptides'))\n",
    "feas = np.array(f.get('features'))\n",
    "data = np.array(f.get('data'))\n",
    "f.close()\n",
    "judp = pd.DataFrame(data, columns = feas, index = peps)                              #arranging it into a pandas data frame\n",
    "#judp.drop(judp[judp[b'LogP WW']<0].index,inplace=True)\n",
    "judp = normalize_pandas_data(judp)\n",
    "smiles = pd.read_csv(\"smi.txt\", sep=\": \", engine='python')                                                  #smiles data of peptides by their names\n",
    "modp = normalize_pandas_data(pd.read_csv('Mordred_Parameters_to_be_used.csv', sep=',', engine='python'))    #mordred data in same order as the smiles data\n",
    "sap = ['PHE-PHE-PHE','TRP-PHE-PHE','PHE-TRP-PHE','PHE-PHE-TRP','ILE-PHE-TRP','PHE-TYR-ILE','PRO-TRP-PHE','TRP-PHE-LEU','ILE-PHE-PHE','VAL-PHE-TRP','PRO-PHE-PHE','PHE-PHE-MET','TRP-PHE-PHE','VAL-PHE-PHE','MET-PHE-PHE','TRP-LEU-LEU','SER-PHE-TRP','ILE-MET-TRP','LEU-CYS-PHE','SER-SER-PHE','SER-CYS-TRP','LYS-TRP-PHE','LYS-PHE-TRP','LYS-TRP-ASP','LYS-HSE-ASP','TRP-LYS-ASP','HSE-LYS-ASP','LYS-TYR-ASP','LYS-PHE-ASP','LYS-TRP-GLU','TRP-LYS-GLU','LYS-GLU-HSE','LYS-TYR-GLU','LYS-HSE-GLU','PRO-CYS-PHE','THR-SER-PHE','GLY-PHE-PHE','VAL-ALA-TRP']       #list of self assenbling peptides"
   ]
  },
  {
   "cell_type": "code",
   "execution_count": 4,
   "metadata": {},
   "outputs": [
    {
     "data": {
      "text/html": [
       "<div>\n",
       "<style scoped>\n",
       "    .dataframe tbody tr th:only-of-type {\n",
       "        vertical-align: middle;\n",
       "    }\n",
       "\n",
       "    .dataframe tbody tr th {\n",
       "        vertical-align: top;\n",
       "    }\n",
       "\n",
       "    .dataframe thead th {\n",
       "        text-align: right;\n",
       "    }\n",
       "</style>\n",
       "<table border=\"1\" class=\"dataframe\">\n",
       "  <thead>\n",
       "    <tr style=\"text-align: right;\">\n",
       "      <th></th>\n",
       "      <th>1</th>\n",
       "    </tr>\n",
       "    <tr>\n",
       "      <th>0</th>\n",
       "      <th></th>\n",
       "    </tr>\n",
       "  </thead>\n",
       "  <tbody>\n",
       "    <tr>\n",
       "      <th>ALA-ALA-ALA</th>\n",
       "      <td>1.648900</td>\n",
       "    </tr>\n",
       "    <tr>\n",
       "      <th>ASN-GLN-CYS</th>\n",
       "      <td>1.739705</td>\n",
       "    </tr>\n",
       "    <tr>\n",
       "      <th>ALA-ALA-CYS</th>\n",
       "      <td>2.176944</td>\n",
       "    </tr>\n",
       "    <tr>\n",
       "      <th>PRO-VAL-ALA</th>\n",
       "      <td>1.126057</td>\n",
       "    </tr>\n",
       "    <tr>\n",
       "      <th>VAL-PRO-ALA</th>\n",
       "      <td>1.095680</td>\n",
       "    </tr>\n",
       "    <tr>\n",
       "      <th>...</th>\n",
       "      <td>...</td>\n",
       "    </tr>\n",
       "    <tr>\n",
       "      <th>VAL-SER-ALA</th>\n",
       "      <td>1.381075</td>\n",
       "    </tr>\n",
       "    <tr>\n",
       "      <th>VAL-SER-GLN</th>\n",
       "      <td>1.664895</td>\n",
       "    </tr>\n",
       "    <tr>\n",
       "      <th>VAL-SER-GLU</th>\n",
       "      <td>1.168641</td>\n",
       "    </tr>\n",
       "    <tr>\n",
       "      <th>VAL-THR-GLN</th>\n",
       "      <td>1.180397</td>\n",
       "    </tr>\n",
       "    <tr>\n",
       "      <th>VAL-TRP-ARG</th>\n",
       "      <td>1.806671</td>\n",
       "    </tr>\n",
       "  </tbody>\n",
       "</table>\n",
       "<p>8000 rows × 1 columns</p>\n",
       "</div>"
      ],
      "text/plain": [
       "                    1\n",
       "0                    \n",
       "ALA-ALA-ALA  1.648900\n",
       "ASN-GLN-CYS  1.739705\n",
       "ALA-ALA-CYS  2.176944\n",
       "PRO-VAL-ALA  1.126057\n",
       "VAL-PRO-ALA  1.095680\n",
       "...               ...\n",
       "VAL-SER-ALA  1.381075\n",
       "VAL-SER-GLN  1.664895\n",
       "VAL-SER-GLU  1.168641\n",
       "VAL-THR-GLN  1.180397\n",
       "VAL-TRP-ARG  1.806671\n",
       "\n",
       "[8000 rows x 1 columns]"
      ]
     },
     "execution_count": 4,
     "metadata": {},
     "output_type": "execute_result"
    }
   ],
   "source": [
    "APs"
   ]
  },
  {
   "cell_type": "code",
   "execution_count": 5,
   "metadata": {},
   "outputs": [
    {
     "data": {
      "text/html": [
       "<div>\n",
       "<style scoped>\n",
       "    .dataframe tbody tr th:only-of-type {\n",
       "        vertical-align: middle;\n",
       "    }\n",
       "\n",
       "    .dataframe tbody tr th {\n",
       "        vertical-align: top;\n",
       "    }\n",
       "\n",
       "    .dataframe thead th {\n",
       "        text-align: right;\n",
       "    }\n",
       "</style>\n",
       "<table border=\"1\" class=\"dataframe\">\n",
       "  <thead>\n",
       "    <tr style=\"text-align: right;\">\n",
       "      <th></th>\n",
       "      <th>b'SP2'</th>\n",
       "      <th>b'NH2'</th>\n",
       "      <th>b'MW'</th>\n",
       "      <th>b'S'</th>\n",
       "      <th>b'LogP WW'</th>\n",
       "      <th>b'Z'</th>\n",
       "      <th>b'MaxASA'</th>\n",
       "      <th>b'RotRatio'</th>\n",
       "      <th>b'Bulkiness'</th>\n",
       "      <th>b'OH'</th>\n",
       "    </tr>\n",
       "  </thead>\n",
       "  <tbody>\n",
       "    <tr>\n",
       "      <th>b'ALA-ALA-CYS'</th>\n",
       "      <td>-1.000000</td>\n",
       "      <td>-1.0</td>\n",
       "      <td>-0.617271</td>\n",
       "      <td>-0.333333</td>\n",
       "      <td>0.314700</td>\n",
       "      <td>0.000000</td>\n",
       "      <td>-0.583794</td>\n",
       "      <td>-1.000000</td>\n",
       "      <td>-0.041781</td>\n",
       "      <td>-1.000000</td>\n",
       "    </tr>\n",
       "    <tr>\n",
       "      <th>b'ALA-ALA-ASP'</th>\n",
       "      <td>-0.916667</td>\n",
       "      <td>-1.0</td>\n",
       "      <td>-0.555590</td>\n",
       "      <td>-1.000000</td>\n",
       "      <td>-0.138716</td>\n",
       "      <td>-0.333333</td>\n",
       "      <td>-0.488029</td>\n",
       "      <td>-0.916667</td>\n",
       "      <td>-0.106732</td>\n",
       "      <td>-1.000000</td>\n",
       "    </tr>\n",
       "    <tr>\n",
       "      <th>b'ALA-ALA-GLU'</th>\n",
       "      <td>-0.916667</td>\n",
       "      <td>-1.0</td>\n",
       "      <td>-0.483225</td>\n",
       "      <td>-1.000000</td>\n",
       "      <td>0.026915</td>\n",
       "      <td>-0.333333</td>\n",
       "      <td>-0.377532</td>\n",
       "      <td>-0.937500</td>\n",
       "      <td>-0.037767</td>\n",
       "      <td>-1.000000</td>\n",
       "    </tr>\n",
       "    <tr>\n",
       "      <th>b'ALA-ALA-PHE'</th>\n",
       "      <td>-0.500000</td>\n",
       "      <td>-1.0</td>\n",
       "      <td>-0.390007</td>\n",
       "      <td>-1.000000</td>\n",
       "      <td>0.480331</td>\n",
       "      <td>0.000000</td>\n",
       "      <td>-0.314917</td>\n",
       "      <td>-0.500000</td>\n",
       "      <td>0.189564</td>\n",
       "      <td>-1.000000</td>\n",
       "    </tr>\n",
       "    <tr>\n",
       "      <th>b'ALA-ALA-GLY'</th>\n",
       "      <td>-1.000000</td>\n",
       "      <td>-1.0</td>\n",
       "      <td>-0.855167</td>\n",
       "      <td>-1.000000</td>\n",
       "      <td>0.124224</td>\n",
       "      <td>0.000000</td>\n",
       "      <td>-0.815838</td>\n",
       "      <td>-1.000000</td>\n",
       "      <td>-0.408867</td>\n",
       "      <td>-1.000000</td>\n",
       "    </tr>\n",
       "    <tr>\n",
       "      <th>...</th>\n",
       "      <td>...</td>\n",
       "      <td>...</td>\n",
       "      <td>...</td>\n",
       "      <td>...</td>\n",
       "      <td>...</td>\n",
       "      <td>...</td>\n",
       "      <td>...</td>\n",
       "      <td>...</td>\n",
       "      <td>...</td>\n",
       "      <td>...</td>\n",
       "    </tr>\n",
       "    <tr>\n",
       "      <th>b'TYR-TYR-THR'</th>\n",
       "      <td>0.000000</td>\n",
       "      <td>-1.0</td>\n",
       "      <td>0.322855</td>\n",
       "      <td>-1.000000</td>\n",
       "      <td>0.378882</td>\n",
       "      <td>0.000000</td>\n",
       "      <td>0.421731</td>\n",
       "      <td>-0.250000</td>\n",
       "      <td>0.519066</td>\n",
       "      <td>1.000000</td>\n",
       "    </tr>\n",
       "    <tr>\n",
       "      <th>b'TYR-TYR-VAL'</th>\n",
       "      <td>0.000000</td>\n",
       "      <td>-1.0</td>\n",
       "      <td>0.312687</td>\n",
       "      <td>-1.000000</td>\n",
       "      <td>0.511387</td>\n",
       "      <td>0.000000</td>\n",
       "      <td>0.429098</td>\n",
       "      <td>-0.400000</td>\n",
       "      <td>0.730706</td>\n",
       "      <td>0.333333</td>\n",
       "    </tr>\n",
       "    <tr>\n",
       "      <th>b'TYR-TYR-TRP'</th>\n",
       "      <td>0.666667</td>\n",
       "      <td>-1.0</td>\n",
       "      <td>0.762155</td>\n",
       "      <td>-1.000000</td>\n",
       "      <td>0.451346</td>\n",
       "      <td>0.000000</td>\n",
       "      <td>0.837937</td>\n",
       "      <td>0.666667</td>\n",
       "      <td>0.734355</td>\n",
       "      <td>0.333333</td>\n",
       "    </tr>\n",
       "    <tr>\n",
       "      <th>b'TYR-TYR-TYR'</th>\n",
       "      <td>0.500000</td>\n",
       "      <td>-1.0</td>\n",
       "      <td>0.643233</td>\n",
       "      <td>-1.000000</td>\n",
       "      <td>0.354037</td>\n",
       "      <td>0.000000</td>\n",
       "      <td>0.756906</td>\n",
       "      <td>0.500000</td>\n",
       "      <td>0.601533</td>\n",
       "      <td>1.000000</td>\n",
       "    </tr>\n",
       "    <tr>\n",
       "      <th>b'ALA-ALA-ALA'</th>\n",
       "      <td>-1.000000</td>\n",
       "      <td>-1.0</td>\n",
       "      <td>-0.782750</td>\n",
       "      <td>-1.000000</td>\n",
       "      <td>0.291926</td>\n",
       "      <td>0.000000</td>\n",
       "      <td>-0.723757</td>\n",
       "      <td>-1.000000</td>\n",
       "      <td>-0.113301</td>\n",
       "      <td>-1.000000</td>\n",
       "    </tr>\n",
       "  </tbody>\n",
       "</table>\n",
       "<p>8000 rows × 10 columns</p>\n",
       "</div>"
      ],
      "text/plain": [
       "                  b'SP2'  b'NH2'     b'MW'      b'S'  b'LogP WW'      b'Z'  \\\n",
       "b'ALA-ALA-CYS' -1.000000    -1.0 -0.617271 -0.333333    0.314700  0.000000   \n",
       "b'ALA-ALA-ASP' -0.916667    -1.0 -0.555590 -1.000000   -0.138716 -0.333333   \n",
       "b'ALA-ALA-GLU' -0.916667    -1.0 -0.483225 -1.000000    0.026915 -0.333333   \n",
       "b'ALA-ALA-PHE' -0.500000    -1.0 -0.390007 -1.000000    0.480331  0.000000   \n",
       "b'ALA-ALA-GLY' -1.000000    -1.0 -0.855167 -1.000000    0.124224  0.000000   \n",
       "...                  ...     ...       ...       ...         ...       ...   \n",
       "b'TYR-TYR-THR'  0.000000    -1.0  0.322855 -1.000000    0.378882  0.000000   \n",
       "b'TYR-TYR-VAL'  0.000000    -1.0  0.312687 -1.000000    0.511387  0.000000   \n",
       "b'TYR-TYR-TRP'  0.666667    -1.0  0.762155 -1.000000    0.451346  0.000000   \n",
       "b'TYR-TYR-TYR'  0.500000    -1.0  0.643233 -1.000000    0.354037  0.000000   \n",
       "b'ALA-ALA-ALA' -1.000000    -1.0 -0.782750 -1.000000    0.291926  0.000000   \n",
       "\n",
       "                b'MaxASA'  b'RotRatio'  b'Bulkiness'     b'OH'  \n",
       "b'ALA-ALA-CYS'  -0.583794    -1.000000     -0.041781 -1.000000  \n",
       "b'ALA-ALA-ASP'  -0.488029    -0.916667     -0.106732 -1.000000  \n",
       "b'ALA-ALA-GLU'  -0.377532    -0.937500     -0.037767 -1.000000  \n",
       "b'ALA-ALA-PHE'  -0.314917    -0.500000      0.189564 -1.000000  \n",
       "b'ALA-ALA-GLY'  -0.815838    -1.000000     -0.408867 -1.000000  \n",
       "...                   ...          ...           ...       ...  \n",
       "b'TYR-TYR-THR'   0.421731    -0.250000      0.519066  1.000000  \n",
       "b'TYR-TYR-VAL'   0.429098    -0.400000      0.730706  0.333333  \n",
       "b'TYR-TYR-TRP'   0.837937     0.666667      0.734355  0.333333  \n",
       "b'TYR-TYR-TYR'   0.756906     0.500000      0.601533  1.000000  \n",
       "b'ALA-ALA-ALA'  -0.723757    -1.000000     -0.113301 -1.000000  \n",
       "\n",
       "[8000 rows x 10 columns]"
      ]
     },
     "execution_count": 5,
     "metadata": {},
     "output_type": "execute_result"
    }
   ],
   "source": [
    "judp"
   ]
  },
  {
   "cell_type": "code",
   "execution_count": 6,
   "metadata": {},
   "outputs": [
    {
     "data": {
      "text/html": [
       "<div>\n",
       "<style scoped>\n",
       "    .dataframe tbody tr th:only-of-type {\n",
       "        vertical-align: middle;\n",
       "    }\n",
       "\n",
       "    .dataframe tbody tr th {\n",
       "        vertical-align: top;\n",
       "    }\n",
       "\n",
       "    .dataframe thead th {\n",
       "        text-align: right;\n",
       "    }\n",
       "</style>\n",
       "<table border=\"1\" class=\"dataframe\">\n",
       "  <thead>\n",
       "    <tr style=\"text-align: right;\">\n",
       "      <th></th>\n",
       "      <th>Peptides</th>\n",
       "      <th>smiles</th>\n",
       "    </tr>\n",
       "  </thead>\n",
       "  <tbody>\n",
       "    <tr>\n",
       "      <th>0</th>\n",
       "      <td>ALA-ALA-ALA</td>\n",
       "      <td>[H]N[C@@H](C)C(=O)N[C@@H](C)C(=O)N[C@@H](C)C(O)=O</td>\n",
       "    </tr>\n",
       "    <tr>\n",
       "      <th>1</th>\n",
       "      <td>ALA-ALA-CYS</td>\n",
       "      <td>[H]N[C@@H](C)C(=O)N[C@@H](C)C(=O)N[C@@H](CS)C(...</td>\n",
       "    </tr>\n",
       "    <tr>\n",
       "      <th>2</th>\n",
       "      <td>ALA-ALA-ASP</td>\n",
       "      <td>[H]N[C@@H](C)C(=O)N[C@@H](C)C(=O)N[C@@H](CC(O)...</td>\n",
       "    </tr>\n",
       "    <tr>\n",
       "      <th>3</th>\n",
       "      <td>ALA-ALA-GLU</td>\n",
       "      <td>[H]N[C@@H](C)C(=O)N[C@@H](C)C(=O)N[C@@H](CCC(O...</td>\n",
       "    </tr>\n",
       "    <tr>\n",
       "      <th>4</th>\n",
       "      <td>ALA-ALA-PHE</td>\n",
       "      <td>[H]N[C@@H](C)C(=O)N[C@@H](C)C(=O)N[C@@H](CC1=C...</td>\n",
       "    </tr>\n",
       "    <tr>\n",
       "      <th>...</th>\n",
       "      <td>...</td>\n",
       "      <td>...</td>\n",
       "    </tr>\n",
       "    <tr>\n",
       "      <th>7995</th>\n",
       "      <td>TYR-TYR-SER</td>\n",
       "      <td>[H]N[C@@H](CC1=CC=C(O)C=C1)C(=O)N[C@@H](CC1=CC...</td>\n",
       "    </tr>\n",
       "    <tr>\n",
       "      <th>7996</th>\n",
       "      <td>TYR-TYR-THR</td>\n",
       "      <td>[H]N[C@@H](CC1=CC=C(O)C=C1)C(=O)N[C@@H](CC1=CC...</td>\n",
       "    </tr>\n",
       "    <tr>\n",
       "      <th>7997</th>\n",
       "      <td>TYR-TYR-VAL</td>\n",
       "      <td>[H]N[C@@H](CC1=CC=C(O)C=C1)C(=O)N[C@@H](CC1=CC...</td>\n",
       "    </tr>\n",
       "    <tr>\n",
       "      <th>7998</th>\n",
       "      <td>TYR-TYR-TRP</td>\n",
       "      <td>[H]N[C@@H](CC1=CC=C(O)C=C1)C(=O)N[C@@H](CC1=CC...</td>\n",
       "    </tr>\n",
       "    <tr>\n",
       "      <th>7999</th>\n",
       "      <td>TYR-TYR-TYR</td>\n",
       "      <td>[H]N[C@@H](CC1=CC=C(O)C=C1)C(=O)N[C@@H](CC1=CC...</td>\n",
       "    </tr>\n",
       "  </tbody>\n",
       "</table>\n",
       "<p>8000 rows × 2 columns</p>\n",
       "</div>"
      ],
      "text/plain": [
       "         Peptides                                             smiles\n",
       "0     ALA-ALA-ALA  [H]N[C@@H](C)C(=O)N[C@@H](C)C(=O)N[C@@H](C)C(O)=O\n",
       "1     ALA-ALA-CYS  [H]N[C@@H](C)C(=O)N[C@@H](C)C(=O)N[C@@H](CS)C(...\n",
       "2     ALA-ALA-ASP  [H]N[C@@H](C)C(=O)N[C@@H](C)C(=O)N[C@@H](CC(O)...\n",
       "3     ALA-ALA-GLU  [H]N[C@@H](C)C(=O)N[C@@H](C)C(=O)N[C@@H](CCC(O...\n",
       "4     ALA-ALA-PHE  [H]N[C@@H](C)C(=O)N[C@@H](C)C(=O)N[C@@H](CC1=C...\n",
       "...           ...                                                ...\n",
       "7995  TYR-TYR-SER  [H]N[C@@H](CC1=CC=C(O)C=C1)C(=O)N[C@@H](CC1=CC...\n",
       "7996  TYR-TYR-THR  [H]N[C@@H](CC1=CC=C(O)C=C1)C(=O)N[C@@H](CC1=CC...\n",
       "7997  TYR-TYR-VAL  [H]N[C@@H](CC1=CC=C(O)C=C1)C(=O)N[C@@H](CC1=CC...\n",
       "7998  TYR-TYR-TRP  [H]N[C@@H](CC1=CC=C(O)C=C1)C(=O)N[C@@H](CC1=CC...\n",
       "7999  TYR-TYR-TYR  [H]N[C@@H](CC1=CC=C(O)C=C1)C(=O)N[C@@H](CC1=CC...\n",
       "\n",
       "[8000 rows x 2 columns]"
      ]
     },
     "execution_count": 6,
     "metadata": {},
     "output_type": "execute_result"
    }
   ],
   "source": [
    "smiles"
   ]
  },
  {
   "cell_type": "code",
   "execution_count": 7,
   "metadata": {},
   "outputs": [
    {
     "data": {
      "text/html": [
       "<div>\n",
       "<style scoped>\n",
       "    .dataframe tbody tr th:only-of-type {\n",
       "        vertical-align: middle;\n",
       "    }\n",
       "\n",
       "    .dataframe tbody tr th {\n",
       "        vertical-align: top;\n",
       "    }\n",
       "\n",
       "    .dataframe thead th {\n",
       "        text-align: right;\n",
       "    }\n",
       "</style>\n",
       "<table border=\"1\" class=\"dataframe\">\n",
       "  <thead>\n",
       "    <tr style=\"text-align: right;\">\n",
       "      <th></th>\n",
       "      <th>Unnamed: 0</th>\n",
       "      <th>AATS0s</th>\n",
       "      <th>AATS2s</th>\n",
       "      <th>AATSC0are</th>\n",
       "      <th>AATSC0s</th>\n",
       "      <th>AATSC0se</th>\n",
       "      <th>AATSC1are</th>\n",
       "      <th>AATSC1pe</th>\n",
       "      <th>AATSC1v</th>\n",
       "      <th>AATSC2s</th>\n",
       "      <th>...</th>\n",
       "      <th>NsNH2</th>\n",
       "      <th>NsssN</th>\n",
       "      <th>RotRatio</th>\n",
       "      <th>SaasC</th>\n",
       "      <th>ETA_dEpsilon_B</th>\n",
       "      <th>ETA_shape_p</th>\n",
       "      <th>ETA_shape_y</th>\n",
       "      <th>Kier3</th>\n",
       "      <th>SpMAD_A</th>\n",
       "      <th>SlogP_VSA4</th>\n",
       "    </tr>\n",
       "  </thead>\n",
       "  <tbody>\n",
       "    <tr>\n",
       "      <th>0</th>\n",
       "      <td>-1.00000</td>\n",
       "      <td>-0.232323</td>\n",
       "      <td>-0.252278</td>\n",
       "      <td>0.023694</td>\n",
       "      <td>-0.020400</td>\n",
       "      <td>-0.042373</td>\n",
       "      <td>0.242472</td>\n",
       "      <td>0.224388</td>\n",
       "      <td>-0.775307</td>\n",
       "      <td>0.081151</td>\n",
       "      <td>...</td>\n",
       "      <td>-0.5</td>\n",
       "      <td>-1.0</td>\n",
       "      <td>-0.174312</td>\n",
       "      <td>-1.000000</td>\n",
       "      <td>-1.000000</td>\n",
       "      <td>0.938632</td>\n",
       "      <td>0.615206</td>\n",
       "      <td>-0.594865</td>\n",
       "      <td>-0.999740</td>\n",
       "      <td>-1.000000</td>\n",
       "    </tr>\n",
       "    <tr>\n",
       "      <th>1</th>\n",
       "      <td>-0.99975</td>\n",
       "      <td>-0.296009</td>\n",
       "      <td>-0.297832</td>\n",
       "      <td>-0.048211</td>\n",
       "      <td>-0.062218</td>\n",
       "      <td>-0.096375</td>\n",
       "      <td>0.298121</td>\n",
       "      <td>0.236236</td>\n",
       "      <td>-0.818339</td>\n",
       "      <td>0.054558</td>\n",
       "      <td>...</td>\n",
       "      <td>-0.5</td>\n",
       "      <td>-1.0</td>\n",
       "      <td>-0.009174</td>\n",
       "      <td>-1.000000</td>\n",
       "      <td>-1.000000</td>\n",
       "      <td>0.906403</td>\n",
       "      <td>0.232977</td>\n",
       "      <td>-0.580930</td>\n",
       "      <td>-0.753054</td>\n",
       "      <td>-1.000000</td>\n",
       "    </tr>\n",
       "    <tr>\n",
       "      <th>2</th>\n",
       "      <td>-0.99950</td>\n",
       "      <td>0.246914</td>\n",
       "      <td>0.224292</td>\n",
       "      <td>0.462118</td>\n",
       "      <td>0.419799</td>\n",
       "      <td>0.416672</td>\n",
       "      <td>-0.190430</td>\n",
       "      <td>-0.202021</td>\n",
       "      <td>-0.248698</td>\n",
       "      <td>0.481399</td>\n",
       "      <td>...</td>\n",
       "      <td>-0.5</td>\n",
       "      <td>-1.0</td>\n",
       "      <td>0.045872</td>\n",
       "      <td>-1.000000</td>\n",
       "      <td>-1.000000</td>\n",
       "      <td>0.708948</td>\n",
       "      <td>0.617650</td>\n",
       "      <td>-0.387127</td>\n",
       "      <td>-1.000000</td>\n",
       "      <td>-1.000000</td>\n",
       "    </tr>\n",
       "    <tr>\n",
       "      <th>3</th>\n",
       "      <td>-0.99925</td>\n",
       "      <td>0.077482</td>\n",
       "      <td>0.044914</td>\n",
       "      <td>0.321717</td>\n",
       "      <td>0.288771</td>\n",
       "      <td>0.280594</td>\n",
       "      <td>0.010702</td>\n",
       "      <td>-0.012467</td>\n",
       "      <td>-0.337247</td>\n",
       "      <td>0.437974</td>\n",
       "      <td>...</td>\n",
       "      <td>-0.5</td>\n",
       "      <td>-1.0</td>\n",
       "      <td>0.173346</td>\n",
       "      <td>-1.000000</td>\n",
       "      <td>-1.000000</td>\n",
       "      <td>0.587540</td>\n",
       "      <td>0.410140</td>\n",
       "      <td>-0.283539</td>\n",
       "      <td>-0.814009</td>\n",
       "      <td>-1.000000</td>\n",
       "    </tr>\n",
       "    <tr>\n",
       "      <th>4</th>\n",
       "      <td>-0.99900</td>\n",
       "      <td>-0.563853</td>\n",
       "      <td>-0.451082</td>\n",
       "      <td>-0.454447</td>\n",
       "      <td>-0.415300</td>\n",
       "      <td>-0.467848</td>\n",
       "      <td>0.590004</td>\n",
       "      <td>0.540307</td>\n",
       "      <td>-0.029802</td>\n",
       "      <td>-0.190107</td>\n",
       "      <td>...</td>\n",
       "      <td>-0.5</td>\n",
       "      <td>-1.0</td>\n",
       "      <td>-0.234362</td>\n",
       "      <td>-0.368639</td>\n",
       "      <td>0.015732</td>\n",
       "      <td>-0.015586</td>\n",
       "      <td>-0.042109</td>\n",
       "      <td>-0.460807</td>\n",
       "      <td>-0.194774</td>\n",
       "      <td>-1.000000</td>\n",
       "    </tr>\n",
       "    <tr>\n",
       "      <th>...</th>\n",
       "      <td>...</td>\n",
       "      <td>...</td>\n",
       "      <td>...</td>\n",
       "      <td>...</td>\n",
       "      <td>...</td>\n",
       "      <td>...</td>\n",
       "      <td>...</td>\n",
       "      <td>...</td>\n",
       "      <td>...</td>\n",
       "      <td>...</td>\n",
       "      <td>...</td>\n",
       "      <td>...</td>\n",
       "      <td>...</td>\n",
       "      <td>...</td>\n",
       "      <td>...</td>\n",
       "      <td>...</td>\n",
       "      <td>...</td>\n",
       "      <td>...</td>\n",
       "      <td>...</td>\n",
       "      <td>...</td>\n",
       "      <td>...</td>\n",
       "    </tr>\n",
       "    <tr>\n",
       "      <th>7995</th>\n",
       "      <td>0.99900</td>\n",
       "      <td>-0.346334</td>\n",
       "      <td>-0.291621</td>\n",
       "      <td>-0.164071</td>\n",
       "      <td>-0.244333</td>\n",
       "      <td>-0.139386</td>\n",
       "      <td>0.167825</td>\n",
       "      <td>0.094548</td>\n",
       "      <td>0.900114</td>\n",
       "      <td>-0.468058</td>\n",
       "      <td>...</td>\n",
       "      <td>-0.5</td>\n",
       "      <td>-1.0</td>\n",
       "      <td>-0.256881</td>\n",
       "      <td>0.110087</td>\n",
       "      <td>0.631559</td>\n",
       "      <td>-0.411206</td>\n",
       "      <td>0.020975</td>\n",
       "      <td>-0.207683</td>\n",
       "      <td>0.288059</td>\n",
       "      <td>-1.000000</td>\n",
       "    </tr>\n",
       "    <tr>\n",
       "      <th>7996</th>\n",
       "      <td>0.99925</td>\n",
       "      <td>-0.422228</td>\n",
       "      <td>-0.347084</td>\n",
       "      <td>-0.239328</td>\n",
       "      <td>-0.309133</td>\n",
       "      <td>-0.215300</td>\n",
       "      <td>0.261171</td>\n",
       "      <td>0.187260</td>\n",
       "      <td>0.798861</td>\n",
       "      <td>-0.377276</td>\n",
       "      <td>...</td>\n",
       "      <td>-0.5</td>\n",
       "      <td>-1.0</td>\n",
       "      <td>-0.294412</td>\n",
       "      <td>0.106351</td>\n",
       "      <td>0.514444</td>\n",
       "      <td>-0.270064</td>\n",
       "      <td>0.208313</td>\n",
       "      <td>-0.176539</td>\n",
       "      <td>0.145550</td>\n",
       "      <td>-1.000000</td>\n",
       "    </tr>\n",
       "    <tr>\n",
       "      <th>7997</th>\n",
       "      <td>0.99950</td>\n",
       "      <td>-0.620089</td>\n",
       "      <td>-0.523298</td>\n",
       "      <td>-0.487674</td>\n",
       "      <td>-0.495633</td>\n",
       "      <td>-0.465288</td>\n",
       "      <td>0.519848</td>\n",
       "      <td>0.448797</td>\n",
       "      <td>0.525072</td>\n",
       "      <td>-0.279930</td>\n",
       "      <td>...</td>\n",
       "      <td>-0.5</td>\n",
       "      <td>-1.0</td>\n",
       "      <td>-0.294412</td>\n",
       "      <td>0.224857</td>\n",
       "      <td>0.368261</td>\n",
       "      <td>-0.225151</td>\n",
       "      <td>0.172017</td>\n",
       "      <td>-0.176539</td>\n",
       "      <td>0.145550</td>\n",
       "      <td>-0.333333</td>\n",
       "    </tr>\n",
       "    <tr>\n",
       "      <th>7998</th>\n",
       "      <td>0.99975</td>\n",
       "      <td>-0.708493</td>\n",
       "      <td>-0.501028</td>\n",
       "      <td>-0.642080</td>\n",
       "      <td>-0.655456</td>\n",
       "      <td>-0.613518</td>\n",
       "      <td>0.537129</td>\n",
       "      <td>0.468147</td>\n",
       "      <td>0.898086</td>\n",
       "      <td>-0.423522</td>\n",
       "      <td>...</td>\n",
       "      <td>-0.5</td>\n",
       "      <td>-1.0</td>\n",
       "      <td>-0.457405</td>\n",
       "      <td>0.770275</td>\n",
       "      <td>0.938094</td>\n",
       "      <td>-0.727992</td>\n",
       "      <td>0.044843</td>\n",
       "      <td>-0.195957</td>\n",
       "      <td>0.644368</td>\n",
       "      <td>-1.000000</td>\n",
       "    </tr>\n",
       "    <tr>\n",
       "      <th>7999</th>\n",
       "      <td>1.00000</td>\n",
       "      <td>-0.542864</td>\n",
       "      <td>-0.392993</td>\n",
       "      <td>-0.442680</td>\n",
       "      <td>-0.467078</td>\n",
       "      <td>-0.399720</td>\n",
       "      <td>0.406588</td>\n",
       "      <td>0.325715</td>\n",
       "      <td>0.932756</td>\n",
       "      <td>-0.360677</td>\n",
       "      <td>...</td>\n",
       "      <td>-0.5</td>\n",
       "      <td>-1.0</td>\n",
       "      <td>-0.377558</td>\n",
       "      <td>0.629706</td>\n",
       "      <td>0.893711</td>\n",
       "      <td>-0.585983</td>\n",
       "      <td>-0.013235</td>\n",
       "      <td>-0.026935</td>\n",
       "      <td>0.438452</td>\n",
       "      <td>-1.000000</td>\n",
       "    </tr>\n",
       "  </tbody>\n",
       "</table>\n",
       "<p>8000 rows × 46 columns</p>\n",
       "</div>"
      ],
      "text/plain": [
       "      Unnamed: 0    AATS0s    AATS2s  AATSC0are   AATSC0s  AATSC0se  \\\n",
       "0       -1.00000 -0.232323 -0.252278   0.023694 -0.020400 -0.042373   \n",
       "1       -0.99975 -0.296009 -0.297832  -0.048211 -0.062218 -0.096375   \n",
       "2       -0.99950  0.246914  0.224292   0.462118  0.419799  0.416672   \n",
       "3       -0.99925  0.077482  0.044914   0.321717  0.288771  0.280594   \n",
       "4       -0.99900 -0.563853 -0.451082  -0.454447 -0.415300 -0.467848   \n",
       "...          ...       ...       ...        ...       ...       ...   \n",
       "7995     0.99900 -0.346334 -0.291621  -0.164071 -0.244333 -0.139386   \n",
       "7996     0.99925 -0.422228 -0.347084  -0.239328 -0.309133 -0.215300   \n",
       "7997     0.99950 -0.620089 -0.523298  -0.487674 -0.495633 -0.465288   \n",
       "7998     0.99975 -0.708493 -0.501028  -0.642080 -0.655456 -0.613518   \n",
       "7999     1.00000 -0.542864 -0.392993  -0.442680 -0.467078 -0.399720   \n",
       "\n",
       "      AATSC1are  AATSC1pe   AATSC1v   AATSC2s  ...  NsNH2  NsssN  RotRatio  \\\n",
       "0      0.242472  0.224388 -0.775307  0.081151  ...   -0.5   -1.0 -0.174312   \n",
       "1      0.298121  0.236236 -0.818339  0.054558  ...   -0.5   -1.0 -0.009174   \n",
       "2     -0.190430 -0.202021 -0.248698  0.481399  ...   -0.5   -1.0  0.045872   \n",
       "3      0.010702 -0.012467 -0.337247  0.437974  ...   -0.5   -1.0  0.173346   \n",
       "4      0.590004  0.540307 -0.029802 -0.190107  ...   -0.5   -1.0 -0.234362   \n",
       "...         ...       ...       ...       ...  ...    ...    ...       ...   \n",
       "7995   0.167825  0.094548  0.900114 -0.468058  ...   -0.5   -1.0 -0.256881   \n",
       "7996   0.261171  0.187260  0.798861 -0.377276  ...   -0.5   -1.0 -0.294412   \n",
       "7997   0.519848  0.448797  0.525072 -0.279930  ...   -0.5   -1.0 -0.294412   \n",
       "7998   0.537129  0.468147  0.898086 -0.423522  ...   -0.5   -1.0 -0.457405   \n",
       "7999   0.406588  0.325715  0.932756 -0.360677  ...   -0.5   -1.0 -0.377558   \n",
       "\n",
       "         SaasC  ETA_dEpsilon_B  ETA_shape_p  ETA_shape_y     Kier3   SpMAD_A  \\\n",
       "0    -1.000000       -1.000000     0.938632     0.615206 -0.594865 -0.999740   \n",
       "1    -1.000000       -1.000000     0.906403     0.232977 -0.580930 -0.753054   \n",
       "2    -1.000000       -1.000000     0.708948     0.617650 -0.387127 -1.000000   \n",
       "3    -1.000000       -1.000000     0.587540     0.410140 -0.283539 -0.814009   \n",
       "4    -0.368639        0.015732    -0.015586    -0.042109 -0.460807 -0.194774   \n",
       "...        ...             ...          ...          ...       ...       ...   \n",
       "7995  0.110087        0.631559    -0.411206     0.020975 -0.207683  0.288059   \n",
       "7996  0.106351        0.514444    -0.270064     0.208313 -0.176539  0.145550   \n",
       "7997  0.224857        0.368261    -0.225151     0.172017 -0.176539  0.145550   \n",
       "7998  0.770275        0.938094    -0.727992     0.044843 -0.195957  0.644368   \n",
       "7999  0.629706        0.893711    -0.585983    -0.013235 -0.026935  0.438452   \n",
       "\n",
       "      SlogP_VSA4  \n",
       "0      -1.000000  \n",
       "1      -1.000000  \n",
       "2      -1.000000  \n",
       "3      -1.000000  \n",
       "4      -1.000000  \n",
       "...          ...  \n",
       "7995   -1.000000  \n",
       "7996   -1.000000  \n",
       "7997   -0.333333  \n",
       "7998   -1.000000  \n",
       "7999   -1.000000  \n",
       "\n",
       "[8000 rows x 46 columns]"
      ]
     },
     "execution_count": 7,
     "metadata": {},
     "output_type": "execute_result"
    }
   ],
   "source": [
    "modp"
   ]
  },
  {
   "cell_type": "code",
   "execution_count": 8,
   "metadata": {},
   "outputs": [
    {
     "name": "stdout",
     "output_type": "stream",
     "text": [
      "[array([-1.        , -1.        , -0.7827501 , -1.        ,  0.29192555,\n",
      "        0.        , -0.7237569 , -1.        , -0.11330056, -1.        ],\n",
      "      dtype=float32)]\n",
      "[array([-0.99974997, -0.29600933, -0.29783152, -0.04821083, -0.06221802,\n",
      "       -0.09637477,  0.29812115,  0.23623551, -0.81833914,  0.05455816,\n",
      "       -0.0476218 , -0.28325474, -0.38545507,  0.49770944,  0.42685493,\n",
      "        0.51218476, -0.18984381, -0.27525841, -0.23278923, -0.23719899,\n",
      "        0.24805536,  0.58168666, -0.17788701,  0.42878925, -0.85577319,\n",
      "       -0.12828389,  0.12129519,  0.1910701 , -0.4782197 , -0.80906926,\n",
      "        0.59273196,  0.30156102,  0.48439883, -0.18498607,  0.48837209,\n",
      "        0.48837209, -0.5       , -1.        , -0.00917431, -1.        ,\n",
      "       -1.        ,  0.90640259,  0.23297703, -0.58093009, -0.75305431,\n",
      "       -1.        ])]\n",
      "[1.64890034]\n"
     ]
    }
   ],
   "source": [
    "x_train_jd = [np.array(judp.loc[b'ALA-ALA-ALA'])]                  # initializing the training data with data of polyalanine \n",
    "x_train_md = [np.array(modp.iloc[1])]\n",
    "Y_train = np.array(APs.loc['ALA-ALA-ALA'])\n",
    "print(x_train_jd)\n",
    "print(x_train_md)\n",
    "print(Y_train)"
   ]
  },
  {
   "cell_type": "markdown",
   "metadata": {},
   "source": [
    "The next function is a random peptide selector, it generates 10 random numbers between 1 to 8000 and uses these numbers as indices to select peptides from the data and adds it to the training set."
   ]
  },
  {
   "cell_type": "code",
   "execution_count": 9,
   "metadata": {},
   "outputs": [],
   "source": [
    "def randPepSelector(APs, judp, modp, smiles, x_train_jd, x_train_md, Y_train):                           # a is APs, b is judp/modp\n",
    "    for pep in range(10):                                                                                # generates random indecies, looks up those indecies data and adds to the training data\n",
    "        i = random.randrange(1,len(judp))\n",
    "        p = APs.iloc[i]\n",
    "        print(p.name)\n",
    "        Y_train = np.append(Y_train, np.array(p), axis=0)\n",
    "        x_train_jd = np.append(x_train_jd, [np.array(judp.loc[p.name.encode('utf-8')])],axis=0)\n",
    "        x_train_md = np.append(x_train_md, np.array(modp.iloc[smiles.index[smiles['Peptides']==p.name]]), axis=0)\n",
    "    return Y_train,x_train_jd, x_train_md  "
   ]
  },
  {
   "cell_type": "markdown",
   "metadata": {},
   "source": [
    "Next we call the random peptide selector and print the data to have a look at it."
   ]
  },
  {
   "cell_type": "code",
   "execution_count": 10,
   "metadata": {},
   "outputs": [
    {
     "name": "stdout",
     "output_type": "stream",
     "text": [
      "GLY-ILE-ILE\n",
      "LYS-LEU-ARG\n",
      "TYR-SER-GLN\n",
      "ILE-LEU-TRP\n",
      "GLU-VAL-THR\n",
      "CYS-PHE-ARG\n",
      "LEU-PRO-HSE\n",
      "ASP-ASP-PHE\n",
      "GLY-HSE-ILE\n",
      "HSE-ALA-HSE\n",
      "[[-1.         -1.         -0.7827501  -1.          0.29192555  0.\n",
      "  -0.7237569  -1.         -0.11330056 -1.        ]\n",
      " [-1.         -1.         -0.42077005 -1.          0.59627336  0.\n",
      "  -0.3149172  -1.          0.3136289  -1.        ]\n",
      " [-0.9166667   0.          0.16837001 -1.          0.05797109  0.6666667\n",
      "   0.4696133  -0.97727275  0.5030104  -1.        ]\n",
      " [-0.41666663 -0.6666666   0.06957793 -1.          0.34161496  0.\n",
      "   0.21915293 -0.5625      0.15854776  0.33333337]\n",
      " [-0.3333333  -1.          0.24589658 -1.          0.8571429   0.\n",
      "   0.3664825  -0.7777778   0.98029554 -1.        ]\n",
      " [-0.9166667  -1.         -0.18349326 -1.          0.25051767 -0.33333334\n",
      "  -0.05340695 -0.96428573  0.48549533 -0.3333333 ]\n",
      " [-0.41666663 -0.3333333   0.21472096 -0.3333333   0.3643893   0.33333334\n",
      "   0.35911608 -0.65        0.362525   -1.        ]\n",
      " [-0.75       -1.         -0.09022391 -1.          0.71635616  0.\n",
      "   0.00184155 -0.90625     0.5442436  -1.        ]\n",
      " [-0.3333333  -1.          0.06431317 -1.         -0.38095236 -0.6666667\n",
      "   0.15653777 -0.3333333   0.20270014 -1.        ]\n",
      " [-0.75       -1.         -0.29699588 -1.          0.44099385  0.\n",
      "  -0.21546972 -0.85        0.03229344 -1.        ]\n",
      " [-0.5        -1.         -0.10080504 -1.          0.45341623  0.\n",
      "  -0.02394104 -0.5         0.04652417 -1.        ]]\n",
      "[[-9.99749969e-01 -2.96009330e-01 -2.97831520e-01 -4.82108328e-02\n",
      "  -6.22180187e-02 -9.63747743e-02  2.98121149e-01  2.36235506e-01\n",
      "  -8.18339137e-01  5.45581602e-02 -4.76218007e-02 -2.83254739e-01\n",
      "  -3.85455073e-01  4.97709444e-01  4.26854931e-01  5.12184761e-01\n",
      "  -1.89843806e-01 -2.75258405e-01 -2.32789233e-01 -2.37198991e-01\n",
      "   2.48055364e-01  5.81686664e-01 -1.77887006e-01  4.28789255e-01\n",
      "  -8.55773186e-01 -1.28283889e-01  1.21295189e-01  1.91070100e-01\n",
      "  -4.78219701e-01 -8.09069261e-01  5.92731959e-01  3.01561017e-01\n",
      "   4.84398830e-01 -1.84986072e-01  4.88372095e-01  4.88372095e-01\n",
      "  -5.00000000e-01 -1.00000000e+00 -9.17431265e-03 -1.00000000e+00\n",
      "  -1.00000000e+00  9.06402591e-01  2.32977026e-01 -5.80930090e-01\n",
      "  -7.53054312e-01 -1.00000000e+00]\n",
      " [-4.63182898e-01 -7.63580757e-01 -8.00725961e-01 -5.52735456e-01\n",
      "  -5.19264918e-01 -5.77240494e-01  7.41659418e-01  6.90202962e-01\n",
      "  -8.64553384e-01 -1.62461609e-01  5.23172373e-02 -5.28970411e-01\n",
      "   9.24420358e-02  6.96247671e-01  6.37914131e-01  8.18943343e-01\n",
      "  -1.44534410e-02 -2.52889483e-01 -4.01447499e-01 -3.97754119e-01\n",
      "   3.16328746e-01  2.44243824e-01 -5.30707586e-01  2.42443761e-01\n",
      "  -9.04612204e-01  4.16740211e-01  5.60022217e-01  2.77791662e-01\n",
      "  -4.64052548e-02 -5.07338601e-01  1.69633959e-01 -5.46484199e-01\n",
      "  -6.74726310e-01 -6.97340186e-01  8.53820600e-01  8.53820600e-01\n",
      "  -5.00000000e-01 -1.00000000e+00  2.88073394e-01 -1.00000000e+00\n",
      "  -1.00000000e+00  5.91635115e-01  1.12659698e-01 -4.89084363e-01\n",
      "  -2.54284020e-01  3.33333333e-01]\n",
      " [-1.51393924e-01 -8.65291363e-01 -7.76288592e-01 -6.61474451e-01\n",
      "  -6.81459732e-01 -7.50029308e-01  4.90588342e-01  4.46066083e-01\n",
      "  -2.52395447e-01 -1.57032393e-01  6.83266256e-01  1.77829289e-01\n",
      "   4.96296297e-01  7.24682425e-02  3.56697600e-02  2.82943693e-01\n",
      "   3.59032468e-02 -2.02474349e-01 -3.76681397e-01  3.86989636e-01\n",
      "   6.57125883e-01  7.37771605e-01  2.58981195e-01 -3.97763192e-01\n",
      "  -2.85448476e-01 -1.56414335e-01  1.35735956e-01 -2.50717076e-02\n",
      "  -5.96366683e-01 -2.79319257e-01  1.91066458e-01 -4.89776461e-01\n",
      "  -5.42879591e-01 -3.05666893e-01  8.29457366e-01  8.29457366e-01\n",
      "   5.00000000e-01 -1.00000000e+00  6.27785059e-01 -1.00000000e+00\n",
      "  -1.00000000e+00  1.22317417e-01 -4.16591495e-01  4.54648950e-01\n",
      "  -5.04108147e-01  2.76035765e-01]\n",
      " [ 9.78497312e-01 -1.32164537e-01 -1.68026063e-01  5.92616332e-02\n",
      "   1.03485457e-02  3.95614264e-02 -3.75348059e-02 -8.88963087e-02\n",
      "   7.49539280e-01 -2.46215512e-01  1.93185664e-01 -5.47991579e-01\n",
      "   5.63023186e-01 -3.77245266e-01 -4.27229387e-01 -2.21220268e-01\n",
      "  -3.12275811e-01 -2.42613396e-01 -1.80489894e-01  9.84017247e-02\n",
      "  -3.78491721e-01  2.58014942e-01  1.21938602e-01 -2.01843778e-01\n",
      "   7.24406307e-01 -4.44565597e-02 -3.02701375e-01 -6.94200269e-01\n",
      "  -5.96366683e-01  3.67365365e-02 -8.36324268e-01  4.10504712e-01\n",
      "   4.00212845e-02  5.53187320e-01 -2.94117647e-01 -2.94117647e-01\n",
      "   0.00000000e+00 -1.00000000e+00  6.15989513e-02 -4.21297912e-01\n",
      "  -1.34417751e-02 -1.19594768e-01  6.86495241e-02 -1.25410792e-01\n",
      "  -6.49887373e-02 -1.00000000e+00]\n",
      " [-2.50406301e-01 -9.94047494e-01 -8.71296117e-01 -8.96313922e-01\n",
      "  -8.52691082e-01 -9.01940855e-01  8.57359748e-01  8.06567878e-01\n",
      "  -2.02297172e-02 -3.37636627e-01  2.26968469e-01 -6.05614458e-01\n",
      "   6.60222824e-01  6.59789904e-01  6.09745409e-01  7.95260471e-01\n",
      "  -2.49086023e-01 -2.65853681e-01 -1.61384499e-01 -3.66401716e-01\n",
      "  -6.29450166e-02 -2.29350825e-01 -5.12036565e-01  2.74971969e-01\n",
      "  -1.08868258e-01  8.31051674e-01 -4.86535474e-02  8.20418926e-04\n",
      "   1.27509676e-01  5.96749682e-01 -9.99962108e-01 -1.25980037e-01\n",
      "  -7.52032395e-01  1.85486683e-01  4.34782598e-02  4.34782598e-02\n",
      "  -5.00000000e-01 -1.00000000e+00 -1.33027524e-01 -3.65643189e-01\n",
      "  -2.14529229e-01 -8.57150821e-02  2.30493576e-01 -3.78735641e-01\n",
      "   1.51699329e-01  3.33333333e-01]\n",
      " [-6.10951369e-01 -1.39428210e-01 -2.25572550e-01  1.68325073e-01\n",
      "   1.04909021e-01  1.42329121e-01  1.54371812e-01  1.10728581e-01\n",
      "  -2.55573802e-01  1.57768479e-01  1.39556770e-01 -6.61000248e-01\n",
      "   6.55886781e-01 -2.09399390e-02 -6.53110515e-02  6.50637945e-02\n",
      "  -8.16360584e-02 -5.87632096e-01 -5.07524980e-01 -1.17031581e-01\n",
      "  -9.04011856e-02  7.15211990e-01 -5.46391789e-02 -1.63556444e-01\n",
      "  -2.82407333e-01  3.18286612e-02 -2.62071431e-01 -2.55222350e-01\n",
      "   1.23923872e-01 -4.30984833e-01  2.18282673e-01 -8.42825840e-02\n",
      "  -1.82761722e-01 -1.50662964e-01  6.34551495e-01  6.34551495e-01\n",
      "  -5.00000000e-01 -1.00000000e+00  2.27762266e-01 -1.00000000e+00\n",
      "  -1.00000000e+00  6.44062916e-01  6.20914746e-01 -2.17198540e-01\n",
      "  -7.24964118e-01 -3.33333333e-01]\n",
      " [-8.76484561e-01 -7.14503773e-01 -5.13040781e-01 -5.97188488e-01\n",
      "  -5.86389496e-01 -6.53170287e-01  4.38373493e-01  3.74245826e-01\n",
      "   1.64129285e-01 -1.38865608e-01  3.49568113e-01 -6.82380851e-02\n",
      "   2.80845796e-01  1.44045620e-01  7.47121939e-02  2.59130603e-01\n",
      "   7.89370853e-02 -1.93700117e-01 -2.58567502e-01  1.45668242e-01\n",
      "   3.07630496e-01  2.39303067e-01  1.14119603e-01 -2.51108671e-01\n",
      "   7.67671607e-02 -2.27573646e-01  1.53654881e-01 -2.24723579e-01\n",
      "  -5.96366683e-01  9.16897312e-02 -8.32581181e-01  4.35325804e-01\n",
      "   1.41484187e-01  6.85549371e-01 -1.93798451e-01 -1.93798451e-01\n",
      "   0.00000000e+00 -1.00000000e+00  1.44574499e-01 -3.66828551e-01\n",
      "  -2.09420611e-01 -1.39227669e-01 -4.98885642e-01  2.83437954e-02\n",
      "   2.24376563e-02 -3.90630902e-01]\n",
      " [-3.83797975e-02 -8.07785187e-01 -7.66127809e-01 -5.57475575e-01\n",
      "  -6.37304649e-01 -6.13571826e-01  7.64312099e-01  7.52809233e-01\n",
      "  -5.33413268e-01 -2.92917689e-01  1.31389275e-01 -6.32210150e-02\n",
      "   3.11171334e-01  6.43036903e-01  6.41244124e-01  7.06191560e-01\n",
      "   1.19095755e-01 -2.94740558e-01 -2.94768847e-01 -4.43936712e-01\n",
      "  -2.31326632e-01 -9.58316879e-02 -4.71574376e-01  5.52220780e-01\n",
      "  -5.77965818e-01  5.90576731e-01 -2.98561429e-01 -1.99915078e-01\n",
      "  -2.84684384e-01  4.73746312e-02  1.59974344e-01  1.03461043e-01\n",
      "  -3.19873469e-01  2.05549271e-01  4.28180577e-01  4.28180577e-01\n",
      "  -5.00000000e-01  0.00000000e+00 -3.21100919e-01 -5.72197963e-01\n",
      "  -7.10321868e-01 -2.26713122e-01  1.52402547e-01 -5.72915825e-01\n",
      "   5.64120507e-02 -3.33333333e-01]\n",
      " [-7.88973622e-01  1.80926682e-01  2.57256607e-01  2.81445158e-01\n",
      "   3.02404079e-01  2.98250977e-01  3.83144855e-03 -4.62137886e-02\n",
      "   5.32870224e-01  3.97902213e-01  4.09778806e-01 -7.97779094e-01\n",
      "   6.18428184e-01 -2.32139849e-01 -2.82493142e-01 -1.23147633e-01\n",
      "  -2.55089338e-01  6.76021896e-01  5.60592427e-01 -2.45733401e-01\n",
      "  -3.63143363e-01  4.49123246e-01 -1.84085972e-01 -4.84603110e-01\n",
      "   5.17267372e-01 -2.80449779e-01 -4.35795340e-01 -8.07047963e-01\n",
      "  -5.96366683e-01  6.80278662e-02 -8.32573945e-01  1.73809387e-01\n",
      "   8.35688542e-02  2.43502269e-01 -4.74692204e-01 -4.74692204e-01\n",
      "  -5.00000000e-01 -1.00000000e+00  6.15989513e-02 -5.04832831e-01\n",
      "   1.26350557e-01 -1.40138685e-01  8.51545447e-02 -6.05455755e-02\n",
      "  -3.58649242e-01 -1.00000000e+00]\n",
      " [-4.68183523e-01 -6.21842685e-01 -5.43403957e-01 -3.54311395e-01\n",
      "  -4.72969078e-01 -4.30527766e-01  4.87554330e-01  4.76526277e-01\n",
      "  -4.97007933e-01 -2.35100164e-01  5.54847927e-02  9.68253129e-02\n",
      "  -6.02228726e-05  4.15805406e-01  4.05020343e-01  5.19894066e-01\n",
      "  -1.26525856e-01 -6.33700500e-02 -2.60854722e-01 -1.90659281e-01\n",
      "  -2.43370611e-02 -7.34608227e-02 -2.17533709e-01  3.76906748e-01\n",
      "  -5.37095143e-01  3.37674579e-01  2.16408034e-01 -2.87928199e-01\n",
      "  -3.96531398e-01 -3.00208861e-02  1.58967359e-01  4.02754231e-01\n",
      "  -1.15128228e-01  3.58973585e-01  1.96013288e-01  1.96013288e-01\n",
      "  -5.00000000e-01 -1.00000000e+00  5.54447546e-02 -5.48727168e-01\n",
      "  -6.47238658e-01 -5.58815419e-02 -1.27780902e-01 -4.91165122e-01\n",
      "   7.16842172e-02 -3.33333333e-01]\n",
      " [-3.98424803e-01 -5.54774727e-01 -3.47691276e-01 -2.88384202e-01\n",
      "  -5.10448526e-01 -3.92536069e-01  2.37857673e-01  2.58219942e-01\n",
      "  -1.91515818e-01 -3.43876678e-01 -1.95732425e-01  5.32571305e-01\n",
      "   9.90665466e-02  7.93097923e-02  1.10742285e-01  1.88369817e-01\n",
      "  -4.42712060e-01  1.86038139e-01  8.37008182e-02  3.73404812e-02\n",
      "  -2.69556589e-01 -8.34345300e-02  7.56258571e-02  4.62341013e-01\n",
      "  -2.18489233e-01  2.79038417e-01 -5.02237719e-01 -6.24436727e-01\n",
      "  -5.41534473e-01  1.07628546e-01  1.58661274e-01  4.73440880e-01\n",
      "   1.99342513e-01  5.33721681e-01 -3.30232558e-01 -3.30232558e-01\n",
      "  -5.00000000e-01 -1.00000000e+00 -1.74311929e-01 -1.12667204e-01\n",
      "  -2.59000229e-01 -4.25457497e-01 -8.43857795e-02 -4.49549945e-01\n",
      "   1.99542360e-01 -1.00000000e+00]]\n",
      "[1.64890034 1.68396679 1.45037042 1.77552976 2.26226188 1.02702172\n",
      " 1.64852663 1.8784102  1.11656814 2.02015655 1.51319043]\n"
     ]
    }
   ],
   "source": [
    "Y_train,x_train_jd,x_train_md = randPepSelector(APs,judp,modp,smiles,x_train_jd,x_train_md,Y_train)                 # first we take a set of random peptides(10)\n",
    "print(x_train_jd)\n",
    "print(x_train_md)\n",
    "print(Y_train)"
   ]
  },
  {
   "cell_type": "code",
   "execution_count": 11,
   "metadata": {},
   "outputs": [],
   "source": [
    "def loc(s,Y_pred):                      #takes the APs of top peptides and returns their location in judred parameters so we can look up their names by their location\n",
    "    y = []\n",
    "    for i in range(len(s)):\n",
    "        for j in range(len(Y_pred)):\n",
    "            if s[i] == Y_pred[j]:\n",
    "                if j not in y:\n",
    "                    y.append(j)\n",
    "    return y"
   ]
  },
  {
   "cell_type": "markdown",
   "metadata": {},
   "source": [
    "The next function, takes in training data(judred parameters and AP scores) and trains a SVM. The hyperparameters for this model are given in the supporting information of the paper. Then it predicts the AP score for all peptides using the judred data. We then return the names of the top 1207 peptides which are predicted. The number 1207 comes from the formula given in the paper.   "
   ]
  },
  {
   "cell_type": "code",
   "execution_count": 12,
   "metadata": {},
   "outputs": [],
   "source": [
    "# Block-1\n",
    "\n",
    "def topN(n,judp,x_train_jd,Y_train,y_nam):                                                            #takes the judred parameters and the training data \n",
    "    svr = SVR(kernel='rbf',gamma='scale',C=100,epsilon=0.1,max_iter=-1,tol=0.0001,verbose=0)    #trains a svm(rbf)\n",
    "    svr.fit(x_train_jd,Y_train)\n",
    "    judp.drop(y_nam,axis=0,inplace=True)\n",
    "    x_test = []\n",
    "    for i in range(len(judp)):\n",
    "        #if True in np.isnan(np.array(judp.iloc[i])):\n",
    "            #print(i)    \n",
    "        x_test.append(np.array(judp.iloc[i]))\n",
    "    imputer = SimpleImputer(strategy='constant')                                                    #imputer removes NaN values from the data set\n",
    "    x_imputed = imputer.fit_transform(x_test)\n",
    "    Y_pred = svr.predict(x_imputed)                                                             #predicts AP scores for all peptides\n",
    "    s = sorted(Y_pred)\n",
    "    s = s[8000-n:]\n",
    "    y_loc = loc(s,Y_pred)\n",
    "    y_nam = ['']*len(y_loc)\n",
    "    for i in range(len(y_loc)):\n",
    "        y_nam[i] = judp.iloc[y_loc[i]].name\n",
    "    return y_nam   "
   ]
  },
  {
   "cell_type": "markdown",
   "metadata": {},
   "source": [
    "This function takes the names of the predicted peptides, looks the data up using the name and adds it the training data."
   ]
  },
  {
   "cell_type": "code",
   "execution_count": 13,
   "metadata": {},
   "outputs": [],
   "source": [
    "# Block-2\n",
    "\n",
    "def addToTrain(y_nam,APs,judp,modp,x_train_jd,x_train_md,Y_train):                                              #takes the predicted peptide in previous iteration and adds them to training data\n",
    "    for i in y_nam:\n",
    "        if np.array(APs.loc[i.decode(encoding='utf-8')]) not in Y_train:\n",
    "            x_train_jd = np.append(x_train_jd, [np.array(judp.loc[i])], axis=0)\n",
    "            x_train_md = np.append(x_train_md, np.array(modp.iloc[smiles.index[smiles['Peptides']==i.decode(encoding='utf-8')]]), axis=0)\n",
    "            Y_train = np.append(Y_train, np.array(APs.loc[i.decode(encoding='utf-8')]), axis=0)\n",
    "    return x_train_jd,x_train_md,Y_train"
   ]
  },
  {
   "cell_type": "markdown",
   "metadata": {},
   "source": [
    "This function trains a svm on the mordred data of the peptides in training dataset and gives the names of the predicted peptides."
   ]
  },
  {
   "cell_type": "code",
   "execution_count": 14,
   "metadata": {},
   "outputs": [],
   "source": [
    "# Block-3\n",
    "\n",
    "def topn(n,smiles, modp, y_nam_jd, x_train_md, Y_train):\n",
    "    svr = SVR(kernel='rbf',gamma='scale',C=30,epsilon=0.1,max_iter=-1,tol=0.0001,verbose=0)    #trains a svm(rbf)\n",
    "    svr.fit(x_train_md,Y_train)\n",
    "    x = np.empty((0,modp.shape[1]))\n",
    "    for i in y_nam_jd:\n",
    "        x = np.append(x, np.array(modp.iloc[smiles.index[smiles['Peptides']==i.decode(encoding='utf-8')]]), axis=0)\n",
    "    Y_pred = svr.predict(x)                                                                     #predicts AP scores for all peptides\n",
    "    pred = pd.DataFrame(data=Y_pred,index=y_nam_jd,columns=['prediction'])\n",
    "    y_nam = np.array(pred['prediction'].nlargest(n=n).index)\n",
    "    return y_nam, pred\n"
   ]
  },
  {
   "cell_type": "markdown",
   "metadata": {},
   "source": [
    "This function identifies if a peptide present in 'sap' the list of self assembling peptides."
   ]
  },
  {
   "cell_type": "code",
   "execution_count": 15,
   "metadata": {},
   "outputs": [],
   "source": [
    "def pepidentifier(y_nam,sap,a,q):\n",
    "    for j in y_nam:\n",
    "        b = j.decode(encoding='utf-8')\n",
    "        for i in sap:            \n",
    "            if b == i:\n",
    "                print(b+' which is a self assembling peptide is predicted in the ' + str(q)+'th iteration')\n",
    "                a.append(b)\n",
    "    return a"
   ]
  },
  {
   "cell_type": "markdown",
   "metadata": {},
   "source": [
    "Next we run the active learning algorithm, using the functions defined above. In step 1, block 1 is called. In step 2, block 3 is called. In step 3, block 2 is called."
   ]
  },
  {
   "cell_type": "code",
   "execution_count": 16,
   "metadata": {},
   "outputs": [
    {
     "name": "stdout",
     "output_type": "stream",
     "text": [
      "[b'LEU-TRP-ILE' b'LEU-ILE-TRP' b'ILE-TRP-LEU' b'ILE-LEU-TRP'\n",
      " b'ILE-ILE-TRP' b'ILE-TRP-ILE' b'LEU-VAL-TRP' b'LEU-TRP-VAL'\n",
      " b'ILE-VAL-TRP' b'ILE-TRP-VAL']\n"
     ]
    },
    {
     "name": "stderr",
     "output_type": "stream",
     "text": [
      "/var/folders/q9/dz7bsnq15t5crnph1_rcrhjr0000gn/T/ipykernel_19166/3864898870.py:21: DeprecationWarning: Conversion of an array with ndim > 0 to a scalar is deprecated, and will error in future. Ensure you extract a single element from your array before performing this operation. (Deprecated NumPy 1.25.)\n",
      "  x = math.sqrt(sum(p)/10)\n"
     ]
    },
    {
     "name": "stdout",
     "output_type": "stream",
     "text": [
      "[b'VAL-TRP-VAL' b'TRP-VAL-VAL' b'VAL-VAL-TRP' b'VAL-TRP-ILE'\n",
      " b'TRP-ILE-VAL' b'VAL-ILE-TRP' b'TRP-VAL-ILE' b'TRP-LEU-VAL'\n",
      " b'VAL-LEU-TRP' b'VAL-TRP-LEU']\n"
     ]
    },
    {
     "name": "stderr",
     "output_type": "stream",
     "text": [
      "/var/folders/q9/dz7bsnq15t5crnph1_rcrhjr0000gn/T/ipykernel_19166/3864898870.py:21: DeprecationWarning: Conversion of an array with ndim > 0 to a scalar is deprecated, and will error in future. Ensure you extract a single element from your array before performing this operation. (Deprecated NumPy 1.25.)\n",
      "  x = math.sqrt(sum(p)/10)\n"
     ]
    },
    {
     "name": "stdout",
     "output_type": "stream",
     "text": [
      "[b'VAL-ALA-TRP' b'VAL-TRP-ALA' b'TRP-ALA-VAL' b'TRP-VAL-ALA'\n",
      " b'TRP-VAL-LEU' b'TRP-ALA-ILE' b'TRP-ILE-ALA' b'TRP-ILE-ILE'\n",
      " b'VAL-GLY-TRP' b'VAL-CYS-TRP']\n",
      "VAL-ALA-TRP which is a self assembling peptide is predicted in the 2th iteration\n"
     ]
    },
    {
     "name": "stderr",
     "output_type": "stream",
     "text": [
      "/var/folders/q9/dz7bsnq15t5crnph1_rcrhjr0000gn/T/ipykernel_19166/3864898870.py:21: DeprecationWarning: Conversion of an array with ndim > 0 to a scalar is deprecated, and will error in future. Ensure you extract a single element from your array before performing this operation. (Deprecated NumPy 1.25.)\n",
      "  x = math.sqrt(sum(p)/10)\n"
     ]
    },
    {
     "name": "stdout",
     "output_type": "stream",
     "text": [
      "[b'PRO-ILE-TRP' b'PRO-LYS-TRP' b'PRO-TRP-LYS' b'PRO-VAL-TRP'\n",
      " b'GLY-ILE-TRP' b'PRO-TRP-ILE' b'ILE-TRP-GLY' b'VAL-LYS-TRP'\n",
      " b'MET-ILE-TRP' b'GLY-TRP-ILE']\n"
     ]
    },
    {
     "name": "stderr",
     "output_type": "stream",
     "text": [
      "/var/folders/q9/dz7bsnq15t5crnph1_rcrhjr0000gn/T/ipykernel_19166/3864898870.py:21: DeprecationWarning: Conversion of an array with ndim > 0 to a scalar is deprecated, and will error in future. Ensure you extract a single element from your array before performing this operation. (Deprecated NumPy 1.25.)\n",
      "  x = math.sqrt(sum(p)/10)\n"
     ]
    },
    {
     "name": "stdout",
     "output_type": "stream",
     "text": [
      "[b'TRP-ILE-CYS' b'TRP-ILE-GLY' b'TRP-CYS-ILE' b'TRP-ILE-LEU'\n",
      " b'TRP-LEU-ILE' b'TRP-CYS-LEU' b'TRP-LEU-CYS' b'PRO-LEU-TRP'\n",
      " b'TRP-GLY-ILE' b'VAL-VAL-PHE']\n"
     ]
    },
    {
     "name": "stderr",
     "output_type": "stream",
     "text": [
      "/var/folders/q9/dz7bsnq15t5crnph1_rcrhjr0000gn/T/ipykernel_19166/3864898870.py:21: DeprecationWarning: Conversion of an array with ndim > 0 to a scalar is deprecated, and will error in future. Ensure you extract a single element from your array before performing this operation. (Deprecated NumPy 1.25.)\n",
      "  x = math.sqrt(sum(p)/10)\n"
     ]
    },
    {
     "name": "stdout",
     "output_type": "stream",
     "text": [
      "[b'ILE-CYS-TRP' b'VAL-MET-TRP' b'TRP-MET-ILE' b'VAL-ILE-PHE'\n",
      " b'ILE-TRP-CYS' b'VAL-PHE-ILE' b'TRP-ILE-MET' b'VAL-PHE-VAL'\n",
      " b'PRO-TRP-VAL' b'ILE-ALA-TRP']\n"
     ]
    },
    {
     "name": "stderr",
     "output_type": "stream",
     "text": [
      "/var/folders/q9/dz7bsnq15t5crnph1_rcrhjr0000gn/T/ipykernel_19166/3864898870.py:21: DeprecationWarning: Conversion of an array with ndim > 0 to a scalar is deprecated, and will error in future. Ensure you extract a single element from your array before performing this operation. (Deprecated NumPy 1.25.)\n",
      "  x = math.sqrt(sum(p)/10)\n"
     ]
    },
    {
     "name": "stdout",
     "output_type": "stream",
     "text": [
      "[b'MET-VAL-TRP' b'VAL-TRP-MET' b'VAL-TRP-CYS' b'CYS-VAL-TRP'\n",
      " b'PRO-TRP-LEU' b'LEU-CYS-TRP' b'TRP-VAL-MET' b'TRP-LEU-LEU'\n",
      " b'ILE-GLY-TRP' b'ILE-TRP-ALA']\n",
      "TRP-LEU-LEU which is a self assembling peptide is predicted in the 6th iteration\n"
     ]
    },
    {
     "name": "stderr",
     "output_type": "stream",
     "text": [
      "/var/folders/q9/dz7bsnq15t5crnph1_rcrhjr0000gn/T/ipykernel_19166/3864898870.py:21: DeprecationWarning: Conversion of an array with ndim > 0 to a scalar is deprecated, and will error in future. Ensure you extract a single element from your array before performing this operation. (Deprecated NumPy 1.25.)\n",
      "  x = math.sqrt(sum(p)/10)\n"
     ]
    },
    {
     "name": "stdout",
     "output_type": "stream",
     "text": [
      "[b'TRP-VAL-CYS' b'TRP-MET-VAL' b'TRP-PRO-ILE' b'LEU-TRP-CYS'\n",
      " b'TRP-ILE-PRO' b'LEU-LEU-TRP' b'VAL-CYS-PHE' b'MET-TRP-ILE'\n",
      " b'LEU-TRP-LEU' b'MET-TRP-VAL']\n"
     ]
    },
    {
     "name": "stderr",
     "output_type": "stream",
     "text": [
      "/var/folders/q9/dz7bsnq15t5crnph1_rcrhjr0000gn/T/ipykernel_19166/3864898870.py:21: DeprecationWarning: Conversion of an array with ndim > 0 to a scalar is deprecated, and will error in future. Ensure you extract a single element from your array before performing this operation. (Deprecated NumPy 1.25.)\n",
      "  x = math.sqrt(sum(p)/10)\n"
     ]
    },
    {
     "name": "stdout",
     "output_type": "stream",
     "text": [
      "[b'ILE-MET-TRP' b'ILE-TRP-MET' b'MET-LEU-TRP' b'LEU-MET-TRP'\n",
      " b'MET-TRP-LEU' b'LEU-TRP-MET' b'TRP-MET-LEU' b'CYS-LEU-TRP'\n",
      " b'VAL-MET-PHE' b'TRP-LEU-MET']\n",
      "ILE-MET-TRP which is a self assembling peptide is predicted in the 8th iteration\n"
     ]
    },
    {
     "name": "stderr",
     "output_type": "stream",
     "text": [
      "/var/folders/q9/dz7bsnq15t5crnph1_rcrhjr0000gn/T/ipykernel_19166/3864898870.py:21: DeprecationWarning: Conversion of an array with ndim > 0 to a scalar is deprecated, and will error in future. Ensure you extract a single element from your array before performing this operation. (Deprecated NumPy 1.25.)\n",
      "  x = math.sqrt(sum(p)/10)\n"
     ]
    },
    {
     "name": "stdout",
     "output_type": "stream",
     "text": [
      "[b'CYS-TRP-VAL' b'CYS-ILE-TRP' b'CYS-TRP-LEU' b'VAL-PHE-CYS'\n",
      " b'VAL-PHE-MET' b'TRP-CYS-VAL' b'PHE-VAL-VAL' b'TRP-MET-CYS'\n",
      " b'MET-CYS-TRP' b'MET-TRP-CYS']\n"
     ]
    },
    {
     "name": "stderr",
     "output_type": "stream",
     "text": [
      "/var/folders/q9/dz7bsnq15t5crnph1_rcrhjr0000gn/T/ipykernel_19166/3864898870.py:21: DeprecationWarning: Conversion of an array with ndim > 0 to a scalar is deprecated, and will error in future. Ensure you extract a single element from your array before performing this operation. (Deprecated NumPy 1.25.)\n",
      "  x = math.sqrt(sum(p)/10)\n"
     ]
    },
    {
     "name": "stdout",
     "output_type": "stream",
     "text": [
      "[b'CYS-TRP-ILE' b'TRP-CYS-MET' b'TRP-PRO-LEU' b'VAL-PRO-TRP'\n",
      " b'TRP-CYS-CYS' b'VAL-LEU-PHE' b'ILE-PRO-TRP' b'VAL-PHE-LEU'\n",
      " b'TRP-LEU-PRO' b'PRO-VAL-PHE']\n"
     ]
    },
    {
     "name": "stderr",
     "output_type": "stream",
     "text": [
      "/var/folders/q9/dz7bsnq15t5crnph1_rcrhjr0000gn/T/ipykernel_19166/3864898870.py:21: DeprecationWarning: Conversion of an array with ndim > 0 to a scalar is deprecated, and will error in future. Ensure you extract a single element from your array before performing this operation. (Deprecated NumPy 1.25.)\n",
      "  x = math.sqrt(sum(p)/10)\n"
     ]
    },
    {
     "name": "stdout",
     "output_type": "stream",
     "text": [
      "[b'TRP-VAL-PRO' b'VAL-TRP-PRO' b'VAL-PRO-PHE' b'TRP-PRO-VAL'\n",
      " b'LEU-PRO-TRP' b'TRP-MET-PRO' b'TRP-PRO-MET' b'LEU-TRP-PRO'\n",
      " b'VAL-PHE-PRO' b'MET-PRO-TRP']\n"
     ]
    },
    {
     "name": "stderr",
     "output_type": "stream",
     "text": [
      "/var/folders/q9/dz7bsnq15t5crnph1_rcrhjr0000gn/T/ipykernel_19166/3864898870.py:21: DeprecationWarning: Conversion of an array with ndim > 0 to a scalar is deprecated, and will error in future. Ensure you extract a single element from your array before performing this operation. (Deprecated NumPy 1.25.)\n",
      "  x = math.sqrt(sum(p)/10)\n"
     ]
    },
    {
     "name": "stdout",
     "output_type": "stream",
     "text": [
      "[b'ILE-TRP-PRO' b'MET-TRP-PRO' b'TRP-ILE-SER' b'TRP-GLY-LEU'\n",
      " b'TRP-LEU-GLY' b'TRP-PRO-CYS' b'TRP-ILE-THR' b'LEU-GLY-TRP'\n",
      " b'LEU-TRP-GLY' b'TRP-LEU-SER']\n"
     ]
    },
    {
     "name": "stderr",
     "output_type": "stream",
     "text": [
      "/var/folders/q9/dz7bsnq15t5crnph1_rcrhjr0000gn/T/ipykernel_19166/3864898870.py:21: DeprecationWarning: Conversion of an array with ndim > 0 to a scalar is deprecated, and will error in future. Ensure you extract a single element from your array before performing this operation. (Deprecated NumPy 1.25.)\n",
      "  x = math.sqrt(sum(p)/10)\n"
     ]
    },
    {
     "name": "stdout",
     "output_type": "stream",
     "text": [
      "[b'THR-ILE-TRP' b'TRP-CYS-PRO' b'TRP-THR-ILE' b'THR-TRP-ILE'\n",
      " b'TRP-LEU-THR' b'TRP-PRO-THR' b'THR-LEU-TRP' b'ILE-TRP-THR'\n",
      " b'LEU-TRP-THR' b'THR-TRP-LEU']\n"
     ]
    },
    {
     "name": "stderr",
     "output_type": "stream",
     "text": [
      "/var/folders/q9/dz7bsnq15t5crnph1_rcrhjr0000gn/T/ipykernel_19166/3864898870.py:21: DeprecationWarning: Conversion of an array with ndim > 0 to a scalar is deprecated, and will error in future. Ensure you extract a single element from your array before performing this operation. (Deprecated NumPy 1.25.)\n",
      "  x = math.sqrt(sum(p)/10)\n"
     ]
    },
    {
     "name": "stdout",
     "output_type": "stream",
     "text": [
      "[b'TRP-ILE-PHE' b'TRP-PHE-ILE' b'TRP-ILE-TRP' b'VAL-PHE-TRP'\n",
      " b'TRP-TRP-ILE' b'TRP-LEU-TRP' b'TRP-LEU-PHE' b'VAL-TRP-PHE'\n",
      " b'TRP-PHE-LEU' b'TRP-PRO-PHE']\n",
      "VAL-PHE-TRP which is a self assembling peptide is predicted in the 14th iteration\n",
      "TRP-PHE-LEU which is a self assembling peptide is predicted in the 14th iteration\n"
     ]
    },
    {
     "name": "stderr",
     "output_type": "stream",
     "text": [
      "/var/folders/q9/dz7bsnq15t5crnph1_rcrhjr0000gn/T/ipykernel_19166/3864898870.py:21: DeprecationWarning: Conversion of an array with ndim > 0 to a scalar is deprecated, and will error in future. Ensure you extract a single element from your array before performing this operation. (Deprecated NumPy 1.25.)\n",
      "  x = math.sqrt(sum(p)/10)\n"
     ]
    },
    {
     "name": "stdout",
     "output_type": "stream",
     "text": [
      "[b'TYR-LEU-PHE' b'VAL-TRP-TRP' b'TYR-PHE-LEU' b'TRP-VAL-TRP'\n",
      " b'TRP-TRP-PRO' b'LEU-PHE-PHE' b'VAL-PHE-PHE' b'TRP-PRO-TRP'\n",
      " b'TRP-TRP-VAL' b'LEU-PHE-TRP']\n",
      "VAL-PHE-PHE which is a self assembling peptide is predicted in the 15th iteration\n"
     ]
    },
    {
     "name": "stderr",
     "output_type": "stream",
     "text": [
      "/var/folders/q9/dz7bsnq15t5crnph1_rcrhjr0000gn/T/ipykernel_19166/3864898870.py:21: DeprecationWarning: Conversion of an array with ndim > 0 to a scalar is deprecated, and will error in future. Ensure you extract a single element from your array before performing this operation. (Deprecated NumPy 1.25.)\n",
      "  x = math.sqrt(sum(p)/10)\n"
     ]
    },
    {
     "name": "stdout",
     "output_type": "stream",
     "text": [
      "[b'TRP-PHE-VAL' b'VAL-HSE-TRP' b'VAL-TRP-HSE' b'TRP-HSE-VAL'\n",
      " b'TRP-HSE-ILE' b'TRP-HSE-LEU' b'TRP-LEU-HSE' b'TRP-VAL-HSE'\n",
      " b'TRP-VAL-PHE' b'TRP-ILE-HSE']\n"
     ]
    },
    {
     "name": "stderr",
     "output_type": "stream",
     "text": [
      "/var/folders/q9/dz7bsnq15t5crnph1_rcrhjr0000gn/T/ipykernel_19166/3864898870.py:21: DeprecationWarning: Conversion of an array with ndim > 0 to a scalar is deprecated, and will error in future. Ensure you extract a single element from your array before performing this operation. (Deprecated NumPy 1.25.)\n",
      "  x = math.sqrt(sum(p)/10)\n"
     ]
    },
    {
     "name": "stdout",
     "output_type": "stream",
     "text": [
      "[b'PHE-TRP-VAL' b'TRP-PHE-THR' b'TRP-PHE-PRO' b'PHE-VAL-TRP'\n",
      " b'TRP-HSE-PRO' b'TYR-TRP-PRO' b'TRP-TYR-PRO' b'TRP-MET-THR'\n",
      " b'THR-PHE-TRP' b'LEU-TRP-PHE']\n"
     ]
    },
    {
     "name": "stderr",
     "output_type": "stream",
     "text": [
      "/var/folders/q9/dz7bsnq15t5crnph1_rcrhjr0000gn/T/ipykernel_19166/3864898870.py:21: DeprecationWarning: Conversion of an array with ndim > 0 to a scalar is deprecated, and will error in future. Ensure you extract a single element from your array before performing this operation. (Deprecated NumPy 1.25.)\n",
      "  x = math.sqrt(sum(p)/10)\n"
     ]
    },
    {
     "name": "stdout",
     "output_type": "stream",
     "text": [
      "[b'TRP-TRP-THR' b'TRP-TYR-VAL' b'TYR-TRP-VAL' b'THR-TRP-TRP'\n",
      " b'VAL-TYR-TRP' b'VAL-TRP-TYR' b'HSE-TRP-VAL' b'TYR-PRO-TRP'\n",
      " b'TYR-VAL-TRP' b'TRP-TRP-LEU']\n"
     ]
    },
    {
     "name": "stderr",
     "output_type": "stream",
     "text": [
      "/var/folders/q9/dz7bsnq15t5crnph1_rcrhjr0000gn/T/ipykernel_19166/3864898870.py:21: DeprecationWarning: Conversion of an array with ndim > 0 to a scalar is deprecated, and will error in future. Ensure you extract a single element from your array before performing this operation. (Deprecated NumPy 1.25.)\n",
      "  x = math.sqrt(sum(p)/10)\n"
     ]
    },
    {
     "name": "stdout",
     "output_type": "stream",
     "text": [
      "[b'VAL-HSE-PHE' b'VAL-PHE-HSE' b'TYR-PHE-PRO' b'TRP-VAL-TYR'\n",
      " b'TRP-PRO-TYR' b'PHE-HSE-VAL' b'HSE-PHE-VAL' b'PHE-LEU-TRP'\n",
      " b'TYR-LEU-TRP' b'PHE-TRP-LEU']\n"
     ]
    },
    {
     "name": "stderr",
     "output_type": "stream",
     "text": [
      "/var/folders/q9/dz7bsnq15t5crnph1_rcrhjr0000gn/T/ipykernel_19166/3864898870.py:21: DeprecationWarning: Conversion of an array with ndim > 0 to a scalar is deprecated, and will error in future. Ensure you extract a single element from your array before performing this operation. (Deprecated NumPy 1.25.)\n",
      "  x = math.sqrt(sum(p)/10)\n"
     ]
    },
    {
     "name": "stdout",
     "output_type": "stream",
     "text": [
      "[b'LEU-TRP-TRP' b'ILE-TRP-TRP' b'TYR-PRO-PHE' b'TRP-THR-LEU'\n",
      " b'TRP-PRO-PRO' b'TRP-TYR-LEU' b'TYR-TRP-LEU' b'PRO-TRP-PRO'\n",
      " b'TRP-LEU-TYR' b'HSE-VAL-TRP']\n"
     ]
    },
    {
     "name": "stderr",
     "output_type": "stream",
     "text": [
      "/var/folders/q9/dz7bsnq15t5crnph1_rcrhjr0000gn/T/ipykernel_19166/3864898870.py:21: DeprecationWarning: Conversion of an array with ndim > 0 to a scalar is deprecated, and will error in future. Ensure you extract a single element from your array before performing this operation. (Deprecated NumPy 1.25.)\n",
      "  x = math.sqrt(sum(p)/10)\n"
     ]
    },
    {
     "name": "stdout",
     "output_type": "stream",
     "text": [
      "[b'TYR-TRP-ILE' b'TRP-TYR-ILE' b'LEU-TYR-TRP' b'LEU-TRP-TYR'\n",
      " b'TYR-ILE-TRP' b'TRP-ILE-TYR' b'VAL-HSE-TYR' b'TYR-HSE-VAL'\n",
      " b'VAL-TYR-HSE' b'TYR-HSE-PRO']\n"
     ]
    },
    {
     "name": "stderr",
     "output_type": "stream",
     "text": [
      "/var/folders/q9/dz7bsnq15t5crnph1_rcrhjr0000gn/T/ipykernel_19166/3864898870.py:21: DeprecationWarning: Conversion of an array with ndim > 0 to a scalar is deprecated, and will error in future. Ensure you extract a single element from your array before performing this operation. (Deprecated NumPy 1.25.)\n",
      "  x = math.sqrt(sum(p)/10)\n"
     ]
    },
    {
     "name": "stdout",
     "output_type": "stream",
     "text": [
      "[b'VAL-CYS-HSE' b'TRP-ILE-ASP' b'VAL-HSE-CYS' b'TRP-SER-LEU'\n",
      " b'PRO-ILE-PHE' b'TRP-LEU-ASP' b'TRP-ASP-ILE' b'ILE-TYR-TRP'\n",
      " b'TYR-VAL-HSE' b'PRO-PRO-TRP']\n"
     ]
    },
    {
     "name": "stderr",
     "output_type": "stream",
     "text": [
      "/var/folders/q9/dz7bsnq15t5crnph1_rcrhjr0000gn/T/ipykernel_19166/3864898870.py:21: DeprecationWarning: Conversion of an array with ndim > 0 to a scalar is deprecated, and will error in future. Ensure you extract a single element from your array before performing this operation. (Deprecated NumPy 1.25.)\n",
      "  x = math.sqrt(sum(p)/10)\n"
     ]
    },
    {
     "name": "stdout",
     "output_type": "stream",
     "text": [
      "[b'LEU-TRP-SER' b'SER-LEU-TRP' b'TRP-SER-ILE' b'TRP-VAL-SER'\n",
      " b'SER-TRP-LEU' b'VAL-TRP-SER' b'TRP-MET-SER' b'ILE-TRP-TYR'\n",
      " b'TYR-PRO-HSE' b'LEU-SER-TRP']\n"
     ]
    },
    {
     "name": "stderr",
     "output_type": "stream",
     "text": [
      "/var/folders/q9/dz7bsnq15t5crnph1_rcrhjr0000gn/T/ipykernel_19166/3864898870.py:21: DeprecationWarning: Conversion of an array with ndim > 0 to a scalar is deprecated, and will error in future. Ensure you extract a single element from your array before performing this operation. (Deprecated NumPy 1.25.)\n",
      "  x = math.sqrt(sum(p)/10)\n"
     ]
    },
    {
     "name": "stdout",
     "output_type": "stream",
     "text": [
      "[b'VAL-MET-HSE' b'VAL-TRP-THR' b'TRP-VAL-THR' b'TYR-LEU-HSE'\n",
      " b'PRO-PHE-ILE' b'VAL-SER-TRP' b'VAL-THR-TRP' b'TYR-HSE-LEU'\n",
      " b'TYR-ILE-HSE' b'ILE-THR-TRP']\n"
     ]
    },
    {
     "name": "stderr",
     "output_type": "stream",
     "text": [
      "/var/folders/q9/dz7bsnq15t5crnph1_rcrhjr0000gn/T/ipykernel_19166/3864898870.py:21: DeprecationWarning: Conversion of an array with ndim > 0 to a scalar is deprecated, and will error in future. Ensure you extract a single element from your array before performing this operation. (Deprecated NumPy 1.25.)\n",
      "  x = math.sqrt(sum(p)/10)\n"
     ]
    },
    {
     "name": "stdout",
     "output_type": "stream",
     "text": [
      "[b'ILE-TRP-PHE' b'ILE-PHE-TRP' b'TRP-GLY-PRO' b'PRO-TRP-CYS'\n",
      " b'TRP-ALA-PRO' b'THR-MET-TRP' b'PRO-CYS-TRP' b'TRP-THR-MET'\n",
      " b'VAL-PHE-SER' b'VAL-TYR-PHE']\n",
      "ILE-PHE-TRP which is a self assembling peptide is predicted in the 25th iteration\n"
     ]
    },
    {
     "name": "stderr",
     "output_type": "stream",
     "text": [
      "/var/folders/q9/dz7bsnq15t5crnph1_rcrhjr0000gn/T/ipykernel_19166/3864898870.py:21: DeprecationWarning: Conversion of an array with ndim > 0 to a scalar is deprecated, and will error in future. Ensure you extract a single element from your array before performing this operation. (Deprecated NumPy 1.25.)\n",
      "  x = math.sqrt(sum(p)/10)\n"
     ]
    },
    {
     "name": "stdout",
     "output_type": "stream",
     "text": [
      "[b'VAL-PHE-TYR' b'TYR-PHE-VAL' b'TYR-VAL-PHE' b'TYR-PHE-ILE'\n",
      " b'TYR-ILE-PHE' b'VAL-TYR-TYR' b'VAL-SER-PHE' b'PHE-TRP-ILE'\n",
      " b'TRP-PRO-SER' b'PHE-PHE-VAL']\n"
     ]
    },
    {
     "name": "stderr",
     "output_type": "stream",
     "text": [
      "/var/folders/q9/dz7bsnq15t5crnph1_rcrhjr0000gn/T/ipykernel_19166/3864898870.py:21: DeprecationWarning: Conversion of an array with ndim > 0 to a scalar is deprecated, and will error in future. Ensure you extract a single element from your array before performing this operation. (Deprecated NumPy 1.25.)\n",
      "  x = math.sqrt(sum(p)/10)\n"
     ]
    },
    {
     "name": "stdout",
     "output_type": "stream",
     "text": [
      "[b'TYR-TYR-ILE' b'TYR-ILE-TYR' b'TYR-VAL-TYR' b'TYR-TYR-VAL'\n",
      " b'TYR-TYR-PRO' b'TYR-PRO-TYR' b'TYR-LEU-TYR' b'TYR-TYR-LEU'\n",
      " b'TYR-TYR-THR' b'TYR-PHE-THR']\n"
     ]
    },
    {
     "name": "stderr",
     "output_type": "stream",
     "text": [
      "/var/folders/q9/dz7bsnq15t5crnph1_rcrhjr0000gn/T/ipykernel_19166/3864898870.py:21: DeprecationWarning: Conversion of an array with ndim > 0 to a scalar is deprecated, and will error in future. Ensure you extract a single element from your array before performing this operation. (Deprecated NumPy 1.25.)\n",
      "  x = math.sqrt(sum(p)/10)\n"
     ]
    },
    {
     "name": "stdout",
     "output_type": "stream",
     "text": [
      "[b'TYR-PRO-PRO' b'TYR-MET-PRO' b'LEU-TYR-TYR' b'LEU-THR-TRP'\n",
      " b'TRP-GLY-VAL' b'PRO-MET-TRP' b'THR-PHE-PHE' b'TRP-PRO-ALA'\n",
      " b'VAL-MET-TYR' b'TRP-PRO-GLY']\n"
     ]
    },
    {
     "name": "stderr",
     "output_type": "stream",
     "text": [
      "/var/folders/q9/dz7bsnq15t5crnph1_rcrhjr0000gn/T/ipykernel_19166/3864898870.py:21: DeprecationWarning: Conversion of an array with ndim > 0 to a scalar is deprecated, and will error in future. Ensure you extract a single element from your array before performing this operation. (Deprecated NumPy 1.25.)\n",
      "  x = math.sqrt(sum(p)/10)\n"
     ]
    },
    {
     "name": "stdout",
     "output_type": "stream",
     "text": [
      "[b'VAL-TRP-GLY' b'ILE-VAL-PHE' b'PRO-PHE-PRO' b'TYR-MET-ILE'\n",
      " b'ILE-PHE-CYS' b'PRO-PRO-PHE' b'ILE-CYS-PHE' b'TRP-ALA-LEU'\n",
      " b'ILE-PHE-PHE' b'THR-TYR-PHE']\n",
      "ILE-PHE-PHE which is a self assembling peptide is predicted in the 29th iteration\n"
     ]
    },
    {
     "name": "stderr",
     "output_type": "stream",
     "text": [
      "/var/folders/q9/dz7bsnq15t5crnph1_rcrhjr0000gn/T/ipykernel_19166/3864898870.py:21: DeprecationWarning: Conversion of an array with ndim > 0 to a scalar is deprecated, and will error in future. Ensure you extract a single element from your array before performing this operation. (Deprecated NumPy 1.25.)\n",
      "  x = math.sqrt(sum(p)/10)\n"
     ]
    },
    {
     "name": "stdout",
     "output_type": "stream",
     "text": [
      "[b'PRO-CYS-PHE' b'THR-TYR-TYR' b'THR-PHE-TYR' b'PRO-PHE-CYS'\n",
      " b'PRO-PHE-PHE' b'PRO-GLY-PHE' b'ILE-TYR-PHE' b'PRO-SER-PHE'\n",
      " b'PRO-MET-PHE' b'PRO-PHE-SER']\n",
      "PRO-CYS-PHE which is a self assembling peptide is predicted in the 30th iteration\n",
      "PRO-PHE-PHE which is a self assembling peptide is predicted in the 30th iteration\n"
     ]
    },
    {
     "name": "stderr",
     "output_type": "stream",
     "text": [
      "/var/folders/q9/dz7bsnq15t5crnph1_rcrhjr0000gn/T/ipykernel_19166/3864898870.py:21: DeprecationWarning: Conversion of an array with ndim > 0 to a scalar is deprecated, and will error in future. Ensure you extract a single element from your array before performing this operation. (Deprecated NumPy 1.25.)\n",
      "  x = math.sqrt(sum(p)/10)\n"
     ]
    },
    {
     "name": "stdout",
     "output_type": "stream",
     "text": [
      "[b'TYR-PRO-ILE' b'TYR-ILE-ILE' b'LEU-ALA-TRP' b'PRO-LEU-PHE'\n",
      " b'VAL-GLY-PHE' b'ILE-GLY-PHE' b'VAL-ILE-TYR' b'PHE-ILE-TRP'\n",
      " b'TRP-LEU-ALA' b'TRP-SER-PRO']\n"
     ]
    },
    {
     "name": "stderr",
     "output_type": "stream",
     "text": [
      "/var/folders/q9/dz7bsnq15t5crnph1_rcrhjr0000gn/T/ipykernel_19166/3864898870.py:21: DeprecationWarning: Conversion of an array with ndim > 0 to a scalar is deprecated, and will error in future. Ensure you extract a single element from your array before performing this operation. (Deprecated NumPy 1.25.)\n",
      "  x = math.sqrt(sum(p)/10)\n"
     ]
    },
    {
     "name": "stdout",
     "output_type": "stream",
     "text": [
      "[b'PRO-PHE-LEU' b'LEU-PRO-PHE' b'TYR-PRO-LEU' b'LEU-CYS-PHE'\n",
      " b'TYR-ILE-PRO' b'TYR-ILE-LEU' b'MET-ILE-PHE' b'TYR-LEU-ILE'\n",
      " b'MET-VAL-PHE' b'PRO-ILE-TYR']\n",
      "LEU-CYS-PHE which is a self assembling peptide is predicted in the 32th iteration\n"
     ]
    },
    {
     "name": "stderr",
     "output_type": "stream",
     "text": [
      "/var/folders/q9/dz7bsnq15t5crnph1_rcrhjr0000gn/T/ipykernel_19166/3864898870.py:21: DeprecationWarning: Conversion of an array with ndim > 0 to a scalar is deprecated, and will error in future. Ensure you extract a single element from your array before performing this operation. (Deprecated NumPy 1.25.)\n",
      "  x = math.sqrt(sum(p)/10)\n"
     ]
    },
    {
     "name": "stdout",
     "output_type": "stream",
     "text": [
      "[b'VAL-LEU-TYR' b'LEU-VAL-PHE' b'PRO-PHE-MET' b'LEU-PHE-CYS'\n",
      " b'VAL-TYR-LEU' b'TYR-LEU-PRO' b'LEU-ILE-PHE' b'MET-PRO-PHE'\n",
      " b'ILE-ILE-PHE' b'ILE-MET-PHE']\n"
     ]
    },
    {
     "name": "stderr",
     "output_type": "stream",
     "text": [
      "/var/folders/q9/dz7bsnq15t5crnph1_rcrhjr0000gn/T/ipykernel_19166/3864898870.py:21: DeprecationWarning: Conversion of an array with ndim > 0 to a scalar is deprecated, and will error in future. Ensure you extract a single element from your array before performing this operation. (Deprecated NumPy 1.25.)\n",
      "  x = math.sqrt(sum(p)/10)\n"
     ]
    },
    {
     "name": "stdout",
     "output_type": "stream",
     "text": [
      "[b'TYR-LEU-SER' b'LEU-PRO-TYR' b'LEU-PHE-PRO' b'TYR-ILE-SER'\n",
      " b'TYR-SER-LEU' b'MET-PHE-ILE' b'MET-CYS-PHE' b'VAL-PRO-TYR'\n",
      " b'TYR-PRO-MET' b'VAL-TYR-ILE']\n"
     ]
    },
    {
     "name": "stderr",
     "output_type": "stream",
     "text": [
      "/var/folders/q9/dz7bsnq15t5crnph1_rcrhjr0000gn/T/ipykernel_19166/3864898870.py:21: DeprecationWarning: Conversion of an array with ndim > 0 to a scalar is deprecated, and will error in future. Ensure you extract a single element from your array before performing this operation. (Deprecated NumPy 1.25.)\n",
      "  x = math.sqrt(sum(p)/10)\n"
     ]
    },
    {
     "name": "stdout",
     "output_type": "stream",
     "text": [
      "[b'LEU-TYR-PRO' b'VAL-VAL-TYR' b'ILE-VAL-TYR' b'TYR-VAL-ILE'\n",
      " b'TYR-ILE-VAL' b'ILE-ILE-TYR' b'MET-PHE-CYS' b'VAL-TYR-VAL'\n",
      " b'ILE-TYR-VAL' b'ILE-TYR-ILE']\n"
     ]
    },
    {
     "name": "stderr",
     "output_type": "stream",
     "text": [
      "/var/folders/q9/dz7bsnq15t5crnph1_rcrhjr0000gn/T/ipykernel_19166/3864898870.py:21: DeprecationWarning: Conversion of an array with ndim > 0 to a scalar is deprecated, and will error in future. Ensure you extract a single element from your array before performing this operation. (Deprecated NumPy 1.25.)\n",
      "  x = math.sqrt(sum(p)/10)\n"
     ]
    },
    {
     "name": "stdout",
     "output_type": "stream",
     "text": [
      "[b'MET-CYS-HSE' b'ILE-PHE-ILE' b'MET-HSE-CYS' b'CYS-MET-PHE'\n",
      " b'ILE-PHE-VAL' b'ILE-PHE-TYR' b'MET-MET-PHE' b'CYS-CYS-PHE'\n",
      " b'PHE-PRO-LEU' b'PRO-PRO-TYR']\n"
     ]
    },
    {
     "name": "stderr",
     "output_type": "stream",
     "text": [
      "/var/folders/q9/dz7bsnq15t5crnph1_rcrhjr0000gn/T/ipykernel_19166/3864898870.py:21: DeprecationWarning: Conversion of an array with ndim > 0 to a scalar is deprecated, and will error in future. Ensure you extract a single element from your array before performing this operation. (Deprecated NumPy 1.25.)\n",
      "  x = math.sqrt(sum(p)/10)\n"
     ]
    },
    {
     "name": "stdout",
     "output_type": "stream",
     "text": [
      "[b'PHE-LEU-PRO' b'CYS-MET-TRP' b'CYS-PHE-CYS' b'PRO-TRP-MET'\n",
      " b'TYR-VAL-LEU' b'MET-ALA-PHE' b'PHE-MET-CYS' b'MET-PHE-PRO'\n",
      " b'ILE-TRP-SER' b'TRP-MET-MET']\n"
     ]
    },
    {
     "name": "stderr",
     "output_type": "stream",
     "text": [
      "/var/folders/q9/dz7bsnq15t5crnph1_rcrhjr0000gn/T/ipykernel_19166/3864898870.py:21: DeprecationWarning: Conversion of an array with ndim > 0 to a scalar is deprecated, and will error in future. Ensure you extract a single element from your array before performing this operation. (Deprecated NumPy 1.25.)\n",
      "  x = math.sqrt(sum(p)/10)\n"
     ]
    },
    {
     "name": "stdout",
     "output_type": "stream",
     "text": [
      "[b'PRO-ALA-PHE' b'ILE-PHE-MET' b'MET-PHE-VAL' b'MET-PRO-TYR'\n",
      " b'CYS-PHE-MET' b'TYR-VAL-VAL' b'PRO-PHE-ALA' b'PRO-TYR-ILE'\n",
      " b'VAL-TYR-PRO' b'TYR-LEU-VAL']\n"
     ]
    },
    {
     "name": "stderr",
     "output_type": "stream",
     "text": [
      "/var/folders/q9/dz7bsnq15t5crnph1_rcrhjr0000gn/T/ipykernel_19166/3864898870.py:21: DeprecationWarning: Conversion of an array with ndim > 0 to a scalar is deprecated, and will error in future. Ensure you extract a single element from your array before performing this operation. (Deprecated NumPy 1.25.)\n",
      "  x = math.sqrt(sum(p)/10)\n"
     ]
    },
    {
     "name": "stdout",
     "output_type": "stream",
     "text": [
      "[b'TYR-VAL-PRO' b'TYR-PRO-VAL' b'CYS-CYS-TRP' b'CYS-TRP-CYS'\n",
      " b'ILE-SER-TRP' b'TRP-SER-VAL' b'LEU-HSE-TRP' b'TRP-THR-PRO'\n",
      " b'ILE-LEU-PHE' b'LEU-TRP-HSE']\n"
     ]
    },
    {
     "name": "stderr",
     "output_type": "stream",
     "text": [
      "/var/folders/q9/dz7bsnq15t5crnph1_rcrhjr0000gn/T/ipykernel_19166/3864898870.py:21: DeprecationWarning: Conversion of an array with ndim > 0 to a scalar is deprecated, and will error in future. Ensure you extract a single element from your array before performing this operation. (Deprecated NumPy 1.25.)\n",
      "  x = math.sqrt(sum(p)/10)\n"
     ]
    },
    {
     "name": "stdout",
     "output_type": "stream",
     "text": [
      "[b'PHE-VAL-PHE' b'THR-TRP-PRO' b'PHE-ILE-PHE' b'VAL-TYR-MET'\n",
      " b'MET-GLY-PHE' b'PHE-PHE-ILE' b'PRO-CYS-HSE' b'ILE-PRO-TYR'\n",
      " b'ILE-PRO-PHE' b'CYS-TRP-MET']\n"
     ]
    },
    {
     "name": "stderr",
     "output_type": "stream",
     "text": [
      "/var/folders/q9/dz7bsnq15t5crnph1_rcrhjr0000gn/T/ipykernel_19166/3864898870.py:21: DeprecationWarning: Conversion of an array with ndim > 0 to a scalar is deprecated, and will error in future. Ensure you extract a single element from your array before performing this operation. (Deprecated NumPy 1.25.)\n",
      "  x = math.sqrt(sum(p)/10)\n"
     ]
    },
    {
     "name": "stdout",
     "output_type": "stream",
     "text": [
      "[b'ILE-TYR-PRO' b'MET-TYR-PRO' b'THR-PRO-TRP' b'MET-LEU-PHE'\n",
      " b'ILE-TYR-TYR' b'PRO-LEU-TYR' b'TRP-PRO-HSE' b'LEU-PHE-ILE'\n",
      " b'PHE-PRO-PHE' b'SER-PRO-PHE']\n"
     ]
    },
    {
     "name": "stderr",
     "output_type": "stream",
     "text": [
      "/var/folders/q9/dz7bsnq15t5crnph1_rcrhjr0000gn/T/ipykernel_19166/3864898870.py:21: DeprecationWarning: Conversion of an array with ndim > 0 to a scalar is deprecated, and will error in future. Ensure you extract a single element from your array before performing this operation. (Deprecated NumPy 1.25.)\n",
      "  x = math.sqrt(sum(p)/10)\n"
     ]
    },
    {
     "name": "stdout",
     "output_type": "stream",
     "text": [
      "[b'MET-PHE-SER' b'MET-SER-PHE' b'CYS-PRO-PHE' b'ILE-PHE-LEU'\n",
      " b'LEU-TYR-PHE' b'SER-PHE-PRO' b'LEU-PHE-TYR' b'THR-PRO-PHE'\n",
      " b'ILE-SER-PHE' b'TYR-PRO-CYS']\n"
     ]
    },
    {
     "name": "stderr",
     "output_type": "stream",
     "text": [
      "/var/folders/q9/dz7bsnq15t5crnph1_rcrhjr0000gn/T/ipykernel_19166/3864898870.py:21: DeprecationWarning: Conversion of an array with ndim > 0 to a scalar is deprecated, and will error in future. Ensure you extract a single element from your array before performing this operation. (Deprecated NumPy 1.25.)\n",
      "  x = math.sqrt(sum(p)/10)\n"
     ]
    },
    {
     "name": "stdout",
     "output_type": "stream",
     "text": [
      "[b'VAL-PHE-THR' b'THR-ILE-PHE' b'VAL-THR-PHE' b'ILE-PHE-SER'\n",
      " b'THR-MET-PHE' b'MET-THR-PHE' b'SER-ILE-PHE' b'TYR-CYS-PRO'\n",
      " b'LEU-MET-PHE' b'MET-PHE-THR']\n"
     ]
    },
    {
     "name": "stderr",
     "output_type": "stream",
     "text": [
      "/var/folders/q9/dz7bsnq15t5crnph1_rcrhjr0000gn/T/ipykernel_19166/3864898870.py:21: DeprecationWarning: Conversion of an array with ndim > 0 to a scalar is deprecated, and will error in future. Ensure you extract a single element from your array before performing this operation. (Deprecated NumPy 1.25.)\n",
      "  x = math.sqrt(sum(p)/10)\n"
     ]
    },
    {
     "name": "stdout",
     "output_type": "stream",
     "text": [
      "[b'TYR-LEU-THR' b'MET-PHE-ALA' b'SER-MET-PHE' b'PHE-LEU-PHE'\n",
      " b'TYR-ILE-THR' b'PHE-TRP-PRO' b'MET-PHE-LEU' b'LEU-PHE-VAL'\n",
      " b'PHE-TYR-VAL' b'MET-ILE-TYR']\n"
     ]
    },
    {
     "name": "stderr",
     "output_type": "stream",
     "text": [
      "/var/folders/q9/dz7bsnq15t5crnph1_rcrhjr0000gn/T/ipykernel_19166/3864898870.py:21: DeprecationWarning: Conversion of an array with ndim > 0 to a scalar is deprecated, and will error in future. Ensure you extract a single element from your array before performing this operation. (Deprecated NumPy 1.25.)\n",
      "  x = math.sqrt(sum(p)/10)\n"
     ]
    },
    {
     "name": "stdout",
     "output_type": "stream",
     "text": [
      "[b'ILE-MET-TYR' b'MET-VAL-TYR' b'MET-TYR-ILE' b'PHE-PHE-LEU'\n",
      " b'MET-CYS-TYR' b'ILE-CYS-TYR' b'ILE-TYR-MET' b'CYS-MET-TYR'\n",
      " b'LEU-ILE-TYR' b'ILE-LEU-TYR']\n"
     ]
    },
    {
     "name": "stderr",
     "output_type": "stream",
     "text": [
      "/var/folders/q9/dz7bsnq15t5crnph1_rcrhjr0000gn/T/ipykernel_19166/3864898870.py:21: DeprecationWarning: Conversion of an array with ndim > 0 to a scalar is deprecated, and will error in future. Ensure you extract a single element from your array before performing this operation. (Deprecated NumPy 1.25.)\n",
      "  x = math.sqrt(sum(p)/10)\n"
     ]
    },
    {
     "name": "stdout",
     "output_type": "stream",
     "text": [
      "[b'LEU-VAL-TYR' b'PHE-VAL-TYR' b'CYS-PRO-TRP' b'PHE-ILE-LEU'\n",
      " b'ILE-TYR-LEU' b'LEU-TYR-ILE' b'CYS-ILE-PHE' b'MET-PHE-MET'\n",
      " b'TYR-THR-LEU' b'CYS-LEU-PHE']\n"
     ]
    },
    {
     "name": "stderr",
     "output_type": "stream",
     "text": [
      "/var/folders/q9/dz7bsnq15t5crnph1_rcrhjr0000gn/T/ipykernel_19166/3864898870.py:21: DeprecationWarning: Conversion of an array with ndim > 0 to a scalar is deprecated, and will error in future. Ensure you extract a single element from your array before performing this operation. (Deprecated NumPy 1.25.)\n",
      "  x = math.sqrt(sum(p)/10)\n"
     ]
    },
    {
     "name": "stdout",
     "output_type": "stream",
     "text": [
      "[b'PHE-VAL-LEU' b'PHE-LEU-LEU' b'PHE-LEU-ILE' b'LEU-TYR-VAL'\n",
      " b'LEU-LEU-PHE' b'PHE-MET-LEU' b'PHE-VAL-MET' b'TYR-ILE-MET'\n",
      " b'PHE-PHE-PRO' b'THR-LEU-PHE']\n"
     ]
    },
    {
     "name": "stderr",
     "output_type": "stream",
     "text": [
      "/var/folders/q9/dz7bsnq15t5crnph1_rcrhjr0000gn/T/ipykernel_19166/3864898870.py:21: DeprecationWarning: Conversion of an array with ndim > 0 to a scalar is deprecated, and will error in future. Ensure you extract a single element from your array before performing this operation. (Deprecated NumPy 1.25.)\n",
      "  x = math.sqrt(sum(p)/10)\n"
     ]
    },
    {
     "name": "stdout",
     "output_type": "stream",
     "text": [
      "[b'PHE-PRO-TRP' b'LEU-PHE-LEU' b'MET-LEU-TYR' b'PHE-LEU-MET'\n",
      " b'LEU-LEU-TYR' b'LEU-PHE-MET' b'LEU-SER-PHE' b'CYS-PHE-LEU'\n",
      " b'PRO-THR-PHE' b'TRP-THR-VAL']\n"
     ]
    },
    {
     "name": "stderr",
     "output_type": "stream",
     "text": [
      "/var/folders/q9/dz7bsnq15t5crnph1_rcrhjr0000gn/T/ipykernel_19166/3864898870.py:21: DeprecationWarning: Conversion of an array with ndim > 0 to a scalar is deprecated, and will error in future. Ensure you extract a single element from your array before performing this operation. (Deprecated NumPy 1.25.)\n",
      "  x = math.sqrt(sum(p)/10)\n"
     ]
    },
    {
     "name": "stdout",
     "output_type": "stream",
     "text": [
      "[b'PHE-TYR-PRO' b'LEU-TYR-LEU' b'PHE-PRO-TYR' b'TYR-LEU-LEU'\n",
      " b'MET-TRP-THR' b'LEU-THR-PHE' b'PHE-LEU-VAL' b'MET-THR-TRP'\n",
      " b'PHE-ILE-MET' b'MET-TYR-VAL']\n"
     ]
    },
    {
     "name": "stderr",
     "output_type": "stream",
     "text": [
      "/var/folders/q9/dz7bsnq15t5crnph1_rcrhjr0000gn/T/ipykernel_19166/3864898870.py:21: DeprecationWarning: Conversion of an array with ndim > 0 to a scalar is deprecated, and will error in future. Ensure you extract a single element from your array before performing this operation. (Deprecated NumPy 1.25.)\n",
      "  x = math.sqrt(sum(p)/10)\n"
     ]
    },
    {
     "name": "stdout",
     "output_type": "stream",
     "text": [
      "[b'PHE-MET-ILE' b'PHE-CYS-MET' b'PRO-TYR-LEU' b'PHE-MET-VAL'\n",
      " b'PHE-CYS-LEU' b'LEU-MET-TYR' b'PHE-ILE-ILE' b'THR-VAL-TRP'\n",
      " b'ALA-MET-PHE' b'MET-TYR-LEU']\n"
     ]
    },
    {
     "name": "stderr",
     "output_type": "stream",
     "text": [
      "/var/folders/q9/dz7bsnq15t5crnph1_rcrhjr0000gn/T/ipykernel_19166/3864898870.py:21: DeprecationWarning: Conversion of an array with ndim > 0 to a scalar is deprecated, and will error in future. Ensure you extract a single element from your array before performing this operation. (Deprecated NumPy 1.25.)\n",
      "  x = math.sqrt(sum(p)/10)\n"
     ]
    },
    {
     "name": "stdout",
     "output_type": "stream",
     "text": [
      "[b'PRO-VAL-TYR' b'PHE-VAL-ILE' b'PHE-ILE-VAL' b'PHE-MET-PRO'\n",
      " b'PHE-PRO-MET' b'THR-TRP-VAL' b'PHE-LEU-CYS' b'PHE-ILE-CYS'\n",
      " b'PHE-ILE-PRO' b'PHE-MET-MET']\n"
     ]
    },
    {
     "name": "stderr",
     "output_type": "stream",
     "text": [
      "/var/folders/q9/dz7bsnq15t5crnph1_rcrhjr0000gn/T/ipykernel_19166/3864898870.py:21: DeprecationWarning: Conversion of an array with ndim > 0 to a scalar is deprecated, and will error in future. Ensure you extract a single element from your array before performing this operation. (Deprecated NumPy 1.25.)\n",
      "  x = math.sqrt(sum(p)/10)\n"
     ]
    },
    {
     "name": "stdout",
     "output_type": "stream",
     "text": [
      "[b'PHE-PRO-ILE' b'PHE-PRO-CYS' b'ILE-PHE-PRO' b'PHE-CYS-PRO'\n",
      " b'PHE-VAL-PRO' b'CYS-PHE-PRO' b'PHE-CYS-CYS' b'TYR-MET-LEU'\n",
      " b'VAL-TYR-THR' b'PHE-PRO-VAL']\n"
     ]
    },
    {
     "name": "stderr",
     "output_type": "stream",
     "text": [
      "/var/folders/q9/dz7bsnq15t5crnph1_rcrhjr0000gn/T/ipykernel_19166/3864898870.py:21: DeprecationWarning: Conversion of an array with ndim > 0 to a scalar is deprecated, and will error in future. Ensure you extract a single element from your array before performing this operation. (Deprecated NumPy 1.25.)\n",
      "  x = math.sqrt(sum(p)/10)\n"
     ]
    },
    {
     "name": "stdout",
     "output_type": "stream",
     "text": [
      "[b'CYS-VAL-PHE' b'VAL-THR-TYR' b'PRO-MET-TYR' b'PHE-ILE-TYR'\n",
      " b'GLY-MET-PHE' b'TYR-MET-VAL' b'PHE-MET-ALA' b'PHE-TYR-ILE'\n",
      " b'PHE-CYS-ILE' b'CYS-PHE-ILE']\n",
      "PHE-TYR-ILE which is a self assembling peptide is predicted in the 53th iteration\n"
     ]
    },
    {
     "name": "stderr",
     "output_type": "stream",
     "text": [
      "/var/folders/q9/dz7bsnq15t5crnph1_rcrhjr0000gn/T/ipykernel_19166/3864898870.py:21: DeprecationWarning: Conversion of an array with ndim > 0 to a scalar is deprecated, and will error in future. Ensure you extract a single element from your array before performing this operation. (Deprecated NumPy 1.25.)\n",
      "  x = math.sqrt(sum(p)/10)\n"
     ]
    },
    {
     "name": "stdout",
     "output_type": "stream",
     "text": [
      "[b'ALA-ILE-PHE' b'TYR-VAL-MET' b'VAL-CYS-TYR' b'MET-PHE-GLY'\n",
      " b'THR-PHE-MET' b'TYR-LEU-MET' b'SER-PHE-MET' b'PHE-LEU-TYR'\n",
      " b'SER-LEU-PHE' b'TYR-ILE-CYS']\n"
     ]
    },
    {
     "name": "stderr",
     "output_type": "stream",
     "text": [
      "/var/folders/q9/dz7bsnq15t5crnph1_rcrhjr0000gn/T/ipykernel_19166/3864898870.py:21: DeprecationWarning: Conversion of an array with ndim > 0 to a scalar is deprecated, and will error in future. Ensure you extract a single element from your array before performing this operation. (Deprecated NumPy 1.25.)\n",
      "  x = math.sqrt(sum(p)/10)\n"
     ]
    },
    {
     "name": "stdout",
     "output_type": "stream",
     "text": [
      "[b'SER-PHE-LEU' b'LEU-PHE-SER' b'THR-PHE-LEU' b'ALA-LEU-TRP'\n",
      " b'THR-VAL-PHE' b'ALA-PHE-ILE' b'VAL-TYR-CYS' b'ALA-TRP-LEU'\n",
      " b'ALA-PHE-MET' b'PHE-TYR-LEU']\n"
     ]
    },
    {
     "name": "stderr",
     "output_type": "stream",
     "text": [
      "/var/folders/q9/dz7bsnq15t5crnph1_rcrhjr0000gn/T/ipykernel_19166/3864898870.py:21: DeprecationWarning: Conversion of an array with ndim > 0 to a scalar is deprecated, and will error in future. Ensure you extract a single element from your array before performing this operation. (Deprecated NumPy 1.25.)\n",
      "  x = math.sqrt(sum(p)/10)\n"
     ]
    },
    {
     "name": "stdout",
     "output_type": "stream",
     "text": [
      "[b'TYR-CYS-ILE' b'ALA-ILE-TRP' b'LEU-TRP-ALA' b'TYR-VAL-THR'\n",
      " b'TYR-CYS-LEU' b'ALA-LEU-TYR' b'PRO-TRP-PHE' b'GLY-PHE-MET'\n",
      " b'TYR-LEU-CYS' b'PRO-PHE-TRP']\n",
      "PRO-TRP-PHE which is a self assembling peptide is predicted in the 56th iteration\n"
     ]
    },
    {
     "name": "stderr",
     "output_type": "stream",
     "text": [
      "/var/folders/q9/dz7bsnq15t5crnph1_rcrhjr0000gn/T/ipykernel_19166/3864898870.py:21: DeprecationWarning: Conversion of an array with ndim > 0 to a scalar is deprecated, and will error in future. Ensure you extract a single element from your array before performing this operation. (Deprecated NumPy 1.25.)\n",
      "  x = math.sqrt(sum(p)/10)\n"
     ]
    },
    {
     "name": "stdout",
     "output_type": "stream",
     "text": [
      "[b'PRO-TRP-TRP' b'PRO-TYR-PHE' b'PRO-PHE-TYR' b'TRP-MET-PHE'\n",
      " b'TRP-PHE-MET' b'MET-PHE-PHE' b'PRO-TYR-TRP' b'PHE-MET-PHE'\n",
      " b'PRO-TRP-TYR' b'ALA-VAL-TRP']\n",
      "MET-PHE-PHE which is a self assembling peptide is predicted in the 57th iteration\n"
     ]
    },
    {
     "name": "stderr",
     "output_type": "stream",
     "text": [
      "/var/folders/q9/dz7bsnq15t5crnph1_rcrhjr0000gn/T/ipykernel_19166/3864898870.py:21: DeprecationWarning: Conversion of an array with ndim > 0 to a scalar is deprecated, and will error in future. Ensure you extract a single element from your array before performing this operation. (Deprecated NumPy 1.25.)\n",
      "  x = math.sqrt(sum(p)/10)\n"
     ]
    },
    {
     "name": "stdout",
     "output_type": "stream",
     "text": [
      "[b'TRP-TYR-MET' b'TYR-MET-TRP' b'TYR-TRP-MET' b'TRP-MET-TYR'\n",
      " b'TRP-TRP-MET' b'PHE-TRP-MET' b'PRO-TYR-TYR' b'PHE-MET-TRP'\n",
      " b'MET-PHE-TRP' b'MET-TRP-PHE']\n"
     ]
    },
    {
     "name": "stderr",
     "output_type": "stream",
     "text": [
      "/var/folders/q9/dz7bsnq15t5crnph1_rcrhjr0000gn/T/ipykernel_19166/3864898870.py:21: DeprecationWarning: Conversion of an array with ndim > 0 to a scalar is deprecated, and will error in future. Ensure you extract a single element from your array before performing this operation. (Deprecated NumPy 1.25.)\n",
      "  x = math.sqrt(sum(p)/10)\n"
     ]
    },
    {
     "name": "stdout",
     "output_type": "stream",
     "text": [
      "[b'ALA-LEU-PHE' b'MET-TRP-TRP' b'ALA-PHE-LEU' b'CYS-PHE-TRP'\n",
      " b'CYS-TRP-PHE' b'ALA-MET-TRP' b'TRP-MET-TRP' b'PHE-PHE-MET'\n",
      " b'TRP-PHE-CYS' b'PHE-CYS-TRP']\n",
      "PHE-PHE-MET which is a self assembling peptide is predicted in the 59th iteration\n"
     ]
    },
    {
     "name": "stderr",
     "output_type": "stream",
     "text": [
      "/var/folders/q9/dz7bsnq15t5crnph1_rcrhjr0000gn/T/ipykernel_19166/3864898870.py:21: DeprecationWarning: Conversion of an array with ndim > 0 to a scalar is deprecated, and will error in future. Ensure you extract a single element from your array before performing this operation. (Deprecated NumPy 1.25.)\n",
      "  x = math.sqrt(sum(p)/10)\n"
     ]
    },
    {
     "name": "stdout",
     "output_type": "stream",
     "text": [
      "[b'TRP-CYS-PHE' b'PHE-TRP-CYS' b'CYS-TRP-TRP' b'CYS-PHE-PHE'\n",
      " b'ALA-TRP-MET' b'ALA-TRP-VAL' b'ALA-TRP-ILE' b'MET-TYR-TRP'\n",
      " b'MET-TRP-TYR' b'PRO-THR-TRP']\n"
     ]
    },
    {
     "name": "stderr",
     "output_type": "stream",
     "text": [
      "/var/folders/q9/dz7bsnq15t5crnph1_rcrhjr0000gn/T/ipykernel_19166/3864898870.py:21: DeprecationWarning: Conversion of an array with ndim > 0 to a scalar is deprecated, and will error in future. Ensure you extract a single element from your array before performing this operation. (Deprecated NumPy 1.25.)\n",
      "  x = math.sqrt(sum(p)/10)\n"
     ]
    },
    {
     "name": "stdout",
     "output_type": "stream",
     "text": [
      "[b'PRO-TRP-THR' b'PRO-SER-TRP' b'PRO-TRP-SER' b'TRP-TRP-CYS'\n",
      " b'PHE-CYS-PHE' b'TRP-CYS-TRP' b'PRO-ALA-TRP' b'PHE-PHE-CYS'\n",
      " b'PRO-GLY-TRP' b'PRO-PHE-THR']\n"
     ]
    },
    {
     "name": "stderr",
     "output_type": "stream",
     "text": [
      "/var/folders/q9/dz7bsnq15t5crnph1_rcrhjr0000gn/T/ipykernel_19166/3864898870.py:21: DeprecationWarning: Conversion of an array with ndim > 0 to a scalar is deprecated, and will error in future. Ensure you extract a single element from your array before performing this operation. (Deprecated NumPy 1.25.)\n",
      "  x = math.sqrt(sum(p)/10)\n"
     ]
    },
    {
     "name": "stdout",
     "output_type": "stream",
     "text": [
      "[b'PRO-TRP-HSE' b'PRO-TYR-VAL' b'THR-PHE-PRO' b'SER-VAL-PHE'\n",
      " b'PRO-TYR-PRO' b'TYR-THR-VAL' b'PRO-HSE-TRP' b'GLY-MET-CYS'\n",
      " b'PHE-PRO-PRO' b'GLY-CYS-MET']\n"
     ]
    },
    {
     "name": "stderr",
     "output_type": "stream",
     "text": [
      "/var/folders/q9/dz7bsnq15t5crnph1_rcrhjr0000gn/T/ipykernel_19166/3864898870.py:21: DeprecationWarning: Conversion of an array with ndim > 0 to a scalar is deprecated, and will error in future. Ensure you extract a single element from your array before performing this operation. (Deprecated NumPy 1.25.)\n",
      "  x = math.sqrt(sum(p)/10)\n"
     ]
    },
    {
     "name": "stdout",
     "output_type": "stream",
     "text": [
      "[b'MET-ALA-TRP' b'TYR-THR-ILE' b'PHE-ILE-ALA' b'TYR-VAL-CYS'\n",
      " b'ILE-THR-PHE' b'MET-TRP-ALA' b'PHE-MET-GLY' b'PRO-TRP-ALA'\n",
      " b'TYR-GLY-PRO' b'PHE-VAL-CYS']\n"
     ]
    },
    {
     "name": "stderr",
     "output_type": "stream",
     "text": [
      "/var/folders/q9/dz7bsnq15t5crnph1_rcrhjr0000gn/T/ipykernel_19166/3864898870.py:21: DeprecationWarning: Conversion of an array with ndim > 0 to a scalar is deprecated, and will error in future. Ensure you extract a single element from your array before performing this operation. (Deprecated NumPy 1.25.)\n",
      "  x = math.sqrt(sum(p)/10)\n"
     ]
    },
    {
     "name": "stdout",
     "output_type": "stream",
     "text": [
      "[b'GLY-PRO-PHE' b'PRO-CYS-GLY' b'LEU-TYR-MET' b'GLY-PHE-PRO'\n",
      " b'MET-CYS-GLY' b'PHE-PRO-GLY' b'GLY-MET-MET' b'MET-MET-GLY'\n",
      " b'PHE-MET-TYR' b'LEU-PHE-HSE']\n"
     ]
    },
    {
     "name": "stderr",
     "output_type": "stream",
     "text": [
      "/var/folders/q9/dz7bsnq15t5crnph1_rcrhjr0000gn/T/ipykernel_19166/3864898870.py:21: DeprecationWarning: Conversion of an array with ndim > 0 to a scalar is deprecated, and will error in future. Ensure you extract a single element from your array before performing this operation. (Deprecated NumPy 1.25.)\n",
      "  x = math.sqrt(sum(p)/10)\n"
     ]
    },
    {
     "name": "stdout",
     "output_type": "stream",
     "text": [
      "[b'GLY-CYS-CYS' b'ALA-PRO-PHE' b'TYR-PRO-THR' b'GLY-LEU-PHE'\n",
      " b'ALA-PHE-PRO' b'GLY-PHE-LEU' b'MET-MET-TRP' b'TYR-THR-PRO'\n",
      " b'LEU-GLY-PHE' b'GLY-ILE-PHE']\n"
     ]
    },
    {
     "name": "stderr",
     "output_type": "stream",
     "text": [
      "/var/folders/q9/dz7bsnq15t5crnph1_rcrhjr0000gn/T/ipykernel_19166/3864898870.py:21: DeprecationWarning: Conversion of an array with ndim > 0 to a scalar is deprecated, and will error in future. Ensure you extract a single element from your array before performing this operation. (Deprecated NumPy 1.25.)\n",
      "  x = math.sqrt(sum(p)/10)\n"
     ]
    },
    {
     "name": "stdout",
     "output_type": "stream",
     "text": [
      "[b'LEU-PHE-GLY' b'PHE-LEU-GLY' b'THR-PRO-TYR' b'LEU-CYS-TYR'\n",
      " b'CYS-LEU-TYR' b'PHE-PRO-ALA' b'THR-TYR-PRO' b'SER-PHE-ILE'\n",
      " b'PRO-PHE-GLY' b'THR-TRP-PHE']\n"
     ]
    },
    {
     "name": "stderr",
     "output_type": "stream",
     "text": [
      "/var/folders/q9/dz7bsnq15t5crnph1_rcrhjr0000gn/T/ipykernel_19166/3864898870.py:21: DeprecationWarning: Conversion of an array with ndim > 0 to a scalar is deprecated, and will error in future. Ensure you extract a single element from your array before performing this operation. (Deprecated NumPy 1.25.)\n",
      "  x = math.sqrt(sum(p)/10)\n"
     ]
    },
    {
     "name": "stdout",
     "output_type": "stream",
     "text": [
      "[b'VAL-TYR-SER' b'VAL-SER-TYR' b'THR-PHE-ILE' b'TRP-THR-PHE'\n",
      " b'TYR-VAL-SER' b'GLY-PHE-ILE' b'PHE-TYR-MET' b'MET-PHE-TYR'\n",
      " b'SER-TRP-VAL' b'SER-TRP-ILE']\n"
     ]
    },
    {
     "name": "stderr",
     "output_type": "stream",
     "text": [
      "/var/folders/q9/dz7bsnq15t5crnph1_rcrhjr0000gn/T/ipykernel_19166/3864898870.py:21: DeprecationWarning: Conversion of an array with ndim > 0 to a scalar is deprecated, and will error in future. Ensure you extract a single element from your array before performing this operation. (Deprecated NumPy 1.25.)\n",
      "  x = math.sqrt(sum(p)/10)\n"
     ]
    },
    {
     "name": "stdout",
     "output_type": "stream",
     "text": [
      "[b'MET-TYR-PHE' b'TYR-PRO-SER' b'MET-TYR-TYR' b'TYR-SER-ILE'\n",
      " b'CYS-PHE-TYR' b'CYS-TYR-PHE' b'TYR-SER-PRO' b'TYR-SER-VAL'\n",
      " b'PHE-TYR-CYS' b'PHE-CYS-TYR']\n"
     ]
    },
    {
     "name": "stderr",
     "output_type": "stream",
     "text": [
      "/var/folders/q9/dz7bsnq15t5crnph1_rcrhjr0000gn/T/ipykernel_19166/3864898870.py:21: DeprecationWarning: Conversion of an array with ndim > 0 to a scalar is deprecated, and will error in future. Ensure you extract a single element from your array before performing this operation. (Deprecated NumPy 1.25.)\n",
      "  x = math.sqrt(sum(p)/10)\n"
     ]
    },
    {
     "name": "stdout",
     "output_type": "stream",
     "text": [
      "[b'TYR-MET-PHE' b'TYR-PHE-MET' b'TYR-THR-PHE' b'ALA-PHE-TRP'\n",
      " b'THR-TYR-VAL' b'SER-VAL-TRP' b'CYS-PHE-VAL' b'THR-VAL-TYR'\n",
      " b'MET-TRP-MET' b'PHE-GLY-MET']\n"
     ]
    },
    {
     "name": "stderr",
     "output_type": "stream",
     "text": [
      "/var/folders/q9/dz7bsnq15t5crnph1_rcrhjr0000gn/T/ipykernel_19166/3864898870.py:21: DeprecationWarning: Conversion of an array with ndim > 0 to a scalar is deprecated, and will error in future. Ensure you extract a single element from your array before performing this operation. (Deprecated NumPy 1.25.)\n",
      "  x = math.sqrt(sum(p)/10)\n"
     ]
    },
    {
     "name": "stdout",
     "output_type": "stream",
     "text": [
      "[b'TYR-PHE-CYS' b'TYR-MET-TYR' b'ALA-TRP-PHE' b'TYR-CYS-PHE'\n",
      " b'TYR-TYR-MET' b'PHE-CYS-VAL' b'VAL-SER-HSE' b'PHE-ALA-TRP'\n",
      " b'TYR-HSE-ILE' b'TRP-ALA-PHE']\n"
     ]
    },
    {
     "name": "stderr",
     "output_type": "stream",
     "text": [
      "/var/folders/q9/dz7bsnq15t5crnph1_rcrhjr0000gn/T/ipykernel_19166/3864898870.py:21: DeprecationWarning: Conversion of an array with ndim > 0 to a scalar is deprecated, and will error in future. Ensure you extract a single element from your array before performing this operation. (Deprecated NumPy 1.25.)\n",
      "  x = math.sqrt(sum(p)/10)\n"
     ]
    },
    {
     "name": "stdout",
     "output_type": "stream",
     "text": [
      "[b'PHE-TRP-ALA' b'TRP-PHE-ALA' b'THR-TYR-ILE' b'SER-PHE-VAL'\n",
      " b'ILE-TYR-CYS' b'THR-ILE-TYR' b'PHE-ALA-MET' b'THR-PHE-VAL'\n",
      " b'PHE-THR-MET' b'VAL-HSE-SER']\n"
     ]
    },
    {
     "name": "stderr",
     "output_type": "stream",
     "text": [
      "/var/folders/q9/dz7bsnq15t5crnph1_rcrhjr0000gn/T/ipykernel_19166/3864898870.py:21: DeprecationWarning: Conversion of an array with ndim > 0 to a scalar is deprecated, and will error in future. Ensure you extract a single element from your array before performing this operation. (Deprecated NumPy 1.25.)\n",
      "  x = math.sqrt(sum(p)/10)\n"
     ]
    },
    {
     "name": "stdout",
     "output_type": "stream",
     "text": [
      "[b'PHE-MET-THR' b'TYR-CYS-VAL' b'ALA-PRO-TRP' b'TRP-CYS-THR'\n",
      " b'SER-PRO-TYR' b'CYS-TYR-LEU' b'THR-TRP-MET' b'SER-ILE-TRP'\n",
      " b'THR-CYS-PHE' b'PRO-PHE-VAL']\n"
     ]
    },
    {
     "name": "stderr",
     "output_type": "stream",
     "text": [
      "/var/folders/q9/dz7bsnq15t5crnph1_rcrhjr0000gn/T/ipykernel_19166/3864898870.py:21: DeprecationWarning: Conversion of an array with ndim > 0 to a scalar is deprecated, and will error in future. Ensure you extract a single element from your array before performing this operation. (Deprecated NumPy 1.25.)\n",
      "  x = math.sqrt(sum(p)/10)\n"
     ]
    },
    {
     "name": "stdout",
     "output_type": "stream",
     "text": [
      "[b'ALA-TRP-PRO' b'CYS-TYR-VAL' b'PHE-MET-SER' b'PHE-SER-MET'\n",
      " b'SER-TYR-PRO' b'CYS-VAL-TYR' b'PHE-TRP-THR' b'ILE-PHE-GLY'\n",
      " b'LEU-TYR-CYS' b'GLY-LEU-TRP']\n"
     ]
    },
    {
     "name": "stderr",
     "output_type": "stream",
     "text": [
      "/var/folders/q9/dz7bsnq15t5crnph1_rcrhjr0000gn/T/ipykernel_19166/3864898870.py:21: DeprecationWarning: Conversion of an array with ndim > 0 to a scalar is deprecated, and will error in future. Ensure you extract a single element from your array before performing this operation. (Deprecated NumPy 1.25.)\n",
      "  x = math.sqrt(sum(p)/10)\n"
     ]
    },
    {
     "name": "stdout",
     "output_type": "stream",
     "text": [
      "[b'PHE-THR-TRP' b'PHE-TYR-THR' b'PHE-THR-PRO' b'PHE-SER-PRO'\n",
      " b'PHE-THR-TYR' b'CYS-TRP-THR' b'PHE-PRO-SER' b'CYS-THR-TRP'\n",
      " b'ALA-PRO-TYR' b'GLU-PHE-TRP']\n"
     ]
    },
    {
     "name": "stderr",
     "output_type": "stream",
     "text": [
      "/var/folders/q9/dz7bsnq15t5crnph1_rcrhjr0000gn/T/ipykernel_19166/3864898870.py:21: DeprecationWarning: Conversion of an array with ndim > 0 to a scalar is deprecated, and will error in future. Ensure you extract a single element from your array before performing this operation. (Deprecated NumPy 1.25.)\n",
      "  x = math.sqrt(sum(p)/10)\n"
     ]
    },
    {
     "name": "stdout",
     "output_type": "stream",
     "text": [
      "[b'ALA-TYR-PRO' b'ALA-TRP-THR' b'CYS-PRO-TYR' b'ALA-THR-TRP'\n",
      " b'TYR-PRO-ALA' b'TYR-ALA-PRO' b'TYR-GLY-ILE' b'TYR-GLY-LEU'\n",
      " b'CYS-ILE-TYR' b'TYR-THR-TYR']\n"
     ]
    },
    {
     "name": "stderr",
     "output_type": "stream",
     "text": [
      "/var/folders/q9/dz7bsnq15t5crnph1_rcrhjr0000gn/T/ipykernel_19166/3864898870.py:21: DeprecationWarning: Conversion of an array with ndim > 0 to a scalar is deprecated, and will error in future. Ensure you extract a single element from your array before performing this operation. (Deprecated NumPy 1.25.)\n",
      "  x = math.sqrt(sum(p)/10)\n"
     ]
    },
    {
     "name": "stdout",
     "output_type": "stream",
     "text": [
      "[b'PHE-PHE-THR' b'TYR-LEU-GLY' b'TYR-PRO-GLY' b'PHE-THR-PHE'\n",
      " b'VAL-GLY-TYR' b'LEU-GLY-TYR' b'TYR-ALA-LEU' b'TYR-ILE-GLY'\n",
      " b'TYR-LEU-ALA' b'ALA-TYR-LEU']\n"
     ]
    },
    {
     "name": "stderr",
     "output_type": "stream",
     "text": [
      "/var/folders/q9/dz7bsnq15t5crnph1_rcrhjr0000gn/T/ipykernel_19166/3864898870.py:21: DeprecationWarning: Conversion of an array with ndim > 0 to a scalar is deprecated, and will error in future. Ensure you extract a single element from your array before performing this operation. (Deprecated NumPy 1.25.)\n",
      "  x = math.sqrt(sum(p)/10)\n"
     ]
    },
    {
     "name": "stdout",
     "output_type": "stream",
     "text": [
      "[b'TYR-ALA-ILE' b'VAL-ALA-TYR' b'PHE-GLY-LEU' b'LEU-SER-TYR'\n",
      " b'LEU-ALA-TYR' b'LEU-TYR-GLY' b'GLY-TRP-LEU' b'THR-PHE-CYS'\n",
      " b'TYR-ILE-ALA' b'PHE-SER-LEU']\n"
     ]
    },
    {
     "name": "stderr",
     "output_type": "stream",
     "text": [
      "/var/folders/q9/dz7bsnq15t5crnph1_rcrhjr0000gn/T/ipykernel_19166/3864898870.py:21: DeprecationWarning: Conversion of an array with ndim > 0 to a scalar is deprecated, and will error in future. Ensure you extract a single element from your array before performing this operation. (Deprecated NumPy 1.25.)\n",
      "  x = math.sqrt(sum(p)/10)\n"
     ]
    },
    {
     "name": "stdout",
     "output_type": "stream",
     "text": [
      "[b'ALA-PHE-PHE' b'TYR-GLY-VAL' b'ILE-GLY-TYR' b'TYR-ALA-VAL'\n",
      " b'PHE-ALA-PRO' b'PHE-ILE-GLY' b'PHE-LEU-SER' b'GLY-LEU-TYR'\n",
      " b'PRO-HSE-PHE' b'LEU-TYR-HSE']\n"
     ]
    },
    {
     "name": "stderr",
     "output_type": "stream",
     "text": [
      "/var/folders/q9/dz7bsnq15t5crnph1_rcrhjr0000gn/T/ipykernel_19166/3864898870.py:21: DeprecationWarning: Conversion of an array with ndim > 0 to a scalar is deprecated, and will error in future. Ensure you extract a single element from your array before performing this operation. (Deprecated NumPy 1.25.)\n",
      "  x = math.sqrt(sum(p)/10)\n"
     ]
    },
    {
     "name": "stdout",
     "output_type": "stream",
     "text": [
      "[b'PRO-PHE-HSE' b'PHE-GLY-PRO' b'LEU-PHE-THR' b'LEU-HSE-PHE'\n",
      " b'PHE-LEU-THR' b'PHE-THR-LEU' b'LEU-TYR-SER' b'VAL-TYR-ALA'\n",
      " b'PHE-SER-ILE' b'PHE-ILE-SER']\n"
     ]
    },
    {
     "name": "stderr",
     "output_type": "stream",
     "text": [
      "/var/folders/q9/dz7bsnq15t5crnph1_rcrhjr0000gn/T/ipykernel_19166/3864898870.py:21: DeprecationWarning: Conversion of an array with ndim > 0 to a scalar is deprecated, and will error in future. Ensure you extract a single element from your array before performing this operation. (Deprecated NumPy 1.25.)\n",
      "  x = math.sqrt(sum(p)/10)\n"
     ]
    },
    {
     "name": "stdout",
     "output_type": "stream",
     "text": [
      "[b'PHE-SER-VAL' b'PHE-VAL-SER' b'PHE-THR-VAL' b'PHE-THR-ILE'\n",
      " b'PHE-VAL-THR' b'PHE-ILE-THR' b'ILE-SER-TYR' b'ILE-PHE-THR'\n",
      " b'ALA-PHE-THR' b'ALA-ILE-TYR']\n"
     ]
    },
    {
     "name": "stderr",
     "output_type": "stream",
     "text": [
      "/var/folders/q9/dz7bsnq15t5crnph1_rcrhjr0000gn/T/ipykernel_19166/3864898870.py:21: DeprecationWarning: Conversion of an array with ndim > 0 to a scalar is deprecated, and will error in future. Ensure you extract a single element from your array before performing this operation. (Deprecated NumPy 1.25.)\n",
      "  x = math.sqrt(sum(p)/10)\n"
     ]
    },
    {
     "name": "stdout",
     "output_type": "stream",
     "text": [
      "[b'ALA-THR-PHE' b'ALA-TYR-VAL' b'ALA-TYR-ILE' b'ILE-TYR-SER'\n",
      " b'GLY-TRP-VAL' b'ALA-VAL-TYR' b'GLY-TYR-LEU' b'CYS-TYR-ILE'\n",
      " b'PHE-GLY-ILE' b'PHE-PRO-THR']\n"
     ]
    },
    {
     "name": "stderr",
     "output_type": "stream",
     "text": [
      "/var/folders/q9/dz7bsnq15t5crnph1_rcrhjr0000gn/T/ipykernel_19166/3864898870.py:21: DeprecationWarning: Conversion of an array with ndim > 0 to a scalar is deprecated, and will error in future. Ensure you extract a single element from your array before performing this operation. (Deprecated NumPy 1.25.)\n",
      "  x = math.sqrt(sum(p)/10)\n"
     ]
    },
    {
     "name": "stdout",
     "output_type": "stream",
     "text": [
      "[b'ILE-ALA-TYR' b'GLY-ILE-TYR' b'PHE-ALA-LEU' b'HSE-TYR-VAL'\n",
      " b'GLY-VAL-TRP' b'GLY-TYR-ILE' b'THR-HSE-PHE' b'THR-PHE-HSE'\n",
      " b'LEU-TYR-ALA' b'SER-TYR-VAL']\n"
     ]
    },
    {
     "name": "stderr",
     "output_type": "stream",
     "text": [
      "/var/folders/q9/dz7bsnq15t5crnph1_rcrhjr0000gn/T/ipykernel_19166/3864898870.py:21: DeprecationWarning: Conversion of an array with ndim > 0 to a scalar is deprecated, and will error in future. Ensure you extract a single element from your array before performing this operation. (Deprecated NumPy 1.25.)\n",
      "  x = math.sqrt(sum(p)/10)\n"
     ]
    },
    {
     "name": "stdout",
     "output_type": "stream",
     "text": [
      "[b'PHE-LEU-ALA' b'LEU-ALA-PHE' b'PHE-ALA-ILE' b'LEU-HSE-TYR'\n",
      " b'PHE-ALA-THR' b'ILE-TYR-ALA' b'SER-TYR-ILE' b'GLY-PRO-TRP'\n",
      " b'TYR-VAL-ALA' b'SER-VAL-TYR']\n"
     ]
    },
    {
     "name": "stderr",
     "output_type": "stream",
     "text": [
      "/var/folders/q9/dz7bsnq15t5crnph1_rcrhjr0000gn/T/ipykernel_19166/3864898870.py:21: DeprecationWarning: Conversion of an array with ndim > 0 to a scalar is deprecated, and will error in future. Ensure you extract a single element from your array before performing this operation. (Deprecated NumPy 1.25.)\n",
      "  x = math.sqrt(sum(p)/10)\n"
     ]
    },
    {
     "name": "stdout",
     "output_type": "stream",
     "text": [
      "[b'ILE-ALA-PHE' b'LEU-PHE-ALA' b'GLY-TRP-PRO' b'ILE-PHE-ALA'\n",
      " b'HSE-LEU-TRP' b'SER-TRP-PRO' b'SER-PRO-TRP' b'PRO-TRP-GLY'\n",
      " b'PRO-THR-TYR' b'HSE-TRP-LEU']\n"
     ]
    },
    {
     "name": "stderr",
     "output_type": "stream",
     "text": [
      "/var/folders/q9/dz7bsnq15t5crnph1_rcrhjr0000gn/T/ipykernel_19166/3864898870.py:21: DeprecationWarning: Conversion of an array with ndim > 0 to a scalar is deprecated, and will error in future. Ensure you extract a single element from your array before performing this operation. (Deprecated NumPy 1.25.)\n",
      "  x = math.sqrt(sum(p)/10)\n"
     ]
    },
    {
     "name": "stdout",
     "output_type": "stream",
     "text": [
      "[b'PRO-TYR-THR' b'PRO-SER-TYR' b'PRO-TYR-SER' b'ALA-TYR-THR'\n",
      " b'HSE-TRP-PRO' b'HSE-LEU-PHE' b'PRO-TYR-MET' b'ILE-HSE-TRP'\n",
      " b'THR-PRO-HSE' b'PHE-ALA-PHE']\n"
     ]
    },
    {
     "name": "stderr",
     "output_type": "stream",
     "text": [
      "/var/folders/q9/dz7bsnq15t5crnph1_rcrhjr0000gn/T/ipykernel_19166/3864898870.py:21: DeprecationWarning: Conversion of an array with ndim > 0 to a scalar is deprecated, and will error in future. Ensure you extract a single element from your array before performing this operation. (Deprecated NumPy 1.25.)\n",
      "  x = math.sqrt(sum(p)/10)\n"
     ]
    },
    {
     "name": "stdout",
     "output_type": "stream",
     "text": [
      "[b'THR-PHE-SER' b'HSE-VAL-TYR' b'PHE-PHE-ALA' b'THR-SER-PHE'\n",
      " b'PRO-CYS-TYR' b'PRO-ALA-TYR' b'ALA-THR-TYR' b'HSE-PHE-LEU'\n",
      " b'PHE-SER-THR' b'CYS-TRP-PRO']\n",
      "THR-SER-PHE which is a self assembling peptide is predicted in the 86th iteration\n"
     ]
    },
    {
     "name": "stderr",
     "output_type": "stream",
     "text": [
      "/var/folders/q9/dz7bsnq15t5crnph1_rcrhjr0000gn/T/ipykernel_19166/3864898870.py:21: DeprecationWarning: Conversion of an array with ndim > 0 to a scalar is deprecated, and will error in future. Ensure you extract a single element from your array before performing this operation. (Deprecated NumPy 1.25.)\n",
      "  x = math.sqrt(sum(p)/10)\n"
     ]
    },
    {
     "name": "stdout",
     "output_type": "stream",
     "text": [
      "[b'PRO-TYR-ALA' b'PRO-TYR-CYS' b'PHE-HSE-LEU' b'PHE-LEU-HSE'\n",
      " b'CYS-TYR-PRO' b'HSE-PHE-PRO' b'PHE-HSE-PRO' b'HSE-PRO-TRP'\n",
      " b'HSE-PRO-PHE' b'VAL-HSE-THR']\n"
     ]
    },
    {
     "name": "stderr",
     "output_type": "stream",
     "text": [
      "/var/folders/q9/dz7bsnq15t5crnph1_rcrhjr0000gn/T/ipykernel_19166/3864898870.py:21: DeprecationWarning: Conversion of an array with ndim > 0 to a scalar is deprecated, and will error in future. Ensure you extract a single element from your array before performing this operation. (Deprecated NumPy 1.25.)\n",
      "  x = math.sqrt(sum(p)/10)\n"
     ]
    },
    {
     "name": "stdout",
     "output_type": "stream",
     "text": [
      "[b'THR-HSE-VAL' b'VAL-THR-HSE' b'THR-VAL-HSE' b'THR-HSE-ILE'\n",
      " b'THR-ILE-HSE' b'HSE-THR-VAL' b'HSE-VAL-THR' b'THR-HSE-PRO'\n",
      " b'THR-LEU-HSE' b'HSE-VAL-PHE']\n"
     ]
    },
    {
     "name": "stderr",
     "output_type": "stream",
     "text": [
      "/var/folders/q9/dz7bsnq15t5crnph1_rcrhjr0000gn/T/ipykernel_19166/3864898870.py:21: DeprecationWarning: Conversion of an array with ndim > 0 to a scalar is deprecated, and will error in future. Ensure you extract a single element from your array before performing this operation. (Deprecated NumPy 1.25.)\n",
      "  x = math.sqrt(sum(p)/10)\n"
     ]
    },
    {
     "name": "stdout",
     "output_type": "stream",
     "text": [
      "[b'ALA-PHE-TYR' b'PHE-PHE-SER' b'PHE-SER-PHE' b'PRO-GLY-TYR'\n",
      " b'ALA-TYR-PHE' b'SER-PHE-PHE' b'PHE-ALA-VAL' b'ALA-PHE-VAL'\n",
      " b'PRO-HSE-TYR' b'ALA-VAL-PHE']\n"
     ]
    },
    {
     "name": "stderr",
     "output_type": "stream",
     "text": [
      "/var/folders/q9/dz7bsnq15t5crnph1_rcrhjr0000gn/T/ipykernel_19166/3864898870.py:21: DeprecationWarning: Conversion of an array with ndim > 0 to a scalar is deprecated, and will error in future. Ensure you extract a single element from your array before performing this operation. (Deprecated NumPy 1.25.)\n",
      "  x = math.sqrt(sum(p)/10)\n"
     ]
    },
    {
     "name": "stdout",
     "output_type": "stream",
     "text": [
      "[b'ALA-TYR-TYR' b'ALA-TYR-TRP' b'PHE-TRP-SER' b'ALA-TRP-TYR'\n",
      " b'PHE-TYR-SER' b'PHE-SER-TRP' b'PHE-SER-TYR' b'PHE-LYS-TYR'\n",
      " b'PHE-TYR-LYS' b'SER-TYR-PHE']\n"
     ]
    },
    {
     "name": "stderr",
     "output_type": "stream",
     "text": [
      "/var/folders/q9/dz7bsnq15t5crnph1_rcrhjr0000gn/T/ipykernel_19166/3864898870.py:21: DeprecationWarning: Conversion of an array with ndim > 0 to a scalar is deprecated, and will error in future. Ensure you extract a single element from your array before performing this operation. (Deprecated NumPy 1.25.)\n",
      "  x = math.sqrt(sum(p)/10)\n"
     ]
    },
    {
     "name": "stdout",
     "output_type": "stream",
     "text": [
      "[b'PRO-TYR-HSE' b'VAL-ALA-PHE' b'CYS-PHE-THR' b'ALA-TRP-SER'\n",
      " b'SER-CYS-PHE' b'SER-PHE-TYR' b'SER-PHE-CYS' b'TYR-PHE-SER'\n",
      " b'MET-TRP-SER' b'THR-HSE-LEU']\n"
     ]
    },
    {
     "name": "stderr",
     "output_type": "stream",
     "text": [
      "/var/folders/q9/dz7bsnq15t5crnph1_rcrhjr0000gn/T/ipykernel_19166/3864898870.py:21: DeprecationWarning: Conversion of an array with ndim > 0 to a scalar is deprecated, and will error in future. Ensure you extract a single element from your array before performing this operation. (Deprecated NumPy 1.25.)\n",
      "  x = math.sqrt(sum(p)/10)\n"
     ]
    },
    {
     "name": "stdout",
     "output_type": "stream",
     "text": [
      "[b'ALA-SER-TRP' b'PHE-CYS-THR' b'THR-CYS-TRP' b'CYS-THR-PHE'\n",
      " b'PHE-PRO-HSE' b'TRP-PHE-SER' b'ALA-TYR-MET' b'HSE-LEU-TYR'\n",
      " b'THR-TRP-CYS' b'PRO-TYR-GLY']\n"
     ]
    },
    {
     "name": "stderr",
     "output_type": "stream",
     "text": [
      "/var/folders/q9/dz7bsnq15t5crnph1_rcrhjr0000gn/T/ipykernel_19166/3864898870.py:21: DeprecationWarning: Conversion of an array with ndim > 0 to a scalar is deprecated, and will error in future. Ensure you extract a single element from your array before performing this operation. (Deprecated NumPy 1.25.)\n",
      "  x = math.sqrt(sum(p)/10)\n"
     ]
    },
    {
     "name": "stdout",
     "output_type": "stream",
     "text": [
      "[b'GLY-VAL-TYR' b'PRO-HSE-CYS' b'SER-PHE-TRP' b'ALA-MET-TYR'\n",
      " b'GLY-TYR-TYR' b'GLY-PHE-TYR' b'LEU-TYR-THR' b'TYR-SER-PHE'\n",
      " b'PHE-ALA-TYR' b'LEU-THR-TYR']\n",
      "SER-PHE-TRP which is a self assembling peptide is predicted in the 93th iteration\n"
     ]
    },
    {
     "name": "stderr",
     "output_type": "stream",
     "text": [
      "/var/folders/q9/dz7bsnq15t5crnph1_rcrhjr0000gn/T/ipykernel_19166/3864898870.py:21: DeprecationWarning: Conversion of an array with ndim > 0 to a scalar is deprecated, and will error in future. Ensure you extract a single element from your array before performing this operation. (Deprecated NumPy 1.25.)\n",
      "  x = math.sqrt(sum(p)/10)\n"
     ]
    },
    {
     "name": "stdout",
     "output_type": "stream",
     "text": [
      "[b'ALA-PHE-SER' b'ALA-SER-PHE' b'GLY-TYR-PHE' b'PHE-TYR-GLY'\n",
      " b'GLY-TYR-VAL' b'ILE-TYR-THR' b'PHE-GLY-TYR' b'THR-LEU-TYR'\n",
      " b'ALA-TYR-SER' b'ILE-THR-TYR']\n"
     ]
    },
    {
     "name": "stderr",
     "output_type": "stream",
     "text": [
      "/var/folders/q9/dz7bsnq15t5crnph1_rcrhjr0000gn/T/ipykernel_19166/3864898870.py:21: DeprecationWarning: Conversion of an array with ndim > 0 to a scalar is deprecated, and will error in future. Ensure you extract a single element from your array before performing this operation. (Deprecated NumPy 1.25.)\n",
      "  x = math.sqrt(sum(p)/10)\n"
     ]
    },
    {
     "name": "stdout",
     "output_type": "stream",
     "text": [
      "[b'TYR-TYR-GLY' b'PHE-TYR-ALA' b'GLY-PRO-TYR' b'TYR-GLY-PHE'\n",
      " b'GLY-TYR-PRO' b'THR-TYR-LEU' b'TYR-GLY-TYR' b'TYR-ALA-TYR'\n",
      " b'TYR-PHE-GLY' b'TYR-TYR-ALA']\n"
     ]
    },
    {
     "name": "stderr",
     "output_type": "stream",
     "text": [
      "/var/folders/q9/dz7bsnq15t5crnph1_rcrhjr0000gn/T/ipykernel_19166/3864898870.py:21: DeprecationWarning: Conversion of an array with ndim > 0 to a scalar is deprecated, and will error in future. Ensure you extract a single element from your array before performing this operation. (Deprecated NumPy 1.25.)\n",
      "  x = math.sqrt(sum(p)/10)\n"
     ]
    },
    {
     "name": "stdout",
     "output_type": "stream",
     "text": [
      "[b'PRO-CYS-CYS' b'TYR-ALA-PHE' b'ILE-TYR-GLY' b'MET-SER-TRP'\n",
      " b'SER-LEU-TYR' b'ALA-SER-TYR' b'CYS-PHE-SER' b'GLY-VAL-PHE'\n",
      " b'SER-MET-TRP' b'LEU-HSE-THR']\n"
     ]
    },
    {
     "name": "stderr",
     "output_type": "stream",
     "text": [
      "/var/folders/q9/dz7bsnq15t5crnph1_rcrhjr0000gn/T/ipykernel_19166/3864898870.py:21: DeprecationWarning: Conversion of an array with ndim > 0 to a scalar is deprecated, and will error in future. Ensure you extract a single element from your array before performing this operation. (Deprecated NumPy 1.25.)\n",
      "  x = math.sqrt(sum(p)/10)\n"
     ]
    },
    {
     "name": "stdout",
     "output_type": "stream",
     "text": [
      "[b'GLY-PHE-VAL' b'PHE-ALA-SER' b'PHE-THR-CYS' b'SER-ILE-TYR'\n",
      " b'TRP-SER-MET' b'PHE-GLY-VAL' b'CYS-SER-PHE' b'TRP-THR-CYS'\n",
      " b'TYR-PHE-ALA' b'PHE-SER-ALA']\n"
     ]
    },
    {
     "name": "stderr",
     "output_type": "stream",
     "text": [
      "/var/folders/q9/dz7bsnq15t5crnph1_rcrhjr0000gn/T/ipykernel_19166/3864898870.py:21: DeprecationWarning: Conversion of an array with ndim > 0 to a scalar is deprecated, and will error in future. Ensure you extract a single element from your array before performing this operation. (Deprecated NumPy 1.25.)\n",
      "  x = math.sqrt(sum(p)/10)\n"
     ]
    },
    {
     "name": "stdout",
     "output_type": "stream",
     "text": [
      "[b'GLY-PHE-PHE' b'TRP-CYS-SER' b'TRP-SER-CYS' b'PHE-PHE-GLY'\n",
      " b'PHE-GLY-PHE' b'CYS-TRP-SER' b'CYS-SER-TRP' b'PHE-VAL-GLY'\n",
      " b'SER-TRP-MET' b'SER-CYS-TRP']\n",
      "GLY-PHE-PHE which is a self assembling peptide is predicted in the 98th iteration\n",
      "SER-CYS-TRP which is a self assembling peptide is predicted in the 98th iteration\n"
     ]
    },
    {
     "name": "stderr",
     "output_type": "stream",
     "text": [
      "/var/folders/q9/dz7bsnq15t5crnph1_rcrhjr0000gn/T/ipykernel_19166/3864898870.py:21: DeprecationWarning: Conversion of an array with ndim > 0 to a scalar is deprecated, and will error in future. Ensure you extract a single element from your array before performing this operation. (Deprecated NumPy 1.25.)\n",
      "  x = math.sqrt(sum(p)/10)\n"
     ]
    },
    {
     "name": "stdout",
     "output_type": "stream",
     "text": [
      "[b'PHE-VAL-ALA' b'PHE-SER-CYS' b'TYR-ALA-THR' b'PHE-CYS-SER'\n",
      " b'SER-TYR-LEU' b'TYR-VAL-GLY' b'TRP-ALA-MET' b'TYR-GLY-MET'\n",
      " b'THR-PHE-THR' b'VAL-TYR-GLY']\n",
      "['VAL-ALA-TRP', 'TRP-LEU-LEU', 'ILE-MET-TRP', 'VAL-PHE-TRP', 'TRP-PHE-LEU', 'VAL-PHE-PHE', 'ILE-PHE-TRP', 'ILE-PHE-PHE', 'PRO-CYS-PHE', 'PRO-PHE-PHE', 'LEU-CYS-PHE', 'PHE-TYR-ILE', 'PRO-TRP-PHE', 'MET-PHE-PHE', 'PHE-PHE-MET', 'THR-SER-PHE', 'SER-PHE-TRP', 'GLY-PHE-PHE', 'SER-CYS-TRP']\n",
      "19\n",
      "(array([b'TYR-ALA-THR', b'PHE-SER-CYS', b'PHE-CYS-SER', b'PHE-VAL-ALA',\n",
      "       b'HSE-CYS-CYS', b'THR-ALA-TYR', b'ILE-HSE-PHE', b'TYR-VAL-GLY',\n",
      "       b'SER-TYR-LEU', b'VAL-TYR-GLY', b'TRP-ALA-MET', b'PRO-THR-HSE',\n",
      "       b'ALA-CYS-TYR', b'PHE-VAL-HSE', b'TRP-ALA-THR', b'HSE-TYR-LEU',\n",
      "       b'CYS-GLY-CYS', b'ALA-TYR-CYS', b'PHE-THR-ALA', b'HSE-TRP-ILE',\n",
      "       b'HSE-LEU-THR', b'TRP-VAL-GLY', b'PRO-HSE-THR', b'ILE-TRP-HSE',\n",
      "       b'HSE-PHE-ILE', b'CYS-HSE-CYS', b'ILE-PHE-HSE', b'GLU-TYR-TYR',\n",
      "       b'TYR-THR-ALA', b'CYS-CYS-GLY', b'PHE-HSE-ILE', b'THR-ALA-PHE',\n",
      "       b'LEU-THR-HSE', b'VAL-PHE-ALA', b'CYS-ALA-TYR', b'PHE-HSE-THR',\n",
      "       b'HSE-ILE-PHE', b'SER-TRP-CYS', b'HSE-THR-LEU', b'HSE-PHE-THR'],\n",
      "      dtype=object),                 prediction\n",
      "b'TRP-ALA-MET'    2.037316\n",
      "b'CYS-HSE-PRO'    1.810428\n",
      "b'CYS-PRO-HSE'    1.801234\n",
      "b'HSE-CYS-PRO'    1.900503\n",
      "b'HSE-PRO-CYS'    1.871597\n",
      "...                    ...\n",
      "b'THR-LYS-TYR'    1.433935\n",
      "b'THR-TYR-LYS'    1.412885\n",
      "b'TYR-THR-LYS'    1.467634\n",
      "b'LYS-TYR-THR'    1.433913\n",
      "b'TYR-LYS-THR'    1.505790\n",
      "\n",
      "[217 rows x 1 columns])\n"
     ]
    },
    {
     "name": "stderr",
     "output_type": "stream",
     "text": [
      "/var/folders/q9/dz7bsnq15t5crnph1_rcrhjr0000gn/T/ipykernel_19166/3864898870.py:21: DeprecationWarning: Conversion of an array with ndim > 0 to a scalar is deprecated, and will error in future. Ensure you extract a single element from your array before performing this operation. (Deprecated NumPy 1.25.)\n",
      "  x = math.sqrt(sum(p)/10)\n"
     ]
    }
   ],
   "source": [
    "def runAL(num_iter,APs,judp,smiles,modp,x_train_jd,x_train_md,Y_train,sap):\n",
    "    a = []                                                                                            #array to keep track if any self-assembling peptide is found\n",
    "    y_nam = []\n",
    "    b = []                                                                                           #array to keep track if any self-assembling peptide is found\n",
    "    r = []\n",
    "    ind = []\n",
    "    aap = []\n",
    "    pap = []\n",
    "    for i in range(num_iter):                                                                         #a for loop is for the number of iterations as given in input\n",
    "        y_nam_jd = topN(math.ceil((np.log(3)**2) * 1000),judp,x_train_jd,Y_train,y_nam)                     #Step 1: we get the names of top 1207 peptides which are predicted by judred model by calling the function 'topN'\n",
    "        y_nam, pred= topn(10,smiles, modp, y_nam_jd, x_train_md, Y_train)                                   #Step 2: from the peptides predicted by judred model we predict the top 10 AP scoring peptides as predicted by the mordred model\n",
    "        print(y_nam)\n",
    "        p = []\n",
    "        for j in y_nam:\n",
    "            jr = j.decode(encoding='utf-8')\n",
    "            p.append((np.array(APs.loc[jr])-np.array(pred.loc[j]))**2)\n",
    "            aap = np.append(aap,np.array(APs.loc[jr]),axis=0)\n",
    "            pap = np.append(pap,np.array(pred.loc[j]),axis=0)\n",
    "            if jr not in b:\n",
    "                b.append(jr)\n",
    "        x = math.sqrt(sum(p)/10)\n",
    "        r.append(x)\n",
    "        ind.append(i)\n",
    "        a = pepidentifier(y_nam,sap,a,i)                                                                #we call the peptide identifier function which checks if any self-assembling peptide is predicted.\n",
    "        x_train_jd,x_train_md,Y_train = addToTrain(y_nam,APs,judp,modp,x_train_jd,x_train_md,Y_train) #Step 3: we add the top 10 peptides to the training set.\n",
    "    print(a)\n",
    "    print(len(a))\n",
    "    return topn(40,smiles, modp, y_nam_jd, x_train_md, Y_train),a,b,r,ind,aap,pap                                      #after the last iteration we print the top 40 peptides predicted by the mordred model.\n",
    "\n",
    "y_nam,a,b,r,ind,aap,pap = runAL(100,APs,judp,smiles,modp,x_train_jd,x_train_md,Y_train,sap)                              #we run the active learning process for 100 iteration.\n",
    "print(y_nam)"
   ]
  },
  {
   "cell_type": "code",
   "execution_count": 17,
   "metadata": {},
   "outputs": [
    {
     "name": "stdout",
     "output_type": "stream",
     "text": [
      "[0, 1, 2, 3, 4, 5, 6, 7, 8, 9, 10, 11, 12, 13, 14, 15, 16, 17, 18, 19, 21, 22, 23, 24, 25, 26, 27, 28, 29, 30, 31, 32, 33, 34, 35, 36, 37, 38, 39, 40, 41, 42, 43, 44, 45, 46, 47, 48, 49, 50, 51, 52, 53, 54, 55, 56, 57, 58, 59, 60, 61, 62, 63, 64, 65, 66, 68, 69, 70, 71, 72, 73, 74, 75, 76, 77, 78, 79, 81, 82, 83, 84, 85, 86, 87, 88, 89, 90, 91, 92, 93, 94, 95, 96, 97, 98, 99, 100, 101, 102, 103, 104, 105, 106, 107, 108, 109, 110, 111, 112, 113, 114, 115, 116, 117, 118, 119, 120, 121, 122, 123, 124, 125, 126, 127, 128, 129, 130, 131, 132, 133, 134, 135, 136, 137, 138, 139, 140, 141, 142, 144, 145, 146, 147, 149, 150, 151, 152, 153, 154, 155, 157, 158, 159, 160, 161, 162, 163, 164, 165, 166, 167, 168, 169, 170, 171, 172, 173, 174, 175, 176, 177, 178, 179, 180, 181, 182, 183, 184, 185, 186, 187, 188, 189, 190, 191, 192, 193, 194, 195, 196, 197, 198, 199, 200, 201, 202, 203, 204, 205, 206, 207, 208, 209, 210, 211, 212, 213, 214, 215, 216, 217, 218, 219, 220, 221, 222, 223, 224, 225, 226, 227, 228, 229, 230, 231, 232, 233, 234, 235, 236, 237, 238, 239, 240, 241, 242, 243, 244, 245, 246, 247, 248, 249, 250, 252, 253, 254, 255, 256, 257, 258, 259, 260, 261, 262, 263, 264, 265, 266, 267, 268, 269, 270, 271, 272, 273, 274, 275, 276, 277, 278, 279, 280, 281, 282, 283, 284, 285, 286, 287, 288, 289, 290, 291, 292, 293, 294, 295, 296, 297, 299, 301, 302, 303, 305, 306, 307, 308, 309, 310, 311, 312, 313, 314, 315, 316, 317, 318, 319, 320, 321, 322, 324, 325, 326, 327, 328, 329, 330, 331, 332, 333, 334, 335, 336, 337, 338, 339, 340, 341, 342, 343, 344, 345, 346, 347, 348, 349, 350, 351, 352, 353, 354, 355, 356, 357, 358, 359, 360, 361, 362, 363, 364, 365, 366, 367, 368, 369, 370, 371, 372, 373, 374, 375, 376, 377, 378, 379, 380, 381, 382, 383, 384, 385, 386, 387, 388, 389, 390, 391, 392, 393, 394, 395, 396, 397, 398, 399, 400, 401, 402, 403, 404, 405, 406, 407, 408, 409, 410, 411, 412, 413, 414, 415, 416, 417, 418, 419, 420, 421, 422, 423, 424, 425, 426, 427, 428, 429, 430, 431, 432, 433, 434, 435, 436, 437, 438, 439, 440, 441, 442, 443, 444, 445, 446, 447, 448, 449, 450, 451, 452, 453, 454, 455, 456, 457, 458, 459, 460, 461, 462, 463, 464, 465, 466, 467, 468, 469, 470, 471, 472, 473, 474, 475, 476, 477, 478, 479, 480, 481, 482, 483, 484, 485, 486, 487, 488, 489, 490, 491, 492, 493, 494, 495, 496, 497, 498, 499, 500, 501, 502, 503, 504, 505, 506, 507, 508, 509, 510, 511, 512, 513, 514, 515, 516, 517, 518, 519, 520, 521, 522, 523, 524, 525, 526, 527, 528, 529, 530, 531, 532, 533, 534, 535, 536, 538, 539, 540, 541, 542, 543, 544, 545, 546, 547, 548, 549, 550, 551, 552, 553, 554, 555, 556, 557, 558, 559, 560, 561, 562, 563, 564, 565, 567, 568, 569, 570, 571, 572, 573, 574, 576, 577, 578, 579, 580, 581, 582, 583, 584, 585, 586, 587, 588, 589, 590, 591, 592, 593, 594, 595, 596, 598, 599, 600, 601, 602, 603, 604, 605, 606, 607, 608, 609, 610, 611, 612, 613, 614, 615, 616, 617, 618, 619, 620, 621, 622, 623, 624, 625, 626, 627, 628, 629, 630, 631, 632, 633, 634, 635, 636, 637, 638, 639, 640, 641, 642, 643, 644, 645, 646, 647, 648, 649, 650, 651, 652, 653, 654, 655, 656, 657, 658, 659, 660, 661, 662, 663, 664, 665, 666, 667, 668, 669, 670, 671, 672, 673, 674, 675, 676, 677, 678, 679, 680, 681, 682, 683, 684, 685, 686, 687, 688, 689, 690, 691, 692, 693, 694, 695, 696, 697, 698, 699, 700, 701, 702, 703, 704, 705, 706, 707, 708, 709, 710, 711, 712, 713, 714, 715, 716, 717, 718, 719, 720, 721, 722, 723, 724, 725, 726, 727, 728, 729, 730, 731, 732, 733, 734, 735, 736, 737, 738, 739, 740, 741, 742, 743, 744, 745, 746, 747, 748, 749, 750, 751, 752, 753, 754, 755, 756, 757, 758, 759, 760, 761, 762, 763, 764, 765, 766, 767, 768, 769, 770, 771, 772, 773, 774, 775, 776, 777, 778, 779, 780, 781, 782, 783, 784, 785, 786, 787, 788, 789, 790, 791, 792, 793, 794, 795, 796, 797, 798, 799, 800, 801, 802, 803, 804, 805, 806, 807, 808, 809, 810, 811, 812, 813, 814, 815, 816, 817, 818, 819, 820, 821, 822, 823, 824, 825, 826, 827, 828, 829, 830, 831, 832, 833, 834, 835, 836, 837, 838, 839, 840, 841, 842, 843, 844, 845, 846, 847, 848, 849, 850, 851, 852, 853, 854, 855, 856, 857, 858, 859, 860, 861, 862, 864, 865, 866, 867, 868, 869, 870, 871, 872, 873, 874, 875, 876, 877, 878, 879, 880, 881, 882, 883, 884, 885, 886, 887, 888, 889, 890, 891, 892, 893, 894, 895, 896, 897, 898, 899, 900, 901, 902, 903, 904, 905, 906, 907, 908, 909, 910, 911, 912, 913, 914, 915, 916, 917, 918, 919, 920, 921, 922, 923, 924, 925, 926, 927, 928, 929, 930, 931, 933, 934, 935, 936, 937, 938, 939, 940, 941, 942, 943, 944, 945, 946, 947, 948, 949, 950, 951, 952, 953, 954, 955, 956, 957, 958, 959, 960, 961, 962, 963, 964, 965, 966, 967, 968, 969, 970, 971, 972, 973, 974, 975, 976, 977, 978, 979, 981, 982, 983, 984, 985, 986, 987, 988, 990, 991, 992, 993, 994, 995, 996, 997, 998]\n",
      "[20, 67, 80, 143, 148, 156, 251, 298, 300, 304, 323, 537, 566, 575, 597, 863, 932, 980, 989]\n"
     ]
    },
    {
     "data": {
      "image/png": "[encoded data removed]",
      "text/plain": [
       "<Figure size 640x480 with 1 Axes>"
      ]
     },
     "metadata": {},
     "output_type": "display_data"
    }
   ],
   "source": [
    "def plotmm(a,b,APs):\n",
    "    ind = []\n",
    "    randpep = []\n",
    "    for i in range(800):\n",
    "        c = random.randint(1,8000)\n",
    "        ind.append(c)\n",
    "    for i in range(len(ind)):\n",
    "        randpep.append(APs.iloc[ind[i]-1])\n",
    "    randpep = np.array(randpep)\n",
    "    randmax = max(randpep)\n",
    "    randmn = sum(randpep)/len(randpep)\n",
    "    b_ind = []\n",
    "    b_AP = []\n",
    "    a_ind = []\n",
    "    a_AP = []\n",
    "    for i in range(len(b)-1):\n",
    "        if b[i] not in a:\n",
    "            b_ind.append(i)\n",
    "            b_AP.append(APs.loc[b[i]])\n",
    "        else:\n",
    "            a_ind.append(i)\n",
    "            a_AP.append(APs.loc[b[i]])\n",
    "    print(b_ind)\n",
    "    print(a_ind)\n",
    "    x = np.array(b_ind)\n",
    "    y = np.array(b_AP)\n",
    "    plt.scatter(x,y,color='red')\n",
    "    m = np.array(a_ind)\n",
    "    n = np.array(a_AP)\n",
    "    plt.scatter(m,n,color='black')\n",
    "    plt.axhline(y=randmax,color='blue',label='randmax')\n",
    "    plt.axhline(y=randmn,color='green',label='randmean')\n",
    "    plt.show()\n",
    "    return None\n",
    "plotmm(a,b,APs)"
   ]
  },
  {
   "cell_type": "code",
   "execution_count": 18,
   "metadata": {},
   "outputs": [
    {
     "name": "stdout",
     "output_type": "stream",
     "text": [
      "Number of peptides explored = 1000\n"
     ]
    }
   ],
   "source": [
    "print('Number of peptides explored = '+ str(len(b)))"
   ]
  },
  {
   "cell_type": "code",
   "execution_count": 19,
   "metadata": {},
   "outputs": [
    {
     "name": "stderr",
     "output_type": "stream",
     "text": [
      "/var/folders/q9/dz7bsnq15t5crnph1_rcrhjr0000gn/T/ipykernel_19166/2147411487.py:5: DeprecationWarning: Calling np.sum(generator) is deprecated, and in the future will give a different result. Use np.sum(np.fromiter(generator)) or the python sum builtin instead.\n",
      "  poly.append(np.sum(coef[3-j]*(i**j) for j in range(len(coef))))\n"
     ]
    },
    {
     "data": {
      "text/plain": [
       "<function matplotlib.pyplot.show(close=None, block=None)>"
      ]
     },
     "execution_count": 19,
     "metadata": {},
     "output_type": "execute_result"
    },
    {
     "data": {
      "image/png": "[encoded data removed]",
      "text/plain": [
       "<Figure size 640x480 with 1 Axes>"
      ]
     },
     "metadata": {},
     "output_type": "display_data"
    }
   ],
   "source": [
    "def bestfitpoly(r,ind):\n",
    "    coef = np.polyfit(ind,r,3)\n",
    "    poly = []\n",
    "    for i in ind:\n",
    "        poly.append(np.sum(coef[3-j]*(i**j) for j in range(len(coef))))\n",
    "    return poly\n",
    "plt.scatter(ind,r,color='black',s=10)\n",
    "plt.plot(ind,bestfitpoly(r,ind),c = 'green')\n",
    "plt.xlabel('#peptides')\n",
    "plt.ylabel('RMSE')\n",
    "plt.show"
   ]
  },
  {
   "cell_type": "code",
   "execution_count": 20,
   "metadata": {},
   "outputs": [
    {
     "data": {
      "image/png": "[encoded data removed]",
      "text/plain": [
       "<Figure size 640x480 with 1 Axes>"
      ]
     },
     "metadata": {},
     "output_type": "display_data"
    }
   ],
   "source": [
    "plt.scatter(pap,aap,marker='x')\n",
    "c = 0\n",
    "for xy in zip(pap, aap):\n",
    "    c+=1\n",
    "    if c%25 == 0:\n",
    "        plt.annotate('(%.2f, %.2f)' % xy, xy=xy)\n",
    "plt.plot([1.75,2.75],[1.75,2.75],linestyle='dotted')\n",
    "plt.xlabel('Predicted AP')\n",
    "plt.ylabel('Actual AP')\n",
    "plt.show()"
   ]
  },
  {
   "cell_type": "markdown",
   "metadata": {},
   "source": [
    "But we find that at max only one peptide is found in the process for 80 iterations, whereas 20 peptides where found within 15 iterations in the paper.  "
   ]
  },
  {
   "cell_type": "code",
   "execution_count": 21,
   "metadata": {},
   "outputs": [],
   "source": [
    "Err = aap - pap\n",
    "f = open('it10.txt','w')\n",
    "f.write(str(Err))\n",
    "f.close()"
   ]
  },
  {
   "cell_type": "code",
   "execution_count": null,
   "metadata": {},
   "outputs": [],
   "source": []
  }
 ],
 "metadata": {
  "kernelspec": {
   "display_name": "Python 3",
   "language": "python",
   "name": "python3"
  },
  "language_info": {
   "codemirror_mode": {
    "name": "ipython",
    "version": 3
   },
   "file_extension": ".py",
   "mimetype": "text/x-python",
   "name": "python",
   "nbconvert_exporter": "python",
   "pygments_lexer": "ipython3",
   "version": "3.11.7"
  }
 },
 "nbformat": 4,
 "nbformat_minor": 2
}
