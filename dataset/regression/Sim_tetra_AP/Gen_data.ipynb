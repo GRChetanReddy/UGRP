{
 "cells": [
  {
   "cell_type": "code",
   "execution_count": 1,
   "metadata": {},
   "outputs": [],
   "source": [
    "def one_letter_to_smiles(sequence):\n",
    "    # Define a dictionary mapping one-letter codes to SMILES strings\n",
    "    aa_to_smiles = {\n",
    "        'A': 'N[C@@H](C)C(=O)',\n",
    "        'R': 'N[C@@H](CCCNC(N)=N)C(=O)',\n",
    "        'N': 'N[C@@H](CC(N)=O)C(=O)',\n",
    "        'D': 'N[C@@H](CC(O)=O)C(=O)',\n",
    "        'C': 'N[C@@H](CS)C(=O)',\n",
    "        'Q': 'N[C@@H](CCC(N)=O)C(=O)',\n",
    "        'E': 'N[C@@H](CCC(O)=O)C(=O)',\n",
    "        'G': 'NCC(=O)',\n",
    "        'H': 'N[C@@H](CC1=CNC=N1)C(=O)',\n",
    "        'I': 'N[C@@H]([C@@H](C)CC)C(=O)',\n",
    "        'L': 'N[C@@H](CC(C)C)C(=O)',\n",
    "        'K': 'N[C@@H](CCCCN)C(=O)',\n",
    "        'M': 'N[C@@H](CCSC)C(=O)',\n",
    "        'F': 'N[C@@H](CC1=CC=CC=C1)C(=O)',\n",
    "        'P': 'N1CCC[C@H]1C(=O)',\n",
    "        'S': 'N[C@@H](CO)C(=O)',\n",
    "        'T': 'N[C@@H]([C@@H](C)O)C(=O)',\n",
    "        'W': 'N[C@@H](CC1=CNC2=C1C=CC=C2)C(=O)',\n",
    "        'Y': 'N[C@@H](CC1=CC=C(O)C=C1)C(=O)',\n",
    "        'V': 'N[C@@H](C(C)C)C(=O)'\n",
    "    }\n",
    "    \n",
    "    smiles_sequence = ''.join([aa_to_smiles[aa] for aa in sequence])\n",
    "    smiles_sequence = '[H]' + smiles_sequence[:-3] + 'O)=O'\n",
    "    \n",
    "    return smiles_sequence\n",
    "\n",
    "def three2one(s,d):\n",
    "    a = ''\n",
    "    c = ''\n",
    "    for i in range(len(s)):\n",
    "        if s[i] != '-':\n",
    "            c = c+s[i]\n",
    "        else:\n",
    "            a = a + list(d.keys())[list(d.values()).index(c)]\n",
    "            c = ''\n",
    "    return a"
   ]
  },
  {
   "cell_type": "code",
   "execution_count": 2,
   "metadata": {},
   "outputs": [],
   "source": [
    "import numpy as np\n",
    "import pandas as pd"
   ]
  },
  {
   "cell_type": "code",
   "execution_count": 4,
   "metadata": {},
   "outputs": [
    {
     "data": {
      "text/plain": [
       "<function TextIOWrapper.close()>"
      ]
     },
     "execution_count": 4,
     "metadata": {},
     "output_type": "execute_result"
    }
   ],
   "source": [
    "smiles = open('data_train.txt', 'a')\n",
    "a = {'A':'ALA','R':'ARG','N':'ASN','D':'ASP','C':'CYS','E':'GLU','H':'HSE','Q':'GLN','G':'GLY','I':'ILE','L':'LEU','K':'LYS','M':'MET','F':'PHE','P':'PRO','S':'SER','T':'THR','W':'TRP','Y':'TYR','V':'VAL'}\n",
    "AP = pd.read_csv('Tripep_AP_8000.txt', sep=' ')\n",
    "for i in range(len(AP)):\n",
    "    smiles.write(str(one_letter_to_smiles(AP['Peptides'].iloc[i]))+' '+str(AP['AP'].iloc[i])+'\\n')\n",
    "smiles.close\n"
   ]
  },
  {
   "cell_type": "code",
   "execution_count": 5,
   "metadata": {},
   "outputs": [
    {
     "data": {
      "text/html": [
       "<div>\n",
       "<style scoped>\n",
       "    .dataframe tbody tr th:only-of-type {\n",
       "        vertical-align: middle;\n",
       "    }\n",
       "\n",
       "    .dataframe tbody tr th {\n",
       "        vertical-align: top;\n",
       "    }\n",
       "\n",
       "    .dataframe thead th {\n",
       "        text-align: right;\n",
       "    }\n",
       "</style>\n",
       "<table border=\"1\" class=\"dataframe\">\n",
       "  <thead>\n",
       "    <tr style=\"text-align: right;\">\n",
       "      <th></th>\n",
       "      <th>Peptides</th>\n",
       "      <th>AP</th>\n",
       "    </tr>\n",
       "  </thead>\n",
       "  <tbody>\n",
       "    <tr>\n",
       "      <th>0</th>\n",
       "      <td>AAA</td>\n",
       "      <td>1.360200</td>\n",
       "    </tr>\n",
       "    <tr>\n",
       "      <th>1</th>\n",
       "      <td>AAC</td>\n",
       "      <td>1.666889</td>\n",
       "    </tr>\n",
       "    <tr>\n",
       "      <th>2</th>\n",
       "      <td>AAD</td>\n",
       "      <td>1.029529</td>\n",
       "    </tr>\n",
       "    <tr>\n",
       "      <th>3</th>\n",
       "      <td>AAE</td>\n",
       "      <td>1.033174</td>\n",
       "    </tr>\n",
       "    <tr>\n",
       "      <th>4</th>\n",
       "      <td>AAF</td>\n",
       "      <td>2.311523</td>\n",
       "    </tr>\n",
       "    <tr>\n",
       "      <th>...</th>\n",
       "      <td>...</td>\n",
       "      <td>...</td>\n",
       "    </tr>\n",
       "    <tr>\n",
       "      <th>7994</th>\n",
       "      <td>YYS</td>\n",
       "      <td>2.857690</td>\n",
       "    </tr>\n",
       "    <tr>\n",
       "      <th>7995</th>\n",
       "      <td>YYT</td>\n",
       "      <td>2.621519</td>\n",
       "    </tr>\n",
       "    <tr>\n",
       "      <th>7996</th>\n",
       "      <td>YYV</td>\n",
       "      <td>2.699730</td>\n",
       "    </tr>\n",
       "    <tr>\n",
       "      <th>7997</th>\n",
       "      <td>YYW</td>\n",
       "      <td>2.766184</td>\n",
       "    </tr>\n",
       "    <tr>\n",
       "      <th>7998</th>\n",
       "      <td>YYY</td>\n",
       "      <td>2.836419</td>\n",
       "    </tr>\n",
       "  </tbody>\n",
       "</table>\n",
       "<p>7999 rows × 2 columns</p>\n",
       "</div>"
      ],
      "text/plain": [
       "     Peptides        AP\n",
       "0         AAA  1.360200\n",
       "1         AAC  1.666889\n",
       "2         AAD  1.029529\n",
       "3         AAE  1.033174\n",
       "4         AAF  2.311523\n",
       "...       ...       ...\n",
       "7994      YYS  2.857690\n",
       "7995      YYT  2.621519\n",
       "7996      YYV  2.699730\n",
       "7997      YYW  2.766184\n",
       "7998      YYY  2.836419\n",
       "\n",
       "[7999 rows x 2 columns]"
      ]
     },
     "execution_count": 5,
     "metadata": {},
     "output_type": "execute_result"
    }
   ],
   "source": [
    "AP"
   ]
  },
  {
   "cell_type": "code",
   "execution_count": null,
   "metadata": {},
   "outputs": [],
   "source": []
  }
 ],
 "metadata": {
  "kernelspec": {
   "display_name": "Python 3",
   "language": "python",
   "name": "python3"
  },
  "language_info": {
   "codemirror_mode": {
    "name": "ipython",
    "version": 3
   },
   "file_extension": ".py",
   "mimetype": "text/x-python",
   "name": "python",
   "nbconvert_exporter": "python",
   "pygments_lexer": "ipython3",
   "version": "3.11.3"
  }
 },
 "nbformat": 4,
 "nbformat_minor": 2
}
